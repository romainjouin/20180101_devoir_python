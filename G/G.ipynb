{
 "cells": [
  {
   "cell_type": "code",
   "execution_count": 397,
   "metadata": {},
   "outputs": [
    {
     "name": "stdout",
     "output_type": "stream",
     "text": [
      "C:\\Users\\patri\\Documents\\ESILV\\machine_learning\\project\n"
     ]
    }
   ],
   "source": [
    "cd C:\\Users\\patri\\Documents\\ESILV\\machine_learning\\project"
   ]
  },
  {
   "cell_type": "markdown",
   "metadata": {},
   "source": [
    "# 1) load data and clean"
   ]
  },
  {
   "cell_type": "code",
   "execution_count": 398,
   "metadata": {
    "collapsed": true
   },
   "outputs": [],
   "source": [
    "import pandas as pd\n",
    "import os \n",
    "path_train=\"C:/Users/patri/Documents/ESILV/machine_learning/project/python_projetTrain.csv\"\n",
    "path_valid=\"C:/Users/patri/Documents/ESILV/machine_learning/project/python_projetValid.csv\""
   ]
  },
  {
   "cell_type": "code",
   "execution_count": 399,
   "metadata": {
    "collapsed": true
   },
   "outputs": [],
   "source": [
    "data_train = pd.DataFrame.from_csv(path_train)\n",
    "data_valid = pd.DataFrame.from_csv(path_valid)"
   ]
  },
  {
   "cell_type": "code",
   "execution_count": 400,
   "metadata": {},
   "outputs": [
    {
     "data": {
      "text/html": [
       "<div>\n",
       "<style>\n",
       "    .dataframe thead tr:only-child th {\n",
       "        text-align: right;\n",
       "    }\n",
       "\n",
       "    .dataframe thead th {\n",
       "        text-align: left;\n",
       "    }\n",
       "\n",
       "    .dataframe tbody tr th {\n",
       "        vertical-align: top;\n",
       "    }\n",
       "</style>\n",
       "<table border=\"1\" class=\"dataframe\">\n",
       "  <thead>\n",
       "    <tr style=\"text-align: right;\">\n",
       "      <th></th>\n",
       "      <th>Id</th>\n",
       "      <th>Product_Info_1</th>\n",
       "      <th>Product_Info_2</th>\n",
       "      <th>Product_Info_3</th>\n",
       "      <th>Product_Info_4</th>\n",
       "      <th>Product_Info_5</th>\n",
       "      <th>Product_Info_6</th>\n",
       "      <th>Product_Info_7</th>\n",
       "      <th>Ins_Age</th>\n",
       "      <th>Ht</th>\n",
       "      <th>...</th>\n",
       "      <th>Medical_Keyword_40</th>\n",
       "      <th>Medical_Keyword_41</th>\n",
       "      <th>Medical_Keyword_42</th>\n",
       "      <th>Medical_Keyword_43</th>\n",
       "      <th>Medical_Keyword_44</th>\n",
       "      <th>Medical_Keyword_45</th>\n",
       "      <th>Medical_Keyword_46</th>\n",
       "      <th>Medical_Keyword_47</th>\n",
       "      <th>Medical_Keyword_48</th>\n",
       "      <th>target</th>\n",
       "    </tr>\n",
       "  </thead>\n",
       "  <tbody>\n",
       "    <tr>\n",
       "      <th>1</th>\n",
       "      <td>2</td>\n",
       "      <td>1</td>\n",
       "      <td>D3</td>\n",
       "      <td>10</td>\n",
       "      <td>0.076923</td>\n",
       "      <td>2</td>\n",
       "      <td>1</td>\n",
       "      <td>1</td>\n",
       "      <td>0.641791</td>\n",
       "      <td>0.581818</td>\n",
       "      <td>...</td>\n",
       "      <td>0</td>\n",
       "      <td>0</td>\n",
       "      <td>0</td>\n",
       "      <td>0</td>\n",
       "      <td>0</td>\n",
       "      <td>0</td>\n",
       "      <td>0</td>\n",
       "      <td>0</td>\n",
       "      <td>0</td>\n",
       "      <td>1</td>\n",
       "    </tr>\n",
       "    <tr>\n",
       "      <th>2</th>\n",
       "      <td>5</td>\n",
       "      <td>1</td>\n",
       "      <td>A1</td>\n",
       "      <td>26</td>\n",
       "      <td>0.076923</td>\n",
       "      <td>2</td>\n",
       "      <td>3</td>\n",
       "      <td>1</td>\n",
       "      <td>0.059701</td>\n",
       "      <td>0.600000</td>\n",
       "      <td>...</td>\n",
       "      <td>0</td>\n",
       "      <td>0</td>\n",
       "      <td>0</td>\n",
       "      <td>0</td>\n",
       "      <td>0</td>\n",
       "      <td>0</td>\n",
       "      <td>0</td>\n",
       "      <td>0</td>\n",
       "      <td>0</td>\n",
       "      <td>0</td>\n",
       "    </tr>\n",
       "    <tr>\n",
       "      <th>3</th>\n",
       "      <td>6</td>\n",
       "      <td>1</td>\n",
       "      <td>E1</td>\n",
       "      <td>26</td>\n",
       "      <td>0.076923</td>\n",
       "      <td>2</td>\n",
       "      <td>3</td>\n",
       "      <td>1</td>\n",
       "      <td>0.029851</td>\n",
       "      <td>0.745455</td>\n",
       "      <td>...</td>\n",
       "      <td>0</td>\n",
       "      <td>0</td>\n",
       "      <td>0</td>\n",
       "      <td>0</td>\n",
       "      <td>0</td>\n",
       "      <td>0</td>\n",
       "      <td>0</td>\n",
       "      <td>0</td>\n",
       "      <td>0</td>\n",
       "      <td>1</td>\n",
       "    </tr>\n",
       "    <tr>\n",
       "      <th>4</th>\n",
       "      <td>7</td>\n",
       "      <td>1</td>\n",
       "      <td>D4</td>\n",
       "      <td>10</td>\n",
       "      <td>0.487179</td>\n",
       "      <td>2</td>\n",
       "      <td>3</td>\n",
       "      <td>1</td>\n",
       "      <td>0.164179</td>\n",
       "      <td>0.672727</td>\n",
       "      <td>...</td>\n",
       "      <td>0</td>\n",
       "      <td>0</td>\n",
       "      <td>0</td>\n",
       "      <td>0</td>\n",
       "      <td>0</td>\n",
       "      <td>0</td>\n",
       "      <td>0</td>\n",
       "      <td>0</td>\n",
       "      <td>0</td>\n",
       "      <td>1</td>\n",
       "    </tr>\n",
       "    <tr>\n",
       "      <th>5</th>\n",
       "      <td>8</td>\n",
       "      <td>1</td>\n",
       "      <td>D2</td>\n",
       "      <td>26</td>\n",
       "      <td>0.230769</td>\n",
       "      <td>2</td>\n",
       "      <td>3</td>\n",
       "      <td>1</td>\n",
       "      <td>0.417910</td>\n",
       "      <td>0.654545</td>\n",
       "      <td>...</td>\n",
       "      <td>0</td>\n",
       "      <td>0</td>\n",
       "      <td>0</td>\n",
       "      <td>0</td>\n",
       "      <td>0</td>\n",
       "      <td>0</td>\n",
       "      <td>0</td>\n",
       "      <td>0</td>\n",
       "      <td>0</td>\n",
       "      <td>1</td>\n",
       "    </tr>\n",
       "  </tbody>\n",
       "</table>\n",
       "<p>5 rows × 128 columns</p>\n",
       "</div>"
      ],
      "text/plain": [
       "   Id  Product_Info_1 Product_Info_2  Product_Info_3  Product_Info_4  \\\n",
       "1   2               1             D3              10        0.076923   \n",
       "2   5               1             A1              26        0.076923   \n",
       "3   6               1             E1              26        0.076923   \n",
       "4   7               1             D4              10        0.487179   \n",
       "5   8               1             D2              26        0.230769   \n",
       "\n",
       "   Product_Info_5  Product_Info_6  Product_Info_7   Ins_Age        Ht   ...    \\\n",
       "1               2               1               1  0.641791  0.581818   ...     \n",
       "2               2               3               1  0.059701  0.600000   ...     \n",
       "3               2               3               1  0.029851  0.745455   ...     \n",
       "4               2               3               1  0.164179  0.672727   ...     \n",
       "5               2               3               1  0.417910  0.654545   ...     \n",
       "\n",
       "   Medical_Keyword_40  Medical_Keyword_41  Medical_Keyword_42  \\\n",
       "1                   0                   0                   0   \n",
       "2                   0                   0                   0   \n",
       "3                   0                   0                   0   \n",
       "4                   0                   0                   0   \n",
       "5                   0                   0                   0   \n",
       "\n",
       "   Medical_Keyword_43  Medical_Keyword_44  Medical_Keyword_45  \\\n",
       "1                   0                   0                   0   \n",
       "2                   0                   0                   0   \n",
       "3                   0                   0                   0   \n",
       "4                   0                   0                   0   \n",
       "5                   0                   0                   0   \n",
       "\n",
       "   Medical_Keyword_46  Medical_Keyword_47  Medical_Keyword_48  target  \n",
       "1                   0                   0                   0       1  \n",
       "2                   0                   0                   0       0  \n",
       "3                   0                   0                   0       1  \n",
       "4                   0                   0                   0       1  \n",
       "5                   0                   0                   0       1  \n",
       "\n",
       "[5 rows x 128 columns]"
      ]
     },
     "execution_count": 400,
     "metadata": {},
     "output_type": "execute_result"
    }
   ],
   "source": [
    "data_train.head()"
   ]
  },
  {
   "cell_type": "code",
   "execution_count": 401,
   "metadata": {
    "scrolled": true
   },
   "outputs": [
    {
     "data": {
      "text/html": [
       "<div>\n",
       "<style>\n",
       "    .dataframe thead tr:only-child th {\n",
       "        text-align: right;\n",
       "    }\n",
       "\n",
       "    .dataframe thead th {\n",
       "        text-align: left;\n",
       "    }\n",
       "\n",
       "    .dataframe tbody tr th {\n",
       "        vertical-align: top;\n",
       "    }\n",
       "</style>\n",
       "<table border=\"1\" class=\"dataframe\">\n",
       "  <thead>\n",
       "    <tr style=\"text-align: right;\">\n",
       "      <th></th>\n",
       "      <th>Id</th>\n",
       "      <th>Product_Info_1</th>\n",
       "      <th>Product_Info_2</th>\n",
       "      <th>Product_Info_3</th>\n",
       "      <th>Product_Info_4</th>\n",
       "      <th>Product_Info_5</th>\n",
       "      <th>Product_Info_6</th>\n",
       "      <th>Product_Info_7</th>\n",
       "      <th>Ins_Age</th>\n",
       "      <th>Ht</th>\n",
       "      <th>...</th>\n",
       "      <th>Medical_Keyword_39</th>\n",
       "      <th>Medical_Keyword_40</th>\n",
       "      <th>Medical_Keyword_41</th>\n",
       "      <th>Medical_Keyword_42</th>\n",
       "      <th>Medical_Keyword_43</th>\n",
       "      <th>Medical_Keyword_44</th>\n",
       "      <th>Medical_Keyword_45</th>\n",
       "      <th>Medical_Keyword_46</th>\n",
       "      <th>Medical_Keyword_47</th>\n",
       "      <th>Medical_Keyword_48</th>\n",
       "    </tr>\n",
       "  </thead>\n",
       "  <tbody>\n",
       "    <tr>\n",
       "      <th>1</th>\n",
       "      <td>70893</td>\n",
       "      <td>1</td>\n",
       "      <td>A8</td>\n",
       "      <td>26</td>\n",
       "      <td>0.076923</td>\n",
       "      <td>2</td>\n",
       "      <td>3</td>\n",
       "      <td>1</td>\n",
       "      <td>0.776119</td>\n",
       "      <td>0.654545</td>\n",
       "      <td>...</td>\n",
       "      <td>0</td>\n",
       "      <td>0</td>\n",
       "      <td>0</td>\n",
       "      <td>0</td>\n",
       "      <td>0</td>\n",
       "      <td>0</td>\n",
       "      <td>0</td>\n",
       "      <td>0</td>\n",
       "      <td>0</td>\n",
       "      <td>0</td>\n",
       "    </tr>\n",
       "    <tr>\n",
       "      <th>2</th>\n",
       "      <td>20997</td>\n",
       "      <td>1</td>\n",
       "      <td>D2</td>\n",
       "      <td>26</td>\n",
       "      <td>0.076923</td>\n",
       "      <td>2</td>\n",
       "      <td>3</td>\n",
       "      <td>1</td>\n",
       "      <td>0.552239</td>\n",
       "      <td>0.818182</td>\n",
       "      <td>...</td>\n",
       "      <td>0</td>\n",
       "      <td>0</td>\n",
       "      <td>0</td>\n",
       "      <td>0</td>\n",
       "      <td>0</td>\n",
       "      <td>0</td>\n",
       "      <td>0</td>\n",
       "      <td>0</td>\n",
       "      <td>0</td>\n",
       "      <td>1</td>\n",
       "    </tr>\n",
       "    <tr>\n",
       "      <th>3</th>\n",
       "      <td>29427</td>\n",
       "      <td>1</td>\n",
       "      <td>D3</td>\n",
       "      <td>10</td>\n",
       "      <td>0.230769</td>\n",
       "      <td>2</td>\n",
       "      <td>3</td>\n",
       "      <td>1</td>\n",
       "      <td>0.208955</td>\n",
       "      <td>0.636364</td>\n",
       "      <td>...</td>\n",
       "      <td>0</td>\n",
       "      <td>0</td>\n",
       "      <td>0</td>\n",
       "      <td>0</td>\n",
       "      <td>0</td>\n",
       "      <td>0</td>\n",
       "      <td>0</td>\n",
       "      <td>0</td>\n",
       "      <td>0</td>\n",
       "      <td>0</td>\n",
       "    </tr>\n",
       "    <tr>\n",
       "      <th>4</th>\n",
       "      <td>45161</td>\n",
       "      <td>1</td>\n",
       "      <td>A1</td>\n",
       "      <td>26</td>\n",
       "      <td>0.256410</td>\n",
       "      <td>2</td>\n",
       "      <td>3</td>\n",
       "      <td>1</td>\n",
       "      <td>0.328358</td>\n",
       "      <td>0.745455</td>\n",
       "      <td>...</td>\n",
       "      <td>0</td>\n",
       "      <td>0</td>\n",
       "      <td>0</td>\n",
       "      <td>0</td>\n",
       "      <td>0</td>\n",
       "      <td>0</td>\n",
       "      <td>0</td>\n",
       "      <td>0</td>\n",
       "      <td>0</td>\n",
       "      <td>0</td>\n",
       "    </tr>\n",
       "    <tr>\n",
       "      <th>5</th>\n",
       "      <td>71802</td>\n",
       "      <td>1</td>\n",
       "      <td>D3</td>\n",
       "      <td>26</td>\n",
       "      <td>0.282051</td>\n",
       "      <td>2</td>\n",
       "      <td>3</td>\n",
       "      <td>1</td>\n",
       "      <td>0.686567</td>\n",
       "      <td>0.781818</td>\n",
       "      <td>...</td>\n",
       "      <td>0</td>\n",
       "      <td>0</td>\n",
       "      <td>0</td>\n",
       "      <td>1</td>\n",
       "      <td>0</td>\n",
       "      <td>0</td>\n",
       "      <td>0</td>\n",
       "      <td>0</td>\n",
       "      <td>0</td>\n",
       "      <td>0</td>\n",
       "    </tr>\n",
       "  </tbody>\n",
       "</table>\n",
       "<p>5 rows × 127 columns</p>\n",
       "</div>"
      ],
      "text/plain": [
       "      Id  Product_Info_1 Product_Info_2  Product_Info_3  Product_Info_4  \\\n",
       "1  70893               1             A8              26        0.076923   \n",
       "2  20997               1             D2              26        0.076923   \n",
       "3  29427               1             D3              10        0.230769   \n",
       "4  45161               1             A1              26        0.256410   \n",
       "5  71802               1             D3              26        0.282051   \n",
       "\n",
       "   Product_Info_5  Product_Info_6  Product_Info_7   Ins_Age        Ht  \\\n",
       "1               2               3               1  0.776119  0.654545   \n",
       "2               2               3               1  0.552239  0.818182   \n",
       "3               2               3               1  0.208955  0.636364   \n",
       "4               2               3               1  0.328358  0.745455   \n",
       "5               2               3               1  0.686567  0.781818   \n",
       "\n",
       "          ...          Medical_Keyword_39  Medical_Keyword_40  \\\n",
       "1         ...                           0                   0   \n",
       "2         ...                           0                   0   \n",
       "3         ...                           0                   0   \n",
       "4         ...                           0                   0   \n",
       "5         ...                           0                   0   \n",
       "\n",
       "   Medical_Keyword_41  Medical_Keyword_42  Medical_Keyword_43  \\\n",
       "1                   0                   0                   0   \n",
       "2                   0                   0                   0   \n",
       "3                   0                   0                   0   \n",
       "4                   0                   0                   0   \n",
       "5                   0                   1                   0   \n",
       "\n",
       "   Medical_Keyword_44  Medical_Keyword_45  Medical_Keyword_46  \\\n",
       "1                   0                   0                   0   \n",
       "2                   0                   0                   0   \n",
       "3                   0                   0                   0   \n",
       "4                   0                   0                   0   \n",
       "5                   0                   0                   0   \n",
       "\n",
       "   Medical_Keyword_47  Medical_Keyword_48  \n",
       "1                   0                   0  \n",
       "2                   0                   1  \n",
       "3                   0                   0  \n",
       "4                   0                   0  \n",
       "5                   0                   0  \n",
       "\n",
       "[5 rows x 127 columns]"
      ]
     },
     "execution_count": 401,
     "metadata": {},
     "output_type": "execute_result"
    }
   ],
   "source": [
    "data_valid.head()"
   ]
  },
  {
   "cell_type": "markdown",
   "metadata": {},
   "source": [
    "## 1.1) combine projetTrain and projetValid without target for handle missing data"
   ]
  },
  {
   "cell_type": "code",
   "execution_count": 402,
   "metadata": {
    "collapsed": true
   },
   "outputs": [],
   "source": [
    "data=data_train.iloc[:,:len(data_train.columns)-1].append(data_valid)"
   ]
  },
  {
   "cell_type": "code",
   "execution_count": 403,
   "metadata": {
    "scrolled": true
   },
   "outputs": [
    {
     "data": {
      "text/plain": [
       "393103"
      ]
     },
     "execution_count": 403,
     "metadata": {},
     "output_type": "execute_result"
    }
   ],
   "source": [
    "sum(data.isnull().values.ravel()) # number of NA"
   ]
  },
  {
   "cell_type": "markdown",
   "metadata": {},
   "source": [
    "<span style=\"color:red\">\n",
    "Vous auriez pu utiliser les fonctions de pandas qui calculent directement ce genre de choses <br>\n",
    "nb_nul_par_colonne = projetTrain.isnull().sum()<br>\n",
    "nb_ligne                = projetTrain.shape[0]<br>\n",
    "pct_vide_par_colonne    = (nb_nul_par_colonne/nb_ligne)<br>\n",
    "colonnes_avec_des_nuls  = pct_vide_par_colonne[pct_vide_par_colonne>0]<br>\n",
    "limite_de_vide      = 50/100<br>\n",
    "colonnes_a_eliminer = colonnes_avec_des_nuls[colonnes_avec_des_nuls<br> >limite_de_vide]\n",
    "projetTrain = projetTrain.drop(colonnes_a_eliminer.keys(), axis=1)<br>\n",
    "</span>"
   ]
  },
  {
   "cell_type": "code",
   "execution_count": 404,
   "metadata": {
    "collapsed": true,
    "scrolled": true
   },
   "outputs": [],
   "source": [
    "col_nam=list(data)\n",
    "data_na=pd.DataFrame([{'id':1}])\n",
    "\n",
    "for i in col_nam[1:]:\n",
    "    data_na[i]=sum(data[i].isnull().values.ravel())\n",
    "for i in col_nam[1:]:\n",
    "    if not data_na[i].any(): # verify if data_na==0\n",
    "        del data_na[i]\n",
    "data_na=data_na.iloc[:,1:] # delete the first column id\n"
   ]
  },
  {
   "cell_type": "code",
   "execution_count": 405,
   "metadata": {
    "collapsed": true
   },
   "outputs": [],
   "source": [
    "data_na=data_na.append(round(data_na/len(data.index)*100,2))"
   ]
  },
  {
   "cell_type": "code",
   "execution_count": 406,
   "metadata": {
    "scrolled": false
   },
   "outputs": [
    {
     "data": {
      "text/html": [
       "<div>\n",
       "<style>\n",
       "    .dataframe thead tr:only-child th {\n",
       "        text-align: right;\n",
       "    }\n",
       "\n",
       "    .dataframe thead th {\n",
       "        text-align: left;\n",
       "    }\n",
       "\n",
       "    .dataframe tbody tr th {\n",
       "        vertical-align: top;\n",
       "    }\n",
       "</style>\n",
       "<table border=\"1\" class=\"dataframe\">\n",
       "  <thead>\n",
       "    <tr style=\"text-align: right;\">\n",
       "      <th></th>\n",
       "      <th>Employment_Info_1</th>\n",
       "      <th>Employment_Info_4</th>\n",
       "      <th>Employment_Info_6</th>\n",
       "      <th>Insurance_History_5</th>\n",
       "      <th>Family_Hist_2</th>\n",
       "      <th>Family_Hist_3</th>\n",
       "      <th>Family_Hist_4</th>\n",
       "      <th>Family_Hist_5</th>\n",
       "      <th>Medical_History_1</th>\n",
       "      <th>Medical_History_10</th>\n",
       "      <th>Medical_History_15</th>\n",
       "      <th>Medical_History_24</th>\n",
       "      <th>Medical_History_32</th>\n",
       "    </tr>\n",
       "  </thead>\n",
       "  <tbody>\n",
       "    <tr>\n",
       "      <th>0</th>\n",
       "      <td>19.00</td>\n",
       "      <td>6779.00</td>\n",
       "      <td>10854.00</td>\n",
       "      <td>25396.00</td>\n",
       "      <td>28656.00</td>\n",
       "      <td>34241.00</td>\n",
       "      <td>19184.00</td>\n",
       "      <td>41811.00</td>\n",
       "      <td>8889.00</td>\n",
       "      <td>58824.00</td>\n",
       "      <td>44596.0</td>\n",
       "      <td>55580.0</td>\n",
       "      <td>58274.00</td>\n",
       "    </tr>\n",
       "    <tr>\n",
       "      <th>0</th>\n",
       "      <td>0.03</td>\n",
       "      <td>11.42</td>\n",
       "      <td>18.28</td>\n",
       "      <td>42.77</td>\n",
       "      <td>48.26</td>\n",
       "      <td>57.66</td>\n",
       "      <td>32.31</td>\n",
       "      <td>70.41</td>\n",
       "      <td>14.97</td>\n",
       "      <td>99.06</td>\n",
       "      <td>75.1</td>\n",
       "      <td>93.6</td>\n",
       "      <td>98.14</td>\n",
       "    </tr>\n",
       "  </tbody>\n",
       "</table>\n",
       "</div>"
      ],
      "text/plain": [
       "   Employment_Info_1  Employment_Info_4  Employment_Info_6  \\\n",
       "0              19.00            6779.00           10854.00   \n",
       "0               0.03              11.42              18.28   \n",
       "\n",
       "   Insurance_History_5  Family_Hist_2  Family_Hist_3  Family_Hist_4  \\\n",
       "0             25396.00       28656.00       34241.00       19184.00   \n",
       "0                42.77          48.26          57.66          32.31   \n",
       "\n",
       "   Family_Hist_5  Medical_History_1  Medical_History_10  Medical_History_15  \\\n",
       "0       41811.00            8889.00            58824.00             44596.0   \n",
       "0          70.41              14.97               99.06                75.1   \n",
       "\n",
       "   Medical_History_24  Medical_History_32  \n",
       "0             55580.0            58274.00  \n",
       "0                93.6               98.14  "
      ]
     },
     "execution_count": 406,
     "metadata": {},
     "output_type": "execute_result"
    }
   ],
   "source": [
    "data_na"
   ]
  },
  {
   "cell_type": "code",
   "execution_count": 457,
   "metadata": {},
   "outputs": [
    {
     "data": {
      "image/png": "[encoded data removed]",
      "text/plain": [
       "<matplotlib.figure.Figure at 0x299bbb82630>"
      ]
     },
     "metadata": {},
     "output_type": "display_data"
    }
   ],
   "source": [
    "import numpy as np \n",
    "import matplotlib.pyplot as plt\n",
    "\n",
    "data_na.iloc[0,:].plot(kind='bar',title='numbers of Na')\n",
    "plt.ylabel('numbers of line with na')\n",
    "plt.show()"
   ]
  },
  {
   "cell_type": "code",
   "execution_count": 408,
   "metadata": {
    "collapsed": true
   },
   "outputs": [],
   "source": [
    "temp=pd.DataFrame()\n",
    "for i in list(data_na):\n",
    "    temp[i]=data[i]\n",
    "for i in range(0,len(data_na.columns)):\n",
    "    temp.iloc[:,i]=-(temp.iloc[:,i].isnull()*(i+1)-(i+1))"
   ]
  },
  {
   "cell_type": "code",
   "execution_count": 409,
   "metadata": {},
   "outputs": [
    {
     "data": {
      "image/png": "[encoded data removed]",
      "text/plain": [
       "<matplotlib.figure.Figure at 0x299bbab4320>"
      ]
     },
     "metadata": {},
     "output_type": "display_data"
    }
   ],
   "source": [
    "plt.scatter(temp.index.values,temp.iloc[:,12].values,s=0.0001)\n",
    "plt.show()"
   ]
  },
  {
   "cell_type": "code",
   "execution_count": 410,
   "metadata": {
    "scrolled": true
   },
   "outputs": [
    {
     "data": {
      "text/plain": [
       "array([2, 2, 2, ..., 2, 2, 2], dtype=int32)"
      ]
     },
     "execution_count": 410,
     "metadata": {},
     "output_type": "execute_result"
    }
   ],
   "source": [
    "temp.iloc[:,1].values"
   ]
  },
  {
   "cell_type": "code",
   "execution_count": 411,
   "metadata": {},
   "outputs": [
    {
     "data": {
      "text/plain": [
       "array([   1,    2,    3, ..., 7998, 7999, 8000], dtype=int64)"
      ]
     },
     "execution_count": 411,
     "metadata": {},
     "output_type": "execute_result"
    }
   ],
   "source": [
    "temp.index.values"
   ]
  },
  {
   "cell_type": "markdown",
   "metadata": {},
   "source": [
    "### 1.1.1) All columns with more than 98% of missin has been deleted "
   ]
  },
  {
   "cell_type": "code",
   "execution_count": 412,
   "metadata": {
    "collapsed": true
   },
   "outputs": [],
   "source": [
    "#for i in list(data_na):\n",
    "#    if (data_na[i][1:]>98).bool():\n",
    "#        del data[i]\n",
    "#        del data_na[i]"
   ]
  },
  {
   "cell_type": "markdown",
   "metadata": {},
   "source": [
    "### 1.1.2) Replace missing value with scikit learn"
   ]
  },
  {
   "cell_type": "code",
   "execution_count": 413,
   "metadata": {
    "collapsed": true,
    "scrolled": true
   },
   "outputs": [],
   "source": [
    "from sklearn.preprocessing import Imputer\n",
    "\n",
    "# impute the data with respect of column product info 2\n",
    "\n",
    "for i in list(data['Product_Info_2'].unique()):\n",
    "    for j in list(data_na):\n",
    "        data.loc[data['Product_Info_2']==i,j]=data.loc[data['Product_Info_2']==i,j].fillna(0)+data.loc[data['Product_Info_2']==i,j].isnull()*data.loc[data['Product_Info_2']==i,j].median()\n",
    "\n",
    "# impute the others data with imputer\n",
    "temp=pd.DataFrame()\n",
    "for i in list(data_na):\n",
    "    temp[i]=data[i]\n",
    "\n",
    "imp=Imputer(missing_values='NaN',strategy='median',axis=0)\n",
    "temp=imp.fit_transform(temp)\n",
    "temp=pd.DataFrame(temp)\n",
    "temp.columns=list(data_na)\n",
    "\n",
    "for i in list(data_na):\n",
    "    data[i]=temp[i]"
   ]
  },
  {
   "cell_type": "markdown",
   "metadata": {},
   "source": [
    "## 1.2) transform str column in numerical column "
   ]
  },
  {
   "cell_type": "code",
   "execution_count": 414,
   "metadata": {
    "collapsed": true
   },
   "outputs": [],
   "source": [
    "for i in list(data['Product_Info_2'].unique()):\n",
    "    data[i]=(data['Product_Info_2']==i)*1 # for each i create new colum with 1 and 0"
   ]
  },
  {
   "cell_type": "code",
   "execution_count": 415,
   "metadata": {},
   "outputs": [
    {
     "data": {
      "text/plain": [
       "(59381, 146)"
      ]
     },
     "execution_count": 415,
     "metadata": {},
     "output_type": "execute_result"
    }
   ],
   "source": [
    "data.shape"
   ]
  },
  {
   "cell_type": "code",
   "execution_count": 416,
   "metadata": {
    "collapsed": true
   },
   "outputs": [],
   "source": [
    "del data['Product_Info_2'] # delete "
   ]
  },
  {
   "cell_type": "markdown",
   "metadata": {},
   "source": [
    "### 1.3) separate data in train, cross validation, test and valid data set. "
   ]
  },
  {
   "cell_type": "code",
   "execution_count": 417,
   "metadata": {
    "collapsed": true
   },
   "outputs": [],
   "source": [
    "data_train2=data.iloc[:len(data_train),:]\n",
    "data_valid2=data.iloc[len(data_train):,:]"
   ]
  },
  {
   "cell_type": "code",
   "execution_count": 418,
   "metadata": {},
   "outputs": [
    {
     "data": {
      "text/plain": [
       "(51381, 145)"
      ]
     },
     "execution_count": 418,
     "metadata": {},
     "output_type": "execute_result"
    }
   ],
   "source": [
    "data_train2.shape"
   ]
  },
  {
   "cell_type": "code",
   "execution_count": 419,
   "metadata": {},
   "outputs": [
    {
     "data": {
      "text/plain": [
       "(8000, 145)"
      ]
     },
     "execution_count": 419,
     "metadata": {},
     "output_type": "execute_result"
    }
   ],
   "source": [
    "data_valid2.shape"
   ]
  },
  {
   "cell_type": "code",
   "execution_count": 420,
   "metadata": {
    "collapsed": true
   },
   "outputs": [],
   "source": [
    "frames=[data_train2,data_train['target']]\n",
    "data_train2=pd.concat(frames,axis=1,join='inner')"
   ]
  },
  {
   "cell_type": "code",
   "execution_count": 421,
   "metadata": {},
   "outputs": [
    {
     "data": {
      "text/plain": [
       "(51381, 146)"
      ]
     },
     "execution_count": 421,
     "metadata": {},
     "output_type": "execute_result"
    }
   ],
   "source": [
    "data_train2.shape"
   ]
  },
  {
   "cell_type": "code",
   "execution_count": 422,
   "metadata": {
    "collapsed": true
   },
   "outputs": [],
   "source": [
    "dtrain=data_train2.sample(round(len(data_train2)*0.7))\n",
    "dtest=data_train2.drop(dtrain.index)\n",
    "dcv=dtest.sample(round(len(dtest)*0.48))\n",
    "dtest=dtest.drop(dcv.index)"
   ]
  },
  {
   "cell_type": "code",
   "execution_count": 423,
   "metadata": {},
   "outputs": [
    {
     "data": {
      "text/plain": [
       "(35967, 146)"
      ]
     },
     "execution_count": 423,
     "metadata": {},
     "output_type": "execute_result"
    }
   ],
   "source": [
    "dtrain.shape"
   ]
  },
  {
   "cell_type": "code",
   "execution_count": 424,
   "metadata": {},
   "outputs": [
    {
     "data": {
      "text/plain": [
       "(7399, 146)"
      ]
     },
     "execution_count": 424,
     "metadata": {},
     "output_type": "execute_result"
    }
   ],
   "source": [
    "dcv.shape"
   ]
  },
  {
   "cell_type": "code",
   "execution_count": 425,
   "metadata": {},
   "outputs": [
    {
     "data": {
      "text/plain": [
       "(8015, 146)"
      ]
     },
     "execution_count": 425,
     "metadata": {},
     "output_type": "execute_result"
    }
   ],
   "source": [
    "dtest.shape"
   ]
  },
  {
   "cell_type": "markdown",
   "metadata": {},
   "source": [
    "## 1.4) standardization of data sets"
   ]
  },
  {
   "attachments": {
    "image.png": {
     "image/png": "[encoded data removed]"
    }
   },
   "cell_type": "markdown",
   "metadata": {},
   "source": [
    "<span style=\"color:red\">\n",
    "Vous auriez pu utiliser les fonctions de pandas qui calculent directement ce genre de choses <br>\n",
    "from sklearn.preprocessing import StandardScaler <br>\n",
    "sc = StandardScaler() <br>\n",
    "sc.fit(X_train) <br>\n",
    "X_train_std = sc.transform(X_train) <br>\n",
    "X_test_std = sc.transform(X_test)![image.png](attachment:image.png) <br>\n",
    "</span>\n"
   ]
  },
  {
   "cell_type": "code",
   "execution_count": 426,
   "metadata": {
    "collapsed": true
   },
   "outputs": [],
   "source": [
    "from sklearn.preprocessing import StandardScaler\n",
    "scaler=StandardScaler()\n",
    "scaler.fit(dtrain.iloc[:,1:len(dtrain.columns)-1]) # without target and id\n",
    "dtrainS=pd.DataFrame(scaler.transform(dtrain.iloc[:,1:len(dtrain.columns)-1])) # without target and id\n",
    "dcvS=pd.DataFrame(scaler.transform(dcv.iloc[:,1:len(dtrain.columns)-1]))\n",
    "dtestS=pd.DataFrame(scaler.transform(dtest.iloc[:,1:len(dtrain.columns)-1]))\n",
    "\n",
    "dvalS=pd.DataFrame(scaler.transform(data_valid2.iloc[:,1:]))\n",
    "\n",
    "dtrainS.columns=list(data_valid2.iloc[:,1:].columns)\n",
    "dcvS.columns=list(data_valid2.iloc[:,1:].columns)\n",
    "dtestS.columns=list(data_valid2.iloc[:,1:].columns)\n",
    "dvalS.columns=list(data_valid2.iloc[:,1:].columns)"
   ]
  },
  {
   "cell_type": "code",
   "execution_count": 427,
   "metadata": {
    "collapsed": true
   },
   "outputs": [],
   "source": [
    "Xtrain=dtrainS\n",
    "Xcv=dcvS\n",
    "Xtest=dtestS\n",
    "Xval=dvalS\n",
    "ytrain=dtrain.iloc[:,len(dtrain.columns)-1]\n",
    "ycv=dcv.iloc[:,len(dtest.columns)-1]\n",
    "ytest=dtest.iloc[:,len(dtest.columns)-1]"
   ]
  },
  {
   "cell_type": "markdown",
   "metadata": {},
   "source": [
    "# 2) Logistic regression\n"
   ]
  },
  {
   "cell_type": "code",
   "execution_count": 428,
   "metadata": {},
   "outputs": [
    {
     "data": {
      "image/png": "[encoded data removed]",
      "text/plain": [
       "<matplotlib.figure.Figure at 0x299bb811780>"
      ]
     },
     "metadata": {},
     "output_type": "display_data"
    }
   ],
   "source": [
    "from sklearn.linear_model import LogisticRegression\n",
    "from sklearn import metrics\n",
    "\n",
    "# penalty is chooseen only between l2 and l1. high value of c allow to reduce the effect of regularisation\n",
    "lr = LogisticRegression(penalty='l2',C=1e6, fit_intercept=False).fit(Xtrain, ytrain)#By default, sklearn solves regularized LogisticRegression, with fitting strength C=1 (small C-big regularization, big C-small regularization).\n",
    "yhat = lr.predict_proba(Xtest)[:,1]\n",
    "\n",
    "fpr_lr, tpr_lr, thresholds = metrics.roc_curve(ytest, yhat, pos_label=1)\n",
    "\n",
    "plt.figure(1)\n",
    "plt.plot([0, 1], [0, 1], 'k--')\n",
    "plt.plot(fpr_lr, tpr_lr, label='lr')\n",
    "plt.xlabel('False positive rate')\n",
    "plt.ylabel('True positive rate')\n",
    "plt.title('ROC curve lr')\n",
    "plt.show()\n"
   ]
  },
  {
   "cell_type": "code",
   "execution_count": 429,
   "metadata": {
    "scrolled": true
   },
   "outputs": [
    {
     "name": "stdout",
     "output_type": "stream",
     "text": [
      "0.875319169917\n"
     ]
    }
   ],
   "source": [
    "print(metrics.auc(fpr_lr, tpr_lr))"
   ]
  },
  {
   "cell_type": "markdown",
   "metadata": {},
   "source": [
    "## Features importances"
   ]
  },
  {
   "cell_type": "markdown",
   "metadata": {},
   "source": [
    "<span style=\"color:red\">\n",
    "Pourquoi calculer un MSE sur une classification ? <br>\n",
    "vos noms de variables sont trop sibillynes : je n'arrive pas à vous suivre.\n",
    "</span>\n"
   ]
  },
  {
   "cell_type": "code",
   "execution_count": 178,
   "metadata": {
    "scrolled": true
   },
   "outputs": [
    {
     "data": {
      "text/html": [
       "<div>\n",
       "<style>\n",
       "    .dataframe thead tr:only-child th {\n",
       "        text-align: right;\n",
       "    }\n",
       "\n",
       "    .dataframe thead th {\n",
       "        text-align: left;\n",
       "    }\n",
       "\n",
       "    .dataframe tbody tr th {\n",
       "        vertical-align: top;\n",
       "    }\n",
       "</style>\n",
       "<table border=\"1\" class=\"dataframe\">\n",
       "  <thead>\n",
       "    <tr style=\"text-align: right;\">\n",
       "      <th></th>\n",
       "      <th>features importances</th>\n",
       "      <th>Coef</th>\n",
       "      <th>StdErrors</th>\n",
       "      <th>t values</th>\n",
       "      <th>Probabilites</th>\n",
       "    </tr>\n",
       "  </thead>\n",
       "  <tbody>\n",
       "    <tr>\n",
       "      <th>10</th>\n",
       "      <td>BMI</td>\n",
       "      <td>1.405</td>\n",
       "      <td>0.017</td>\n",
       "      <td>-84.498</td>\n",
       "      <td>0.000000</td>\n",
       "    </tr>\n",
       "    <tr>\n",
       "      <th>9</th>\n",
       "      <td>Wt</td>\n",
       "      <td>0.650</td>\n",
       "      <td>0.021</td>\n",
       "      <td>31.213</td>\n",
       "      <td>0.000000</td>\n",
       "    </tr>\n",
       "    <tr>\n",
       "      <th>40</th>\n",
       "      <td>Medical_History_4</td>\n",
       "      <td>0.434</td>\n",
       "      <td>0.002</td>\n",
       "      <td>181.023</td>\n",
       "      <td>0.000000</td>\n",
       "    </tr>\n",
       "    <tr>\n",
       "      <th>8</th>\n",
       "      <td>Ht</td>\n",
       "      <td>0.356</td>\n",
       "      <td>0.011</td>\n",
       "      <td>-31.419</td>\n",
       "      <td>0.000000</td>\n",
       "    </tr>\n",
       "    <tr>\n",
       "      <th>90</th>\n",
       "      <td>Medical_Keyword_15</td>\n",
       "      <td>0.248</td>\n",
       "      <td>0.005</td>\n",
       "      <td>-49.489</td>\n",
       "      <td>0.000000</td>\n",
       "    </tr>\n",
       "    <tr>\n",
       "      <th>58</th>\n",
       "      <td>Medical_History_23</td>\n",
       "      <td>0.245</td>\n",
       "      <td>0.005</td>\n",
       "      <td>46.133</td>\n",
       "      <td>0.000000</td>\n",
       "    </tr>\n",
       "    <tr>\n",
       "      <th>22</th>\n",
       "      <td>InsuredInfo_6</td>\n",
       "      <td>0.233</td>\n",
       "      <td>0.004</td>\n",
       "      <td>65.805</td>\n",
       "      <td>0.000000</td>\n",
       "    </tr>\n",
       "    <tr>\n",
       "      <th>65</th>\n",
       "      <td>Medical_History_30</td>\n",
       "      <td>0.202</td>\n",
       "      <td>0.003</td>\n",
       "      <td>-74.816</td>\n",
       "      <td>0.000000</td>\n",
       "    </tr>\n",
       "    <tr>\n",
       "      <th>3</th>\n",
       "      <td>Product_Info_4</td>\n",
       "      <td>0.198</td>\n",
       "      <td>0.003</td>\n",
       "      <td>78.878</td>\n",
       "      <td>0.000000</td>\n",
       "    </tr>\n",
       "    <tr>\n",
       "      <th>132</th>\n",
       "      <td>A7</td>\n",
       "      <td>0.178</td>\n",
       "      <td>17499.817</td>\n",
       "      <td>-0.000</td>\n",
       "      <td>0.999992</td>\n",
       "    </tr>\n",
       "    <tr>\n",
       "      <th>24</th>\n",
       "      <td>Insurance_History_1</td>\n",
       "      <td>0.120</td>\n",
       "      <td>0.010</td>\n",
       "      <td>-12.381</td>\n",
       "      <td>0.000000</td>\n",
       "    </tr>\n",
       "    <tr>\n",
       "      <th>116</th>\n",
       "      <td>Medical_Keyword_41</td>\n",
       "      <td>0.116</td>\n",
       "      <td>0.002</td>\n",
       "      <td>46.583</td>\n",
       "      <td>0.000000</td>\n",
       "    </tr>\n",
       "    <tr>\n",
       "      <th>127</th>\n",
       "      <td>D4</td>\n",
       "      <td>0.111</td>\n",
       "      <td>43955.194</td>\n",
       "      <td>0.000</td>\n",
       "      <td>0.999998</td>\n",
       "    </tr>\n",
       "    <tr>\n",
       "      <th>78</th>\n",
       "      <td>Medical_Keyword_3</td>\n",
       "      <td>0.109</td>\n",
       "      <td>0.004</td>\n",
       "      <td>-31.107</td>\n",
       "      <td>0.000000</td>\n",
       "    </tr>\n",
       "    <tr>\n",
       "      <th>1</th>\n",
       "      <td>Product_Info_1</td>\n",
       "      <td>0.104</td>\n",
       "      <td>0.002</td>\n",
       "      <td>-46.877</td>\n",
       "      <td>0.000000</td>\n",
       "    </tr>\n",
       "    <tr>\n",
       "      <th>41</th>\n",
       "      <td>Medical_History_5</td>\n",
       "      <td>0.104</td>\n",
       "      <td>0.002</td>\n",
       "      <td>-47.136</td>\n",
       "      <td>0.000000</td>\n",
       "    </tr>\n",
       "    <tr>\n",
       "      <th>48</th>\n",
       "      <td>Medical_History_13</td>\n",
       "      <td>0.103</td>\n",
       "      <td>0.005</td>\n",
       "      <td>20.980</td>\n",
       "      <td>0.000000</td>\n",
       "    </tr>\n",
       "    <tr>\n",
       "      <th>55</th>\n",
       "      <td>Medical_History_20</td>\n",
       "      <td>0.102</td>\n",
       "      <td>0.002</td>\n",
       "      <td>45.932</td>\n",
       "      <td>0.000000</td>\n",
       "    </tr>\n",
       "    <tr>\n",
       "      <th>133</th>\n",
       "      <td>A6</td>\n",
       "      <td>0.100</td>\n",
       "      <td>21065.784</td>\n",
       "      <td>0.000</td>\n",
       "      <td>0.999996</td>\n",
       "    </tr>\n",
       "    <tr>\n",
       "      <th>32</th>\n",
       "      <td>Family_Hist_1</td>\n",
       "      <td>0.096</td>\n",
       "      <td>0.002</td>\n",
       "      <td>42.515</td>\n",
       "      <td>0.000000</td>\n",
       "    </tr>\n",
       "    <tr>\n",
       "      <th>30</th>\n",
       "      <td>Insurance_History_8</td>\n",
       "      <td>0.094</td>\n",
       "      <td>0.008</td>\n",
       "      <td>11.356</td>\n",
       "      <td>0.000000</td>\n",
       "    </tr>\n",
       "    <tr>\n",
       "      <th>73</th>\n",
       "      <td>Medical_History_39</td>\n",
       "      <td>0.089</td>\n",
       "      <td>0.004</td>\n",
       "      <td>24.199</td>\n",
       "      <td>0.000000</td>\n",
       "    </tr>\n",
       "    <tr>\n",
       "      <th>18</th>\n",
       "      <td>InsuredInfo_2</td>\n",
       "      <td>0.080</td>\n",
       "      <td>0.003</td>\n",
       "      <td>-31.201</td>\n",
       "      <td>0.000000</td>\n",
       "    </tr>\n",
       "    <tr>\n",
       "      <th>17</th>\n",
       "      <td>InsuredInfo_1</td>\n",
       "      <td>0.080</td>\n",
       "      <td>0.002</td>\n",
       "      <td>-32.333</td>\n",
       "      <td>0.000000</td>\n",
       "    </tr>\n",
       "    <tr>\n",
       "      <th>26</th>\n",
       "      <td>Insurance_History_3</td>\n",
       "      <td>0.078</td>\n",
       "      <td>0.017</td>\n",
       "      <td>4.631</td>\n",
       "      <td>0.000004</td>\n",
       "    </tr>\n",
       "    <tr>\n",
       "      <th>23</th>\n",
       "      <td>InsuredInfo_7</td>\n",
       "      <td>0.074</td>\n",
       "      <td>0.003</td>\n",
       "      <td>-28.805</td>\n",
       "      <td>0.000000</td>\n",
       "    </tr>\n",
       "    <tr>\n",
       "      <th>74</th>\n",
       "      <td>Medical_History_40</td>\n",
       "      <td>0.068</td>\n",
       "      <td>0.002</td>\n",
       "      <td>28.942</td>\n",
       "      <td>0.000000</td>\n",
       "    </tr>\n",
       "    <tr>\n",
       "      <th>21</th>\n",
       "      <td>InsuredInfo_5</td>\n",
       "      <td>0.067</td>\n",
       "      <td>0.002</td>\n",
       "      <td>-29.384</td>\n",
       "      <td>0.000000</td>\n",
       "    </tr>\n",
       "    <tr>\n",
       "      <th>124</th>\n",
       "      <td>D3</td>\n",
       "      <td>0.064</td>\n",
       "      <td>49064.873</td>\n",
       "      <td>-0.000</td>\n",
       "      <td>0.999999</td>\n",
       "    </tr>\n",
       "    <tr>\n",
       "      <th>25</th>\n",
       "      <td>Insurance_History_2</td>\n",
       "      <td>0.063</td>\n",
       "      <td>0.002</td>\n",
       "      <td>-28.239</td>\n",
       "      <td>0.000000</td>\n",
       "    </tr>\n",
       "  </tbody>\n",
       "</table>\n",
       "</div>"
      ],
      "text/plain": [
       "    features importances   Coef  StdErrors  t values  Probabilites\n",
       "10                   BMI  1.405      0.017   -84.498      0.000000\n",
       "9                     Wt  0.650      0.021    31.213      0.000000\n",
       "40     Medical_History_4  0.434      0.002   181.023      0.000000\n",
       "8                     Ht  0.356      0.011   -31.419      0.000000\n",
       "90    Medical_Keyword_15  0.248      0.005   -49.489      0.000000\n",
       "58    Medical_History_23  0.245      0.005    46.133      0.000000\n",
       "22         InsuredInfo_6  0.233      0.004    65.805      0.000000\n",
       "65    Medical_History_30  0.202      0.003   -74.816      0.000000\n",
       "3         Product_Info_4  0.198      0.003    78.878      0.000000\n",
       "132                   A7  0.178  17499.817    -0.000      0.999992\n",
       "24   Insurance_History_1  0.120      0.010   -12.381      0.000000\n",
       "116   Medical_Keyword_41  0.116      0.002    46.583      0.000000\n",
       "127                   D4  0.111  43955.194     0.000      0.999998\n",
       "78     Medical_Keyword_3  0.109      0.004   -31.107      0.000000\n",
       "1         Product_Info_1  0.104      0.002   -46.877      0.000000\n",
       "41     Medical_History_5  0.104      0.002   -47.136      0.000000\n",
       "48    Medical_History_13  0.103      0.005    20.980      0.000000\n",
       "55    Medical_History_20  0.102      0.002    45.932      0.000000\n",
       "133                   A6  0.100  21065.784     0.000      0.999996\n",
       "32         Family_Hist_1  0.096      0.002    42.515      0.000000\n",
       "30   Insurance_History_8  0.094      0.008    11.356      0.000000\n",
       "73    Medical_History_39  0.089      0.004    24.199      0.000000\n",
       "18         InsuredInfo_2  0.080      0.003   -31.201      0.000000\n",
       "17         InsuredInfo_1  0.080      0.002   -32.333      0.000000\n",
       "26   Insurance_History_3  0.078      0.017     4.631      0.000004\n",
       "23         InsuredInfo_7  0.074      0.003   -28.805      0.000000\n",
       "74    Medical_History_40  0.068      0.002    28.942      0.000000\n",
       "21         InsuredInfo_5  0.067      0.002   -29.384      0.000000\n",
       "124                   D3  0.064  49064.873    -0.000      0.999999\n",
       "25   Insurance_History_2  0.063      0.002   -28.239      0.000000"
      ]
     },
     "execution_count": 178,
     "metadata": {},
     "output_type": "execute_result"
    }
   ],
   "source": [
    "from scipy import stats\n",
    "\n",
    "params = np.append(lr.intercept_,lr.coef_)\n",
    "predictions = lr.predict_proba(Xtrain)[:,1]\n",
    "\n",
    "newX = pd.DataFrame({\"Constant\":np.ones(len(Xtrain))}).join(pd.DataFrame(Xtrain))\n",
    "MSE = (sum((ytrain-predictions)**2))/(len(newX)-len(newX.columns))\n",
    "\n",
    "var_b = MSE*(np.linalg.inv(np.dot(newX.T,newX)).diagonal())\n",
    "sd_b = np.sqrt(var_b)\n",
    "ts_b = params/ sd_b\n",
    "\n",
    "p_values =[2*(1-stats.t.cdf(np.abs(i),(len(newX)-1))) for i in ts_b]\n",
    "\n",
    "sd_b = np.round(sd_b,3)\n",
    "ts_b = np.round(ts_b,3)\n",
    "p_values = np.round(p_values,6)\n",
    "params = np.round(params,3)\n",
    "\n",
    "features=Xtrain.columns\n",
    "features=features.insert(0,\"Intercept\")\n",
    "\n",
    "myDF3=pd.DataFrame()\n",
    "myDF3[\"features importances\"],myDF3[\"Coef\"],myDF3[\"StdErrors\"],myDF3[\"t values\"],myDF3[\"Probabilites\"] = [features,abs(params),sd_b,ts_b,p_values]\n",
    "\n",
    "myDF3_s=myDF3.sort_values(by=['Coef'],ascending=False)\n",
    "myDF3_s.head(30)"
   ]
  },
  {
   "cell_type": "markdown",
   "metadata": {},
   "source": [
    "# 3) Decision tree classifier"
   ]
  },
  {
   "cell_type": "markdown",
   "metadata": {},
   "source": [
    "<span style=\"color:red\">\n",
    "Vous ne pouvez pas prendre les ènèmes lignes pour faire votre train : vous allez dépendre de l'ordre des variables en entrée ! il faut une sélection aléatoire, appuyez vous sur les outils de scikit learn : sklearn.model_selection.train_test_split\n",
    "</span>\n"
   ]
  },
  {
   "cell_type": "code",
   "execution_count": 466,
   "metadata": {
    "collapsed": true
   },
   "outputs": [],
   "source": [
    "temp_Xtrain=Xtrain.iloc[:6000,:]\n",
    "temp_ytrain=ytrain[:6000]"
   ]
  },
  {
   "cell_type": "code",
   "execution_count": 478,
   "metadata": {
    "collapsed": true
   },
   "outputs": [],
   "source": [
    "from sklearn.tree import DecisionTreeClassifier\n",
    "from sklearn.tree import export_graphviz\n",
    "from sklearn import tree\n",
    "import graphviz\n",
    "\n",
    "tree_clf = DecisionTreeClassifier(criterion='gini', splitter='best', \n",
    "                max_depth=None, min_samples_split=2, min_samples_leaf=1, \n",
    "                min_weight_fraction_leaf=0.0, max_features=None, random_state=None, \n",
    "                max_leaf_nodes=None, min_impurity_decrease=0.0, min_impurity_split=None, \n",
    "                                  class_weight=None, presort=False).fit(temp_Xtrain, temp_ytrain[:6000])\n",
    "\n",
    "dot_data = tree.export_graphviz(tree_clf, feature_names=Xtrain.columns,rounded=True,\n",
    "                                out_file='tree.dot',filled=True)\n",
    "graph = graphviz.Source(dot_data) "
   ]
  },
  {
   "cell_type": "code",
   "execution_count": 468,
   "metadata": {},
   "outputs": [
    {
     "data": {
      "image/svg+xml": [],
      "text/plain": [
       "<graphviz.files.Source at 0x299800956a0>"
      ]
     },
     "execution_count": 468,
     "metadata": {},
     "output_type": "execute_result"
    }
   ],
   "source": [
    "graph"
   ]
  },
  {
   "cell_type": "code",
   "execution_count": 480,
   "metadata": {},
   "outputs": [
    {
     "data": {
      "image/png": "[encoded data removed]",
      "text/plain": [
       "<matplotlib.figure.Figure at 0x299bb8033c8>"
      ]
     },
     "metadata": {},
     "output_type": "display_data"
    }
   ],
   "source": [
    "yhatr = tree_clf.predict_proba(Xtest)[:,1]\n",
    "\n",
    "fpr_tr, tpr_tr, thresholds = metrics.roc_curve(ytest, yhatr, pos_label=1)\n",
    "\n",
    "plt.figure(1)\n",
    "plt.plot([0, 1], [0, 1], 'k--')\n",
    "plt.plot(fpr_tr, tpr_tr, label='lr')\n",
    "plt.xlabel('False positive rate')\n",
    "plt.ylabel('True positive rate')\n",
    "plt.title('ROC curve tree')\n",
    "plt.show()"
   ]
  },
  {
   "cell_type": "code",
   "execution_count": 191,
   "metadata": {},
   "outputs": [
    {
     "name": "stdout",
     "output_type": "stream",
     "text": [
      "0.733063166089\n"
     ]
    }
   ],
   "source": [
    "print(metrics.auc(fpr_tr, tpr_tr))"
   ]
  },
  {
   "cell_type": "markdown",
   "metadata": {},
   "source": [
    "# 4) Elastic net "
   ]
  },
  {
   "cell_type": "markdown",
   "metadata": {},
   "source": [
    "## 4.1) selection of parameters l1_ratio and alpha with cross validation data "
   ]
  },
  {
   "cell_type": "markdown",
   "metadata": {},
   "source": [
    "penalized parameter is given by:\n",
    "alpha (l1_ratio * ||w||_1 + 0.5* (1 - l1_ratio) * ||w||^2_2)\n",
    "l1_ratio allow to select a ratio between lasso(||w||_1) and ridge(||w||_2)."
   ]
  },
  {
   "cell_type": "markdown",
   "metadata": {},
   "source": [
    "\n",
    "<span style=\"color:red\">\n",
    "il faut faire un n_jobs=-1, pas 1, pour profiter des multi cpus.\n",
    "</span>\n"
   ]
  },
  {
   "cell_type": "code",
   "execution_count": 72,
   "metadata": {
    "scrolled": false
   },
   "outputs": [
    {
     "data": {
      "image/png": "[encoded data removed]",
      "text/plain": [
       "<matplotlib.figure.Figure at 0x201307b3f60>"
      ]
     },
     "metadata": {},
     "output_type": "display_data"
    }
   ],
   "source": [
    "from sklearn.linear_model import ElasticNetCV\n",
    "from sklearn import metrics\n",
    "\n",
    "res=pd.DataFrame()\n",
    "\n",
    "\n",
    "for i in range(1,10):\n",
    "    encv=ElasticNetCV(alphas=None, copy_X=True, cv=5, eps=0.001, fit_intercept=True,\n",
    "       l1_ratio=i/20, max_iter=1000, n_alphas=100, n_jobs=1,\n",
    "       normalize=False, positive=False, precompute='auto', random_state=0,\n",
    "       selection='cyclic', tol=0.0001, verbose=0)\n",
    "\n",
    "    fpr, tpr, thresholds = metrics.roc_curve(ycv, encv.fit(Xtrain, ytrain).predict(Xcv), pos_label=1)\n",
    "    res=res.append(pd.DataFrame([{'l1_ratio':i/20,'alpha':encv.alpha_,'auc':metrics.auc(fpr, tpr)}]))\n",
    "\n",
    "plt.figure(1)\n",
    "plt.plot(res['l1_ratio'], res['auc'] , label='l1-ratio_sel')\n",
    "plt.xlabel('l1_ratio')\n",
    "plt.ylabel('auc')\n",
    "plt.title('l1_ration selection')\n",
    "plt.show()"
   ]
  },
  {
   "cell_type": "code",
   "execution_count": 71,
   "metadata": {},
   "outputs": [
    {
     "data": {
      "text/html": [
       "<div>\n",
       "<style>\n",
       "    .dataframe thead tr:only-child th {\n",
       "        text-align: right;\n",
       "    }\n",
       "\n",
       "    .dataframe thead th {\n",
       "        text-align: left;\n",
       "    }\n",
       "\n",
       "    .dataframe tbody tr th {\n",
       "        vertical-align: top;\n",
       "    }\n",
       "</style>\n",
       "<table border=\"1\" class=\"dataframe\">\n",
       "  <thead>\n",
       "    <tr style=\"text-align: right;\">\n",
       "      <th></th>\n",
       "      <th>alpha</th>\n",
       "      <th>auc</th>\n",
       "      <th>l1_ratio</th>\n",
       "    </tr>\n",
       "  </thead>\n",
       "  <tbody>\n",
       "    <tr>\n",
       "      <th>0</th>\n",
       "      <td>0.011709</td>\n",
       "      <td>0.879822</td>\n",
       "      <td>0.05</td>\n",
       "    </tr>\n",
       "    <tr>\n",
       "      <th>0</th>\n",
       "      <td>0.008298</td>\n",
       "      <td>0.879814</td>\n",
       "      <td>0.10</td>\n",
       "    </tr>\n",
       "    <tr>\n",
       "      <th>0</th>\n",
       "      <td>0.006361</td>\n",
       "      <td>0.879806</td>\n",
       "      <td>0.15</td>\n",
       "    </tr>\n",
       "    <tr>\n",
       "      <th>0</th>\n",
       "      <td>0.005115</td>\n",
       "      <td>0.879811</td>\n",
       "      <td>0.20</td>\n",
       "    </tr>\n",
       "    <tr>\n",
       "      <th>0</th>\n",
       "      <td>0.004092</td>\n",
       "      <td>0.879809</td>\n",
       "      <td>0.25</td>\n",
       "    </tr>\n",
       "    <tr>\n",
       "      <th>0</th>\n",
       "      <td>0.003410</td>\n",
       "      <td>0.879803</td>\n",
       "      <td>0.30</td>\n",
       "    </tr>\n",
       "    <tr>\n",
       "      <th>0</th>\n",
       "      <td>0.002923</td>\n",
       "      <td>0.879803</td>\n",
       "      <td>0.35</td>\n",
       "    </tr>\n",
       "    <tr>\n",
       "      <th>0</th>\n",
       "      <td>0.002558</td>\n",
       "      <td>0.879801</td>\n",
       "      <td>0.40</td>\n",
       "    </tr>\n",
       "    <tr>\n",
       "      <th>0</th>\n",
       "      <td>0.002273</td>\n",
       "      <td>0.879801</td>\n",
       "      <td>0.45</td>\n",
       "    </tr>\n",
       "  </tbody>\n",
       "</table>\n",
       "</div>"
      ],
      "text/plain": [
       "      alpha       auc  l1_ratio\n",
       "0  0.011709  0.879822      0.05\n",
       "0  0.008298  0.879814      0.10\n",
       "0  0.006361  0.879806      0.15\n",
       "0  0.005115  0.879811      0.20\n",
       "0  0.004092  0.879809      0.25\n",
       "0  0.003410  0.879803      0.30\n",
       "0  0.002923  0.879803      0.35\n",
       "0  0.002558  0.879801      0.40\n",
       "0  0.002273  0.879801      0.45"
      ]
     },
     "execution_count": 71,
     "metadata": {},
     "output_type": "execute_result"
    }
   ],
   "source": [
    "res"
   ]
  },
  {
   "cell_type": "code",
   "execution_count": 37,
   "metadata": {
    "scrolled": false
   },
   "outputs": [
    {
     "data": {
      "image/png": "[encoded data removed]",
      "text/plain": [
       "<matplotlib.figure.Figure at 0x299b3b9be48>"
      ]
     },
     "metadata": {},
     "output_type": "display_data"
    }
   ],
   "source": [
    "from sklearn.linear_model import ElasticNet\n",
    "from sklearn import metrics\n",
    "alpha = 0.011709\n",
    "l1_ratio=0.05\n",
    "\n",
    "enet = ElasticNet(alpha=alpha, copy_X=True, fit_intercept=True, l1_ratio=l1_ratio,\n",
    "      max_iter=1000, normalize=False, positive=False, precompute=False,\n",
    "      random_state=0, selection='cyclic', tol=0.0001, warm_start=False)\n",
    "\n",
    "# roc curve \n",
    "y_pred=enet.fit(Xtrain,ytrain).predict(Xtest)\n",
    "fpr_en, tpr_en, thresholds = metrics.roc_curve(ytest,pd.DataFrame(y_pred))\n",
    "\n",
    "plt.figure(1)\n",
    "plt.plot([0, 1], [0, 1], 'k--')\n",
    "plt.plot(fpr_en, tpr_en, label='en')\n",
    "plt.xlabel('False positive rate')\n",
    "plt.ylabel('True positive rate')\n",
    "plt.title('ROC curve en')\n",
    "plt.show()"
   ]
  },
  {
   "cell_type": "code",
   "execution_count": 38,
   "metadata": {},
   "outputs": [
    {
     "name": "stdout",
     "output_type": "stream",
     "text": [
      "0.87641375802\n"
     ]
    }
   ],
   "source": [
    "print(metrics.auc(fpr_en, tpr_en)) "
   ]
  },
  {
   "cell_type": "markdown",
   "metadata": {},
   "source": [
    "## 4.2) Elastic Net classifier "
   ]
  },
  {
   "cell_type": "code",
   "execution_count": 481,
   "metadata": {},
   "outputs": [
    {
     "data": {
      "image/png": "[encoded data removed]",
      "text/plain": [
       "<matplotlib.figure.Figure at 0x29a622f5908>"
      ]
     },
     "metadata": {},
     "output_type": "display_data"
    }
   ],
   "source": [
    "import numpy as np\n",
    "from sklearn import linear_model\n",
    "from sklearn import metrics\n",
    "\n",
    "# loss='log' give logistic regression \n",
    "#penalty='elasticnet' for elasticnet penalization\n",
    "#alpha and l1_ratio is calculated above\n",
    "clf=linear_model.SGDClassifier(alpha=0.011709, average=False, class_weight=None, epsilon=0.1,\n",
    "       eta0=0.0, fit_intercept=True, l1_ratio=0.05,\n",
    "       learning_rate='optimal', loss='log', max_iter=None, n_iter=None,\n",
    "       n_jobs=1, penalty='elasticnet', power_t=0.5, random_state=None,\n",
    "       shuffle=True, tol=0.001, verbose=0, warm_start=False)\n",
    "\n",
    "y_pred_enet_cl = clf.fit(Xtrain, ytrain).predict(Xtest)\n",
    "\n",
    "fpr_encl, tpr_encl, thresholds = metrics.roc_curve(ytest, pd.DataFrame(y_pred_enet_cl), pos_label=1)\n",
    "\n",
    "# roc curve \n",
    "y_pred=clf.fit(Xtrain,ytrain).predict_proba(Xtest)[:, 1]\n",
    "fpr_encl, tpr_encl, thresholds = metrics.roc_curve(ytest,y_pred)\n",
    "\n",
    "plt.figure(1)\n",
    "plt.plot([0, 1], [0, 1], 'k--')\n",
    "plt.plot(fpr_encl, tpr_encl, label='en classifier')\n",
    "plt.xlabel('False positive rate')\n",
    "plt.ylabel('True positive rate')\n",
    "plt.title('ROC curve en classifier')\n",
    "plt.show()\n",
    "                      "
   ]
  },
  {
   "cell_type": "code",
   "execution_count": 476,
   "metadata": {},
   "outputs": [
    {
     "name": "stdout",
     "output_type": "stream",
     "text": [
      "0.882972855335\n"
     ]
    }
   ],
   "source": [
    "print(metrics.auc(fpr_encl, tpr_encl)) "
   ]
  },
  {
   "cell_type": "markdown",
   "metadata": {},
   "source": [
    "### Comparaison between elasticnet regression and elasticnet classification"
   ]
  },
  {
   "cell_type": "code",
   "execution_count": 39,
   "metadata": {
    "scrolled": true
   },
   "outputs": [
    {
     "data": {
      "image/png": "[encoded data removed]",
      "text/plain": [
       "<matplotlib.figure.Figure at 0x299b3baf438>"
      ]
     },
     "metadata": {},
     "output_type": "display_data"
    }
   ],
   "source": [
    "plt.figure(1)\n",
    "plt.plot([0, 1], [0, 1], 'k--')\n",
    "plt.plot(fpr_en, tpr_en, label='en')\n",
    "plt.plot(fpr_encl, tpr_encl, label='encl')\n",
    "plt.xlabel('False positive rate')\n",
    "plt.ylabel('True positive rate')\n",
    "plt.title('ROC curve')\n",
    "plt.legend(loc='best')\n",
    "plt.show()"
   ]
  },
  {
   "cell_type": "markdown",
   "metadata": {},
   "source": [
    "# 5) Random Forest Classifier"
   ]
  },
  {
   "cell_type": "markdown",
   "metadata": {},
   "source": [
    "## 5.1) selection Max_features with cross validation data"
   ]
  },
  {
   "cell_type": "markdown",
   "metadata": {},
   "source": [
    "This parameter is the maximum number of features is allowed to try or consider in individual tree. "
   ]
  },
  {
   "cell_type": "markdown",
   "metadata": {},
   "source": [
    "<span style=\"color:red\">\n",
    "Vous pourriez travailler sur les différents paramètres avec une grid search et affiner au fur et à mesure les valeurs de la grille.\n",
    "</span>\n"
   ]
  },
  {
   "cell_type": "code",
   "execution_count": 39,
   "metadata": {},
   "outputs": [
    {
     "data": {
      "image/png": "[encoded data removed]",
      "text/plain": [
       "<matplotlib.figure.Figure at 0x1f0a644a828>"
      ]
     },
     "metadata": {},
     "output_type": "display_data"
    }
   ],
   "source": [
    "# selection of max_features\n",
    "\n",
    "from sklearn.ensemble import RandomForestClassifier\n",
    "from sklearn import metrics\n",
    "\n",
    "res_rf1=pd.DataFrame()\n",
    "\n",
    "for m_fea in range(22,143,12):\n",
    "    rf1=RandomForestClassifier(bootstrap=True, class_weight=None, criterion='gini',\n",
    "            max_depth=5, max_features=m_fea, max_leaf_nodes=None,\n",
    "            min_impurity_decrease=0.0, min_impurity_split=None,\n",
    "            min_samples_leaf=1, min_samples_split=2,\n",
    "            min_weight_fraction_leaf=0.0, n_estimators=50, n_jobs=1,\n",
    "            oob_score=False, random_state=0, verbose=0, warm_start=False).fit(Xtrain,ytrain)\n",
    "    yrf1=rf1.predict_proba(Xcv)[:, 1]\n",
    "    fpr_rf1, tpr_rf1, thresholds = metrics.roc_curve(ycv, yrf1, pos_label=1)\n",
    "\n",
    "    res_rf1=res_rf1.append(pd.DataFrame([{'max_features':m_fea,'auc':metrics.auc(fpr_rf1, tpr_rf1)}]))\n",
    "    \n",
    "plt.figure(1)\n",
    "plt.plot(res_rf1['max_features'], res_rf1['auc'] )\n",
    "plt.xlabel('max_features')\n",
    "plt.ylabel('auc')\n",
    "plt.title('max_features selection')\n",
    "plt.show()"
   ]
  },
  {
   "cell_type": "code",
   "execution_count": 40,
   "metadata": {},
   "outputs": [
    {
     "data": {
      "text/html": [
       "<div>\n",
       "<style>\n",
       "    .dataframe thead tr:only-child th {\n",
       "        text-align: right;\n",
       "    }\n",
       "\n",
       "    .dataframe thead th {\n",
       "        text-align: left;\n",
       "    }\n",
       "\n",
       "    .dataframe tbody tr th {\n",
       "        vertical-align: top;\n",
       "    }\n",
       "</style>\n",
       "<table border=\"1\" class=\"dataframe\">\n",
       "  <thead>\n",
       "    <tr style=\"text-align: right;\">\n",
       "      <th></th>\n",
       "      <th>auc</th>\n",
       "      <th>max_features</th>\n",
       "    </tr>\n",
       "  </thead>\n",
       "  <tbody>\n",
       "    <tr>\n",
       "      <th>0</th>\n",
       "      <td>0.885487</td>\n",
       "      <td>22</td>\n",
       "    </tr>\n",
       "    <tr>\n",
       "      <th>0</th>\n",
       "      <td>0.888081</td>\n",
       "      <td>34</td>\n",
       "    </tr>\n",
       "    <tr>\n",
       "      <th>0</th>\n",
       "      <td>0.885810</td>\n",
       "      <td>46</td>\n",
       "    </tr>\n",
       "    <tr>\n",
       "      <th>0</th>\n",
       "      <td>0.887624</td>\n",
       "      <td>58</td>\n",
       "    </tr>\n",
       "    <tr>\n",
       "      <th>0</th>\n",
       "      <td>0.887549</td>\n",
       "      <td>70</td>\n",
       "    </tr>\n",
       "    <tr>\n",
       "      <th>0</th>\n",
       "      <td>0.887231</td>\n",
       "      <td>82</td>\n",
       "    </tr>\n",
       "    <tr>\n",
       "      <th>0</th>\n",
       "      <td>0.887773</td>\n",
       "      <td>94</td>\n",
       "    </tr>\n",
       "    <tr>\n",
       "      <th>0</th>\n",
       "      <td>0.886593</td>\n",
       "      <td>106</td>\n",
       "    </tr>\n",
       "    <tr>\n",
       "      <th>0</th>\n",
       "      <td>0.886751</td>\n",
       "      <td>118</td>\n",
       "    </tr>\n",
       "    <tr>\n",
       "      <th>0</th>\n",
       "      <td>0.884798</td>\n",
       "      <td>130</td>\n",
       "    </tr>\n",
       "    <tr>\n",
       "      <th>0</th>\n",
       "      <td>0.866706</td>\n",
       "      <td>142</td>\n",
       "    </tr>\n",
       "  </tbody>\n",
       "</table>\n",
       "</div>"
      ],
      "text/plain": [
       "        auc  max_features\n",
       "0  0.885487            22\n",
       "0  0.888081            34\n",
       "0  0.885810            46\n",
       "0  0.887624            58\n",
       "0  0.887549            70\n",
       "0  0.887231            82\n",
       "0  0.887773            94\n",
       "0  0.886593           106\n",
       "0  0.886751           118\n",
       "0  0.884798           130\n",
       "0  0.866706           142"
      ]
     },
     "execution_count": 40,
     "metadata": {},
     "output_type": "execute_result"
    }
   ],
   "source": [
    "res_rf1"
   ]
  },
  {
   "cell_type": "markdown",
   "metadata": {},
   "source": [
    "### max_features = 60"
   ]
  },
  {
   "cell_type": "markdown",
   "metadata": {
    "collapsed": true
   },
   "source": [
    "## 5.2) selection of n_estimators with cross validation data"
   ]
  },
  {
   "cell_type": "markdown",
   "metadata": {},
   "source": [
    "This parameters is the numbers of trees to build before taking the maximum voting or averages of predictions. High number of trees give better performance but makes the codes slower. "
   ]
  },
  {
   "cell_type": "code",
   "execution_count": 41,
   "metadata": {
    "scrolled": true
   },
   "outputs": [
    {
     "data": {
      "image/png": "[encoded data removed]",
      "text/plain": [
       "<matplotlib.figure.Figure at 0x1f0b05b0908>"
      ]
     },
     "metadata": {},
     "output_type": "display_data"
    }
   ],
   "source": [
    "# selection of numbers of trees in the forest n_estimators\n",
    "from sklearn.ensemble import RandomForestClassifier\n",
    "from sklearn import metrics\n",
    "\n",
    "res_rf2=pd.DataFrame()\n",
    "\n",
    "for n_trees in range(50,500,20):\n",
    "    rf2=RandomForestClassifier(bootstrap=True, class_weight=None, criterion='gini',\n",
    "            max_depth=5, max_features=60, max_leaf_nodes=None,\n",
    "            min_impurity_decrease=0.0, min_impurity_split=None,\n",
    "            min_samples_leaf=1, min_samples_split=2,\n",
    "            min_weight_fraction_leaf=0.0, n_estimators=n_trees, n_jobs=1,\n",
    "            oob_score=False, random_state=0, verbose=0, warm_start=False).fit(Xtrain,ytrain)\n",
    "    yrf2=rf2.predict_proba(Xcv)[:,1]\n",
    "    fpr_rf2, tpr_rf2, thresholds = metrics.roc_curve(ycv, yrf2, pos_label=1)\n",
    "\n",
    "    res_rf2=res_rf2.append(pd.DataFrame([{'n_estimators':n_trees,'auc':metrics.auc(fpr_rf2, tpr_rf2)}]))\n",
    "    \n",
    "plt.figure(1)\n",
    "plt.plot(res_rf2['n_estimators'], res_rf2['auc'] )\n",
    "plt.xlabel('n_trees')\n",
    "plt.ylabel('auc')\n",
    "plt.title('n_estimators selection')\n",
    "plt.show()"
   ]
  },
  {
   "cell_type": "code",
   "execution_count": 42,
   "metadata": {
    "scrolled": true
   },
   "outputs": [
    {
     "data": {
      "text/html": [
       "<div>\n",
       "<style>\n",
       "    .dataframe thead tr:only-child th {\n",
       "        text-align: right;\n",
       "    }\n",
       "\n",
       "    .dataframe thead th {\n",
       "        text-align: left;\n",
       "    }\n",
       "\n",
       "    .dataframe tbody tr th {\n",
       "        vertical-align: top;\n",
       "    }\n",
       "</style>\n",
       "<table border=\"1\" class=\"dataframe\">\n",
       "  <thead>\n",
       "    <tr style=\"text-align: right;\">\n",
       "      <th></th>\n",
       "      <th>auc</th>\n",
       "      <th>n_estimators</th>\n",
       "    </tr>\n",
       "  </thead>\n",
       "  <tbody>\n",
       "    <tr>\n",
       "      <th>0</th>\n",
       "      <td>0.888399</td>\n",
       "      <td>50</td>\n",
       "    </tr>\n",
       "    <tr>\n",
       "      <th>0</th>\n",
       "      <td>0.888494</td>\n",
       "      <td>70</td>\n",
       "    </tr>\n",
       "    <tr>\n",
       "      <th>0</th>\n",
       "      <td>0.887812</td>\n",
       "      <td>90</td>\n",
       "    </tr>\n",
       "    <tr>\n",
       "      <th>0</th>\n",
       "      <td>0.888069</td>\n",
       "      <td>110</td>\n",
       "    </tr>\n",
       "    <tr>\n",
       "      <th>0</th>\n",
       "      <td>0.887963</td>\n",
       "      <td>130</td>\n",
       "    </tr>\n",
       "    <tr>\n",
       "      <th>0</th>\n",
       "      <td>0.888091</td>\n",
       "      <td>150</td>\n",
       "    </tr>\n",
       "    <tr>\n",
       "      <th>0</th>\n",
       "      <td>0.888023</td>\n",
       "      <td>170</td>\n",
       "    </tr>\n",
       "    <tr>\n",
       "      <th>0</th>\n",
       "      <td>0.887982</td>\n",
       "      <td>190</td>\n",
       "    </tr>\n",
       "    <tr>\n",
       "      <th>0</th>\n",
       "      <td>0.888008</td>\n",
       "      <td>210</td>\n",
       "    </tr>\n",
       "    <tr>\n",
       "      <th>0</th>\n",
       "      <td>0.888046</td>\n",
       "      <td>230</td>\n",
       "    </tr>\n",
       "    <tr>\n",
       "      <th>0</th>\n",
       "      <td>0.888025</td>\n",
       "      <td>250</td>\n",
       "    </tr>\n",
       "    <tr>\n",
       "      <th>0</th>\n",
       "      <td>0.887953</td>\n",
       "      <td>270</td>\n",
       "    </tr>\n",
       "    <tr>\n",
       "      <th>0</th>\n",
       "      <td>0.888018</td>\n",
       "      <td>290</td>\n",
       "    </tr>\n",
       "    <tr>\n",
       "      <th>0</th>\n",
       "      <td>0.888150</td>\n",
       "      <td>310</td>\n",
       "    </tr>\n",
       "    <tr>\n",
       "      <th>0</th>\n",
       "      <td>0.888201</td>\n",
       "      <td>330</td>\n",
       "    </tr>\n",
       "    <tr>\n",
       "      <th>0</th>\n",
       "      <td>0.888272</td>\n",
       "      <td>350</td>\n",
       "    </tr>\n",
       "    <tr>\n",
       "      <th>0</th>\n",
       "      <td>0.888409</td>\n",
       "      <td>370</td>\n",
       "    </tr>\n",
       "    <tr>\n",
       "      <th>0</th>\n",
       "      <td>0.888398</td>\n",
       "      <td>390</td>\n",
       "    </tr>\n",
       "    <tr>\n",
       "      <th>0</th>\n",
       "      <td>0.888415</td>\n",
       "      <td>410</td>\n",
       "    </tr>\n",
       "    <tr>\n",
       "      <th>0</th>\n",
       "      <td>0.888380</td>\n",
       "      <td>430</td>\n",
       "    </tr>\n",
       "    <tr>\n",
       "      <th>0</th>\n",
       "      <td>0.888397</td>\n",
       "      <td>450</td>\n",
       "    </tr>\n",
       "    <tr>\n",
       "      <th>0</th>\n",
       "      <td>0.888435</td>\n",
       "      <td>470</td>\n",
       "    </tr>\n",
       "    <tr>\n",
       "      <th>0</th>\n",
       "      <td>0.888408</td>\n",
       "      <td>490</td>\n",
       "    </tr>\n",
       "  </tbody>\n",
       "</table>\n",
       "</div>"
      ],
      "text/plain": [
       "        auc  n_estimators\n",
       "0  0.888399            50\n",
       "0  0.888494            70\n",
       "0  0.887812            90\n",
       "0  0.888069           110\n",
       "0  0.887963           130\n",
       "0  0.888091           150\n",
       "0  0.888023           170\n",
       "0  0.887982           190\n",
       "0  0.888008           210\n",
       "0  0.888046           230\n",
       "0  0.888025           250\n",
       "0  0.887953           270\n",
       "0  0.888018           290\n",
       "0  0.888150           310\n",
       "0  0.888201           330\n",
       "0  0.888272           350\n",
       "0  0.888409           370\n",
       "0  0.888398           390\n",
       "0  0.888415           410\n",
       "0  0.888380           430\n",
       "0  0.888397           450\n",
       "0  0.888435           470\n",
       "0  0.888408           490"
      ]
     },
     "execution_count": 42,
     "metadata": {},
     "output_type": "execute_result"
    }
   ],
   "source": [
    "res_rf2"
   ]
  },
  {
   "cell_type": "markdown",
   "metadata": {},
   "source": [
    "Influence in auc is not important for n_estimators between 50 and 500. \n",
    "### we choose n_estimators = 50 "
   ]
  },
  {
   "cell_type": "markdown",
   "metadata": {},
   "source": [
    "## 5.3) selection of Max_depth with cross validation data"
   ]
  },
  {
   "cell_type": "markdown",
   "metadata": {},
   "source": [
    "This parameter is the maximum depth of the tree. The default parameter \"None\" means that the nodes are expanded until all leaves are pure or until all leaves contain less than min_samples_split samples."
   ]
  },
  {
   "cell_type": "code",
   "execution_count": 43,
   "metadata": {},
   "outputs": [
    {
     "data": {
      "image/png": "[encoded data removed]",
      "text/plain": [
       "<matplotlib.figure.Figure at 0x1f0b3585668>"
      ]
     },
     "metadata": {},
     "output_type": "display_data"
    }
   ],
   "source": [
    "# selection of parameter max_depth \n",
    "from sklearn.ensemble import RandomForestClassifier\n",
    "from sklearn import metrics\n",
    "\n",
    "res_rf3=pd.DataFrame()\n",
    "\n",
    "for max_depth in range(5,20):\n",
    "    rf3=RandomForestClassifier(bootstrap=True, class_weight=None, criterion='gini',\n",
    "            max_depth=max_depth, max_features=60, max_leaf_nodes=None,\n",
    "            min_impurity_decrease=0.0, min_impurity_split=None,\n",
    "            min_samples_leaf=1, min_samples_split=2,\n",
    "            min_weight_fraction_leaf=0.0, n_estimators=50, n_jobs=1,\n",
    "            oob_score=False, random_state=0, verbose=0, warm_start=False).fit(Xtrain,ytrain)\n",
    "\n",
    "    yrf3=rf3.predict_proba(Xcv)[:,1]\n",
    "    fpr_rf3, tpr_rf3, thresholds = metrics.roc_curve(ycv, yrf3, pos_label=1)\n",
    "\n",
    "    res_rf3=res_rf3.append(pd.DataFrame([{'max_depth':max_depth,'auc':metrics.auc(fpr_rf3, tpr_rf3)}]))\n",
    "    \n",
    "plt.figure(1)\n",
    "plt.plot(res_rf3['max_depth'], res_rf3['auc'] )\n",
    "plt.xlabel('max_depth')\n",
    "plt.ylabel('auc')\n",
    "plt.title('max_depth selection')\n",
    "plt.show()"
   ]
  },
  {
   "cell_type": "code",
   "execution_count": 44,
   "metadata": {},
   "outputs": [
    {
     "data": {
      "text/html": [
       "<div>\n",
       "<style>\n",
       "    .dataframe thead tr:only-child th {\n",
       "        text-align: right;\n",
       "    }\n",
       "\n",
       "    .dataframe thead th {\n",
       "        text-align: left;\n",
       "    }\n",
       "\n",
       "    .dataframe tbody tr th {\n",
       "        vertical-align: top;\n",
       "    }\n",
       "</style>\n",
       "<table border=\"1\" class=\"dataframe\">\n",
       "  <thead>\n",
       "    <tr style=\"text-align: right;\">\n",
       "      <th></th>\n",
       "      <th>auc</th>\n",
       "      <th>max_depth</th>\n",
       "    </tr>\n",
       "  </thead>\n",
       "  <tbody>\n",
       "    <tr>\n",
       "      <th>0</th>\n",
       "      <td>0.888399</td>\n",
       "      <td>5</td>\n",
       "    </tr>\n",
       "    <tr>\n",
       "      <th>0</th>\n",
       "      <td>0.890309</td>\n",
       "      <td>6</td>\n",
       "    </tr>\n",
       "    <tr>\n",
       "      <th>0</th>\n",
       "      <td>0.893241</td>\n",
       "      <td>7</td>\n",
       "    </tr>\n",
       "    <tr>\n",
       "      <th>0</th>\n",
       "      <td>0.895162</td>\n",
       "      <td>8</td>\n",
       "    </tr>\n",
       "    <tr>\n",
       "      <th>0</th>\n",
       "      <td>0.896313</td>\n",
       "      <td>9</td>\n",
       "    </tr>\n",
       "    <tr>\n",
       "      <th>0</th>\n",
       "      <td>0.898356</td>\n",
       "      <td>10</td>\n",
       "    </tr>\n",
       "    <tr>\n",
       "      <th>0</th>\n",
       "      <td>0.898654</td>\n",
       "      <td>11</td>\n",
       "    </tr>\n",
       "    <tr>\n",
       "      <th>0</th>\n",
       "      <td>0.899636</td>\n",
       "      <td>12</td>\n",
       "    </tr>\n",
       "    <tr>\n",
       "      <th>0</th>\n",
       "      <td>0.899606</td>\n",
       "      <td>13</td>\n",
       "    </tr>\n",
       "    <tr>\n",
       "      <th>0</th>\n",
       "      <td>0.900672</td>\n",
       "      <td>14</td>\n",
       "    </tr>\n",
       "    <tr>\n",
       "      <th>0</th>\n",
       "      <td>0.901441</td>\n",
       "      <td>15</td>\n",
       "    </tr>\n",
       "    <tr>\n",
       "      <th>0</th>\n",
       "      <td>0.900179</td>\n",
       "      <td>16</td>\n",
       "    </tr>\n",
       "    <tr>\n",
       "      <th>0</th>\n",
       "      <td>0.899471</td>\n",
       "      <td>17</td>\n",
       "    </tr>\n",
       "    <tr>\n",
       "      <th>0</th>\n",
       "      <td>0.899649</td>\n",
       "      <td>18</td>\n",
       "    </tr>\n",
       "    <tr>\n",
       "      <th>0</th>\n",
       "      <td>0.899065</td>\n",
       "      <td>19</td>\n",
       "    </tr>\n",
       "  </tbody>\n",
       "</table>\n",
       "</div>"
      ],
      "text/plain": [
       "        auc  max_depth\n",
       "0  0.888399          5\n",
       "0  0.890309          6\n",
       "0  0.893241          7\n",
       "0  0.895162          8\n",
       "0  0.896313          9\n",
       "0  0.898356         10\n",
       "0  0.898654         11\n",
       "0  0.899636         12\n",
       "0  0.899606         13\n",
       "0  0.900672         14\n",
       "0  0.901441         15\n",
       "0  0.900179         16\n",
       "0  0.899471         17\n",
       "0  0.899649         18\n",
       "0  0.899065         19"
      ]
     },
     "execution_count": 44,
     "metadata": {},
     "output_type": "execute_result"
    }
   ],
   "source": [
    "res_rf3"
   ]
  },
  {
   "cell_type": "markdown",
   "metadata": {},
   "source": [
    "max_depth = 15 gives the best auc "
   ]
  },
  {
   "cell_type": "markdown",
   "metadata": {},
   "source": [
    "## 5.4) Random Forest Roc curve and festures importance with data test"
   ]
  },
  {
   "cell_type": "markdown",
   "metadata": {},
   "source": [
    "rf_cl.set_params"
   ]
  },
  {
   "cell_type": "code",
   "execution_count": null,
   "metadata": {
    "collapsed": true
   },
   "outputs": [],
   "source": []
  },
  {
   "cell_type": "code",
   "execution_count": 482,
   "metadata": {},
   "outputs": [
    {
     "data": {
      "image/png": "[encoded data removed]",
      "text/plain": [
       "<matplotlib.figure.Figure at 0x29a4a64af28>"
      ]
     },
     "metadata": {},
     "output_type": "display_data"
    }
   ],
   "source": [
    "from sklearn.ensemble import RandomForestClassifier\n",
    "from sklearn import metrics\n",
    "\n",
    "rf_cl=RandomForestClassifier(bootstrap=True, class_weight=None, criterion='gini',\n",
    "            max_depth=15, max_features=60, max_leaf_nodes=None,\n",
    "            min_impurity_decrease=0.0, min_impurity_split=None,\n",
    "            min_samples_leaf=1, min_samples_split=2,\n",
    "            min_weight_fraction_leaf=0.0, n_estimators=50, n_jobs=1,\n",
    "            oob_score=False, random_state=0, verbose=0, warm_start=False).fit(Xtrain,ytrain)\n",
    "\n",
    "yrf_cl=rf_cl.predict_proba(Xtest)[:, 1]\n",
    "fpr_rf_cl, tpr_rf_cl, thresholds = metrics.roc_curve(ytest, yrf_cl, pos_label=1)\n",
    "\n",
    "plt.figure(1)\n",
    "plt.plot([0, 1], [0, 1], 'k--')\n",
    "plt.plot(fpr_rf_cl, tpr_rf_cl, label='lr')\n",
    "plt.xlabel('False positive rate')\n",
    "plt.ylabel('True positive rate')\n",
    "plt.title('ROC curve rf_cl')\n",
    "plt.show()"
   ]
  },
  {
   "cell_type": "code",
   "execution_count": 41,
   "metadata": {
    "scrolled": true
   },
   "outputs": [
    {
     "name": "stdout",
     "output_type": "stream",
     "text": [
      "0.894220647611\n"
     ]
    }
   ],
   "source": [
    "print(metrics.auc(fpr_rf_cl, tpr_rf_cl)) "
   ]
  },
  {
   "cell_type": "code",
   "execution_count": 42,
   "metadata": {},
   "outputs": [
    {
     "data": {
      "text/html": [
       "<div>\n",
       "<style>\n",
       "    .dataframe thead tr:only-child th {\n",
       "        text-align: right;\n",
       "    }\n",
       "\n",
       "    .dataframe thead th {\n",
       "        text-align: left;\n",
       "    }\n",
       "\n",
       "    .dataframe tbody tr th {\n",
       "        vertical-align: top;\n",
       "    }\n",
       "</style>\n",
       "<table border=\"1\" class=\"dataframe\">\n",
       "  <thead>\n",
       "    <tr style=\"text-align: right;\">\n",
       "      <th></th>\n",
       "      <th>importances</th>\n",
       "      <th>features</th>\n",
       "    </tr>\n",
       "  </thead>\n",
       "  <tbody>\n",
       "    <tr>\n",
       "      <th>10</th>\n",
       "      <td>0.218453</td>\n",
       "      <td>BMI</td>\n",
       "    </tr>\n",
       "    <tr>\n",
       "      <th>9</th>\n",
       "      <td>0.102816</td>\n",
       "      <td>Wt</td>\n",
       "    </tr>\n",
       "    <tr>\n",
       "      <th>40</th>\n",
       "      <td>0.091976</td>\n",
       "      <td>Medical_History_4</td>\n",
       "    </tr>\n",
       "    <tr>\n",
       "      <th>58</th>\n",
       "      <td>0.064340</td>\n",
       "      <td>Medical_History_23</td>\n",
       "    </tr>\n",
       "    <tr>\n",
       "      <th>90</th>\n",
       "      <td>0.061879</td>\n",
       "      <td>Medical_Keyword_15</td>\n",
       "    </tr>\n",
       "    <tr>\n",
       "      <th>3</th>\n",
       "      <td>0.044743</td>\n",
       "      <td>Product_Info_4</td>\n",
       "    </tr>\n",
       "    <tr>\n",
       "      <th>7</th>\n",
       "      <td>0.040695</td>\n",
       "      <td>Ins_Age</td>\n",
       "    </tr>\n",
       "    <tr>\n",
       "      <th>22</th>\n",
       "      <td>0.018700</td>\n",
       "      <td>InsuredInfo_6</td>\n",
       "    </tr>\n",
       "    <tr>\n",
       "      <th>11</th>\n",
       "      <td>0.017801</td>\n",
       "      <td>Employment_Info_1</td>\n",
       "    </tr>\n",
       "    <tr>\n",
       "      <th>38</th>\n",
       "      <td>0.016375</td>\n",
       "      <td>Medical_History_2</td>\n",
       "    </tr>\n",
       "    <tr>\n",
       "      <th>78</th>\n",
       "      <td>0.015801</td>\n",
       "      <td>Medical_Keyword_3</td>\n",
       "    </tr>\n",
       "    <tr>\n",
       "      <th>35</th>\n",
       "      <td>0.015778</td>\n",
       "      <td>Family_Hist_4</td>\n",
       "    </tr>\n",
       "    <tr>\n",
       "      <th>8</th>\n",
       "      <td>0.015637</td>\n",
       "      <td>Ht</td>\n",
       "    </tr>\n",
       "    <tr>\n",
       "      <th>28</th>\n",
       "      <td>0.014799</td>\n",
       "      <td>Insurance_History_5</td>\n",
       "    </tr>\n",
       "    <tr>\n",
       "      <th>37</th>\n",
       "      <td>0.014378</td>\n",
       "      <td>Medical_History_1</td>\n",
       "    </tr>\n",
       "    <tr>\n",
       "      <th>16</th>\n",
       "      <td>0.013603</td>\n",
       "      <td>Employment_Info_6</td>\n",
       "    </tr>\n",
       "    <tr>\n",
       "      <th>33</th>\n",
       "      <td>0.012676</td>\n",
       "      <td>Family_Hist_2</td>\n",
       "    </tr>\n",
       "    <tr>\n",
       "      <th>34</th>\n",
       "      <td>0.012207</td>\n",
       "      <td>Family_Hist_3</td>\n",
       "    </tr>\n",
       "    <tr>\n",
       "      <th>36</th>\n",
       "      <td>0.009844</td>\n",
       "      <td>Family_Hist_5</td>\n",
       "    </tr>\n",
       "    <tr>\n",
       "      <th>65</th>\n",
       "      <td>0.008878</td>\n",
       "      <td>Medical_History_30</td>\n",
       "    </tr>\n",
       "    <tr>\n",
       "      <th>19</th>\n",
       "      <td>0.008613</td>\n",
       "      <td>InsuredInfo_3</td>\n",
       "    </tr>\n",
       "    <tr>\n",
       "      <th>50</th>\n",
       "      <td>0.007446</td>\n",
       "      <td>Medical_History_15</td>\n",
       "    </tr>\n",
       "    <tr>\n",
       "      <th>12</th>\n",
       "      <td>0.006528</td>\n",
       "      <td>Employment_Info_2</td>\n",
       "    </tr>\n",
       "    <tr>\n",
       "      <th>32</th>\n",
       "      <td>0.006524</td>\n",
       "      <td>Family_Hist_1</td>\n",
       "    </tr>\n",
       "    <tr>\n",
       "      <th>98</th>\n",
       "      <td>0.005573</td>\n",
       "      <td>Medical_Keyword_23</td>\n",
       "    </tr>\n",
       "    <tr>\n",
       "      <th>14</th>\n",
       "      <td>0.004918</td>\n",
       "      <td>Employment_Info_4</td>\n",
       "    </tr>\n",
       "    <tr>\n",
       "      <th>67</th>\n",
       "      <td>0.004917</td>\n",
       "      <td>Medical_History_33</td>\n",
       "    </tr>\n",
       "    <tr>\n",
       "      <th>73</th>\n",
       "      <td>0.004552</td>\n",
       "      <td>Medical_History_39</td>\n",
       "    </tr>\n",
       "    <tr>\n",
       "      <th>127</th>\n",
       "      <td>0.004430</td>\n",
       "      <td>D4</td>\n",
       "    </tr>\n",
       "    <tr>\n",
       "      <th>132</th>\n",
       "      <td>0.003610</td>\n",
       "      <td>A7</td>\n",
       "    </tr>\n",
       "    <tr>\n",
       "      <th>...</th>\n",
       "      <td>...</td>\n",
       "      <td>...</td>\n",
       "    </tr>\n",
       "    <tr>\n",
       "      <th>79</th>\n",
       "      <td>0.000517</td>\n",
       "      <td>Medical_Keyword_4</td>\n",
       "    </tr>\n",
       "    <tr>\n",
       "      <th>89</th>\n",
       "      <td>0.000504</td>\n",
       "      <td>Medical_Keyword_14</td>\n",
       "    </tr>\n",
       "    <tr>\n",
       "      <th>4</th>\n",
       "      <td>0.000487</td>\n",
       "      <td>Product_Info_5</td>\n",
       "    </tr>\n",
       "    <tr>\n",
       "      <th>93</th>\n",
       "      <td>0.000481</td>\n",
       "      <td>Medical_Keyword_18</td>\n",
       "    </tr>\n",
       "    <tr>\n",
       "      <th>99</th>\n",
       "      <td>0.000445</td>\n",
       "      <td>Medical_Keyword_24</td>\n",
       "    </tr>\n",
       "    <tr>\n",
       "      <th>95</th>\n",
       "      <td>0.000437</td>\n",
       "      <td>Medical_Keyword_20</td>\n",
       "    </tr>\n",
       "    <tr>\n",
       "      <th>66</th>\n",
       "      <td>0.000407</td>\n",
       "      <td>Medical_History_31</td>\n",
       "    </tr>\n",
       "    <tr>\n",
       "      <th>111</th>\n",
       "      <td>0.000403</td>\n",
       "      <td>Medical_Keyword_36</td>\n",
       "    </tr>\n",
       "    <tr>\n",
       "      <th>91</th>\n",
       "      <td>0.000399</td>\n",
       "      <td>Medical_Keyword_16</td>\n",
       "    </tr>\n",
       "    <tr>\n",
       "      <th>119</th>\n",
       "      <td>0.000389</td>\n",
       "      <td>Medical_Keyword_44</td>\n",
       "    </tr>\n",
       "    <tr>\n",
       "      <th>77</th>\n",
       "      <td>0.000383</td>\n",
       "      <td>Medical_Keyword_2</td>\n",
       "    </tr>\n",
       "    <tr>\n",
       "      <th>94</th>\n",
       "      <td>0.000381</td>\n",
       "      <td>Medical_Keyword_19</td>\n",
       "    </tr>\n",
       "    <tr>\n",
       "      <th>46</th>\n",
       "      <td>0.000373</td>\n",
       "      <td>Medical_History_11</td>\n",
       "    </tr>\n",
       "    <tr>\n",
       "      <th>118</th>\n",
       "      <td>0.000371</td>\n",
       "      <td>Medical_Keyword_43</td>\n",
       "    </tr>\n",
       "    <tr>\n",
       "      <th>62</th>\n",
       "      <td>0.000362</td>\n",
       "      <td>Medical_History_27</td>\n",
       "    </tr>\n",
       "    <tr>\n",
       "      <th>80</th>\n",
       "      <td>0.000361</td>\n",
       "      <td>Medical_Keyword_5</td>\n",
       "    </tr>\n",
       "    <tr>\n",
       "      <th>106</th>\n",
       "      <td>0.000361</td>\n",
       "      <td>Medical_Keyword_31</td>\n",
       "    </tr>\n",
       "    <tr>\n",
       "      <th>83</th>\n",
       "      <td>0.000354</td>\n",
       "      <td>Medical_Keyword_8</td>\n",
       "    </tr>\n",
       "    <tr>\n",
       "      <th>136</th>\n",
       "      <td>0.000344</td>\n",
       "      <td>C4</td>\n",
       "    </tr>\n",
       "    <tr>\n",
       "      <th>137</th>\n",
       "      <td>0.000341</td>\n",
       "      <td>C1</td>\n",
       "    </tr>\n",
       "    <tr>\n",
       "      <th>139</th>\n",
       "      <td>0.000335</td>\n",
       "      <td>C3</td>\n",
       "    </tr>\n",
       "    <tr>\n",
       "      <th>102</th>\n",
       "      <td>0.000326</td>\n",
       "      <td>Medical_Keyword_27</td>\n",
       "    </tr>\n",
       "    <tr>\n",
       "      <th>84</th>\n",
       "      <td>0.000277</td>\n",
       "      <td>Medical_Keyword_9</td>\n",
       "    </tr>\n",
       "    <tr>\n",
       "      <th>121</th>\n",
       "      <td>0.000213</td>\n",
       "      <td>Medical_Keyword_46</td>\n",
       "    </tr>\n",
       "    <tr>\n",
       "      <th>141</th>\n",
       "      <td>0.000206</td>\n",
       "      <td>A4</td>\n",
       "    </tr>\n",
       "    <tr>\n",
       "      <th>88</th>\n",
       "      <td>0.000172</td>\n",
       "      <td>Medical_Keyword_13</td>\n",
       "    </tr>\n",
       "    <tr>\n",
       "      <th>72</th>\n",
       "      <td>0.000127</td>\n",
       "      <td>Medical_History_38</td>\n",
       "    </tr>\n",
       "    <tr>\n",
       "      <th>142</th>\n",
       "      <td>0.000042</td>\n",
       "      <td>B1</td>\n",
       "    </tr>\n",
       "    <tr>\n",
       "      <th>140</th>\n",
       "      <td>0.000034</td>\n",
       "      <td>C2</td>\n",
       "    </tr>\n",
       "    <tr>\n",
       "      <th>69</th>\n",
       "      <td>0.000024</td>\n",
       "      <td>Medical_History_35</td>\n",
       "    </tr>\n",
       "  </tbody>\n",
       "</table>\n",
       "<p>142 rows × 2 columns</p>\n",
       "</div>"
      ],
      "text/plain": [
       "     importances             features\n",
       "10      0.218453                  BMI\n",
       "9       0.102816                   Wt\n",
       "40      0.091976    Medical_History_4\n",
       "58      0.064340   Medical_History_23\n",
       "90      0.061879   Medical_Keyword_15\n",
       "3       0.044743       Product_Info_4\n",
       "7       0.040695              Ins_Age\n",
       "22      0.018700        InsuredInfo_6\n",
       "11      0.017801    Employment_Info_1\n",
       "38      0.016375    Medical_History_2\n",
       "78      0.015801    Medical_Keyword_3\n",
       "35      0.015778        Family_Hist_4\n",
       "8       0.015637                   Ht\n",
       "28      0.014799  Insurance_History_5\n",
       "37      0.014378    Medical_History_1\n",
       "16      0.013603    Employment_Info_6\n",
       "33      0.012676        Family_Hist_2\n",
       "34      0.012207        Family_Hist_3\n",
       "36      0.009844        Family_Hist_5\n",
       "65      0.008878   Medical_History_30\n",
       "19      0.008613        InsuredInfo_3\n",
       "50      0.007446   Medical_History_15\n",
       "12      0.006528    Employment_Info_2\n",
       "32      0.006524        Family_Hist_1\n",
       "98      0.005573   Medical_Keyword_23\n",
       "14      0.004918    Employment_Info_4\n",
       "67      0.004917   Medical_History_33\n",
       "73      0.004552   Medical_History_39\n",
       "127     0.004430                   D4\n",
       "132     0.003610                   A7\n",
       "..           ...                  ...\n",
       "79      0.000517    Medical_Keyword_4\n",
       "89      0.000504   Medical_Keyword_14\n",
       "4       0.000487       Product_Info_5\n",
       "93      0.000481   Medical_Keyword_18\n",
       "99      0.000445   Medical_Keyword_24\n",
       "95      0.000437   Medical_Keyword_20\n",
       "66      0.000407   Medical_History_31\n",
       "111     0.000403   Medical_Keyword_36\n",
       "91      0.000399   Medical_Keyword_16\n",
       "119     0.000389   Medical_Keyword_44\n",
       "77      0.000383    Medical_Keyword_2\n",
       "94      0.000381   Medical_Keyword_19\n",
       "46      0.000373   Medical_History_11\n",
       "118     0.000371   Medical_Keyword_43\n",
       "62      0.000362   Medical_History_27\n",
       "80      0.000361    Medical_Keyword_5\n",
       "106     0.000361   Medical_Keyword_31\n",
       "83      0.000354    Medical_Keyword_8\n",
       "136     0.000344                   C4\n",
       "137     0.000341                   C1\n",
       "139     0.000335                   C3\n",
       "102     0.000326   Medical_Keyword_27\n",
       "84      0.000277    Medical_Keyword_9\n",
       "121     0.000213   Medical_Keyword_46\n",
       "141     0.000206                   A4\n",
       "88      0.000172   Medical_Keyword_13\n",
       "72      0.000127   Medical_History_38\n",
       "142     0.000042                   B1\n",
       "140     0.000034                   C2\n",
       "69      0.000024   Medical_History_35\n",
       "\n",
       "[142 rows x 2 columns]"
      ]
     },
     "execution_count": 42,
     "metadata": {},
     "output_type": "execute_result"
    }
   ],
   "source": [
    "feat_imp=pd.DataFrame(rf_cl.feature_importances_)\n",
    "feat_imp.columns=['importances']\n",
    "feat_imp.index=range(1,len(feat_imp)+1)\n",
    "feat_imp['features']=list(Xtrain.columns)\n",
    "feat_imp=feat_imp.sort_values(by=['importances'],ascending=False)\n",
    "feat_imp"
   ]
  },
  {
   "cell_type": "code",
   "execution_count": 43,
   "metadata": {
    "collapsed": true
   },
   "outputs": [],
   "source": [
    "feat_imp.set_index('features',inplace=True) # To take features like index"
   ]
  },
  {
   "cell_type": "code",
   "execution_count": 44,
   "metadata": {
    "scrolled": true
   },
   "outputs": [
    {
     "data": {
      "image/png": "[encoded data removed]",
      "text/plain": [
       "<matplotlib.figure.Figure at 0x27a4923f278>"
      ]
     },
     "metadata": {},
     "output_type": "display_data"
    }
   ],
   "source": [
    "feat_imp.iloc[:40,:].plot(kind='bar',title='Feature Importances')\n",
    "plt.ylabel('Feature Importance Score')\n",
    "plt.show()"
   ]
  },
  {
   "cell_type": "markdown",
   "metadata": {},
   "source": [
    "# 6) Gbm classifier "
   ]
  },
  {
   "cell_type": "markdown",
   "metadata": {},
   "source": [
    "## 6.0) loss function selection"
   ]
  },
  {
   "cell_type": "markdown",
   "metadata": {},
   "source": [
    "Two choice can be made: 'deviance' for classification logistic regression or 'exponential' for gradient boosting recovers(AdaBoost algorithm)"
   ]
  },
  {
   "cell_type": "code",
   "execution_count": 52,
   "metadata": {},
   "outputs": [
    {
     "data": {
      "image/png": "[encoded data removed]",
      "text/plain": [
       "<matplotlib.figure.Figure at 0x27a4945fb70>"
      ]
     },
     "metadata": {},
     "output_type": "display_data"
    }
   ],
   "source": [
    "# selection of max_features\n",
    "\n",
    "from sklearn.ensemble import GradientBoostingClassifier\n",
    "from sklearn import metrics\n",
    "\n",
    "res_gbm0=pd.DataFrame()\n",
    "loss=['deviance','exponential']\n",
    "for los in loss:\n",
    "    gbm0=GradientBoostingClassifier(loss=los, learning_rate=0.1, \n",
    "            n_estimators=50, subsample=1.0, criterion='friedman_mse', \n",
    "            min_samples_split=2, min_samples_leaf=1, min_weight_fraction_leaf=0.0, \n",
    "            max_depth=3, min_impurity_decrease=0.0, min_impurity_split=None, init=None, \n",
    "            random_state=None, max_features=None, verbose=0, max_leaf_nodes=None, warm_start=False, presort='auto').fit(Xtrain,ytrain)\n",
    "    ygbm0=gbm0.predict_proba(Xtest)[:, 1]\n",
    "    fpr_gbm0, tpr_gbm0, thresholds = metrics.roc_curve(ytest, ygbm0, pos_label=1)\n",
    "\n",
    "    res_gbm0=res_gbm0.append(pd.DataFrame([{'loss':los,'auc':metrics.auc(fpr_gbm0, tpr_gbm0)}]))\n",
    "    \n",
    "plt.figure(1)\n",
    "plt.plot(res_gbm0['loss'], res_gbm0['auc'] )\n",
    "plt.xlabel('max_features')\n",
    "plt.ylabel('auc')\n",
    "plt.title('max_features selection')\n",
    "plt.show()"
   ]
  },
  {
   "cell_type": "markdown",
   "metadata": {
    "collapsed": true
   },
   "source": [
    "## 6.1) selection of  max_features with cross validation data"
   ]
  },
  {
   "cell_type": "code",
   "execution_count": 47,
   "metadata": {
    "scrolled": true
   },
   "outputs": [
    {
     "data": {
      "image/png": "[encoded data removed]",
      "text/plain": [
       "<matplotlib.figure.Figure at 0x1f0b01ab5f8>"
      ]
     },
     "metadata": {},
     "output_type": "display_data"
    }
   ],
   "source": [
    "# selection of max_features\n",
    "\n",
    "from sklearn.ensemble import GradientBoostingClassifier\n",
    "from sklearn import metrics\n",
    "\n",
    "res_gbm1=pd.DataFrame()\n",
    "\n",
    "for m_fea in range(2,143,10):\n",
    "    gbm1=GradientBoostingClassifier(loss='exponential', learning_rate=0.1, \n",
    "            n_estimators=50, subsample=1.0, criterion='friedman_mse', \n",
    "            min_samples_split=2, min_samples_leaf=1, min_weight_fraction_leaf=0.0, \n",
    "            max_depth=3, min_impurity_decrease=0.0, min_impurity_split=None, init=None, \n",
    "            random_state=None, max_features=m_fea, verbose=0, max_leaf_nodes=None, warm_start=False, presort='auto').fit(Xtrain,ytrain)\n",
    "    ygbm1=gbm1.predict_proba(Xcv)[:, 1]\n",
    "    fpr_gbm1, tpr_gbm1, thresholds = metrics.roc_curve(ycv, ygbm1, pos_label=1)\n",
    "\n",
    "    res_gbm1=res_gbm1.append(pd.DataFrame([{'max_features':m_fea,'auc':metrics.auc(fpr_gbm1, tpr_gbm1)}]))\n",
    "    \n",
    "plt.figure(1)\n",
    "plt.plot(res_gbm1['max_features'], res_gbm1['auc'] )\n",
    "plt.xlabel('max_features')\n",
    "plt.ylabel('auc')\n",
    "plt.title('max_features selection')\n",
    "plt.show()"
   ]
  },
  {
   "cell_type": "code",
   "execution_count": 48,
   "metadata": {},
   "outputs": [
    {
     "data": {
      "text/html": [
       "<div>\n",
       "<style>\n",
       "    .dataframe thead tr:only-child th {\n",
       "        text-align: right;\n",
       "    }\n",
       "\n",
       "    .dataframe thead th {\n",
       "        text-align: left;\n",
       "    }\n",
       "\n",
       "    .dataframe tbody tr th {\n",
       "        vertical-align: top;\n",
       "    }\n",
       "</style>\n",
       "<table border=\"1\" class=\"dataframe\">\n",
       "  <thead>\n",
       "    <tr style=\"text-align: right;\">\n",
       "      <th></th>\n",
       "      <th>auc</th>\n",
       "      <th>max_features</th>\n",
       "    </tr>\n",
       "  </thead>\n",
       "  <tbody>\n",
       "    <tr>\n",
       "      <th>0</th>\n",
       "      <td>0.833377</td>\n",
       "      <td>2</td>\n",
       "    </tr>\n",
       "    <tr>\n",
       "      <th>0</th>\n",
       "      <td>0.894661</td>\n",
       "      <td>12</td>\n",
       "    </tr>\n",
       "    <tr>\n",
       "      <th>0</th>\n",
       "      <td>0.896617</td>\n",
       "      <td>22</td>\n",
       "    </tr>\n",
       "    <tr>\n",
       "      <th>0</th>\n",
       "      <td>0.896746</td>\n",
       "      <td>32</td>\n",
       "    </tr>\n",
       "    <tr>\n",
       "      <th>0</th>\n",
       "      <td>0.897364</td>\n",
       "      <td>42</td>\n",
       "    </tr>\n",
       "    <tr>\n",
       "      <th>0</th>\n",
       "      <td>0.896921</td>\n",
       "      <td>52</td>\n",
       "    </tr>\n",
       "    <tr>\n",
       "      <th>0</th>\n",
       "      <td>0.897829</td>\n",
       "      <td>62</td>\n",
       "    </tr>\n",
       "    <tr>\n",
       "      <th>0</th>\n",
       "      <td>0.898157</td>\n",
       "      <td>72</td>\n",
       "    </tr>\n",
       "    <tr>\n",
       "      <th>0</th>\n",
       "      <td>0.898193</td>\n",
       "      <td>82</td>\n",
       "    </tr>\n",
       "    <tr>\n",
       "      <th>0</th>\n",
       "      <td>0.898049</td>\n",
       "      <td>92</td>\n",
       "    </tr>\n",
       "    <tr>\n",
       "      <th>0</th>\n",
       "      <td>0.898533</td>\n",
       "      <td>102</td>\n",
       "    </tr>\n",
       "    <tr>\n",
       "      <th>0</th>\n",
       "      <td>0.897818</td>\n",
       "      <td>112</td>\n",
       "    </tr>\n",
       "    <tr>\n",
       "      <th>0</th>\n",
       "      <td>0.898682</td>\n",
       "      <td>122</td>\n",
       "    </tr>\n",
       "    <tr>\n",
       "      <th>0</th>\n",
       "      <td>0.898269</td>\n",
       "      <td>132</td>\n",
       "    </tr>\n",
       "    <tr>\n",
       "      <th>0</th>\n",
       "      <td>0.898914</td>\n",
       "      <td>142</td>\n",
       "    </tr>\n",
       "  </tbody>\n",
       "</table>\n",
       "</div>"
      ],
      "text/plain": [
       "        auc  max_features\n",
       "0  0.833377             2\n",
       "0  0.894661            12\n",
       "0  0.896617            22\n",
       "0  0.896746            32\n",
       "0  0.897364            42\n",
       "0  0.896921            52\n",
       "0  0.897829            62\n",
       "0  0.898157            72\n",
       "0  0.898193            82\n",
       "0  0.898049            92\n",
       "0  0.898533           102\n",
       "0  0.897818           112\n",
       "0  0.898682           122\n",
       "0  0.898269           132\n",
       "0  0.898914           142"
      ]
     },
     "execution_count": 48,
     "metadata": {},
     "output_type": "execute_result"
    }
   ],
   "source": [
    "res_gbm1"
   ]
  },
  {
   "cell_type": "markdown",
   "metadata": {
    "collapsed": true
   },
   "source": [
    "## 6.2) selection of min_samples_split"
   ]
  },
  {
   "cell_type": "markdown",
   "metadata": {},
   "source": [
    "The minimun number of samples required to split an internal node. Used to control over-fitting. \n",
    "higher values prevent a model from learning relations which might be highly specific to the particular sample selected for a tree\n",
    "Too high values can lead to under-fitting. "
   ]
  },
  {
   "cell_type": "code",
   "execution_count": 49,
   "metadata": {
    "scrolled": true
   },
   "outputs": [
    {
     "data": {
      "image/png": "[encoded data removed]",
      "text/plain": [
       "<matplotlib.figure.Figure at 0x1f0b0b19550>"
      ]
     },
     "metadata": {},
     "output_type": "display_data"
    }
   ],
   "source": [
    "# selection of min_samples_split\n",
    "\n",
    "from sklearn.ensemble import GradientBoostingClassifier\n",
    "from sklearn import metrics\n",
    "\n",
    "res_gbm2=pd.DataFrame()\n",
    "\n",
    "for min_samples_split in range(2,25,2):\n",
    "    gbm2=GradientBoostingClassifier(loss='exponential', learning_rate=0.1, \n",
    "            n_estimators=50, subsample=1.0, criterion='friedman_mse', \n",
    "            min_samples_split=min_samples_split, min_samples_leaf=1, min_weight_fraction_leaf=0.0, \n",
    "            max_depth=3, min_impurity_decrease=0.0, min_impurity_split=None, init=None, \n",
    "            random_state=None, max_features=42, verbose=0, max_leaf_nodes=None, warm_start=False, presort='auto').fit(Xtrain,ytrain)\n",
    "    ygbm2=gbm2.predict_proba(Xcv)[:, 1]\n",
    "    fpr_gbm2, tpr_gbm2, thresholds = metrics.roc_curve(ycv, ygbm2, pos_label=1)\n",
    "\n",
    "    res_gbm2=res_gbm2.append(pd.DataFrame([{'min_samples_split':min_samples_split,'auc':metrics.auc(fpr_gbm2, tpr_gbm2)}]))\n",
    "    \n",
    "plt.figure(1)\n",
    "plt.plot(res_gbm2['min_samples_split'], res_gbm2['auc'] )\n",
    "plt.xlabel('min_samples_split')\n",
    "plt.ylabel('auc')\n",
    "plt.title('min_samples_split selection')\n",
    "plt.show()"
   ]
  },
  {
   "cell_type": "code",
   "execution_count": 50,
   "metadata": {},
   "outputs": [
    {
     "data": {
      "text/html": [
       "<div>\n",
       "<style>\n",
       "    .dataframe thead tr:only-child th {\n",
       "        text-align: right;\n",
       "    }\n",
       "\n",
       "    .dataframe thead th {\n",
       "        text-align: left;\n",
       "    }\n",
       "\n",
       "    .dataframe tbody tr th {\n",
       "        vertical-align: top;\n",
       "    }\n",
       "</style>\n",
       "<table border=\"1\" class=\"dataframe\">\n",
       "  <thead>\n",
       "    <tr style=\"text-align: right;\">\n",
       "      <th></th>\n",
       "      <th>auc</th>\n",
       "      <th>min_samples_split</th>\n",
       "    </tr>\n",
       "  </thead>\n",
       "  <tbody>\n",
       "    <tr>\n",
       "      <th>0</th>\n",
       "      <td>0.897447</td>\n",
       "      <td>2</td>\n",
       "    </tr>\n",
       "    <tr>\n",
       "      <th>0</th>\n",
       "      <td>0.897027</td>\n",
       "      <td>4</td>\n",
       "    </tr>\n",
       "    <tr>\n",
       "      <th>0</th>\n",
       "      <td>0.897114</td>\n",
       "      <td>6</td>\n",
       "    </tr>\n",
       "    <tr>\n",
       "      <th>0</th>\n",
       "      <td>0.896909</td>\n",
       "      <td>8</td>\n",
       "    </tr>\n",
       "    <tr>\n",
       "      <th>0</th>\n",
       "      <td>0.898003</td>\n",
       "      <td>10</td>\n",
       "    </tr>\n",
       "    <tr>\n",
       "      <th>0</th>\n",
       "      <td>0.897390</td>\n",
       "      <td>12</td>\n",
       "    </tr>\n",
       "    <tr>\n",
       "      <th>0</th>\n",
       "      <td>0.897780</td>\n",
       "      <td>14</td>\n",
       "    </tr>\n",
       "    <tr>\n",
       "      <th>0</th>\n",
       "      <td>0.896782</td>\n",
       "      <td>16</td>\n",
       "    </tr>\n",
       "    <tr>\n",
       "      <th>0</th>\n",
       "      <td>0.896514</td>\n",
       "      <td>18</td>\n",
       "    </tr>\n",
       "    <tr>\n",
       "      <th>0</th>\n",
       "      <td>0.898084</td>\n",
       "      <td>20</td>\n",
       "    </tr>\n",
       "    <tr>\n",
       "      <th>0</th>\n",
       "      <td>0.897377</td>\n",
       "      <td>22</td>\n",
       "    </tr>\n",
       "    <tr>\n",
       "      <th>0</th>\n",
       "      <td>0.897402</td>\n",
       "      <td>24</td>\n",
       "    </tr>\n",
       "  </tbody>\n",
       "</table>\n",
       "</div>"
      ],
      "text/plain": [
       "        auc  min_samples_split\n",
       "0  0.897447                  2\n",
       "0  0.897027                  4\n",
       "0  0.897114                  6\n",
       "0  0.896909                  8\n",
       "0  0.898003                 10\n",
       "0  0.897390                 12\n",
       "0  0.897780                 14\n",
       "0  0.896782                 16\n",
       "0  0.896514                 18\n",
       "0  0.898084                 20\n",
       "0  0.897377                 22\n",
       "0  0.897402                 24"
      ]
     },
     "execution_count": 50,
     "metadata": {},
     "output_type": "execute_result"
    }
   ],
   "source": [
    "res_gbm2"
   ]
  },
  {
   "cell_type": "markdown",
   "metadata": {},
   "source": [
    "## 6.3) max_depth selection"
   ]
  },
  {
   "cell_type": "code",
   "execution_count": 52,
   "metadata": {},
   "outputs": [
    {
     "data": {
      "image/png": "[encoded data removed]",
      "text/plain": [
       "<matplotlib.figure.Figure at 0x1f0b0248320>"
      ]
     },
     "metadata": {},
     "output_type": "display_data"
    }
   ],
   "source": [
    "# selection of max_depth\n",
    "\n",
    "from sklearn.ensemble import GradientBoostingClassifier\n",
    "from sklearn import metrics\n",
    "\n",
    "res_gbm3=pd.DataFrame()\n",
    "\n",
    "for max_depth in range(3,20):\n",
    "    gbm3=GradientBoostingClassifier(loss='exponential', learning_rate=0.1, \n",
    "            n_estimators=50, subsample=1.0, criterion='friedman_mse', \n",
    "            min_samples_split=10, min_samples_leaf=1, min_weight_fraction_leaf=0.0, \n",
    "            max_depth=max_depth, min_impurity_decrease=0.0, min_impurity_split=None, init=None, \n",
    "            random_state=None, max_features=60, verbose=0, max_leaf_nodes=None, warm_start=False, presort='auto').fit(Xtrain,ytrain)\n",
    "    ygbm3=gbm3.predict_proba(Xcv)[:, 1]\n",
    "    fpr_gbm3, tpr_gbm3, thresholds = metrics.roc_curve(ycv, ygbm3, pos_label=1)\n",
    "\n",
    "    res_gbm3=res_gbm3.append(pd.DataFrame([{'max_depth':max_depth,'auc':metrics.auc(fpr_gbm3, tpr_gbm3)}]))\n",
    "    \n",
    "plt.figure(1)\n",
    "plt.plot(res_gbm3['max_depth'], res_gbm3['auc'] )\n",
    "plt.xlabel('max_depth')\n",
    "plt.ylabel('auc')\n",
    "plt.title('max_depth selection')\n",
    "plt.show()"
   ]
  },
  {
   "cell_type": "code",
   "execution_count": 53,
   "metadata": {},
   "outputs": [
    {
     "data": {
      "text/html": [
       "<div>\n",
       "<style>\n",
       "    .dataframe thead tr:only-child th {\n",
       "        text-align: right;\n",
       "    }\n",
       "\n",
       "    .dataframe thead th {\n",
       "        text-align: left;\n",
       "    }\n",
       "\n",
       "    .dataframe tbody tr th {\n",
       "        vertical-align: top;\n",
       "    }\n",
       "</style>\n",
       "<table border=\"1\" class=\"dataframe\">\n",
       "  <thead>\n",
       "    <tr style=\"text-align: right;\">\n",
       "      <th></th>\n",
       "      <th>auc</th>\n",
       "      <th>max_depth</th>\n",
       "    </tr>\n",
       "  </thead>\n",
       "  <tbody>\n",
       "    <tr>\n",
       "      <th>0</th>\n",
       "      <td>0.897316</td>\n",
       "      <td>3</td>\n",
       "    </tr>\n",
       "    <tr>\n",
       "      <th>0</th>\n",
       "      <td>0.902284</td>\n",
       "      <td>4</td>\n",
       "    </tr>\n",
       "    <tr>\n",
       "      <th>0</th>\n",
       "      <td>0.904477</td>\n",
       "      <td>5</td>\n",
       "    </tr>\n",
       "    <tr>\n",
       "      <th>0</th>\n",
       "      <td>0.906038</td>\n",
       "      <td>6</td>\n",
       "    </tr>\n",
       "    <tr>\n",
       "      <th>0</th>\n",
       "      <td>0.906582</td>\n",
       "      <td>7</td>\n",
       "    </tr>\n",
       "    <tr>\n",
       "      <th>0</th>\n",
       "      <td>0.906928</td>\n",
       "      <td>8</td>\n",
       "    </tr>\n",
       "    <tr>\n",
       "      <th>0</th>\n",
       "      <td>0.906862</td>\n",
       "      <td>9</td>\n",
       "    </tr>\n",
       "    <tr>\n",
       "      <th>0</th>\n",
       "      <td>0.905679</td>\n",
       "      <td>10</td>\n",
       "    </tr>\n",
       "    <tr>\n",
       "      <th>0</th>\n",
       "      <td>0.904557</td>\n",
       "      <td>11</td>\n",
       "    </tr>\n",
       "    <tr>\n",
       "      <th>0</th>\n",
       "      <td>0.903850</td>\n",
       "      <td>12</td>\n",
       "    </tr>\n",
       "    <tr>\n",
       "      <th>0</th>\n",
       "      <td>0.901647</td>\n",
       "      <td>13</td>\n",
       "    </tr>\n",
       "    <tr>\n",
       "      <th>0</th>\n",
       "      <td>0.903371</td>\n",
       "      <td>14</td>\n",
       "    </tr>\n",
       "    <tr>\n",
       "      <th>0</th>\n",
       "      <td>0.900452</td>\n",
       "      <td>15</td>\n",
       "    </tr>\n",
       "    <tr>\n",
       "      <th>0</th>\n",
       "      <td>0.900142</td>\n",
       "      <td>16</td>\n",
       "    </tr>\n",
       "    <tr>\n",
       "      <th>0</th>\n",
       "      <td>0.900840</td>\n",
       "      <td>17</td>\n",
       "    </tr>\n",
       "    <tr>\n",
       "      <th>0</th>\n",
       "      <td>0.899470</td>\n",
       "      <td>18</td>\n",
       "    </tr>\n",
       "    <tr>\n",
       "      <th>0</th>\n",
       "      <td>0.897323</td>\n",
       "      <td>19</td>\n",
       "    </tr>\n",
       "  </tbody>\n",
       "</table>\n",
       "</div>"
      ],
      "text/plain": [
       "        auc  max_depth\n",
       "0  0.897316          3\n",
       "0  0.902284          4\n",
       "0  0.904477          5\n",
       "0  0.906038          6\n",
       "0  0.906582          7\n",
       "0  0.906928          8\n",
       "0  0.906862          9\n",
       "0  0.905679         10\n",
       "0  0.904557         11\n",
       "0  0.903850         12\n",
       "0  0.901647         13\n",
       "0  0.903371         14\n",
       "0  0.900452         15\n",
       "0  0.900142         16\n",
       "0  0.900840         17\n",
       "0  0.899470         18\n",
       "0  0.897323         19"
      ]
     },
     "execution_count": 53,
     "metadata": {},
     "output_type": "execute_result"
    }
   ],
   "source": [
    "res_gbm3"
   ]
  },
  {
   "cell_type": "markdown",
   "metadata": {},
   "source": [
    "Max_depth = 8"
   ]
  },
  {
   "cell_type": "markdown",
   "metadata": {},
   "source": [
    "## 6.4) selection of subsample with cross validation data"
   ]
  },
  {
   "cell_type": "markdown",
   "metadata": {},
   "source": [
    "The fraction of sample to be used for fitting each tree. Smaller than 1.0 allow the selection to be done by random sampling. choosing subsample<1 leads to a reduction of variance and an increase in bias."
   ]
  },
  {
   "cell_type": "code",
   "execution_count": 54,
   "metadata": {},
   "outputs": [
    {
     "data": {
      "image/png": "[encoded data removed]",
      "text/plain": [
       "<matplotlib.figure.Figure at 0x1f0b02d6c88>"
      ]
     },
     "metadata": {},
     "output_type": "display_data"
    }
   ],
   "source": [
    "# selection of subsample\n",
    "\n",
    "from sklearn.ensemble import GradientBoostingClassifier\n",
    "from sklearn import metrics\n",
    "\n",
    "res_gbm4=pd.DataFrame()\n",
    "\n",
    "for subsample in range(1,10):\n",
    "    gbm4=GradientBoostingClassifier(loss='exponential', learning_rate=0.1, \n",
    "            n_estimators=50, subsample=subsample/10, criterion='friedman_mse', \n",
    "            min_samples_split=10, min_samples_leaf=1, min_weight_fraction_leaf=0.0, \n",
    "            max_depth=8, min_impurity_decrease=0.0, min_impurity_split=None, init=None, \n",
    "            random_state=None, max_features=60, verbose=0, max_leaf_nodes=None, warm_start=False, presort='auto').fit(Xtrain,ytrain)\n",
    "    ygbm4=gbm4.predict_proba(Xcv)[:, 1]\n",
    "    fpr_gbm4, tpr_gbm4, thresholds = metrics.roc_curve(ycv, ygbm4, pos_label=1)\n",
    "\n",
    "    res_gbm4=res_gbm4.append(pd.DataFrame([{'subsample':subsample/10,'auc':metrics.auc(fpr_gbm4, tpr_gbm4)}]))\n",
    "    \n",
    "plt.figure(1)\n",
    "plt.plot(res_gbm4['subsample'], res_gbm4['auc'] )\n",
    "plt.xlabel('subsample')\n",
    "plt.ylabel('auc')\n",
    "plt.title('subsample selection')\n",
    "plt.show()"
   ]
  },
  {
   "cell_type": "code",
   "execution_count": 55,
   "metadata": {},
   "outputs": [
    {
     "data": {
      "text/html": [
       "<div>\n",
       "<style>\n",
       "    .dataframe thead tr:only-child th {\n",
       "        text-align: right;\n",
       "    }\n",
       "\n",
       "    .dataframe thead th {\n",
       "        text-align: left;\n",
       "    }\n",
       "\n",
       "    .dataframe tbody tr th {\n",
       "        vertical-align: top;\n",
       "    }\n",
       "</style>\n",
       "<table border=\"1\" class=\"dataframe\">\n",
       "  <thead>\n",
       "    <tr style=\"text-align: right;\">\n",
       "      <th></th>\n",
       "      <th>auc</th>\n",
       "      <th>subsample</th>\n",
       "    </tr>\n",
       "  </thead>\n",
       "  <tbody>\n",
       "    <tr>\n",
       "      <th>0</th>\n",
       "      <td>0.898424</td>\n",
       "      <td>0.1</td>\n",
       "    </tr>\n",
       "    <tr>\n",
       "      <th>0</th>\n",
       "      <td>0.904620</td>\n",
       "      <td>0.2</td>\n",
       "    </tr>\n",
       "    <tr>\n",
       "      <th>0</th>\n",
       "      <td>0.903611</td>\n",
       "      <td>0.3</td>\n",
       "    </tr>\n",
       "    <tr>\n",
       "      <th>0</th>\n",
       "      <td>0.905581</td>\n",
       "      <td>0.4</td>\n",
       "    </tr>\n",
       "    <tr>\n",
       "      <th>0</th>\n",
       "      <td>0.905689</td>\n",
       "      <td>0.5</td>\n",
       "    </tr>\n",
       "    <tr>\n",
       "      <th>0</th>\n",
       "      <td>0.906077</td>\n",
       "      <td>0.6</td>\n",
       "    </tr>\n",
       "    <tr>\n",
       "      <th>0</th>\n",
       "      <td>0.905157</td>\n",
       "      <td>0.7</td>\n",
       "    </tr>\n",
       "    <tr>\n",
       "      <th>0</th>\n",
       "      <td>0.906682</td>\n",
       "      <td>0.8</td>\n",
       "    </tr>\n",
       "    <tr>\n",
       "      <th>0</th>\n",
       "      <td>0.907362</td>\n",
       "      <td>0.9</td>\n",
       "    </tr>\n",
       "  </tbody>\n",
       "</table>\n",
       "</div>"
      ],
      "text/plain": [
       "        auc  subsample\n",
       "0  0.898424        0.1\n",
       "0  0.904620        0.2\n",
       "0  0.903611        0.3\n",
       "0  0.905581        0.4\n",
       "0  0.905689        0.5\n",
       "0  0.906077        0.6\n",
       "0  0.905157        0.7\n",
       "0  0.906682        0.8\n",
       "0  0.907362        0.9"
      ]
     },
     "execution_count": 55,
     "metadata": {},
     "output_type": "execute_result"
    }
   ],
   "source": [
    "res_gbm4"
   ]
  },
  {
   "cell_type": "markdown",
   "metadata": {},
   "source": [
    "subsample = 0.9"
   ]
  },
  {
   "cell_type": "markdown",
   "metadata": {},
   "source": [
    "## 6.5) n_estimators selection with cross validation "
   ]
  },
  {
   "cell_type": "code",
   "execution_count": 57,
   "metadata": {},
   "outputs": [
    {
     "data": {
      "image/png": "[encoded data removed]",
      "text/plain": [
       "<matplotlib.figure.Figure at 0x201392370b8>"
      ]
     },
     "metadata": {},
     "output_type": "display_data"
    }
   ],
   "source": [
    "# selection of n_estimators \n",
    "\n",
    "from sklearn.ensemble import GradientBoostingClassifier\n",
    "from sklearn import metrics\n",
    "\n",
    "res_gbm5=pd.DataFrame()\n",
    "\n",
    "for n_estimators in range(20,171,10):\n",
    "    gbm5=GradientBoostingClassifier(loss='exponential', learning_rate=0.1, \n",
    "            n_estimators=n_estimators, subsample=0.9, criterion='friedman_mse', \n",
    "            min_samples_split=10, min_samples_leaf=1, min_weight_fraction_leaf=0.0, \n",
    "            max_depth=8, min_impurity_decrease=0.0, min_impurity_split=None, init=None, \n",
    "            random_state=None, max_features=60, verbose=0, max_leaf_nodes=None, warm_start=False, presort='auto').fit(Xtrain,ytrain)\n",
    "    \n",
    "    ygbm5=gbm5.predict_proba(Xcv)[:, 1]\n",
    "    fpr_gbm5, tpr_gbm5, thresholds = metrics.roc_curve(ycv, ygbm5, pos_label=1)\n",
    "\n",
    "    res_gbm5=res_gbm5.append(pd.DataFrame([{'n_estimators':n_estimators,'auc':metrics.auc(fpr_gbm5, tpr_gbm5)}]))\n",
    "    \n",
    "plt.figure(1)\n",
    "plt.plot(res_gbm5['n_estimators'], res_gbm5['auc'] )\n",
    "plt.xlabel('n_estimators')\n",
    "plt.ylabel('auc')\n",
    "plt.title('n_estimators selection')\n",
    "plt.show()"
   ]
  },
  {
   "cell_type": "code",
   "execution_count": 59,
   "metadata": {},
   "outputs": [
    {
     "data": {
      "text/html": [
       "<div>\n",
       "<style>\n",
       "    .dataframe thead tr:only-child th {\n",
       "        text-align: right;\n",
       "    }\n",
       "\n",
       "    .dataframe thead th {\n",
       "        text-align: left;\n",
       "    }\n",
       "\n",
       "    .dataframe tbody tr th {\n",
       "        vertical-align: top;\n",
       "    }\n",
       "</style>\n",
       "<table border=\"1\" class=\"dataframe\">\n",
       "  <thead>\n",
       "    <tr style=\"text-align: right;\">\n",
       "      <th></th>\n",
       "      <th>auc</th>\n",
       "      <th>n_estimators</th>\n",
       "    </tr>\n",
       "  </thead>\n",
       "  <tbody>\n",
       "    <tr>\n",
       "      <th>0</th>\n",
       "      <td>0.897171</td>\n",
       "      <td>20</td>\n",
       "    </tr>\n",
       "    <tr>\n",
       "      <th>0</th>\n",
       "      <td>0.898874</td>\n",
       "      <td>30</td>\n",
       "    </tr>\n",
       "    <tr>\n",
       "      <th>0</th>\n",
       "      <td>0.901428</td>\n",
       "      <td>40</td>\n",
       "    </tr>\n",
       "    <tr>\n",
       "      <th>0</th>\n",
       "      <td>0.903385</td>\n",
       "      <td>50</td>\n",
       "    </tr>\n",
       "    <tr>\n",
       "      <th>0</th>\n",
       "      <td>0.903121</td>\n",
       "      <td>60</td>\n",
       "    </tr>\n",
       "    <tr>\n",
       "      <th>0</th>\n",
       "      <td>0.904806</td>\n",
       "      <td>70</td>\n",
       "    </tr>\n",
       "    <tr>\n",
       "      <th>0</th>\n",
       "      <td>0.904476</td>\n",
       "      <td>80</td>\n",
       "    </tr>\n",
       "    <tr>\n",
       "      <th>0</th>\n",
       "      <td>0.904520</td>\n",
       "      <td>90</td>\n",
       "    </tr>\n",
       "    <tr>\n",
       "      <th>0</th>\n",
       "      <td>0.904203</td>\n",
       "      <td>100</td>\n",
       "    </tr>\n",
       "    <tr>\n",
       "      <th>0</th>\n",
       "      <td>0.904828</td>\n",
       "      <td>110</td>\n",
       "    </tr>\n",
       "    <tr>\n",
       "      <th>0</th>\n",
       "      <td>0.904400</td>\n",
       "      <td>120</td>\n",
       "    </tr>\n",
       "    <tr>\n",
       "      <th>0</th>\n",
       "      <td>0.905822</td>\n",
       "      <td>130</td>\n",
       "    </tr>\n",
       "    <tr>\n",
       "      <th>0</th>\n",
       "      <td>0.904564</td>\n",
       "      <td>140</td>\n",
       "    </tr>\n",
       "    <tr>\n",
       "      <th>0</th>\n",
       "      <td>0.905104</td>\n",
       "      <td>150</td>\n",
       "    </tr>\n",
       "    <tr>\n",
       "      <th>0</th>\n",
       "      <td>0.904274</td>\n",
       "      <td>160</td>\n",
       "    </tr>\n",
       "    <tr>\n",
       "      <th>0</th>\n",
       "      <td>0.903549</td>\n",
       "      <td>170</td>\n",
       "    </tr>\n",
       "  </tbody>\n",
       "</table>\n",
       "</div>"
      ],
      "text/plain": [
       "        auc  n_estimators\n",
       "0  0.897171            20\n",
       "0  0.898874            30\n",
       "0  0.901428            40\n",
       "0  0.903385            50\n",
       "0  0.903121            60\n",
       "0  0.904806            70\n",
       "0  0.904476            80\n",
       "0  0.904520            90\n",
       "0  0.904203           100\n",
       "0  0.904828           110\n",
       "0  0.904400           120\n",
       "0  0.905822           130\n",
       "0  0.904564           140\n",
       "0  0.905104           150\n",
       "0  0.904274           160\n",
       "0  0.903549           170"
      ]
     },
     "execution_count": 59,
     "metadata": {},
     "output_type": "execute_result"
    }
   ],
   "source": [
    "res_gbm5"
   ]
  },
  {
   "cell_type": "markdown",
   "metadata": {},
   "source": [
    "n_estimators = 130"
   ]
  },
  {
   "cell_type": "markdown",
   "metadata": {},
   "source": [
    "## 6.6)  gbm Roc curve and festures importance with data test"
   ]
  },
  {
   "cell_type": "code",
   "execution_count": 56,
   "metadata": {},
   "outputs": [
    {
     "data": {
      "image/png": "[encoded data removed]",
      "text/plain": [
       "<matplotlib.figure.Figure at 0x299bb8d5e10>"
      ]
     },
     "metadata": {},
     "output_type": "display_data"
    }
   ],
   "source": [
    "from sklearn.ensemble import GradientBoostingClassifier\n",
    "from sklearn import metrics\n",
    "\n",
    "gbm=GradientBoostingClassifier(loss='exponential', learning_rate=0.1, \n",
    "            n_estimators=130, subsample=0.9, criterion='friedman_mse', \n",
    "            min_samples_split=10, min_samples_leaf=1, min_weight_fraction_leaf=0.0, \n",
    "            max_depth=8, min_impurity_decrease=0.0, min_impurity_split=None, init=None, \n",
    "            random_state=None, max_features=60, verbose=0, max_leaf_nodes=None, warm_start=False, presort='auto').fit(Xtrain,ytrain)\n",
    "\n",
    "ygbm=gbm.predict_proba(Xtest)[:, 1]\n",
    "fpr_gbm, tpr_gbm, thresholds = metrics.roc_curve(ytest, ygbm, pos_label=1)\n",
    "\n",
    "plt.figure(1)\n",
    "plt.plot([0, 1], [0, 1], 'k--')\n",
    "plt.plot(fpr_gbm, tpr_gbm, label='gbm')\n",
    "plt.xlabel('False positive rate')\n",
    "plt.ylabel('True positive rate')\n",
    "plt.title('ROC curve gbm')\n",
    "plt.show()"
   ]
  },
  {
   "cell_type": "code",
   "execution_count": 57,
   "metadata": {},
   "outputs": [
    {
     "name": "stdout",
     "output_type": "stream",
     "text": [
      "0.903792236262\n"
     ]
    }
   ],
   "source": [
    "print(metrics.auc(fpr_gbm, tpr_gbm))"
   ]
  },
  {
   "cell_type": "code",
   "execution_count": 63,
   "metadata": {},
   "outputs": [
    {
     "data": {
      "text/html": [
       "<div>\n",
       "<style>\n",
       "    .dataframe thead tr:only-child th {\n",
       "        text-align: right;\n",
       "    }\n",
       "\n",
       "    .dataframe thead th {\n",
       "        text-align: left;\n",
       "    }\n",
       "\n",
       "    .dataframe tbody tr th {\n",
       "        vertical-align: top;\n",
       "    }\n",
       "</style>\n",
       "<table border=\"1\" class=\"dataframe\">\n",
       "  <thead>\n",
       "    <tr style=\"text-align: right;\">\n",
       "      <th></th>\n",
       "      <th>importances</th>\n",
       "      <th>features</th>\n",
       "    </tr>\n",
       "  </thead>\n",
       "  <tbody>\n",
       "    <tr>\n",
       "      <th>10</th>\n",
       "      <td>0.131465</td>\n",
       "      <td>BMI</td>\n",
       "    </tr>\n",
       "    <tr>\n",
       "      <th>9</th>\n",
       "      <td>0.065499</td>\n",
       "      <td>Wt</td>\n",
       "    </tr>\n",
       "    <tr>\n",
       "      <th>7</th>\n",
       "      <td>0.056371</td>\n",
       "      <td>Ins_Age</td>\n",
       "    </tr>\n",
       "    <tr>\n",
       "      <th>3</th>\n",
       "      <td>0.039085</td>\n",
       "      <td>Product_Info_4</td>\n",
       "    </tr>\n",
       "    <tr>\n",
       "      <th>38</th>\n",
       "      <td>0.038507</td>\n",
       "      <td>Medical_History_2</td>\n",
       "    </tr>\n",
       "    <tr>\n",
       "      <th>11</th>\n",
       "      <td>0.034743</td>\n",
       "      <td>Employment_Info_1</td>\n",
       "    </tr>\n",
       "    <tr>\n",
       "      <th>35</th>\n",
       "      <td>0.032069</td>\n",
       "      <td>Family_Hist_4</td>\n",
       "    </tr>\n",
       "    <tr>\n",
       "      <th>28</th>\n",
       "      <td>0.029871</td>\n",
       "      <td>Insurance_History_5</td>\n",
       "    </tr>\n",
       "    <tr>\n",
       "      <th>33</th>\n",
       "      <td>0.027258</td>\n",
       "      <td>Family_Hist_2</td>\n",
       "    </tr>\n",
       "    <tr>\n",
       "      <th>34</th>\n",
       "      <td>0.027183</td>\n",
       "      <td>Family_Hist_3</td>\n",
       "    </tr>\n",
       "    <tr>\n",
       "      <th>40</th>\n",
       "      <td>0.024434</td>\n",
       "      <td>Medical_History_4</td>\n",
       "    </tr>\n",
       "    <tr>\n",
       "      <th>8</th>\n",
       "      <td>0.024381</td>\n",
       "      <td>Ht</td>\n",
       "    </tr>\n",
       "    <tr>\n",
       "      <th>37</th>\n",
       "      <td>0.023609</td>\n",
       "      <td>Medical_History_1</td>\n",
       "    </tr>\n",
       "    <tr>\n",
       "      <th>36</th>\n",
       "      <td>0.021673</td>\n",
       "      <td>Family_Hist_5</td>\n",
       "    </tr>\n",
       "    <tr>\n",
       "      <th>16</th>\n",
       "      <td>0.020811</td>\n",
       "      <td>Employment_Info_6</td>\n",
       "    </tr>\n",
       "    <tr>\n",
       "      <th>58</th>\n",
       "      <td>0.019551</td>\n",
       "      <td>Medical_History_23</td>\n",
       "    </tr>\n",
       "    <tr>\n",
       "      <th>90</th>\n",
       "      <td>0.014944</td>\n",
       "      <td>Medical_Keyword_15</td>\n",
       "    </tr>\n",
       "    <tr>\n",
       "      <th>12</th>\n",
       "      <td>0.014867</td>\n",
       "      <td>Employment_Info_2</td>\n",
       "    </tr>\n",
       "    <tr>\n",
       "      <th>50</th>\n",
       "      <td>0.014621</td>\n",
       "      <td>Medical_History_15</td>\n",
       "    </tr>\n",
       "    <tr>\n",
       "      <th>19</th>\n",
       "      <td>0.013537</td>\n",
       "      <td>InsuredInfo_3</td>\n",
       "    </tr>\n",
       "    <tr>\n",
       "      <th>59</th>\n",
       "      <td>0.010659</td>\n",
       "      <td>Medical_History_24</td>\n",
       "    </tr>\n",
       "    <tr>\n",
       "      <th>14</th>\n",
       "      <td>0.009786</td>\n",
       "      <td>Employment_Info_4</td>\n",
       "    </tr>\n",
       "    <tr>\n",
       "      <th>22</th>\n",
       "      <td>0.009311</td>\n",
       "      <td>InsuredInfo_6</td>\n",
       "    </tr>\n",
       "    <tr>\n",
       "      <th>2</th>\n",
       "      <td>0.008829</td>\n",
       "      <td>Product_Info_3</td>\n",
       "    </tr>\n",
       "    <tr>\n",
       "      <th>32</th>\n",
       "      <td>0.007709</td>\n",
       "      <td>Family_Hist_1</td>\n",
       "    </tr>\n",
       "    <tr>\n",
       "      <th>17</th>\n",
       "      <td>0.007572</td>\n",
       "      <td>InsuredInfo_1</td>\n",
       "    </tr>\n",
       "    <tr>\n",
       "      <th>65</th>\n",
       "      <td>0.007381</td>\n",
       "      <td>Medical_History_30</td>\n",
       "    </tr>\n",
       "    <tr>\n",
       "      <th>78</th>\n",
       "      <td>0.007084</td>\n",
       "      <td>Medical_Keyword_3</td>\n",
       "    </tr>\n",
       "    <tr>\n",
       "      <th>124</th>\n",
       "      <td>0.006170</td>\n",
       "      <td>D3</td>\n",
       "    </tr>\n",
       "    <tr>\n",
       "      <th>41</th>\n",
       "      <td>0.005558</td>\n",
       "      <td>Medical_History_5</td>\n",
       "    </tr>\n",
       "    <tr>\n",
       "      <th>...</th>\n",
       "      <td>...</td>\n",
       "      <td>...</td>\n",
       "    </tr>\n",
       "    <tr>\n",
       "      <th>101</th>\n",
       "      <td>0.001359</td>\n",
       "      <td>Medical_Keyword_26</td>\n",
       "    </tr>\n",
       "    <tr>\n",
       "      <th>139</th>\n",
       "      <td>0.001317</td>\n",
       "      <td>C3</td>\n",
       "    </tr>\n",
       "    <tr>\n",
       "      <th>114</th>\n",
       "      <td>0.001314</td>\n",
       "      <td>Medical_Keyword_39</td>\n",
       "    </tr>\n",
       "    <tr>\n",
       "      <th>82</th>\n",
       "      <td>0.001227</td>\n",
       "      <td>Medical_Keyword_7</td>\n",
       "    </tr>\n",
       "    <tr>\n",
       "      <th>13</th>\n",
       "      <td>0.001210</td>\n",
       "      <td>Employment_Info_3</td>\n",
       "    </tr>\n",
       "    <tr>\n",
       "      <th>123</th>\n",
       "      <td>0.001120</td>\n",
       "      <td>Medical_Keyword_48</td>\n",
       "    </tr>\n",
       "    <tr>\n",
       "      <th>26</th>\n",
       "      <td>0.001114</td>\n",
       "      <td>Insurance_History_3</td>\n",
       "    </tr>\n",
       "    <tr>\n",
       "      <th>141</th>\n",
       "      <td>0.001080</td>\n",
       "      <td>A4</td>\n",
       "    </tr>\n",
       "    <tr>\n",
       "      <th>108</th>\n",
       "      <td>0.001078</td>\n",
       "      <td>Medical_Keyword_33</td>\n",
       "    </tr>\n",
       "    <tr>\n",
       "      <th>96</th>\n",
       "      <td>0.001063</td>\n",
       "      <td>Medical_Keyword_21</td>\n",
       "    </tr>\n",
       "    <tr>\n",
       "      <th>97</th>\n",
       "      <td>0.001013</td>\n",
       "      <td>Medical_Keyword_22</td>\n",
       "    </tr>\n",
       "    <tr>\n",
       "      <th>69</th>\n",
       "      <td>0.000998</td>\n",
       "      <td>Medical_History_35</td>\n",
       "    </tr>\n",
       "    <tr>\n",
       "      <th>77</th>\n",
       "      <td>0.000935</td>\n",
       "      <td>Medical_Keyword_2</td>\n",
       "    </tr>\n",
       "    <tr>\n",
       "      <th>109</th>\n",
       "      <td>0.000933</td>\n",
       "      <td>Medical_Keyword_34</td>\n",
       "    </tr>\n",
       "    <tr>\n",
       "      <th>137</th>\n",
       "      <td>0.000881</td>\n",
       "      <td>C1</td>\n",
       "    </tr>\n",
       "    <tr>\n",
       "      <th>85</th>\n",
       "      <td>0.000846</td>\n",
       "      <td>Medical_Keyword_10</td>\n",
       "    </tr>\n",
       "    <tr>\n",
       "      <th>72</th>\n",
       "      <td>0.000843</td>\n",
       "      <td>Medical_History_38</td>\n",
       "    </tr>\n",
       "    <tr>\n",
       "      <th>89</th>\n",
       "      <td>0.000762</td>\n",
       "      <td>Medical_Keyword_14</td>\n",
       "    </tr>\n",
       "    <tr>\n",
       "      <th>119</th>\n",
       "      <td>0.000708</td>\n",
       "      <td>Medical_Keyword_44</td>\n",
       "    </tr>\n",
       "    <tr>\n",
       "      <th>102</th>\n",
       "      <td>0.000636</td>\n",
       "      <td>Medical_Keyword_27</td>\n",
       "    </tr>\n",
       "    <tr>\n",
       "      <th>132</th>\n",
       "      <td>0.000576</td>\n",
       "      <td>A7</td>\n",
       "    </tr>\n",
       "    <tr>\n",
       "      <th>88</th>\n",
       "      <td>0.000556</td>\n",
       "      <td>Medical_Keyword_13</td>\n",
       "    </tr>\n",
       "    <tr>\n",
       "      <th>62</th>\n",
       "      <td>0.000492</td>\n",
       "      <td>Medical_History_27</td>\n",
       "    </tr>\n",
       "    <tr>\n",
       "      <th>140</th>\n",
       "      <td>0.000441</td>\n",
       "      <td>C2</td>\n",
       "    </tr>\n",
       "    <tr>\n",
       "      <th>42</th>\n",
       "      <td>0.000398</td>\n",
       "      <td>Medical_History_6</td>\n",
       "    </tr>\n",
       "    <tr>\n",
       "      <th>118</th>\n",
       "      <td>0.000376</td>\n",
       "      <td>Medical_Keyword_43</td>\n",
       "    </tr>\n",
       "    <tr>\n",
       "      <th>121</th>\n",
       "      <td>0.000328</td>\n",
       "      <td>Medical_Keyword_46</td>\n",
       "    </tr>\n",
       "    <tr>\n",
       "      <th>80</th>\n",
       "      <td>0.000324</td>\n",
       "      <td>Medical_Keyword_5</td>\n",
       "    </tr>\n",
       "    <tr>\n",
       "      <th>106</th>\n",
       "      <td>0.000308</td>\n",
       "      <td>Medical_Keyword_31</td>\n",
       "    </tr>\n",
       "    <tr>\n",
       "      <th>142</th>\n",
       "      <td>0.000000</td>\n",
       "      <td>B1</td>\n",
       "    </tr>\n",
       "  </tbody>\n",
       "</table>\n",
       "<p>142 rows × 2 columns</p>\n",
       "</div>"
      ],
      "text/plain": [
       "     importances             features\n",
       "10      0.131465                  BMI\n",
       "9       0.065499                   Wt\n",
       "7       0.056371              Ins_Age\n",
       "3       0.039085       Product_Info_4\n",
       "38      0.038507    Medical_History_2\n",
       "11      0.034743    Employment_Info_1\n",
       "35      0.032069        Family_Hist_4\n",
       "28      0.029871  Insurance_History_5\n",
       "33      0.027258        Family_Hist_2\n",
       "34      0.027183        Family_Hist_3\n",
       "40      0.024434    Medical_History_4\n",
       "8       0.024381                   Ht\n",
       "37      0.023609    Medical_History_1\n",
       "36      0.021673        Family_Hist_5\n",
       "16      0.020811    Employment_Info_6\n",
       "58      0.019551   Medical_History_23\n",
       "90      0.014944   Medical_Keyword_15\n",
       "12      0.014867    Employment_Info_2\n",
       "50      0.014621   Medical_History_15\n",
       "19      0.013537        InsuredInfo_3\n",
       "59      0.010659   Medical_History_24\n",
       "14      0.009786    Employment_Info_4\n",
       "22      0.009311        InsuredInfo_6\n",
       "2       0.008829       Product_Info_3\n",
       "32      0.007709        Family_Hist_1\n",
       "17      0.007572        InsuredInfo_1\n",
       "65      0.007381   Medical_History_30\n",
       "78      0.007084    Medical_Keyword_3\n",
       "124     0.006170                   D3\n",
       "41      0.005558    Medical_History_5\n",
       "..           ...                  ...\n",
       "101     0.001359   Medical_Keyword_26\n",
       "139     0.001317                   C3\n",
       "114     0.001314   Medical_Keyword_39\n",
       "82      0.001227    Medical_Keyword_7\n",
       "13      0.001210    Employment_Info_3\n",
       "123     0.001120   Medical_Keyword_48\n",
       "26      0.001114  Insurance_History_3\n",
       "141     0.001080                   A4\n",
       "108     0.001078   Medical_Keyword_33\n",
       "96      0.001063   Medical_Keyword_21\n",
       "97      0.001013   Medical_Keyword_22\n",
       "69      0.000998   Medical_History_35\n",
       "77      0.000935    Medical_Keyword_2\n",
       "109     0.000933   Medical_Keyword_34\n",
       "137     0.000881                   C1\n",
       "85      0.000846   Medical_Keyword_10\n",
       "72      0.000843   Medical_History_38\n",
       "89      0.000762   Medical_Keyword_14\n",
       "119     0.000708   Medical_Keyword_44\n",
       "102     0.000636   Medical_Keyword_27\n",
       "132     0.000576                   A7\n",
       "88      0.000556   Medical_Keyword_13\n",
       "62      0.000492   Medical_History_27\n",
       "140     0.000441                   C2\n",
       "42      0.000398    Medical_History_6\n",
       "118     0.000376   Medical_Keyword_43\n",
       "121     0.000328   Medical_Keyword_46\n",
       "80      0.000324    Medical_Keyword_5\n",
       "106     0.000308   Medical_Keyword_31\n",
       "142     0.000000                   B1\n",
       "\n",
       "[142 rows x 2 columns]"
      ]
     },
     "execution_count": 63,
     "metadata": {},
     "output_type": "execute_result"
    }
   ],
   "source": [
    "feat_imp_gbm=pd.DataFrame(gbm.feature_importances_)\n",
    "feat_imp_gbm.columns=['importances']\n",
    "feat_imp_gbm.index=range(1,len(feat_imp_gbm)+1)\n",
    "feat_imp_gbm['features']=list(Xtrain.columns)\n",
    "feat_imp_gbm=feat_imp_gbm.sort_values(by=['importances'],ascending=False)\n",
    "feat_imp_gbm"
   ]
  },
  {
   "cell_type": "code",
   "execution_count": 64,
   "metadata": {
    "collapsed": true
   },
   "outputs": [],
   "source": [
    "feat_imp_gbm.set_index('features',inplace=True) # To take features like index"
   ]
  },
  {
   "cell_type": "code",
   "execution_count": 65,
   "metadata": {
    "scrolled": true
   },
   "outputs": [
    {
     "data": {
      "image/png": "[encoded data removed]",
      "text/plain": [
       "<matplotlib.figure.Figure at 0x2013817bcf8>"
      ]
     },
     "metadata": {},
     "output_type": "display_data"
    }
   ],
   "source": [
    "feat_imp_gbm.iloc[:40,:].plot(kind='bar',title='Feature Importances')\n",
    "plt.ylabel('Feature Importance Score for gbm')\n",
    "plt.show()"
   ]
  },
  {
   "cell_type": "markdown",
   "metadata": {},
   "source": [
    "# 7) SVM model "
   ]
  },
  {
   "cell_type": "markdown",
   "metadata": {},
   "source": [
    "## 7.1) selection of Kernel "
   ]
  },
  {
   "cell_type": "code",
   "execution_count": null,
   "metadata": {
    "collapsed": true
   },
   "outputs": [],
   "source": [
    "from sklearn.svm import SVC\n",
    "from sklearn import metrics\n",
    "\n",
    "kernel=['linear','poly','rbf','sigmoid']\n",
    "res_svm1=pd.DataFrame()\n",
    "\n",
    "for kern in kernel:\n",
    "    svm1=SVC(C=1.0, cache_size=200, class_weight=None, coef0=0.0,\n",
    "          decision_function_shape='ovr', degree=3, gamma='auto', kernel=kern,\n",
    "           max_iter=-1, probability=True, random_state=None, shrinking=True,\n",
    "           tol=0.001, verbose=False).fit(Xtrain, ytrain)\n",
    "    \n",
    "    ysvm1=svm1.predict_proba(Xcv)[:, 1]\n",
    "    fpr_svm1, tpr_svm1, thresholds = metrics.roc_curve(ycv, ysvm1, pos_label=1)\n",
    "\n",
    "    res_svm1=res_svm1.append(pd.DataFrame([{'kernel':kern,'auc':metrics.auc(fpr_svm1, tpr_svm1)}]))\n",
    "    \n",
    "plt.figure(1)\n",
    "plt.plot(res_svm1['kernel'], res_svm1['auc'] )\n",
    "plt.xlabel('kernel')\n",
    "plt.ylabel('auc')\n",
    "plt.title('kernel selection')\n",
    "plt.show()"
   ]
  },
  {
   "cell_type": "code",
   "execution_count": 227,
   "metadata": {},
   "outputs": [
    {
     "data": {
      "text/html": [
       "<div>\n",
       "<style>\n",
       "    .dataframe thead tr:only-child th {\n",
       "        text-align: right;\n",
       "    }\n",
       "\n",
       "    .dataframe thead th {\n",
       "        text-align: left;\n",
       "    }\n",
       "\n",
       "    .dataframe tbody tr th {\n",
       "        vertical-align: top;\n",
       "    }\n",
       "</style>\n",
       "<table border=\"1\" class=\"dataframe\">\n",
       "  <thead>\n",
       "    <tr style=\"text-align: right;\">\n",
       "      <th></th>\n",
       "    </tr>\n",
       "  </thead>\n",
       "  <tbody>\n",
       "  </tbody>\n",
       "</table>\n",
       "</div>"
      ],
      "text/plain": [
       "Empty DataFrame\n",
       "Columns: []\n",
       "Index: []"
      ]
     },
     "execution_count": 227,
     "metadata": {},
     "output_type": "execute_result"
    }
   ],
   "source": [
    "print(metrics.auc(fpr_svm, tpr_svm))"
   ]
  },
  {
   "cell_type": "markdown",
   "metadata": {},
   "source": [
    "## 7.2) Roc curve "
   ]
  },
  {
   "cell_type": "code",
   "execution_count": null,
   "metadata": {
    "collapsed": true
   },
   "outputs": [],
   "source": [
    "from sklearn.svm import SVC\n",
    "from sklearn import metrics\n",
    "\n",
    "\n",
    "svm=SVC(C=1.0, cache_size=200, class_weight=None, coef0=0.0,\n",
    "          decision_function_shape='ovr', degree=3, gamma='auto', kernel='linear',\n",
    "           max_iter=-1, probability=True, random_state=None, shrinking=True,\n",
    "           tol=0.001, verbose=False).fit(Xtrain, ytrain)\n",
    "    \n",
    "ysvm=svm.predict_proba(Xtest)[:, 1]\n",
    "fpr_svm, tpr_svm, thresholds = metrics.roc_curve(ytest, ysvm, pos_label=1)\n",
    "\n",
    "plt.figure(1)\n",
    "plt.plot([0, 1], [0, 1], 'k--')\n",
    "plt.plot(fpr_svm, tpr_svm, label='svm')\n",
    "plt.xlabel('False positive rate')\n",
    "plt.ylabel('True positive rate')\n",
    "plt.title('ROC curve svm')\n",
    "plt.show()"
   ]
  },
  {
   "cell_type": "code",
   "execution_count": null,
   "metadata": {
    "collapsed": true
   },
   "outputs": [],
   "source": [
    "print(metrics.auc(fpr_svm, tpr_svm))"
   ]
  },
  {
   "cell_type": "markdown",
   "metadata": {
    "collapsed": true
   },
   "source": [
    "# 8) RF + Elasticnet classifier  "
   ]
  },
  {
   "cell_type": "code",
   "execution_count": 91,
   "metadata": {
    "scrolled": false
   },
   "outputs": [
    {
     "data": {
      "image/png": "[encoded data removed]",
      "text/plain": [
       "<matplotlib.figure.Figure at 0x299bc253908>"
      ]
     },
     "metadata": {},
     "output_type": "display_data"
    }
   ],
   "source": [
    "from sklearn import metrics\n",
    "from sklearn.preprocessing import OneHotEncoder\n",
    "from sklearn.model_selection import train_test_split\n",
    "\n",
    "Xtrain1, Xtrain2, ytrain1, ytrain2 = train_test_split(Xtrain,ytrain,test_size=0.4)\n",
    "\n",
    "Xtrain2=Xtrain2.append(Xcv)\n",
    "ytrain2=ytrain2.append(ycv)\n",
    "\n",
    "rf_enc = OneHotEncoder()\n",
    "rf_cl.fit(Xtrain1,ytrain1)\n",
    "rf_enc.fit(rf_cl.apply(Xtrain1))\n",
    "rf_clf=clf.fit(rf_enc.transform(rf_cl.apply(Xtrain2)), ytrain2)\n",
    "\n",
    "ypred_rf_clf = rf_clf.predict_proba(rf_enc.transform(rf_cl.apply(Xtest)))[:, 1]\n",
    "fpr_rf_clf, tpr_rf_clf, _ = metrics.roc_curve(ytest, ypred_rf_clf)\n",
    "\n",
    "\n",
    "plt.figure(1)\n",
    "plt.plot([0, 1], [0, 1], 'k--')\n",
    "plt.plot(fpr_rf_clf, tpr_rf_clf, label='rf_clf')\n",
    "plt.xlabel('False positive rate')\n",
    "plt.ylabel('True positive rate')\n",
    "plt.title('ROC curve rf_clf')\n",
    "plt.show()\n"
   ]
  },
  {
   "cell_type": "code",
   "execution_count": 92,
   "metadata": {},
   "outputs": [
    {
     "name": "stdout",
     "output_type": "stream",
     "text": [
      "0.891014851524\n"
     ]
    }
   ],
   "source": [
    "print(metrics.auc(fpr_rf_clf, tpr_rf_clf))"
   ]
  },
  {
   "cell_type": "markdown",
   "metadata": {},
   "source": [
    "# 9) RF + gbm"
   ]
  },
  {
   "cell_type": "code",
   "execution_count": 485,
   "metadata": {},
   "outputs": [
    {
     "data": {
      "image/png": "[encoded data removed]",
      "text/plain": [
       "<matplotlib.figure.Figure at 0x29a61aa5668>"
      ]
     },
     "metadata": {},
     "output_type": "display_data"
    }
   ],
   "source": [
    "from sklearn import metrics\n",
    "from sklearn.preprocessing import OneHotEncoder\n",
    "from sklearn.model_selection import train_test_split\n",
    "\n",
    "Xtrain1, Xtrain2, ytrain1, ytrain2 = train_test_split(Xtrain,ytrain,test_size=0.4)\n",
    "\n",
    "Xtrain2=Xtrain2.append(Xcv)\n",
    "ytrain2=ytrain2.append(ycv)\n",
    "\n",
    "rf_enc = OneHotEncoder()\n",
    "rf_cl.fit(Xtrain1,ytrain1)\n",
    "rf_enc.fit(rf_cl.apply(Xtrain1))\n",
    "rf_gbm=gbm.fit(rf_enc.transform(rf_cl.apply(Xtrain2)), ytrain2)\n",
    "\n",
    "ypred_rf_gbm = rf_gbm.predict_proba(rf_enc.transform(rf_cl.apply(Xtest)))[:, 1]\n",
    "fpr_rf_gbm, tpr_rf_gbm, _ = metrics.roc_curve(ytest, ypred_rf_gbm)\n",
    "\n",
    "\n",
    "plt.figure(1)\n",
    "plt.plot([0, 1], [0, 1], 'k--')\n",
    "plt.plot(fpr_rf_lr, tpr_rf_lr, label='rf_gbm')\n",
    "plt.xlabel('False positive rate')\n",
    "plt.ylabel('True positive rate')\n",
    "plt.title('ROC curve rf_gbm')\n",
    "plt.show()\n"
   ]
  },
  {
   "cell_type": "code",
   "execution_count": 100,
   "metadata": {},
   "outputs": [
    {
     "name": "stdout",
     "output_type": "stream",
     "text": [
      "0.894300186862\n"
     ]
    }
   ],
   "source": [
    "print(metrics.auc(fpr_rf_lr, tpr_rf_lr))"
   ]
  },
  {
   "cell_type": "code",
   "execution_count": null,
   "metadata": {
    "collapsed": true
   },
   "outputs": [],
   "source": [
    "from sklearn.linear_model import ElasticNet\n",
    "alpha = 0.005501\n",
    "l1_ratio=0.15\n",
    "\n",
    "enet = ElasticNet(alpha=alpha, copy_X=True, fit_intercept=True, l1_ratio=l1_ratio,\n",
    "      max_iter=1000, normalize=False, positive=False, precompute=False,\n",
    "      random_state=0, selection='cyclic', tol=0.0001, warm_start=False)\n",
    "\n",
    "#we learn in all data to predict Xval\n",
    "y_pred_enet = enet.fit(Xtrain.append(Xtest), ytrain.append(ytest)).predict(Xval)"
   ]
  },
  {
   "cell_type": "code",
   "execution_count": null,
   "metadata": {
    "collapsed": true
   },
   "outputs": [],
   "source": [
    "pred_en=pd.DataFrame(y_pred_enet)\n",
    "pred_en.columns=['pred']\n",
    "#pred=pred.set_index('pred')\n",
    "pred_en.index=range(1,len(pred)+1) # change the start of index \n",
    "\n",
    "val_id=data_valid2.iloc[:,0]\n",
    "val_id.columns=['id']\n",
    "res_en=pd.concat([pred,val_id],axis=1,join='inner')\n",
    "res_en.head()"
   ]
  },
  {
   "cell_type": "code",
   "execution_count": 486,
   "metadata": {},
   "outputs": [
    {
     "data": {
      "image/png": "[encoded data removed]",
      "text/plain": [
       "<matplotlib.figure.Figure at 0x299855f4630>"
      ]
     },
     "metadata": {},
     "output_type": "display_data"
    }
   ],
   "source": [
    "plt.figure(1)\n",
    "plt.plot([0, 1], [0, 1], 'k--')\n",
    "plt.plot(fpr_lr, tpr_lr, label='LR')\n",
    "plt.plot(fpr_en, tpr_en, label='en')\n",
    "plt.plot(fpr_encl, tpr_encl, label='encl')\n",
    "plt.plot(fpr_tr, tpr_tr, label='tree')\n",
    "plt.plot(fpr_rf_cl, tpr_rf_cl, label='RF')\n",
    "plt.plot(fpr_gbm, tpr_gbm, label='gbm')\n",
    "plt.plot(fpr_rf_gbm, tpr_rf_gbm, label='rf_gbm')\n",
    "plt.xlabel('False positive rate')\n",
    "plt.ylabel('True positive rate')\n",
    "plt.title('ROC curve')\n",
    "plt.legend(loc='best')\n",
    "plt.show()"
   ]
  }
 ],
 "metadata": {
  "kernelspec": {
   "display_name": "Python 3",
   "language": "python",
   "name": "python3"
  },
  "language_info": {
   "codemirror_mode": {
    "name": "ipython",
    "version": 3
   },
   "file_extension": ".py",
   "mimetype": "text/x-python",
   "name": "python",
   "nbconvert_exporter": "python",
   "pygments_lexer": "ipython3",
   "version": "3.5.4"
  }
 },
 "nbformat": 4,
 "nbformat_minor": 2
}
