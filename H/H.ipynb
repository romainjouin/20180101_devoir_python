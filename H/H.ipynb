{
 "cells": [
  {
   "cell_type": "markdown",
   "metadata": {},
   "source": [
    "# Projet d'Apprentissage statistique en python"
   ]
  },
  {
   "cell_type": "markdown",
   "metadata": {},
   "source": [
    "## Introduction\n",
    "Notre but dans le présent travail est de mettre en oeuvre plusieurs techniques de programmation en python vue en cours ainsi que de faire de l'apprentissage statistique sur deux bases de données: projetTrain ayant 51381 individus et 127 variables. Et un second jeu de données projetValid ayant 8000 individus et 126 variables, la variable cible étant inexistente dans ce dernier jeu de données. Nous avons pour objectif principal de tester plusieurs modélisation sur le jeu de données et d'évaluer les performances de celles-ci. Pour y parvenir, nous allons diviser le premier jeu de données en deux: une partie d'apprentissage nommé T_train avec cible z_train et une partie de teste qu'on appelle T_test avec cible z_test.   "
   ]
  },
  {
   "cell_type": "markdown",
   "metadata": {
    "collapsed": true
   },
   "source": [
    "## 0) Importation des librairies"
   ]
  },
  {
   "cell_type": "code",
   "execution_count": 1,
   "metadata": {
    "collapsed": true
   },
   "outputs": [],
   "source": [
    "# Analyse des données\n",
    "import pandas as pd\n",
    "import os\n",
    "import numpy as np\n",
    "import random as rnd\n",
    "\n",
    "# visualisation\n",
    "import seaborn as sns\n",
    "import matplotlib.pyplot as plt\n",
    "%matplotlib inline\n",
    "\n",
    "# option d'impression\n",
    "import numpy as np\n",
    "np.set_printoptions(precision=3)\n",
    "\n",
    "# machine learning\n",
    "from sklearn.linear_model import LogisticRegression\n",
    "from sklearn.svm import SVC, LinearSVC\n",
    "from sklearn.ensemble import RandomForestClassifier\n",
    "from sklearn.neighbors import KNeighborsClassifier\n",
    "from sklearn.tree import DecisionTreeClassifier"
   ]
  },
  {
   "cell_type": "markdown",
   "metadata": {},
   "source": [
    "## 1) Importation des données"
   ]
  },
  {
   "cell_type": "code",
   "execution_count": 2,
   "metadata": {
    "collapsed": true
   },
   "outputs": [],
   "source": [
    "path1=\"/Users/samegnikepgnou/CoursMachineLearning/projetTrain.csv\"\n",
    "path2=\"/Users/samegnikepgnou/CoursMachineLearning/projetValid.csv\"\n",
    "Train = pd.DataFrame.from_csv(path1)\n",
    "Valid = pd.DataFrame.from_csv(path2)"
   ]
  },
  {
   "cell_type": "code",
   "execution_count": 3,
   "metadata": {},
   "outputs": [
    {
     "name": "stdout",
     "output_type": "stream",
     "text": [
      "['Product_Info_1' 'Product_Info_2' 'Product_Info_3' 'Product_Info_4'\n",
      " 'Product_Info_5' 'Product_Info_6' 'Product_Info_7' 'Ins_Age' 'Ht' 'Wt'\n",
      " 'BMI' 'Employment_Info_1' 'Employment_Info_2' 'Employment_Info_3'\n",
      " 'Employment_Info_4' 'Employment_Info_5' 'Employment_Info_6'\n",
      " 'InsuredInfo_1' 'InsuredInfo_2' 'InsuredInfo_3' 'InsuredInfo_4'\n",
      " 'InsuredInfo_5' 'InsuredInfo_6' 'InsuredInfo_7' 'Insurance_History_1'\n",
      " 'Insurance_History_2' 'Insurance_History_3' 'Insurance_History_4'\n",
      " 'Insurance_History_5' 'Insurance_History_7' 'Insurance_History_8'\n",
      " 'Insurance_History_9' 'Family_Hist_1' 'Family_Hist_2' 'Family_Hist_3'\n",
      " 'Family_Hist_4' 'Family_Hist_5' 'Medical_History_1' 'Medical_History_2'\n",
      " 'Medical_History_3' 'Medical_History_4' 'Medical_History_5'\n",
      " 'Medical_History_6' 'Medical_History_7' 'Medical_History_8'\n",
      " 'Medical_History_9' 'Medical_History_10' 'Medical_History_11'\n",
      " 'Medical_History_12' 'Medical_History_13' 'Medical_History_14'\n",
      " 'Medical_History_15' 'Medical_History_16' 'Medical_History_17'\n",
      " 'Medical_History_18' 'Medical_History_19' 'Medical_History_20'\n",
      " 'Medical_History_21' 'Medical_History_22' 'Medical_History_23'\n",
      " 'Medical_History_24' 'Medical_History_25' 'Medical_History_26'\n",
      " 'Medical_History_27' 'Medical_History_28' 'Medical_History_29'\n",
      " 'Medical_History_30' 'Medical_History_31' 'Medical_History_32'\n",
      " 'Medical_History_33' 'Medical_History_34' 'Medical_History_35'\n",
      " 'Medical_History_36' 'Medical_History_37' 'Medical_History_38'\n",
      " 'Medical_History_39' 'Medical_History_40' 'Medical_History_41'\n",
      " 'Medical_Keyword_1' 'Medical_Keyword_2' 'Medical_Keyword_3'\n",
      " 'Medical_Keyword_4' 'Medical_Keyword_5' 'Medical_Keyword_6'\n",
      " 'Medical_Keyword_7' 'Medical_Keyword_8' 'Medical_Keyword_9'\n",
      " 'Medical_Keyword_10' 'Medical_Keyword_11' 'Medical_Keyword_12'\n",
      " 'Medical_Keyword_13' 'Medical_Keyword_14' 'Medical_Keyword_15'\n",
      " 'Medical_Keyword_16' 'Medical_Keyword_17' 'Medical_Keyword_18'\n",
      " 'Medical_Keyword_19' 'Medical_Keyword_20' 'Medical_Keyword_21'\n",
      " 'Medical_Keyword_22' 'Medical_Keyword_23' 'Medical_Keyword_24'\n",
      " 'Medical_Keyword_25' 'Medical_Keyword_26' 'Medical_Keyword_27'\n",
      " 'Medical_Keyword_28' 'Medical_Keyword_29' 'Medical_Keyword_30'\n",
      " 'Medical_Keyword_31' 'Medical_Keyword_32' 'Medical_Keyword_33'\n",
      " 'Medical_Keyword_34' 'Medical_Keyword_35' 'Medical_Keyword_36'\n",
      " 'Medical_Keyword_37' 'Medical_Keyword_38' 'Medical_Keyword_39'\n",
      " 'Medical_Keyword_40' 'Medical_Keyword_41' 'Medical_Keyword_42'\n",
      " 'Medical_Keyword_43' 'Medical_Keyword_44' 'Medical_Keyword_45'\n",
      " 'Medical_Keyword_46' 'Medical_Keyword_47' 'Medical_Keyword_48' 'target']\n"
     ]
    }
   ],
   "source": [
    "print(Train.columns.values)"
   ]
  },
  {
   "cell_type": "markdown",
   "metadata": {
    "collapsed": true
   },
   "source": [
    "### 1.1) Traitement de la base\n",
    "Etant donné que la base de données Valid ne contient pas la colonne cible (seul le prof a connaissance de celle ci), nous commençons par ajouter une colonne target à la base Valid."
   ]
  },
  {
   "cell_type": "code",
   "execution_count": 4,
   "metadata": {
    "collapsed": true
   },
   "outputs": [],
   "source": [
    "Valid[\"target\"]=Valid[\"Medical_Keyword_48\"]"
   ]
  },
  {
   "cell_type": "code",
   "execution_count": 5,
   "metadata": {},
   "outputs": [
    {
     "data": {
      "text/html": [
       "<div>\n",
       "<style>\n",
       "    .dataframe thead tr:only-child th {\n",
       "        text-align: right;\n",
       "    }\n",
       "\n",
       "    .dataframe thead th {\n",
       "        text-align: left;\n",
       "    }\n",
       "\n",
       "    .dataframe tbody tr th {\n",
       "        vertical-align: top;\n",
       "    }\n",
       "</style>\n",
       "<table border=\"1\" class=\"dataframe\">\n",
       "  <thead>\n",
       "    <tr style=\"text-align: right;\">\n",
       "      <th></th>\n",
       "      <th>Product_Info_1</th>\n",
       "      <th>Product_Info_2</th>\n",
       "      <th>Product_Info_3</th>\n",
       "      <th>Product_Info_4</th>\n",
       "      <th>Product_Info_5</th>\n",
       "      <th>Product_Info_6</th>\n",
       "      <th>Product_Info_7</th>\n",
       "      <th>Ins_Age</th>\n",
       "      <th>Ht</th>\n",
       "      <th>Wt</th>\n",
       "      <th>...</th>\n",
       "      <th>Medical_Keyword_40</th>\n",
       "      <th>Medical_Keyword_41</th>\n",
       "      <th>Medical_Keyword_42</th>\n",
       "      <th>Medical_Keyword_43</th>\n",
       "      <th>Medical_Keyword_44</th>\n",
       "      <th>Medical_Keyword_45</th>\n",
       "      <th>Medical_Keyword_46</th>\n",
       "      <th>Medical_Keyword_47</th>\n",
       "      <th>Medical_Keyword_48</th>\n",
       "      <th>target</th>\n",
       "    </tr>\n",
       "    <tr>\n",
       "      <th>Id</th>\n",
       "      <th></th>\n",
       "      <th></th>\n",
       "      <th></th>\n",
       "      <th></th>\n",
       "      <th></th>\n",
       "      <th></th>\n",
       "      <th></th>\n",
       "      <th></th>\n",
       "      <th></th>\n",
       "      <th></th>\n",
       "      <th></th>\n",
       "      <th></th>\n",
       "      <th></th>\n",
       "      <th></th>\n",
       "      <th></th>\n",
       "      <th></th>\n",
       "      <th></th>\n",
       "      <th></th>\n",
       "      <th></th>\n",
       "      <th></th>\n",
       "      <th></th>\n",
       "    </tr>\n",
       "  </thead>\n",
       "  <tbody>\n",
       "    <tr>\n",
       "      <th>70893</th>\n",
       "      <td>1</td>\n",
       "      <td>A8</td>\n",
       "      <td>26</td>\n",
       "      <td>0.076923</td>\n",
       "      <td>2</td>\n",
       "      <td>3</td>\n",
       "      <td>1</td>\n",
       "      <td>0.776119</td>\n",
       "      <td>0.654545</td>\n",
       "      <td>0.184100</td>\n",
       "      <td>...</td>\n",
       "      <td>0</td>\n",
       "      <td>0</td>\n",
       "      <td>0</td>\n",
       "      <td>0</td>\n",
       "      <td>0</td>\n",
       "      <td>0</td>\n",
       "      <td>0</td>\n",
       "      <td>0</td>\n",
       "      <td>0</td>\n",
       "      <td>0</td>\n",
       "    </tr>\n",
       "    <tr>\n",
       "      <th>20997</th>\n",
       "      <td>1</td>\n",
       "      <td>D2</td>\n",
       "      <td>26</td>\n",
       "      <td>0.076923</td>\n",
       "      <td>2</td>\n",
       "      <td>3</td>\n",
       "      <td>1</td>\n",
       "      <td>0.552239</td>\n",
       "      <td>0.818182</td>\n",
       "      <td>0.330544</td>\n",
       "      <td>...</td>\n",
       "      <td>0</td>\n",
       "      <td>0</td>\n",
       "      <td>0</td>\n",
       "      <td>0</td>\n",
       "      <td>0</td>\n",
       "      <td>0</td>\n",
       "      <td>0</td>\n",
       "      <td>0</td>\n",
       "      <td>1</td>\n",
       "      <td>1</td>\n",
       "    </tr>\n",
       "    <tr>\n",
       "      <th>29427</th>\n",
       "      <td>1</td>\n",
       "      <td>D3</td>\n",
       "      <td>10</td>\n",
       "      <td>0.230769</td>\n",
       "      <td>2</td>\n",
       "      <td>3</td>\n",
       "      <td>1</td>\n",
       "      <td>0.208955</td>\n",
       "      <td>0.636364</td>\n",
       "      <td>0.184100</td>\n",
       "      <td>...</td>\n",
       "      <td>0</td>\n",
       "      <td>0</td>\n",
       "      <td>0</td>\n",
       "      <td>0</td>\n",
       "      <td>0</td>\n",
       "      <td>0</td>\n",
       "      <td>0</td>\n",
       "      <td>0</td>\n",
       "      <td>0</td>\n",
       "      <td>0</td>\n",
       "    </tr>\n",
       "    <tr>\n",
       "      <th>45161</th>\n",
       "      <td>1</td>\n",
       "      <td>A1</td>\n",
       "      <td>26</td>\n",
       "      <td>0.256410</td>\n",
       "      <td>2</td>\n",
       "      <td>3</td>\n",
       "      <td>1</td>\n",
       "      <td>0.328358</td>\n",
       "      <td>0.745455</td>\n",
       "      <td>0.299163</td>\n",
       "      <td>...</td>\n",
       "      <td>0</td>\n",
       "      <td>0</td>\n",
       "      <td>0</td>\n",
       "      <td>0</td>\n",
       "      <td>0</td>\n",
       "      <td>0</td>\n",
       "      <td>0</td>\n",
       "      <td>0</td>\n",
       "      <td>0</td>\n",
       "      <td>0</td>\n",
       "    </tr>\n",
       "    <tr>\n",
       "      <th>71802</th>\n",
       "      <td>1</td>\n",
       "      <td>D3</td>\n",
       "      <td>26</td>\n",
       "      <td>0.282051</td>\n",
       "      <td>2</td>\n",
       "      <td>3</td>\n",
       "      <td>1</td>\n",
       "      <td>0.686567</td>\n",
       "      <td>0.781818</td>\n",
       "      <td>0.430962</td>\n",
       "      <td>...</td>\n",
       "      <td>0</td>\n",
       "      <td>0</td>\n",
       "      <td>1</td>\n",
       "      <td>0</td>\n",
       "      <td>0</td>\n",
       "      <td>0</td>\n",
       "      <td>0</td>\n",
       "      <td>0</td>\n",
       "      <td>0</td>\n",
       "      <td>0</td>\n",
       "    </tr>\n",
       "  </tbody>\n",
       "</table>\n",
       "<p>5 rows × 127 columns</p>\n",
       "</div>"
      ],
      "text/plain": [
       "       Product_Info_1 Product_Info_2  Product_Info_3  Product_Info_4  \\\n",
       "Id                                                                     \n",
       "70893               1             A8              26        0.076923   \n",
       "20997               1             D2              26        0.076923   \n",
       "29427               1             D3              10        0.230769   \n",
       "45161               1             A1              26        0.256410   \n",
       "71802               1             D3              26        0.282051   \n",
       "\n",
       "       Product_Info_5  Product_Info_6  Product_Info_7   Ins_Age        Ht  \\\n",
       "Id                                                                          \n",
       "70893               2               3               1  0.776119  0.654545   \n",
       "20997               2               3               1  0.552239  0.818182   \n",
       "29427               2               3               1  0.208955  0.636364   \n",
       "45161               2               3               1  0.328358  0.745455   \n",
       "71802               2               3               1  0.686567  0.781818   \n",
       "\n",
       "             Wt   ...    Medical_Keyword_40  Medical_Keyword_41  \\\n",
       "Id                ...                                             \n",
       "70893  0.184100   ...                     0                   0   \n",
       "20997  0.330544   ...                     0                   0   \n",
       "29427  0.184100   ...                     0                   0   \n",
       "45161  0.299163   ...                     0                   0   \n",
       "71802  0.430962   ...                     0                   0   \n",
       "\n",
       "       Medical_Keyword_42  Medical_Keyword_43  Medical_Keyword_44  \\\n",
       "Id                                                                  \n",
       "70893                   0                   0                   0   \n",
       "20997                   0                   0                   0   \n",
       "29427                   0                   0                   0   \n",
       "45161                   0                   0                   0   \n",
       "71802                   1                   0                   0   \n",
       "\n",
       "       Medical_Keyword_45  Medical_Keyword_46  Medical_Keyword_47  \\\n",
       "Id                                                                  \n",
       "70893                   0                   0                   0   \n",
       "20997                   0                   0                   0   \n",
       "29427                   0                   0                   0   \n",
       "45161                   0                   0                   0   \n",
       "71802                   0                   0                   0   \n",
       "\n",
       "       Medical_Keyword_48  target  \n",
       "Id                                 \n",
       "70893                   0       0  \n",
       "20997                   1       1  \n",
       "29427                   0       0  \n",
       "45161                   0       0  \n",
       "71802                   0       0  \n",
       "\n",
       "[5 rows x 127 columns]"
      ]
     },
     "execution_count": 5,
     "metadata": {},
     "output_type": "execute_result"
    }
   ],
   "source": [
    "Valid.head()"
   ]
  },
  {
   "cell_type": "code",
   "execution_count": 6,
   "metadata": {},
   "outputs": [
    {
     "data": {
      "text/html": [
       "<div>\n",
       "<style>\n",
       "    .dataframe thead tr:only-child th {\n",
       "        text-align: right;\n",
       "    }\n",
       "\n",
       "    .dataframe thead th {\n",
       "        text-align: left;\n",
       "    }\n",
       "\n",
       "    .dataframe tbody tr th {\n",
       "        vertical-align: top;\n",
       "    }\n",
       "</style>\n",
       "<table border=\"1\" class=\"dataframe\">\n",
       "  <thead>\n",
       "    <tr style=\"text-align: right;\">\n",
       "      <th></th>\n",
       "      <th>Product_Info_1</th>\n",
       "      <th>Product_Info_2</th>\n",
       "      <th>Product_Info_3</th>\n",
       "      <th>Product_Info_4</th>\n",
       "      <th>Product_Info_5</th>\n",
       "      <th>Product_Info_6</th>\n",
       "      <th>Product_Info_7</th>\n",
       "      <th>Ins_Age</th>\n",
       "      <th>Ht</th>\n",
       "      <th>Wt</th>\n",
       "      <th>...</th>\n",
       "      <th>Medical_Keyword_40</th>\n",
       "      <th>Medical_Keyword_41</th>\n",
       "      <th>Medical_Keyword_42</th>\n",
       "      <th>Medical_Keyword_43</th>\n",
       "      <th>Medical_Keyword_44</th>\n",
       "      <th>Medical_Keyword_45</th>\n",
       "      <th>Medical_Keyword_46</th>\n",
       "      <th>Medical_Keyword_47</th>\n",
       "      <th>Medical_Keyword_48</th>\n",
       "      <th>target</th>\n",
       "    </tr>\n",
       "    <tr>\n",
       "      <th>Id</th>\n",
       "      <th></th>\n",
       "      <th></th>\n",
       "      <th></th>\n",
       "      <th></th>\n",
       "      <th></th>\n",
       "      <th></th>\n",
       "      <th></th>\n",
       "      <th></th>\n",
       "      <th></th>\n",
       "      <th></th>\n",
       "      <th></th>\n",
       "      <th></th>\n",
       "      <th></th>\n",
       "      <th></th>\n",
       "      <th></th>\n",
       "      <th></th>\n",
       "      <th></th>\n",
       "      <th></th>\n",
       "      <th></th>\n",
       "      <th></th>\n",
       "      <th></th>\n",
       "    </tr>\n",
       "  </thead>\n",
       "  <tbody>\n",
       "    <tr>\n",
       "      <th>2</th>\n",
       "      <td>1</td>\n",
       "      <td>D3</td>\n",
       "      <td>10</td>\n",
       "      <td>0.076923</td>\n",
       "      <td>2</td>\n",
       "      <td>1</td>\n",
       "      <td>1</td>\n",
       "      <td>0.641791</td>\n",
       "      <td>0.581818</td>\n",
       "      <td>0.148536</td>\n",
       "      <td>...</td>\n",
       "      <td>0</td>\n",
       "      <td>0</td>\n",
       "      <td>0</td>\n",
       "      <td>0</td>\n",
       "      <td>0</td>\n",
       "      <td>0</td>\n",
       "      <td>0</td>\n",
       "      <td>0</td>\n",
       "      <td>0</td>\n",
       "      <td>1</td>\n",
       "    </tr>\n",
       "    <tr>\n",
       "      <th>5</th>\n",
       "      <td>1</td>\n",
       "      <td>A1</td>\n",
       "      <td>26</td>\n",
       "      <td>0.076923</td>\n",
       "      <td>2</td>\n",
       "      <td>3</td>\n",
       "      <td>1</td>\n",
       "      <td>0.059701</td>\n",
       "      <td>0.600000</td>\n",
       "      <td>0.131799</td>\n",
       "      <td>...</td>\n",
       "      <td>0</td>\n",
       "      <td>0</td>\n",
       "      <td>0</td>\n",
       "      <td>0</td>\n",
       "      <td>0</td>\n",
       "      <td>0</td>\n",
       "      <td>0</td>\n",
       "      <td>0</td>\n",
       "      <td>0</td>\n",
       "      <td>0</td>\n",
       "    </tr>\n",
       "    <tr>\n",
       "      <th>6</th>\n",
       "      <td>1</td>\n",
       "      <td>E1</td>\n",
       "      <td>26</td>\n",
       "      <td>0.076923</td>\n",
       "      <td>2</td>\n",
       "      <td>3</td>\n",
       "      <td>1</td>\n",
       "      <td>0.029851</td>\n",
       "      <td>0.745455</td>\n",
       "      <td>0.288703</td>\n",
       "      <td>...</td>\n",
       "      <td>0</td>\n",
       "      <td>0</td>\n",
       "      <td>0</td>\n",
       "      <td>0</td>\n",
       "      <td>0</td>\n",
       "      <td>0</td>\n",
       "      <td>0</td>\n",
       "      <td>0</td>\n",
       "      <td>0</td>\n",
       "      <td>1</td>\n",
       "    </tr>\n",
       "    <tr>\n",
       "      <th>7</th>\n",
       "      <td>1</td>\n",
       "      <td>D4</td>\n",
       "      <td>10</td>\n",
       "      <td>0.487179</td>\n",
       "      <td>2</td>\n",
       "      <td>3</td>\n",
       "      <td>1</td>\n",
       "      <td>0.164179</td>\n",
       "      <td>0.672727</td>\n",
       "      <td>0.205021</td>\n",
       "      <td>...</td>\n",
       "      <td>0</td>\n",
       "      <td>0</td>\n",
       "      <td>0</td>\n",
       "      <td>0</td>\n",
       "      <td>0</td>\n",
       "      <td>0</td>\n",
       "      <td>0</td>\n",
       "      <td>0</td>\n",
       "      <td>0</td>\n",
       "      <td>1</td>\n",
       "    </tr>\n",
       "    <tr>\n",
       "      <th>8</th>\n",
       "      <td>1</td>\n",
       "      <td>D2</td>\n",
       "      <td>26</td>\n",
       "      <td>0.230769</td>\n",
       "      <td>2</td>\n",
       "      <td>3</td>\n",
       "      <td>1</td>\n",
       "      <td>0.417910</td>\n",
       "      <td>0.654545</td>\n",
       "      <td>0.234310</td>\n",
       "      <td>...</td>\n",
       "      <td>0</td>\n",
       "      <td>0</td>\n",
       "      <td>0</td>\n",
       "      <td>0</td>\n",
       "      <td>0</td>\n",
       "      <td>0</td>\n",
       "      <td>0</td>\n",
       "      <td>0</td>\n",
       "      <td>0</td>\n",
       "      <td>1</td>\n",
       "    </tr>\n",
       "  </tbody>\n",
       "</table>\n",
       "<p>5 rows × 127 columns</p>\n",
       "</div>"
      ],
      "text/plain": [
       "    Product_Info_1 Product_Info_2  Product_Info_3  Product_Info_4  \\\n",
       "Id                                                                  \n",
       "2                1             D3              10        0.076923   \n",
       "5                1             A1              26        0.076923   \n",
       "6                1             E1              26        0.076923   \n",
       "7                1             D4              10        0.487179   \n",
       "8                1             D2              26        0.230769   \n",
       "\n",
       "    Product_Info_5  Product_Info_6  Product_Info_7   Ins_Age        Ht  \\\n",
       "Id                                                                       \n",
       "2                2               1               1  0.641791  0.581818   \n",
       "5                2               3               1  0.059701  0.600000   \n",
       "6                2               3               1  0.029851  0.745455   \n",
       "7                2               3               1  0.164179  0.672727   \n",
       "8                2               3               1  0.417910  0.654545   \n",
       "\n",
       "          Wt   ...    Medical_Keyword_40  Medical_Keyword_41  \\\n",
       "Id             ...                                             \n",
       "2   0.148536   ...                     0                   0   \n",
       "5   0.131799   ...                     0                   0   \n",
       "6   0.288703   ...                     0                   0   \n",
       "7   0.205021   ...                     0                   0   \n",
       "8   0.234310   ...                     0                   0   \n",
       "\n",
       "    Medical_Keyword_42  Medical_Keyword_43  Medical_Keyword_44  \\\n",
       "Id                                                               \n",
       "2                    0                   0                   0   \n",
       "5                    0                   0                   0   \n",
       "6                    0                   0                   0   \n",
       "7                    0                   0                   0   \n",
       "8                    0                   0                   0   \n",
       "\n",
       "    Medical_Keyword_45  Medical_Keyword_46  Medical_Keyword_47  \\\n",
       "Id                                                               \n",
       "2                    0                   0                   0   \n",
       "5                    0                   0                   0   \n",
       "6                    0                   0                   0   \n",
       "7                    0                   0                   0   \n",
       "8                    0                   0                   0   \n",
       "\n",
       "    Medical_Keyword_48  target  \n",
       "Id                              \n",
       "2                    0       1  \n",
       "5                    0       0  \n",
       "6                    0       1  \n",
       "7                    0       1  \n",
       "8                    0       1  \n",
       "\n",
       "[5 rows x 127 columns]"
      ]
     },
     "execution_count": 6,
     "metadata": {},
     "output_type": "execute_result"
    }
   ],
   "source": [
    " Train.head() "
   ]
  },
  {
   "cell_type": "code",
   "execution_count": 7,
   "metadata": {
    "collapsed": true
   },
   "outputs": [],
   "source": [
    "Data = [Train, Valid]"
   ]
  },
  {
   "cell_type": "code",
   "execution_count": 8,
   "metadata": {},
   "outputs": [
    {
     "data": {
      "text/html": [
       "<div>\n",
       "<style>\n",
       "    .dataframe thead tr:only-child th {\n",
       "        text-align: right;\n",
       "    }\n",
       "\n",
       "    .dataframe thead th {\n",
       "        text-align: left;\n",
       "    }\n",
       "\n",
       "    .dataframe tbody tr th {\n",
       "        vertical-align: top;\n",
       "    }\n",
       "</style>\n",
       "<table border=\"1\" class=\"dataframe\">\n",
       "  <thead>\n",
       "    <tr style=\"text-align: right;\">\n",
       "      <th></th>\n",
       "      <th>Product_Info_1</th>\n",
       "      <th>Product_Info_2</th>\n",
       "      <th>Product_Info_3</th>\n",
       "      <th>Product_Info_4</th>\n",
       "      <th>Product_Info_5</th>\n",
       "      <th>Product_Info_6</th>\n",
       "      <th>Product_Info_7</th>\n",
       "      <th>Ins_Age</th>\n",
       "      <th>Ht</th>\n",
       "      <th>Wt</th>\n",
       "      <th>...</th>\n",
       "      <th>Medical_Keyword_40</th>\n",
       "      <th>Medical_Keyword_41</th>\n",
       "      <th>Medical_Keyword_42</th>\n",
       "      <th>Medical_Keyword_43</th>\n",
       "      <th>Medical_Keyword_44</th>\n",
       "      <th>Medical_Keyword_45</th>\n",
       "      <th>Medical_Keyword_46</th>\n",
       "      <th>Medical_Keyword_47</th>\n",
       "      <th>Medical_Keyword_48</th>\n",
       "      <th>target</th>\n",
       "    </tr>\n",
       "    <tr>\n",
       "      <th>Id</th>\n",
       "      <th></th>\n",
       "      <th></th>\n",
       "      <th></th>\n",
       "      <th></th>\n",
       "      <th></th>\n",
       "      <th></th>\n",
       "      <th></th>\n",
       "      <th></th>\n",
       "      <th></th>\n",
       "      <th></th>\n",
       "      <th></th>\n",
       "      <th></th>\n",
       "      <th></th>\n",
       "      <th></th>\n",
       "      <th></th>\n",
       "      <th></th>\n",
       "      <th></th>\n",
       "      <th></th>\n",
       "      <th></th>\n",
       "      <th></th>\n",
       "      <th></th>\n",
       "    </tr>\n",
       "  </thead>\n",
       "  <tbody>\n",
       "    <tr>\n",
       "      <th>79140</th>\n",
       "      <td>1</td>\n",
       "      <td>D4</td>\n",
       "      <td>26</td>\n",
       "      <td>0.307692</td>\n",
       "      <td>2</td>\n",
       "      <td>3</td>\n",
       "      <td>1</td>\n",
       "      <td>0.164179</td>\n",
       "      <td>0.690909</td>\n",
       "      <td>0.288703</td>\n",
       "      <td>...</td>\n",
       "      <td>0</td>\n",
       "      <td>0</td>\n",
       "      <td>0</td>\n",
       "      <td>0</td>\n",
       "      <td>0</td>\n",
       "      <td>0</td>\n",
       "      <td>0</td>\n",
       "      <td>0</td>\n",
       "      <td>0</td>\n",
       "      <td>0</td>\n",
       "    </tr>\n",
       "    <tr>\n",
       "      <th>79141</th>\n",
       "      <td>1</td>\n",
       "      <td>C1</td>\n",
       "      <td>26</td>\n",
       "      <td>0.076923</td>\n",
       "      <td>2</td>\n",
       "      <td>3</td>\n",
       "      <td>1</td>\n",
       "      <td>0.477612</td>\n",
       "      <td>0.654545</td>\n",
       "      <td>0.271967</td>\n",
       "      <td>...</td>\n",
       "      <td>0</td>\n",
       "      <td>0</td>\n",
       "      <td>0</td>\n",
       "      <td>0</td>\n",
       "      <td>0</td>\n",
       "      <td>0</td>\n",
       "      <td>0</td>\n",
       "      <td>0</td>\n",
       "      <td>0</td>\n",
       "      <td>1</td>\n",
       "    </tr>\n",
       "    <tr>\n",
       "      <th>79142</th>\n",
       "      <td>1</td>\n",
       "      <td>D1</td>\n",
       "      <td>10</td>\n",
       "      <td>0.230769</td>\n",
       "      <td>2</td>\n",
       "      <td>3</td>\n",
       "      <td>1</td>\n",
       "      <td>0.074627</td>\n",
       "      <td>0.709091</td>\n",
       "      <td>0.320084</td>\n",
       "      <td>...</td>\n",
       "      <td>0</td>\n",
       "      <td>0</td>\n",
       "      <td>0</td>\n",
       "      <td>0</td>\n",
       "      <td>0</td>\n",
       "      <td>0</td>\n",
       "      <td>0</td>\n",
       "      <td>0</td>\n",
       "      <td>0</td>\n",
       "      <td>0</td>\n",
       "    </tr>\n",
       "    <tr>\n",
       "      <th>79144</th>\n",
       "      <td>1</td>\n",
       "      <td>E1</td>\n",
       "      <td>26</td>\n",
       "      <td>0.076923</td>\n",
       "      <td>2</td>\n",
       "      <td>3</td>\n",
       "      <td>1</td>\n",
       "      <td>0.104478</td>\n",
       "      <td>0.745455</td>\n",
       "      <td>0.246862</td>\n",
       "      <td>...</td>\n",
       "      <td>0</td>\n",
       "      <td>0</td>\n",
       "      <td>0</td>\n",
       "      <td>0</td>\n",
       "      <td>0</td>\n",
       "      <td>0</td>\n",
       "      <td>0</td>\n",
       "      <td>0</td>\n",
       "      <td>0</td>\n",
       "      <td>1</td>\n",
       "    </tr>\n",
       "    <tr>\n",
       "      <th>79145</th>\n",
       "      <td>1</td>\n",
       "      <td>D2</td>\n",
       "      <td>10</td>\n",
       "      <td>0.230769</td>\n",
       "      <td>2</td>\n",
       "      <td>3</td>\n",
       "      <td>1</td>\n",
       "      <td>0.507463</td>\n",
       "      <td>0.690909</td>\n",
       "      <td>0.276151</td>\n",
       "      <td>...</td>\n",
       "      <td>1</td>\n",
       "      <td>0</td>\n",
       "      <td>0</td>\n",
       "      <td>0</td>\n",
       "      <td>0</td>\n",
       "      <td>0</td>\n",
       "      <td>0</td>\n",
       "      <td>0</td>\n",
       "      <td>0</td>\n",
       "      <td>1</td>\n",
       "    </tr>\n",
       "  </tbody>\n",
       "</table>\n",
       "<p>5 rows × 127 columns</p>\n",
       "</div>"
      ],
      "text/plain": [
       "       Product_Info_1 Product_Info_2  Product_Info_3  Product_Info_4  \\\n",
       "Id                                                                     \n",
       "79140               1             D4              26        0.307692   \n",
       "79141               1             C1              26        0.076923   \n",
       "79142               1             D1              10        0.230769   \n",
       "79144               1             E1              26        0.076923   \n",
       "79145               1             D2              10        0.230769   \n",
       "\n",
       "       Product_Info_5  Product_Info_6  Product_Info_7   Ins_Age        Ht  \\\n",
       "Id                                                                          \n",
       "79140               2               3               1  0.164179  0.690909   \n",
       "79141               2               3               1  0.477612  0.654545   \n",
       "79142               2               3               1  0.074627  0.709091   \n",
       "79144               2               3               1  0.104478  0.745455   \n",
       "79145               2               3               1  0.507463  0.690909   \n",
       "\n",
       "             Wt   ...    Medical_Keyword_40  Medical_Keyword_41  \\\n",
       "Id                ...                                             \n",
       "79140  0.288703   ...                     0                   0   \n",
       "79141  0.271967   ...                     0                   0   \n",
       "79142  0.320084   ...                     0                   0   \n",
       "79144  0.246862   ...                     0                   0   \n",
       "79145  0.276151   ...                     1                   0   \n",
       "\n",
       "       Medical_Keyword_42  Medical_Keyword_43  Medical_Keyword_44  \\\n",
       "Id                                                                  \n",
       "79140                   0                   0                   0   \n",
       "79141                   0                   0                   0   \n",
       "79142                   0                   0                   0   \n",
       "79144                   0                   0                   0   \n",
       "79145                   0                   0                   0   \n",
       "\n",
       "       Medical_Keyword_45  Medical_Keyword_46  Medical_Keyword_47  \\\n",
       "Id                                                                  \n",
       "79140                   0                   0                   0   \n",
       "79141                   0                   0                   0   \n",
       "79142                   0                   0                   0   \n",
       "79144                   0                   0                   0   \n",
       "79145                   0                   0                   0   \n",
       "\n",
       "       Medical_Keyword_48  target  \n",
       "Id                                 \n",
       "79140                   0       0  \n",
       "79141                   0       1  \n",
       "79142                   0       0  \n",
       "79144                   0       1  \n",
       "79145                   0       1  \n",
       "\n",
       "[5 rows x 127 columns]"
      ]
     },
     "execution_count": 8,
     "metadata": {},
     "output_type": "execute_result"
    }
   ],
   "source": [
    "Train.tail()"
   ]
  },
  {
   "cell_type": "markdown",
   "metadata": {},
   "source": [
    "### Regard sur nos jeux de données"
   ]
  },
  {
   "cell_type": "code",
   "execution_count": 9,
   "metadata": {},
   "outputs": [
    {
     "name": "stdout",
     "output_type": "stream",
     "text": [
      "<class 'pandas.core.frame.DataFrame'>\n",
      "Int64Index: 51381 entries, 2 to 79145\n",
      "Columns: 127 entries, Product_Info_1 to target\n",
      "dtypes: float64(18), int64(108), object(1)\n",
      "memory usage: 50.2+ MB\n",
      "________________________________________\n",
      "<class 'pandas.core.frame.DataFrame'>\n",
      "Int64Index: 8000 entries, 70893 to 12337\n",
      "Columns: 127 entries, Product_Info_1 to target\n",
      "dtypes: float64(18), int64(108), object(1)\n",
      "memory usage: 7.8+ MB\n"
     ]
    }
   ],
   "source": [
    "Train.info()\n",
    "print('_'*40)\n",
    "Valid.info()"
   ]
  },
  {
   "cell_type": "code",
   "execution_count": 10,
   "metadata": {},
   "outputs": [
    {
     "data": {
      "text/html": [
       "<div>\n",
       "<style>\n",
       "    .dataframe thead tr:only-child th {\n",
       "        text-align: right;\n",
       "    }\n",
       "\n",
       "    .dataframe thead th {\n",
       "        text-align: left;\n",
       "    }\n",
       "\n",
       "    .dataframe tbody tr th {\n",
       "        vertical-align: top;\n",
       "    }\n",
       "</style>\n",
       "<table border=\"1\" class=\"dataframe\">\n",
       "  <thead>\n",
       "    <tr style=\"text-align: right;\">\n",
       "      <th></th>\n",
       "      <th>Product_Info_1</th>\n",
       "      <th>Product_Info_3</th>\n",
       "      <th>Product_Info_4</th>\n",
       "      <th>Product_Info_5</th>\n",
       "      <th>Product_Info_6</th>\n",
       "      <th>Product_Info_7</th>\n",
       "      <th>Ins_Age</th>\n",
       "      <th>Ht</th>\n",
       "      <th>Wt</th>\n",
       "      <th>BMI</th>\n",
       "      <th>...</th>\n",
       "      <th>Medical_Keyword_40</th>\n",
       "      <th>Medical_Keyword_41</th>\n",
       "      <th>Medical_Keyword_42</th>\n",
       "      <th>Medical_Keyword_43</th>\n",
       "      <th>Medical_Keyword_44</th>\n",
       "      <th>Medical_Keyword_45</th>\n",
       "      <th>Medical_Keyword_46</th>\n",
       "      <th>Medical_Keyword_47</th>\n",
       "      <th>Medical_Keyword_48</th>\n",
       "      <th>target</th>\n",
       "    </tr>\n",
       "  </thead>\n",
       "  <tbody>\n",
       "    <tr>\n",
       "      <th>count</th>\n",
       "      <td>51381.000000</td>\n",
       "      <td>51381.000000</td>\n",
       "      <td>51381.000000</td>\n",
       "      <td>51381.000000</td>\n",
       "      <td>51381.000000</td>\n",
       "      <td>51381.000000</td>\n",
       "      <td>51381.000000</td>\n",
       "      <td>51381.000000</td>\n",
       "      <td>51381.000000</td>\n",
       "      <td>51381.000000</td>\n",
       "      <td>...</td>\n",
       "      <td>51381.000000</td>\n",
       "      <td>51381.000000</td>\n",
       "      <td>51381.000000</td>\n",
       "      <td>51381.000000</td>\n",
       "      <td>51381.000000</td>\n",
       "      <td>51381.000000</td>\n",
       "      <td>51381.000000</td>\n",
       "      <td>51381.000000</td>\n",
       "      <td>51381.000000</td>\n",
       "      <td>51381.000000</td>\n",
       "    </tr>\n",
       "    <tr>\n",
       "      <th>mean</th>\n",
       "      <td>1.026002</td>\n",
       "      <td>24.416049</td>\n",
       "      <td>0.328934</td>\n",
       "      <td>2.006948</td>\n",
       "      <td>2.672097</td>\n",
       "      <td>1.042934</td>\n",
       "      <td>0.405657</td>\n",
       "      <td>0.707231</td>\n",
       "      <td>0.292492</td>\n",
       "      <td>0.469368</td>\n",
       "      <td>...</td>\n",
       "      <td>0.056772</td>\n",
       "      <td>0.010043</td>\n",
       "      <td>0.045678</td>\n",
       "      <td>0.010841</td>\n",
       "      <td>0.007824</td>\n",
       "      <td>0.013721</td>\n",
       "      <td>0.008700</td>\n",
       "      <td>0.019910</td>\n",
       "      <td>0.054456</td>\n",
       "      <td>0.328487</td>\n",
       "    </tr>\n",
       "    <tr>\n",
       "      <th>std</th>\n",
       "      <td>0.159142</td>\n",
       "      <td>5.068379</td>\n",
       "      <td>0.282703</td>\n",
       "      <td>0.083066</td>\n",
       "      <td>0.740471</td>\n",
       "      <td>0.289806</td>\n",
       "      <td>0.197115</td>\n",
       "      <td>0.074177</td>\n",
       "      <td>0.088967</td>\n",
       "      <td>0.122167</td>\n",
       "      <td>...</td>\n",
       "      <td>0.231409</td>\n",
       "      <td>0.099709</td>\n",
       "      <td>0.208789</td>\n",
       "      <td>0.103553</td>\n",
       "      <td>0.088107</td>\n",
       "      <td>0.116332</td>\n",
       "      <td>0.092867</td>\n",
       "      <td>0.139693</td>\n",
       "      <td>0.226917</td>\n",
       "      <td>0.469668</td>\n",
       "    </tr>\n",
       "    <tr>\n",
       "      <th>min</th>\n",
       "      <td>1.000000</td>\n",
       "      <td>1.000000</td>\n",
       "      <td>0.000000</td>\n",
       "      <td>2.000000</td>\n",
       "      <td>1.000000</td>\n",
       "      <td>1.000000</td>\n",
       "      <td>0.000000</td>\n",
       "      <td>0.000000</td>\n",
       "      <td>0.000000</td>\n",
       "      <td>0.000000</td>\n",
       "      <td>...</td>\n",
       "      <td>0.000000</td>\n",
       "      <td>0.000000</td>\n",
       "      <td>0.000000</td>\n",
       "      <td>0.000000</td>\n",
       "      <td>0.000000</td>\n",
       "      <td>0.000000</td>\n",
       "      <td>0.000000</td>\n",
       "      <td>0.000000</td>\n",
       "      <td>0.000000</td>\n",
       "      <td>0.000000</td>\n",
       "    </tr>\n",
       "    <tr>\n",
       "      <th>25%</th>\n",
       "      <td>1.000000</td>\n",
       "      <td>26.000000</td>\n",
       "      <td>0.076923</td>\n",
       "      <td>2.000000</td>\n",
       "      <td>3.000000</td>\n",
       "      <td>1.000000</td>\n",
       "      <td>0.238806</td>\n",
       "      <td>0.654545</td>\n",
       "      <td>0.225941</td>\n",
       "      <td>0.385517</td>\n",
       "      <td>...</td>\n",
       "      <td>0.000000</td>\n",
       "      <td>0.000000</td>\n",
       "      <td>0.000000</td>\n",
       "      <td>0.000000</td>\n",
       "      <td>0.000000</td>\n",
       "      <td>0.000000</td>\n",
       "      <td>0.000000</td>\n",
       "      <td>0.000000</td>\n",
       "      <td>0.000000</td>\n",
       "      <td>0.000000</td>\n",
       "    </tr>\n",
       "    <tr>\n",
       "      <th>50%</th>\n",
       "      <td>1.000000</td>\n",
       "      <td>26.000000</td>\n",
       "      <td>0.230769</td>\n",
       "      <td>2.000000</td>\n",
       "      <td>3.000000</td>\n",
       "      <td>1.000000</td>\n",
       "      <td>0.402985</td>\n",
       "      <td>0.709091</td>\n",
       "      <td>0.288703</td>\n",
       "      <td>0.451275</td>\n",
       "      <td>...</td>\n",
       "      <td>0.000000</td>\n",
       "      <td>0.000000</td>\n",
       "      <td>0.000000</td>\n",
       "      <td>0.000000</td>\n",
       "      <td>0.000000</td>\n",
       "      <td>0.000000</td>\n",
       "      <td>0.000000</td>\n",
       "      <td>0.000000</td>\n",
       "      <td>0.000000</td>\n",
       "      <td>0.000000</td>\n",
       "    </tr>\n",
       "    <tr>\n",
       "      <th>75%</th>\n",
       "      <td>1.000000</td>\n",
       "      <td>26.000000</td>\n",
       "      <td>0.487179</td>\n",
       "      <td>2.000000</td>\n",
       "      <td>3.000000</td>\n",
       "      <td>1.000000</td>\n",
       "      <td>0.567164</td>\n",
       "      <td>0.763636</td>\n",
       "      <td>0.345188</td>\n",
       "      <td>0.532352</td>\n",
       "      <td>...</td>\n",
       "      <td>0.000000</td>\n",
       "      <td>0.000000</td>\n",
       "      <td>0.000000</td>\n",
       "      <td>0.000000</td>\n",
       "      <td>0.000000</td>\n",
       "      <td>0.000000</td>\n",
       "      <td>0.000000</td>\n",
       "      <td>0.000000</td>\n",
       "      <td>0.000000</td>\n",
       "      <td>1.000000</td>\n",
       "    </tr>\n",
       "    <tr>\n",
       "      <th>max</th>\n",
       "      <td>2.000000</td>\n",
       "      <td>38.000000</td>\n",
       "      <td>1.000000</td>\n",
       "      <td>3.000000</td>\n",
       "      <td>3.000000</td>\n",
       "      <td>3.000000</td>\n",
       "      <td>0.970149</td>\n",
       "      <td>1.000000</td>\n",
       "      <td>1.000000</td>\n",
       "      <td>1.000000</td>\n",
       "      <td>...</td>\n",
       "      <td>1.000000</td>\n",
       "      <td>1.000000</td>\n",
       "      <td>1.000000</td>\n",
       "      <td>1.000000</td>\n",
       "      <td>1.000000</td>\n",
       "      <td>1.000000</td>\n",
       "      <td>1.000000</td>\n",
       "      <td>1.000000</td>\n",
       "      <td>1.000000</td>\n",
       "      <td>1.000000</td>\n",
       "    </tr>\n",
       "  </tbody>\n",
       "</table>\n",
       "<p>8 rows × 126 columns</p>\n",
       "</div>"
      ],
      "text/plain": [
       "       Product_Info_1  Product_Info_3  Product_Info_4  Product_Info_5  \\\n",
       "count    51381.000000    51381.000000    51381.000000    51381.000000   \n",
       "mean         1.026002       24.416049        0.328934        2.006948   \n",
       "std          0.159142        5.068379        0.282703        0.083066   \n",
       "min          1.000000        1.000000        0.000000        2.000000   \n",
       "25%          1.000000       26.000000        0.076923        2.000000   \n",
       "50%          1.000000       26.000000        0.230769        2.000000   \n",
       "75%          1.000000       26.000000        0.487179        2.000000   \n",
       "max          2.000000       38.000000        1.000000        3.000000   \n",
       "\n",
       "       Product_Info_6  Product_Info_7       Ins_Age            Ht  \\\n",
       "count    51381.000000    51381.000000  51381.000000  51381.000000   \n",
       "mean         2.672097        1.042934      0.405657      0.707231   \n",
       "std          0.740471        0.289806      0.197115      0.074177   \n",
       "min          1.000000        1.000000      0.000000      0.000000   \n",
       "25%          3.000000        1.000000      0.238806      0.654545   \n",
       "50%          3.000000        1.000000      0.402985      0.709091   \n",
       "75%          3.000000        1.000000      0.567164      0.763636   \n",
       "max          3.000000        3.000000      0.970149      1.000000   \n",
       "\n",
       "                 Wt           BMI      ...       Medical_Keyword_40  \\\n",
       "count  51381.000000  51381.000000      ...             51381.000000   \n",
       "mean       0.292492      0.469368      ...                 0.056772   \n",
       "std        0.088967      0.122167      ...                 0.231409   \n",
       "min        0.000000      0.000000      ...                 0.000000   \n",
       "25%        0.225941      0.385517      ...                 0.000000   \n",
       "50%        0.288703      0.451275      ...                 0.000000   \n",
       "75%        0.345188      0.532352      ...                 0.000000   \n",
       "max        1.000000      1.000000      ...                 1.000000   \n",
       "\n",
       "       Medical_Keyword_41  Medical_Keyword_42  Medical_Keyword_43  \\\n",
       "count        51381.000000        51381.000000        51381.000000   \n",
       "mean             0.010043            0.045678            0.010841   \n",
       "std              0.099709            0.208789            0.103553   \n",
       "min              0.000000            0.000000            0.000000   \n",
       "25%              0.000000            0.000000            0.000000   \n",
       "50%              0.000000            0.000000            0.000000   \n",
       "75%              0.000000            0.000000            0.000000   \n",
       "max              1.000000            1.000000            1.000000   \n",
       "\n",
       "       Medical_Keyword_44  Medical_Keyword_45  Medical_Keyword_46  \\\n",
       "count        51381.000000        51381.000000        51381.000000   \n",
       "mean             0.007824            0.013721            0.008700   \n",
       "std              0.088107            0.116332            0.092867   \n",
       "min              0.000000            0.000000            0.000000   \n",
       "25%              0.000000            0.000000            0.000000   \n",
       "50%              0.000000            0.000000            0.000000   \n",
       "75%              0.000000            0.000000            0.000000   \n",
       "max              1.000000            1.000000            1.000000   \n",
       "\n",
       "       Medical_Keyword_47  Medical_Keyword_48        target  \n",
       "count        51381.000000        51381.000000  51381.000000  \n",
       "mean             0.019910            0.054456      0.328487  \n",
       "std              0.139693            0.226917      0.469668  \n",
       "min              0.000000            0.000000      0.000000  \n",
       "25%              0.000000            0.000000      0.000000  \n",
       "50%              0.000000            0.000000      0.000000  \n",
       "75%              0.000000            0.000000      1.000000  \n",
       "max              1.000000            1.000000      1.000000  \n",
       "\n",
       "[8 rows x 126 columns]"
      ]
     },
     "execution_count": 10,
     "metadata": {},
     "output_type": "execute_result"
    }
   ],
   "source": [
    "Train.describe()"
   ]
  },
  {
   "cell_type": "code",
   "execution_count": 11,
   "metadata": {},
   "outputs": [
    {
     "data": {
      "text/html": [
       "<div>\n",
       "<style>\n",
       "    .dataframe thead tr:only-child th {\n",
       "        text-align: right;\n",
       "    }\n",
       "\n",
       "    .dataframe thead th {\n",
       "        text-align: left;\n",
       "    }\n",
       "\n",
       "    .dataframe tbody tr th {\n",
       "        vertical-align: top;\n",
       "    }\n",
       "</style>\n",
       "<table border=\"1\" class=\"dataframe\">\n",
       "  <thead>\n",
       "    <tr style=\"text-align: right;\">\n",
       "      <th></th>\n",
       "      <th>Product_Info_2</th>\n",
       "    </tr>\n",
       "  </thead>\n",
       "  <tbody>\n",
       "    <tr>\n",
       "      <th>count</th>\n",
       "      <td>51381</td>\n",
       "    </tr>\n",
       "    <tr>\n",
       "      <th>unique</th>\n",
       "      <td>19</td>\n",
       "    </tr>\n",
       "    <tr>\n",
       "      <th>top</th>\n",
       "      <td>D3</td>\n",
       "    </tr>\n",
       "    <tr>\n",
       "      <th>freq</th>\n",
       "      <td>12470</td>\n",
       "    </tr>\n",
       "  </tbody>\n",
       "</table>\n",
       "</div>"
      ],
      "text/plain": [
       "       Product_Info_2\n",
       "count           51381\n",
       "unique             19\n",
       "top                D3\n",
       "freq            12470"
      ]
     },
     "execution_count": 11,
     "metadata": {},
     "output_type": "execute_result"
    }
   ],
   "source": [
    "Train.describe(include=['O'])"
   ]
  },
  {
   "cell_type": "markdown",
   "metadata": {
    "collapsed": true
   },
   "source": [
    "Ainsi Product_Info_2 est une variable qualitative ayant 19 modalités dont la plus représenté est D3 avec une frequence de 12470. Nous allons recoder celle-ci en 18 variables quantitatives."
   ]
  },
  {
   "cell_type": "code",
   "execution_count": 12,
   "metadata": {
    "collapsed": true
   },
   "outputs": [],
   "source": [
    "for dataset in Data:\n",
    "    for var in set(Train[\"Product_Info_2\"]):\n",
    "        if var != 'A7':\n",
    "            dataset[var] = dataset[\"Product_Info_2\"].apply(lambda x: 1 if x == var else 0)\n",
    "        "
   ]
  },
  {
   "cell_type": "code",
   "execution_count": 13,
   "metadata": {},
   "outputs": [
    {
     "data": {
      "text/html": [
       "<div>\n",
       "<style>\n",
       "    .dataframe thead tr:only-child th {\n",
       "        text-align: right;\n",
       "    }\n",
       "\n",
       "    .dataframe thead th {\n",
       "        text-align: left;\n",
       "    }\n",
       "\n",
       "    .dataframe tbody tr th {\n",
       "        vertical-align: top;\n",
       "    }\n",
       "</style>\n",
       "<table border=\"1\" class=\"dataframe\">\n",
       "  <thead>\n",
       "    <tr style=\"text-align: right;\">\n",
       "      <th></th>\n",
       "      <th>Product_Info_1</th>\n",
       "      <th>Product_Info_2</th>\n",
       "      <th>Product_Info_3</th>\n",
       "      <th>Product_Info_4</th>\n",
       "      <th>Product_Info_5</th>\n",
       "      <th>Product_Info_6</th>\n",
       "      <th>Product_Info_7</th>\n",
       "      <th>Ins_Age</th>\n",
       "      <th>Ht</th>\n",
       "      <th>Wt</th>\n",
       "      <th>...</th>\n",
       "      <th>C3</th>\n",
       "      <th>D2</th>\n",
       "      <th>A8</th>\n",
       "      <th>C2</th>\n",
       "      <th>A6</th>\n",
       "      <th>A3</th>\n",
       "      <th>D4</th>\n",
       "      <th>C4</th>\n",
       "      <th>B1</th>\n",
       "      <th>D1</th>\n",
       "    </tr>\n",
       "    <tr>\n",
       "      <th>Id</th>\n",
       "      <th></th>\n",
       "      <th></th>\n",
       "      <th></th>\n",
       "      <th></th>\n",
       "      <th></th>\n",
       "      <th></th>\n",
       "      <th></th>\n",
       "      <th></th>\n",
       "      <th></th>\n",
       "      <th></th>\n",
       "      <th></th>\n",
       "      <th></th>\n",
       "      <th></th>\n",
       "      <th></th>\n",
       "      <th></th>\n",
       "      <th></th>\n",
       "      <th></th>\n",
       "      <th></th>\n",
       "      <th></th>\n",
       "      <th></th>\n",
       "      <th></th>\n",
       "    </tr>\n",
       "  </thead>\n",
       "  <tbody>\n",
       "    <tr>\n",
       "      <th>2</th>\n",
       "      <td>1</td>\n",
       "      <td>D3</td>\n",
       "      <td>10</td>\n",
       "      <td>0.076923</td>\n",
       "      <td>2</td>\n",
       "      <td>1</td>\n",
       "      <td>1</td>\n",
       "      <td>0.641791</td>\n",
       "      <td>0.581818</td>\n",
       "      <td>0.148536</td>\n",
       "      <td>...</td>\n",
       "      <td>0</td>\n",
       "      <td>0</td>\n",
       "      <td>0</td>\n",
       "      <td>0</td>\n",
       "      <td>0</td>\n",
       "      <td>0</td>\n",
       "      <td>0</td>\n",
       "      <td>0</td>\n",
       "      <td>0</td>\n",
       "      <td>0</td>\n",
       "    </tr>\n",
       "    <tr>\n",
       "      <th>5</th>\n",
       "      <td>1</td>\n",
       "      <td>A1</td>\n",
       "      <td>26</td>\n",
       "      <td>0.076923</td>\n",
       "      <td>2</td>\n",
       "      <td>3</td>\n",
       "      <td>1</td>\n",
       "      <td>0.059701</td>\n",
       "      <td>0.600000</td>\n",
       "      <td>0.131799</td>\n",
       "      <td>...</td>\n",
       "      <td>0</td>\n",
       "      <td>0</td>\n",
       "      <td>0</td>\n",
       "      <td>0</td>\n",
       "      <td>0</td>\n",
       "      <td>0</td>\n",
       "      <td>0</td>\n",
       "      <td>0</td>\n",
       "      <td>0</td>\n",
       "      <td>0</td>\n",
       "    </tr>\n",
       "    <tr>\n",
       "      <th>6</th>\n",
       "      <td>1</td>\n",
       "      <td>E1</td>\n",
       "      <td>26</td>\n",
       "      <td>0.076923</td>\n",
       "      <td>2</td>\n",
       "      <td>3</td>\n",
       "      <td>1</td>\n",
       "      <td>0.029851</td>\n",
       "      <td>0.745455</td>\n",
       "      <td>0.288703</td>\n",
       "      <td>...</td>\n",
       "      <td>0</td>\n",
       "      <td>0</td>\n",
       "      <td>0</td>\n",
       "      <td>0</td>\n",
       "      <td>0</td>\n",
       "      <td>0</td>\n",
       "      <td>0</td>\n",
       "      <td>0</td>\n",
       "      <td>0</td>\n",
       "      <td>0</td>\n",
       "    </tr>\n",
       "    <tr>\n",
       "      <th>7</th>\n",
       "      <td>1</td>\n",
       "      <td>D4</td>\n",
       "      <td>10</td>\n",
       "      <td>0.487179</td>\n",
       "      <td>2</td>\n",
       "      <td>3</td>\n",
       "      <td>1</td>\n",
       "      <td>0.164179</td>\n",
       "      <td>0.672727</td>\n",
       "      <td>0.205021</td>\n",
       "      <td>...</td>\n",
       "      <td>0</td>\n",
       "      <td>0</td>\n",
       "      <td>0</td>\n",
       "      <td>0</td>\n",
       "      <td>0</td>\n",
       "      <td>0</td>\n",
       "      <td>1</td>\n",
       "      <td>0</td>\n",
       "      <td>0</td>\n",
       "      <td>0</td>\n",
       "    </tr>\n",
       "    <tr>\n",
       "      <th>8</th>\n",
       "      <td>1</td>\n",
       "      <td>D2</td>\n",
       "      <td>26</td>\n",
       "      <td>0.230769</td>\n",
       "      <td>2</td>\n",
       "      <td>3</td>\n",
       "      <td>1</td>\n",
       "      <td>0.417910</td>\n",
       "      <td>0.654545</td>\n",
       "      <td>0.234310</td>\n",
       "      <td>...</td>\n",
       "      <td>0</td>\n",
       "      <td>1</td>\n",
       "      <td>0</td>\n",
       "      <td>0</td>\n",
       "      <td>0</td>\n",
       "      <td>0</td>\n",
       "      <td>0</td>\n",
       "      <td>0</td>\n",
       "      <td>0</td>\n",
       "      <td>0</td>\n",
       "    </tr>\n",
       "  </tbody>\n",
       "</table>\n",
       "<p>5 rows × 145 columns</p>\n",
       "</div>"
      ],
      "text/plain": [
       "    Product_Info_1 Product_Info_2  Product_Info_3  Product_Info_4  \\\n",
       "Id                                                                  \n",
       "2                1             D3              10        0.076923   \n",
       "5                1             A1              26        0.076923   \n",
       "6                1             E1              26        0.076923   \n",
       "7                1             D4              10        0.487179   \n",
       "8                1             D2              26        0.230769   \n",
       "\n",
       "    Product_Info_5  Product_Info_6  Product_Info_7   Ins_Age        Ht  \\\n",
       "Id                                                                       \n",
       "2                2               1               1  0.641791  0.581818   \n",
       "5                2               3               1  0.059701  0.600000   \n",
       "6                2               3               1  0.029851  0.745455   \n",
       "7                2               3               1  0.164179  0.672727   \n",
       "8                2               3               1  0.417910  0.654545   \n",
       "\n",
       "          Wt ...  C3  D2  A8  C2  A6  A3  D4  C4  B1  D1  \n",
       "Id           ...                                          \n",
       "2   0.148536 ...   0   0   0   0   0   0   0   0   0   0  \n",
       "5   0.131799 ...   0   0   0   0   0   0   0   0   0   0  \n",
       "6   0.288703 ...   0   0   0   0   0   0   0   0   0   0  \n",
       "7   0.205021 ...   0   0   0   0   0   0   1   0   0   0  \n",
       "8   0.234310 ...   0   1   0   0   0   0   0   0   0   0  \n",
       "\n",
       "[5 rows x 145 columns]"
      ]
     },
     "execution_count": 13,
     "metadata": {},
     "output_type": "execute_result"
    }
   ],
   "source": [
    "Train.head()"
   ]
  },
  {
   "cell_type": "code",
   "execution_count": 14,
   "metadata": {},
   "outputs": [
    {
     "data": {
      "text/html": [
       "<div>\n",
       "<style>\n",
       "    .dataframe thead tr:only-child th {\n",
       "        text-align: right;\n",
       "    }\n",
       "\n",
       "    .dataframe thead th {\n",
       "        text-align: left;\n",
       "    }\n",
       "\n",
       "    .dataframe tbody tr th {\n",
       "        vertical-align: top;\n",
       "    }\n",
       "</style>\n",
       "<table border=\"1\" class=\"dataframe\">\n",
       "  <thead>\n",
       "    <tr style=\"text-align: right;\">\n",
       "      <th></th>\n",
       "      <th>Product_Info_1</th>\n",
       "      <th>Product_Info_2</th>\n",
       "      <th>Product_Info_3</th>\n",
       "      <th>Product_Info_4</th>\n",
       "      <th>Product_Info_5</th>\n",
       "      <th>Product_Info_6</th>\n",
       "      <th>Product_Info_7</th>\n",
       "      <th>Ins_Age</th>\n",
       "      <th>Ht</th>\n",
       "      <th>Wt</th>\n",
       "      <th>...</th>\n",
       "      <th>C3</th>\n",
       "      <th>D2</th>\n",
       "      <th>A8</th>\n",
       "      <th>C2</th>\n",
       "      <th>A6</th>\n",
       "      <th>A3</th>\n",
       "      <th>D4</th>\n",
       "      <th>C4</th>\n",
       "      <th>B1</th>\n",
       "      <th>D1</th>\n",
       "    </tr>\n",
       "    <tr>\n",
       "      <th>Id</th>\n",
       "      <th></th>\n",
       "      <th></th>\n",
       "      <th></th>\n",
       "      <th></th>\n",
       "      <th></th>\n",
       "      <th></th>\n",
       "      <th></th>\n",
       "      <th></th>\n",
       "      <th></th>\n",
       "      <th></th>\n",
       "      <th></th>\n",
       "      <th></th>\n",
       "      <th></th>\n",
       "      <th></th>\n",
       "      <th></th>\n",
       "      <th></th>\n",
       "      <th></th>\n",
       "      <th></th>\n",
       "      <th></th>\n",
       "      <th></th>\n",
       "      <th></th>\n",
       "    </tr>\n",
       "  </thead>\n",
       "  <tbody>\n",
       "    <tr>\n",
       "      <th>70893</th>\n",
       "      <td>1</td>\n",
       "      <td>A8</td>\n",
       "      <td>26</td>\n",
       "      <td>0.076923</td>\n",
       "      <td>2</td>\n",
       "      <td>3</td>\n",
       "      <td>1</td>\n",
       "      <td>0.776119</td>\n",
       "      <td>0.654545</td>\n",
       "      <td>0.184100</td>\n",
       "      <td>...</td>\n",
       "      <td>0</td>\n",
       "      <td>0</td>\n",
       "      <td>1</td>\n",
       "      <td>0</td>\n",
       "      <td>0</td>\n",
       "      <td>0</td>\n",
       "      <td>0</td>\n",
       "      <td>0</td>\n",
       "      <td>0</td>\n",
       "      <td>0</td>\n",
       "    </tr>\n",
       "    <tr>\n",
       "      <th>20997</th>\n",
       "      <td>1</td>\n",
       "      <td>D2</td>\n",
       "      <td>26</td>\n",
       "      <td>0.076923</td>\n",
       "      <td>2</td>\n",
       "      <td>3</td>\n",
       "      <td>1</td>\n",
       "      <td>0.552239</td>\n",
       "      <td>0.818182</td>\n",
       "      <td>0.330544</td>\n",
       "      <td>...</td>\n",
       "      <td>0</td>\n",
       "      <td>1</td>\n",
       "      <td>0</td>\n",
       "      <td>0</td>\n",
       "      <td>0</td>\n",
       "      <td>0</td>\n",
       "      <td>0</td>\n",
       "      <td>0</td>\n",
       "      <td>0</td>\n",
       "      <td>0</td>\n",
       "    </tr>\n",
       "    <tr>\n",
       "      <th>29427</th>\n",
       "      <td>1</td>\n",
       "      <td>D3</td>\n",
       "      <td>10</td>\n",
       "      <td>0.230769</td>\n",
       "      <td>2</td>\n",
       "      <td>3</td>\n",
       "      <td>1</td>\n",
       "      <td>0.208955</td>\n",
       "      <td>0.636364</td>\n",
       "      <td>0.184100</td>\n",
       "      <td>...</td>\n",
       "      <td>0</td>\n",
       "      <td>0</td>\n",
       "      <td>0</td>\n",
       "      <td>0</td>\n",
       "      <td>0</td>\n",
       "      <td>0</td>\n",
       "      <td>0</td>\n",
       "      <td>0</td>\n",
       "      <td>0</td>\n",
       "      <td>0</td>\n",
       "    </tr>\n",
       "    <tr>\n",
       "      <th>45161</th>\n",
       "      <td>1</td>\n",
       "      <td>A1</td>\n",
       "      <td>26</td>\n",
       "      <td>0.256410</td>\n",
       "      <td>2</td>\n",
       "      <td>3</td>\n",
       "      <td>1</td>\n",
       "      <td>0.328358</td>\n",
       "      <td>0.745455</td>\n",
       "      <td>0.299163</td>\n",
       "      <td>...</td>\n",
       "      <td>0</td>\n",
       "      <td>0</td>\n",
       "      <td>0</td>\n",
       "      <td>0</td>\n",
       "      <td>0</td>\n",
       "      <td>0</td>\n",
       "      <td>0</td>\n",
       "      <td>0</td>\n",
       "      <td>0</td>\n",
       "      <td>0</td>\n",
       "    </tr>\n",
       "    <tr>\n",
       "      <th>71802</th>\n",
       "      <td>1</td>\n",
       "      <td>D3</td>\n",
       "      <td>26</td>\n",
       "      <td>0.282051</td>\n",
       "      <td>2</td>\n",
       "      <td>3</td>\n",
       "      <td>1</td>\n",
       "      <td>0.686567</td>\n",
       "      <td>0.781818</td>\n",
       "      <td>0.430962</td>\n",
       "      <td>...</td>\n",
       "      <td>0</td>\n",
       "      <td>0</td>\n",
       "      <td>0</td>\n",
       "      <td>0</td>\n",
       "      <td>0</td>\n",
       "      <td>0</td>\n",
       "      <td>0</td>\n",
       "      <td>0</td>\n",
       "      <td>0</td>\n",
       "      <td>0</td>\n",
       "    </tr>\n",
       "  </tbody>\n",
       "</table>\n",
       "<p>5 rows × 145 columns</p>\n",
       "</div>"
      ],
      "text/plain": [
       "       Product_Info_1 Product_Info_2  Product_Info_3  Product_Info_4  \\\n",
       "Id                                                                     \n",
       "70893               1             A8              26        0.076923   \n",
       "20997               1             D2              26        0.076923   \n",
       "29427               1             D3              10        0.230769   \n",
       "45161               1             A1              26        0.256410   \n",
       "71802               1             D3              26        0.282051   \n",
       "\n",
       "       Product_Info_5  Product_Info_6  Product_Info_7   Ins_Age        Ht  \\\n",
       "Id                                                                          \n",
       "70893               2               3               1  0.776119  0.654545   \n",
       "20997               2               3               1  0.552239  0.818182   \n",
       "29427               2               3               1  0.208955  0.636364   \n",
       "45161               2               3               1  0.328358  0.745455   \n",
       "71802               2               3               1  0.686567  0.781818   \n",
       "\n",
       "             Wt ...  C3  D2  A8  C2  A6  A3  D4  C4  B1  D1  \n",
       "Id              ...                                          \n",
       "70893  0.184100 ...   0   0   1   0   0   0   0   0   0   0  \n",
       "20997  0.330544 ...   0   1   0   0   0   0   0   0   0   0  \n",
       "29427  0.184100 ...   0   0   0   0   0   0   0   0   0   0  \n",
       "45161  0.299163 ...   0   0   0   0   0   0   0   0   0   0  \n",
       "71802  0.430962 ...   0   0   0   0   0   0   0   0   0   0  \n",
       "\n",
       "[5 rows x 145 columns]"
      ]
     },
     "execution_count": 14,
     "metadata": {},
     "output_type": "execute_result"
    }
   ],
   "source": [
    "Valid.head()"
   ]
  },
  {
   "cell_type": "markdown",
   "metadata": {},
   "source": [
    "Nous pouvons maintenant supprimer la colonne Product_Info_2"
   ]
  },
  {
   "cell_type": "code",
   "execution_count": 15,
   "metadata": {
    "collapsed": true
   },
   "outputs": [],
   "source": [
    "# supprimer une  variable\n",
    "for dataset in Data:\n",
    "    del dataset[\"Product_Info_2\"]\n"
   ]
  },
  {
   "cell_type": "code",
   "execution_count": 16,
   "metadata": {},
   "outputs": [
    {
     "data": {
      "text/html": [
       "<div>\n",
       "<style>\n",
       "    .dataframe thead tr:only-child th {\n",
       "        text-align: right;\n",
       "    }\n",
       "\n",
       "    .dataframe thead th {\n",
       "        text-align: left;\n",
       "    }\n",
       "\n",
       "    .dataframe tbody tr th {\n",
       "        vertical-align: top;\n",
       "    }\n",
       "</style>\n",
       "<table border=\"1\" class=\"dataframe\">\n",
       "  <thead>\n",
       "    <tr style=\"text-align: right;\">\n",
       "      <th></th>\n",
       "      <th>Product_Info_1</th>\n",
       "      <th>Product_Info_3</th>\n",
       "      <th>Product_Info_4</th>\n",
       "      <th>Product_Info_5</th>\n",
       "      <th>Product_Info_6</th>\n",
       "      <th>Product_Info_7</th>\n",
       "      <th>Ins_Age</th>\n",
       "      <th>Ht</th>\n",
       "      <th>Wt</th>\n",
       "      <th>BMI</th>\n",
       "      <th>...</th>\n",
       "      <th>C3</th>\n",
       "      <th>D2</th>\n",
       "      <th>A8</th>\n",
       "      <th>C2</th>\n",
       "      <th>A6</th>\n",
       "      <th>A3</th>\n",
       "      <th>D4</th>\n",
       "      <th>C4</th>\n",
       "      <th>B1</th>\n",
       "      <th>D1</th>\n",
       "    </tr>\n",
       "    <tr>\n",
       "      <th>Id</th>\n",
       "      <th></th>\n",
       "      <th></th>\n",
       "      <th></th>\n",
       "      <th></th>\n",
       "      <th></th>\n",
       "      <th></th>\n",
       "      <th></th>\n",
       "      <th></th>\n",
       "      <th></th>\n",
       "      <th></th>\n",
       "      <th></th>\n",
       "      <th></th>\n",
       "      <th></th>\n",
       "      <th></th>\n",
       "      <th></th>\n",
       "      <th></th>\n",
       "      <th></th>\n",
       "      <th></th>\n",
       "      <th></th>\n",
       "      <th></th>\n",
       "      <th></th>\n",
       "    </tr>\n",
       "  </thead>\n",
       "  <tbody>\n",
       "    <tr>\n",
       "      <th>70893</th>\n",
       "      <td>1</td>\n",
       "      <td>26</td>\n",
       "      <td>0.076923</td>\n",
       "      <td>2</td>\n",
       "      <td>3</td>\n",
       "      <td>1</td>\n",
       "      <td>0.776119</td>\n",
       "      <td>0.654545</td>\n",
       "      <td>0.184100</td>\n",
       "      <td>0.329671</td>\n",
       "      <td>...</td>\n",
       "      <td>0</td>\n",
       "      <td>0</td>\n",
       "      <td>1</td>\n",
       "      <td>0</td>\n",
       "      <td>0</td>\n",
       "      <td>0</td>\n",
       "      <td>0</td>\n",
       "      <td>0</td>\n",
       "      <td>0</td>\n",
       "      <td>0</td>\n",
       "    </tr>\n",
       "    <tr>\n",
       "      <th>20997</th>\n",
       "      <td>1</td>\n",
       "      <td>26</td>\n",
       "      <td>0.076923</td>\n",
       "      <td>2</td>\n",
       "      <td>3</td>\n",
       "      <td>1</td>\n",
       "      <td>0.552239</td>\n",
       "      <td>0.818182</td>\n",
       "      <td>0.330544</td>\n",
       "      <td>0.425264</td>\n",
       "      <td>...</td>\n",
       "      <td>0</td>\n",
       "      <td>1</td>\n",
       "      <td>0</td>\n",
       "      <td>0</td>\n",
       "      <td>0</td>\n",
       "      <td>0</td>\n",
       "      <td>0</td>\n",
       "      <td>0</td>\n",
       "      <td>0</td>\n",
       "      <td>0</td>\n",
       "    </tr>\n",
       "    <tr>\n",
       "      <th>29427</th>\n",
       "      <td>1</td>\n",
       "      <td>10</td>\n",
       "      <td>0.230769</td>\n",
       "      <td>2</td>\n",
       "      <td>3</td>\n",
       "      <td>1</td>\n",
       "      <td>0.208955</td>\n",
       "      <td>0.636364</td>\n",
       "      <td>0.184100</td>\n",
       "      <td>0.345771</td>\n",
       "      <td>...</td>\n",
       "      <td>0</td>\n",
       "      <td>0</td>\n",
       "      <td>0</td>\n",
       "      <td>0</td>\n",
       "      <td>0</td>\n",
       "      <td>0</td>\n",
       "      <td>0</td>\n",
       "      <td>0</td>\n",
       "      <td>0</td>\n",
       "      <td>0</td>\n",
       "    </tr>\n",
       "    <tr>\n",
       "      <th>45161</th>\n",
       "      <td>1</td>\n",
       "      <td>26</td>\n",
       "      <td>0.256410</td>\n",
       "      <td>2</td>\n",
       "      <td>3</td>\n",
       "      <td>1</td>\n",
       "      <td>0.328358</td>\n",
       "      <td>0.745455</td>\n",
       "      <td>0.299163</td>\n",
       "      <td>0.445733</td>\n",
       "      <td>...</td>\n",
       "      <td>0</td>\n",
       "      <td>0</td>\n",
       "      <td>0</td>\n",
       "      <td>0</td>\n",
       "      <td>0</td>\n",
       "      <td>0</td>\n",
       "      <td>0</td>\n",
       "      <td>0</td>\n",
       "      <td>0</td>\n",
       "      <td>0</td>\n",
       "    </tr>\n",
       "    <tr>\n",
       "      <th>71802</th>\n",
       "      <td>1</td>\n",
       "      <td>26</td>\n",
       "      <td>0.282051</td>\n",
       "      <td>2</td>\n",
       "      <td>3</td>\n",
       "      <td>1</td>\n",
       "      <td>0.686567</td>\n",
       "      <td>0.781818</td>\n",
       "      <td>0.430962</td>\n",
       "      <td>0.613274</td>\n",
       "      <td>...</td>\n",
       "      <td>0</td>\n",
       "      <td>0</td>\n",
       "      <td>0</td>\n",
       "      <td>0</td>\n",
       "      <td>0</td>\n",
       "      <td>0</td>\n",
       "      <td>0</td>\n",
       "      <td>0</td>\n",
       "      <td>0</td>\n",
       "      <td>0</td>\n",
       "    </tr>\n",
       "  </tbody>\n",
       "</table>\n",
       "<p>5 rows × 144 columns</p>\n",
       "</div>"
      ],
      "text/plain": [
       "       Product_Info_1  Product_Info_3  Product_Info_4  Product_Info_5  \\\n",
       "Id                                                                      \n",
       "70893               1              26        0.076923               2   \n",
       "20997               1              26        0.076923               2   \n",
       "29427               1              10        0.230769               2   \n",
       "45161               1              26        0.256410               2   \n",
       "71802               1              26        0.282051               2   \n",
       "\n",
       "       Product_Info_6  Product_Info_7   Ins_Age        Ht        Wt       BMI  \\\n",
       "Id                                                                              \n",
       "70893               3               1  0.776119  0.654545  0.184100  0.329671   \n",
       "20997               3               1  0.552239  0.818182  0.330544  0.425264   \n",
       "29427               3               1  0.208955  0.636364  0.184100  0.345771   \n",
       "45161               3               1  0.328358  0.745455  0.299163  0.445733   \n",
       "71802               3               1  0.686567  0.781818  0.430962  0.613274   \n",
       "\n",
       "      ...  C3  D2  A8  C2  A6  A3  D4  C4  B1  D1  \n",
       "Id    ...                                          \n",
       "70893 ...   0   0   1   0   0   0   0   0   0   0  \n",
       "20997 ...   0   1   0   0   0   0   0   0   0   0  \n",
       "29427 ...   0   0   0   0   0   0   0   0   0   0  \n",
       "45161 ...   0   0   0   0   0   0   0   0   0   0  \n",
       "71802 ...   0   0   0   0   0   0   0   0   0   0  \n",
       "\n",
       "[5 rows x 144 columns]"
      ]
     },
     "execution_count": 16,
     "metadata": {},
     "output_type": "execute_result"
    }
   ],
   "source": [
    "Valid.head()"
   ]
  },
  {
   "cell_type": "markdown",
   "metadata": {},
   "source": [
    "## Imputation des données manquantes\n",
    "Nous remplaçons les données non disponibles des variables quantitatives de nos jeux de données par les médianes de celles-ci. D'autres méthodes d'imputations peuvent être explorés mais très couteux en temps de calcul. "
   ]
  },
  {
   "attachments": {},
   "cell_type": "markdown",
   "metadata": {},
   "source": [
    "<span style=\"color:red\">\n",
    "il existe des méthodes pour faire ça plus vite : projetTrain=projetTrain.fillna(projetTrain.median())\n",
    "</span>"
   ]
  },
  {
   "cell_type": "code",
   "execution_count": 17,
   "metadata": {
    "collapsed": true
   },
   "outputs": [],
   "source": [
    "# Remplacement par la médiane d'une variable quantitative\n",
    "for dataset in Data:\n",
    "    for var in dataset.columns.values:\n",
    "        if dataset[var].isnull().sum()!=0:\n",
    "            dataset[var]=dataset[var].fillna(dataset[var].median())"
   ]
  },
  {
   "cell_type": "code",
   "execution_count": 18,
   "metadata": {},
   "outputs": [
    {
     "data": {
      "text/plain": [
       "Id\n",
       "70893    0.0\n",
       "20997    0.0\n",
       "29427    0.0\n",
       "45161    0.0\n",
       "71802    0.0\n",
       "Name: Medical_History_32, dtype: float64"
      ]
     },
     "execution_count": 18,
     "metadata": {},
     "output_type": "execute_result"
    }
   ],
   "source": [
    "Valid[\"Medical_History_32\"].head()"
   ]
  },
  {
   "cell_type": "code",
   "execution_count": 19,
   "metadata": {},
   "outputs": [
    {
     "data": {
      "text/plain": [
       "dtype('int64')"
      ]
     },
     "execution_count": 19,
     "metadata": {},
     "output_type": "execute_result"
    }
   ],
   "source": [
    "Train.dtypes[\"Product_Info_1\"]"
   ]
  },
  {
   "cell_type": "markdown",
   "metadata": {},
   "source": [
    "### 1.2) Separation de Train en échantillon d'apprentissage et de test "
   ]
  },
  {
   "cell_type": "markdown",
   "metadata": {},
   "source": [
    "Etant donné que la base de données Valid ne contenait pas la variable target nous faisons ici \n",
    "l'extraction des échantillons d'apprentissage et test sur la base Train."
   ]
  },
  {
   "cell_type": "code",
   "execution_count": 20,
   "metadata": {
    "collapsed": true
   },
   "outputs": [],
   "source": [
    "# variables explicatives\n",
    "T=Train.drop([\"target\"],axis=1)\n",
    "# Variable à modéliser\n",
    "z=Train[\"target\"]\n",
    "# Extractions\n",
    "from sklearn.model_selection import train_test_split\n",
    "T_train,T_test,z_train,z_test=train_test_split(T,z,test_size=0.2,random_state=11)"
   ]
  },
  {
   "cell_type": "markdown",
   "metadata": {},
   "source": [
    "Attention: l'échantillon test des données est relativement petit, l'estimation de l'erreur de prévision est donc sujette à caution car probablement de grande variance. Il suffit de changer l'initialisation (paramètre random_state) et ré-exécuter les scripts pour s'en assurer."
   ]
  },
  {
   "cell_type": "markdown",
   "metadata": {},
   "source": [
    "### 1.3) Quelques fonctions utiles\n",
    "Nous définissons ici deux fonctions utiles qui nous viennent du github de Monsieur Romain Jouin et qui vont nous permettre en ce qui concerne la première d'afficher la matrice de confusion sur les données de test et d'evaluer la qualité de la classification. La seconde nous permet de quatifier à travers un outil beaucoup pertinent en ce sens qu'il permet de comparer différent type de mdèles, les prefomance de nos modèles."
   ]
  },
  {
   "cell_type": "code",
   "execution_count": 21,
   "metadata": {
    "collapsed": true
   },
   "outputs": [],
   "source": [
    "def draw_confusion_matrix(y_test, predictions, title):\n",
    "    \"\"\"\n",
    "    Créé et affiche la matrice de confusion des données de Y_test et de celles sur \n",
    "    lesquelles on a fait la prédiction.\n",
    "    Permet d'évaluer la qualité de la classification souhaitée.\n",
    "    Plus les valeurs diagonales sont élevées, plus le classifieur prédit correctement.\n",
    "    \"\"\"\n",
    "    from sklearn.metrics import confusion_matrix,accuracy_score\n",
    "    import matplotlib.pyplot as plt\n",
    "    cm    = confusion_matrix(y_test, predictions)\n",
    "    accur = accuracy_score  (y_test, predictions)\n",
    "    \n",
    "    plt.matshow  (cm)\n",
    "    plt.ylabel   ('True Label')\n",
    "    plt.xlabel   ('Predicted Label')\n",
    "    plt.suptitle ('Confusion matrix (Accuracy of %.2f) for [%s]'%(accur,title))\n",
    "    plt.colorbar ()\n",
    "    plt.show     ()"
   ]
  },
  {
   "cell_type": "code",
   "execution_count": 22,
   "metadata": {
    "collapsed": true
   },
   "outputs": [],
   "source": [
    "def draw_roc_curve(fitted_c, x_test, y_test, title):\n",
    "    \"\"\"\n",
    "    Créé et affiche la courbe ROC des données de test X et Y selon un classifieur.\n",
    "    Permet de représenter l'évolution de la vitesse d'apprentissage du classifieur.\n",
    "    Taux de vrais-positifs en fonction du taux de faux-négatif.\n",
    "    Plus l'aire sous la courbe est grande, plus le classifieur est idéal.\n",
    "    \"\"\"\n",
    "    from sklearn.metrics import roc_curve, auc\n",
    "    import matplotlib.pyplot as plt\n",
    "    c                                        = fitted_c\n",
    "    probas                                   = c.predict_proba(x_test)\n",
    "    false_positive_rate, recall_, thresholds = roc_curve(y_test, probas[:,1])\n",
    "    roc_auc                                  = auc(false_positive_rate, recall_)\n",
    "    \n",
    "    plt.title  ('ROC %.2f %s'%(roc_auc, title))\n",
    "    plt.legend (loc=\"lower right\")\n",
    "    plt.plot   ([0,1],[0,1], \"r--\")\n",
    "    plt.plot   (false_positive_rate, recall_, 'b', label='AUC = %.2f'%roc_auc)\n",
    "    plt.xlim   ([0.0,1.1])\n",
    "    plt.ylim   ([0.0,1.1])\n",
    "    plt.ylabel ('Recall')\n",
    "    plt.xlabel ('Fall-out')\n",
    "    plt.show()"
   ]
  },
  {
   "cell_type": "markdown",
   "metadata": {},
   "source": [
    "## 2) Les classifieurs de Scikit-learn\n",
    "Tous les algorithmes et méthodes de Scikit-learn se présentent sous la forme d'une combinaison de 3 \"interfaces\": estimation pour ajuster des modèles, prévision pour de nouvelles observations, transformation pour convertir des données.\n",
    "\n",
    "Juste un résumé rapide des paramètres que nous allons énumérer ici pour l'exhaustivité,\n",
    "\n",
    "n_jobs: Nombre de cœurs utilisés pour le processus d'entraînement. Si la valeur est -1, tous les cœurs sont utilisés.\n",
    "\n",
    "n_estimators: Nombre d'arbres de classification dans votre modèle d'apprentissage (défini sur 10 par défaut)\n",
    "\n",
    "max_depth: Profondeur maximum de l'arbre, ou combien un noeud devrait être développé. Méfiez-vous si un nombre trop élevé courrait le risque de surapprentissage comme on ferait pousser l'arbre trop profond"
   ]
  },
  {
   "cell_type": "markdown",
   "metadata": {},
   "source": [
    "### 2.1)  k plus proches voisins\n",
    "### Estimation"
   ]
  },
  {
   "cell_type": "markdown",
   "metadata": {},
   "source": [
    "Nous faisons ci-dessous une cross-validation pour déterminer le nombre de voisin à prendre en compte."
   ]
  },
  {
   "cell_type": "code",
   "execution_count": 54,
   "metadata": {},
   "outputs": [
    {
     "data": {
      "text/plain": [
       "12"
      ]
     },
     "execution_count": 54,
     "metadata": {},
     "output_type": "execute_result"
    }
   ],
   "source": [
    "from sklearn.model_selection import GridSearchCV\n",
    "# grille de valeurs\n",
    "param=[{\"n_neighbors\":list(range(1,15))}]\n",
    "knnF = GridSearchCV(KNeighborsClassifier(),\n",
    "   param,cv=5,n_jobs=-1)\n",
    "knnF_Opt=knnF.fit(T_train, z_train)\n",
    "# paramètre optimal\n",
    "knnF_Opt.best_params_[\"n_neighbors\"]"
   ]
  },
  {
   "cell_type": "code",
   "execution_count": 55,
   "metadata": {},
   "outputs": [
    {
     "data": {
      "text/plain": [
       "0.32256495086114623"
      ]
     },
     "execution_count": 55,
     "metadata": {},
     "output_type": "execute_result"
    }
   ],
   "source": [
    "# Erreur sur l'échantillon test\n",
    "1-knnF_Opt.score(T_test, z_test)"
   ]
  },
  {
   "cell_type": "code",
   "execution_count": 56,
   "metadata": {},
   "outputs": [
    {
     "data": {
      "text/plain": [
       "KNeighborsClassifier(algorithm='auto', leaf_size=30, metric='minkowski',\n",
       "           metric_params=None, n_jobs=1, n_neighbors=12, p=2,\n",
       "           weights='uniform')"
      ]
     },
     "execution_count": 56,
     "metadata": {},
     "output_type": "execute_result"
    }
   ],
   "source": [
    "# Importation de la fonction\n",
    "from sklearn.neighbors import KNeighborsClassifier  \n",
    "# Détermination des paramètres et définition de l'estimateur\n",
    "knnF = KNeighborsClassifier(n_neighbors=12)\n",
    "\n",
    "# Apprentissage ou estimation du modèle sur l'échantillon d'apprentissage \n",
    "# mais il ne se passe rien  dans le cas de *k*-nn avant en dehors de la phase de prévision. \n",
    "knnF.fit(T_train, z_train)\n",
    "# Les options de cet algorithmes:"
   ]
  },
  {
   "cell_type": "markdown",
   "metadata": {},
   "source": [
    "### Prévision\n",
    "Prévision de la classe de l'échantillon test"
   ]
  },
  {
   "cell_type": "code",
   "execution_count": 57,
   "metadata": {},
   "outputs": [
    {
     "name": "stdout",
     "output_type": "stream",
     "text": [
      "[0 0 0 ..., 0 0 0]\n"
     ]
    }
   ],
   "source": [
    "print(knnF.predict(T_test))"
   ]
  },
  {
   "cell_type": "markdown",
   "metadata": {},
   "source": [
    "Ou de la probabilité des classes."
   ]
  },
  {
   "cell_type": "code",
   "execution_count": 58,
   "metadata": {},
   "outputs": [
    {
     "name": "stdout",
     "output_type": "stream",
     "text": [
      "[[ 1.     0.   ]\n",
      " [ 0.5    0.5  ]\n",
      " [ 0.667  0.333]\n",
      " ..., \n",
      " [ 0.917  0.083]\n",
      " [ 0.583  0.417]\n",
      " [ 0.5    0.5  ]]\n"
     ]
    }
   ],
   "source": [
    "print(knnF.predict_proba(T_test))"
   ]
  },
  {
   "cell_type": "code",
   "execution_count": 59,
   "metadata": {},
   "outputs": [
    {
     "name": "stdout",
     "output_type": "stream",
     "text": [
      "col_0      0     1\n",
      "target            \n",
      "0       5618  1250\n",
      "1       2065  1344\n"
     ]
    }
   ],
   "source": [
    "# prévision de l'échantillon test\n",
    "z_pred = knnF.predict(T_test)\n",
    "# matrice de conprint(knnF.predict(T_test))fusion\n",
    "table=pd.crosstab(z_test,z_pred)\n",
    "print(table)"
   ]
  },
  {
   "cell_type": "code",
   "execution_count": 60,
   "metadata": {},
   "outputs": [
    {
     "data": {
      "image/png": "[encoded data removed]",
      "text/plain": [
       "<matplotlib.figure.Figure at 0x1a15141f28>"
      ]
     },
     "metadata": {},
     "output_type": "display_data"
    }
   ],
   "source": [
    "draw_confusion_matrix(z_test, z_pred, \"\")"
   ]
  },
  {
   "cell_type": "code",
   "execution_count": 61,
   "metadata": {},
   "outputs": [
    {
     "data": {
      "image/png": "[encoded data removed]",
      "text/plain": [
       "<matplotlib.figure.Figure at 0x1a3a1c78d0>"
      ]
     },
     "metadata": {},
     "output_type": "display_data"
    }
   ],
   "source": [
    "# Courbe ROC des données de T_test  et z_test selon le classifieur k-nn\n",
    "draw_roc_curve(knnF, T_test, z_test, \"k-nn\")"
   ]
  },
  {
   "cell_type": "markdown",
   "metadata": {},
   "source": [
    "Le modèle k plus proches voisins  donne une efficacité de prédiction sur le jeu de données test égal à 0.68 et un AUC égal à 0.71. Il est utile de regarder d'autres modèles qui son généralement plus performantes."
   ]
  },
  {
   "cell_type": "markdown",
   "metadata": {},
   "source": [
    "## 2.2) Régression Logistique\n",
    "Cette ancienne méthode reste toujours très utilisée. D'abord par habitude mais aussi par efficacité pour le traitement de données très volumineuses lors de l'estimation de très gros modèles (beaucoup de variables) notamment par exemple pour les données de notre étude.\n",
    "\n",
    "La prévision de la variable target, variable binaire des données \"Train\", se prêtent à une régression logistique. Les versions pénalisées (ridge, lasso, elastic net, lars) du modèle linéaire général sont les algorithmes les plus développés dans Scikit-learn au détriment de ceux plus classiques (forward, backward, step-wise) de sélection de variables en optimisant un critère de type AIC. Une version lasso et une version Ridge de la régression logistique sont testées sur nos jeux de données afin d'introduire la sélection automatique des variables.\n"
   ]
  },
  {
   "cell_type": "markdown",
   "metadata": {},
   "source": [
    "### 2.2.1) Optimisation Lasso\n"
   ]
  },
  {
   "cell_type": "code",
   "execution_count": 96,
   "metadata": {},
   "outputs": [
    {
     "data": {
      "text/plain": [
       "1"
      ]
     },
     "execution_count": 96,
     "metadata": {},
     "output_type": "execute_result"
    }
   ],
   "source": [
    "from sklearn.model_selection import GridSearchCV\n",
    "# grille de valeurs\n",
    "param=[{\"C\":[1,5,7,10,12,15]}]\n",
    "logitLasso = GridSearchCV(LogisticRegression(penalty=\"l1\"),\n",
    "   param,cv=5,n_jobs=-1)\n",
    "Model_logitOpt=logitLasso.fit(T_train, z_train)\n",
    "# paramètre optimal\n",
    "Model_logitOpt.best_params_[\"C\"]"
   ]
  },
  {
   "cell_type": "markdown",
   "metadata": {},
   "source": [
    "Estimation de l'erreur de prévision par le modèle \"optimal\"."
   ]
  },
  {
   "cell_type": "code",
   "execution_count": 67,
   "metadata": {},
   "outputs": [
    {
     "data": {
      "text/plain": [
       "0.17378612435535667"
      ]
     },
     "execution_count": 67,
     "metadata": {},
     "output_type": "execute_result"
    }
   ],
   "source": [
    "# Erreur sur l'échantillon test\n",
    "1-Model_logitOpt.score(T_test, z_test)"
   ]
  },
  {
   "cell_type": "markdown",
   "metadata": {},
   "source": [
    "Petit souci supplémentaire, l'objet produit par GridSearchCV ne connaît pas l'attribut .coef_. Il faut donc ré-estimer le modèle pour connaître les coefficients."
   ]
  },
  {
   "cell_type": "code",
   "execution_count": 136,
   "metadata": {
    "collapsed": true
   },
   "outputs": [],
   "source": [
    "# Estimation avec le paramètre optimal et coefficients\n",
    "#LogisticRegression(penalty=\"l1\",C=Model_logitOpt.best_params_['C']).fit(T_train, z_train).coef_"
   ]
  },
  {
   "cell_type": "code",
   "execution_count": 97,
   "metadata": {},
   "outputs": [
    {
     "data": {
      "image/png": "[encoded data removed]",
      "text/plain": [
       "<matplotlib.figure.Figure at 0x10b159f28>"
      ]
     },
     "metadata": {},
     "output_type": "display_data"
    }
   ],
   "source": [
    "draw_confusion_matrix(z_test, logitLasso.predict(T_test), \"\")"
   ]
  },
  {
   "cell_type": "code",
   "execution_count": 98,
   "metadata": {},
   "outputs": [
    {
     "data": {
      "image/png": "[encoded data removed]",
      "text/plain": [
       "<matplotlib.figure.Figure at 0x1a12b2e978>"
      ]
     },
     "metadata": {},
     "output_type": "display_data"
    }
   ],
   "source": [
    "# Courbe ROC des données de T_test  et z_test selon le classifieur logistic\n",
    "draw_roc_curve(logitLasso, T_test, z_test, \"Régression logistique Lasso\")"
   ]
  },
  {
   "cell_type": "markdown",
   "metadata": {},
   "source": [
    "On remarquons que le modèle de regréssion logistique avec pénalisation Lasso donne une efficacité de prédiction sur le jeu de données test égal à 0.83 et un AUC égal à 0.90."
   ]
  },
  {
   "cell_type": "markdown",
   "metadata": {},
   "source": [
    "### 2.2.2) Optimisation Ridge"
   ]
  },
  {
   "cell_type": "code",
   "execution_count": 91,
   "metadata": {},
   "outputs": [
    {
     "data": {
      "text/plain": [
       "7"
      ]
     },
     "execution_count": 91,
     "metadata": {},
     "output_type": "execute_result"
    }
   ],
   "source": [
    "from sklearn.model_selection import GridSearchCV\n",
    "# grille de valeurs\n",
    "param=[{\"C\":[1,5,7,10,12,15]}]\n",
    "logitRidge = GridSearchCV(LogisticRegression(penalty=\"l2\"),\n",
    "   param,cv=5,n_jobs=-1)\n",
    "Model_logitOpt=logitRidge.fit(T_train, z_train)\n",
    "# paramètre optimal\n",
    "Model_logitOpt.best_params_[\"C\"]"
   ]
  },
  {
   "cell_type": "markdown",
   "metadata": {},
   "source": [
    "Estimation de l'erreur de prévision par le modèle \"optimal\"."
   ]
  },
  {
   "cell_type": "code",
   "execution_count": 92,
   "metadata": {},
   "outputs": [
    {
     "data": {
      "text/plain": [
       "0.17359151503357007"
      ]
     },
     "execution_count": 92,
     "metadata": {},
     "output_type": "execute_result"
    }
   ],
   "source": [
    "# Erreur sur l'échantillon test\n",
    "1-Model_logitOpt.score(T_test, z_test)"
   ]
  },
  {
   "cell_type": "code",
   "execution_count": 93,
   "metadata": {},
   "outputs": [
    {
     "data": {
      "image/png": "[encoded data removed]",
      "text/plain": [
       "<matplotlib.figure.Figure at 0x1a151f3208>"
      ]
     },
     "metadata": {},
     "output_type": "display_data"
    }
   ],
   "source": [
    "draw_confusion_matrix(z_test, Model_logitOpt.predict(T_test), \"\")"
   ]
  },
  {
   "cell_type": "code",
   "execution_count": 95,
   "metadata": {},
   "outputs": [
    {
     "data": {
      "image/png": "[encoded data removed]",
      "text/plain": [
       "<matplotlib.figure.Figure at 0x1096f6cf8>"
      ]
     },
     "metadata": {},
     "output_type": "display_data"
    }
   ],
   "source": [
    "# Courbe ROC des données de T_test  et z_test selon le classifieur logistic Ridge\n",
    "draw_roc_curve(Model_logitOpt, T_test, z_test, \"Régression logistique Ridge\")"
   ]
  },
  {
   "cell_type": "markdown",
   "metadata": {},
   "source": [
    "On remarquons que le modèle de regréssion logistique avec pénalisation Ridge fait aussi bien que la pénalisation Lasso avec une efficacité de prédiction sur le jeu de données test égal à 0.83 et un AUC égal à 0.90."
   ]
  },
  {
   "cell_type": "markdown",
   "metadata": {},
   "source": [
    "## 2.3) Arbre de decision"
   ]
  },
  {
   "cell_type": "markdown",
   "metadata": {},
   "source": [
    "### 2.3.1) Implementation\n",
    "Les arbres binaires de décision (CART: classification and regression trees) s'appliquent à tous types de variables. La complexité du modèle est gérée par deux paramètres : max_depth, qui détermine le nombre max de feuilles dans l'arbre, et le nombre minimales min_samples_split d'observations requises pour rechercher une dichotomie."
   ]
  },
  {
   "cell_type": "markdown",
   "metadata": {},
   "source": [
    "### 2.3.2) Modélisation\n",
    "Estimation de l'arbre complet."
   ]
  },
  {
   "cell_type": "code",
   "execution_count": 69,
   "metadata": {},
   "outputs": [
    {
     "data": {
      "text/plain": [
       "0.21426486328695149"
      ]
     },
     "execution_count": 69,
     "metadata": {},
     "output_type": "execute_result"
    }
   ],
   "source": [
    "from sklearn.tree import DecisionTreeClassifier\n",
    "tree=DecisionTreeClassifier()\n",
    "digit_tree=tree.fit(T_train, z_train) \n",
    "# Estimation de l'erreur de prévision\n",
    "1-digit_tree.score(T_test,z_test)"
   ]
  },
  {
   "cell_type": "markdown",
   "metadata": {},
   "source": [
    "Optimisation du paramètre de complexité du modèle par validation croisée en cherchant l'erreur minimale sur une grille de valeurs du paramètre avec cv=5-fold cross validation et n_jobs=-1 pour une exécution en parallèle utilisant tous les processeurs sauf 1. Remarquons ici que, comme la validation croisée est aléatoire et un arbre un modèle instable, deux exécutions successives ne donnent pas nécessairement le même résultat."
   ]
  },
  {
   "cell_type": "code",
   "execution_count": 27,
   "metadata": {},
   "outputs": [
    {
     "data": {
      "text/plain": [
       "{'max_depth': 9}"
      ]
     },
     "execution_count": 27,
     "metadata": {},
     "output_type": "execute_result"
    }
   ],
   "source": [
    "from sklearn.model_selection import GridSearchCV\n",
    "param=[{\"max_depth\":list(range(2,10))}]\n",
    "Model_tree= GridSearchCV(DecisionTreeClassifier(),param,cv=5,n_jobs=-1)\n",
    "Model_treeopt=Model_tree.fit(T_train, z_train)\n",
    "# paramètre optimal\n",
    "Model_treeopt.best_params_"
   ]
  },
  {
   "cell_type": "markdown",
   "metadata": {},
   "source": [
    "La valeur \"optimale\" du paramètre reste trop importante pour la lisibilité de l'arbre. Une valeur plus faible est utilisée."
   ]
  },
  {
   "cell_type": "code",
   "execution_count": 28,
   "metadata": {},
   "outputs": [
    {
     "data": {
      "text/plain": [
       "0.17592682689500827"
      ]
     },
     "execution_count": 28,
     "metadata": {},
     "output_type": "execute_result"
    }
   ],
   "source": [
    "# Estimation de l'erreur de prévision sur l'échantillon test\n",
    "1-Model_tree.score(T_test,z_test)"
   ]
  },
  {
   "cell_type": "markdown",
   "metadata": {},
   "source": [
    "Notons ici une amélioration de l'erreur."
   ]
  },
  {
   "cell_type": "code",
   "execution_count": 29,
   "metadata": {},
   "outputs": [
    {
     "name": "stdout",
     "output_type": "stream",
     "text": [
      "col_0      0     1\n",
      "target            \n",
      "0       5636  1232\n",
      "1        576  2833\n"
     ]
    }
   ],
   "source": [
    "# prévision de l'échantillon test\n",
    "z_pred = Model_treeopt.predict(T_test)\n",
    "# matrice de confusion\n",
    "table=pd.crosstab(z_test,z_pred)\n",
    "print(table)"
   ]
  },
  {
   "cell_type": "code",
   "execution_count": 30,
   "metadata": {},
   "outputs": [
    {
     "data": {
      "image/png": "[encoded data removed]",
      "text/plain": [
       "<matplotlib.figure.Figure at 0x10c962208>"
      ]
     },
     "metadata": {},
     "output_type": "display_data"
    }
   ],
   "source": [
    "draw_confusion_matrix(z_test, Model_treeopt.predict(T_test), \"\")"
   ]
  },
  {
   "cell_type": "code",
   "execution_count": 31,
   "metadata": {},
   "outputs": [
    {
     "data": {
      "image/png": "[encoded data removed]",
      "text/plain": [
       "<matplotlib.figure.Figure at 0x1a142e9f28>"
      ]
     },
     "metadata": {},
     "output_type": "display_data"
    }
   ],
   "source": [
    "# Courbe ROC des données de T_test  et z_test selon l'arbre de décision'\n",
    "draw_roc_curve(Model_treeopt, T_test, z_test, \"Arbre de décision\")"
   ]
  },
  {
   "cell_type": "markdown",
   "metadata": {},
   "source": [
    "Notre modèle d'arbre de décision donne une efficacité de prédiction sur le jeu de données test égal à 0.82 et un AUC égal à 0.89. Donc cette modélisation fait moins bien sur nos jeux de données que les modèles de regressions logistiques présentés plus haut. "
   ]
  },
  {
   "cell_type": "markdown",
   "metadata": {},
   "source": [
    "Tracer l'arbre avec le logiciel Graphviz."
   ]
  },
  {
   "cell_type": "code",
   "execution_count": 48,
   "metadata": {
    "collapsed": true
   },
   "outputs": [],
   "source": [
    "from sklearn.tree import export_graphviz\n",
    "from sklearn.externals.six import StringIO \n",
    "from IPython.display import Image\n",
    "import pydot\n",
    "#import pydotplus\n",
    "tree=DecisionTreeClassifier(max_depth=Model_treeopt.best_params_['max_depth'])\n",
    "tree.fit(T_train,z_train)\n",
    "dot_data = StringIO() \n",
    "export_graphviz(tree, out_file=dot_data) \n",
    "graph=pydot.graph_from_dot_data(dot_data.getvalue()) \n",
    "#graph.write_pdf(\"treeOpt.pdf\")\n",
    "#Image(filename=\"treeOpt.pdf\")"
   ]
  },
  {
   "cell_type": "markdown",
   "metadata": {},
   "source": [
    "### Importances des variables dans le modèle d'arbre de décision\n",
    "Nous faisons resortir ici les 20 variables qui influencent le plus la variable target. elles sont énumérés par ordre décroissante d'importance. Pour faire simple, plus elle est utilisée \"haut\" dans l'arbres, plus cette variable est importante."
   ]
  },
  {
   "cell_type": "code",
   "execution_count": 28,
   "metadata": {},
   "outputs": [
    {
     "name": "stdout",
     "output_type": "stream",
     "text": [
      "BMI 0.390624123476\n",
      "Medical_History_23 0.171908577198\n",
      "Medical_History_4 0.155110349823\n",
      "Medical_History_15 0.0595085487949\n",
      "Product_Info_4 0.0449891801663\n",
      "Medical_Keyword_3 0.027243814149\n",
      "Wt 0.0260605306995\n",
      "Ins_Age 0.0220306714972\n",
      "InsuredInfo_6 0.0164275619816\n",
      "Medical_History_30 0.0110541221201\n",
      "Medical_Keyword_15 0.0109120652786\n",
      "Medical_History_24 0.00913614648545\n",
      "InsuredInfo_2 0.00632298794719\n",
      "Medical_Keyword_23 0.00473178363535\n",
      "Medical_History_1 0.00423626784759\n",
      "Family_Hist_3 0.00377787811376\n",
      "Medical_Keyword_41 0.00369844331248\n",
      "Employment_Info_6 0.00259276100496\n",
      "Medical_History_2 0.00226635340169\n",
      "Family_Hist_4 0.00202224082461\n"
     ]
    }
   ],
   "source": [
    "tree=DecisionTreeClassifier(max_depth = 9)\n",
    "digit_tree=tree.fit(T_train, z_train)\n",
    "# Importance décroissante des variables\n",
    "importances = digit_tree.feature_importances_\n",
    "indices = np.argsort(importances)[::-1]\n",
    "for f in range(20):\n",
    "    print(T_train.columns[indices[f]], importances[indices[f]])"
   ]
  },
  {
   "cell_type": "code",
   "execution_count": 29,
   "metadata": {},
   "outputs": [
    {
     "data": {
      "image/png": "[encoded data removed]",
      "text/plain": [
       "<matplotlib.figure.Figure at 0x10b22e400>"
      ]
     },
     "metadata": {},
     "output_type": "display_data"
    }
   ],
   "source": [
    "# Graphe des importances\n",
    "plt.figure()\n",
    "plt.title(\"Importances des variables\")\n",
    "plt.bar(range(T_train.shape[1]), importances[indices])\n",
    "plt.xticks(range(T_train.shape[1]), indices)\n",
    "plt.xlim([-1, T_train.shape[1]])\n",
    "plt.show()"
   ]
  },
  {
   "cell_type": "markdown",
   "metadata": {},
   "source": [
    "## 2.4) Random forest\n",
    "L'algorithme d'agrégation de modèles le plus utilisé est celui des forêts aléatoires (random forest) de Breiman (2001) ce qui ne signifie pas qu'il conduit toujours à la meilleure prévision.\n",
    "\n",
    "Bien que cet algorithme soit l'un des algorithmes non linéaires les plus aisés à comprendre, le paramétrer n'est pas simple et nous ne pouvons être certain en tant que debutant de bien le faire. Et pour cause, il dispose d'une multiplicité de paramètres. Son implementation dans scikit-learn fait appel à pas moins de 14 paramètres dont les plus important sont:\n",
    "##### n_estimators \n",
    "qui est le nombre d'arbres différents à entrainer,  \n",
    "##### criterion \n",
    "qui est le critère statistique pour couper les feuilles en cours de construction (Gini pour la classification).\n",
    "##### max_depth \n",
    "qui est la profondeur maximale de chaque arbres qui est très important qui dépend du niveau d'interaction entre les variables,\n",
    "##### max_features\n",
    "qui est le paramètre que nous optimiserons, c'est le nombre de variables tirées aléatoirement pour la recherche de la division optimale d'un noeud. \n",
    "Par défaut, il prend la valeur $\\frac{p}{3}$ en régression et $\\sqrt{p}$ en discrimination où $p$ est le nombre de variables."
   ]
  },
  {
   "cell_type": "code",
   "execution_count": 137,
   "metadata": {},
   "outputs": [
    {
     "data": {
      "text/plain": [
       "{'max_features': 12}"
      ]
     },
     "execution_count": 137,
     "metadata": {},
     "output_type": "execute_result"
    }
   ],
   "source": [
    "# optimisation de max_features\n",
    "param=[{\"max_features\":list(range(2,15))}]\n",
    "Model_rf= GridSearchCV(RandomForestClassifier(n_estimators=100),param,cv=5,n_jobs=-1)\n",
    "Model_rfOpt=titan_rf.fit(T_train, z_train)\n",
    "# paramètre optimal\n",
    "Model_rfOpt.best_params_"
   ]
  },
  {
   "cell_type": "code",
   "execution_count": 138,
   "metadata": {},
   "outputs": [
    {
     "data": {
      "text/plain": [
       "0.16230417436995237"
      ]
     },
     "execution_count": 138,
     "metadata": {},
     "output_type": "execute_result"
    }
   ],
   "source": [
    "# erreur de prévision sur le test\n",
    "1-Model_rfOpt.score(T_test,z_test)"
   ]
  },
  {
   "cell_type": "code",
   "execution_count": 140,
   "metadata": {},
   "outputs": [
    {
     "name": "stdout",
     "output_type": "stream",
     "text": [
      "col_0      0     1\n",
      "target            \n",
      "0       6107   761\n",
      "1        907  2502\n"
     ]
    }
   ],
   "source": [
    "# prévision\n",
    "z_chap = Model_rfOpt.predict(T_test)\n",
    "# matrice de confusion\n",
    "table=pd.crosstab(z_test,z_chap)\n",
    "print(table)"
   ]
  },
  {
   "cell_type": "code",
   "execution_count": 142,
   "metadata": {
    "collapsed": true
   },
   "outputs": [],
   "source": [
    "# définition des paramètres\n",
    "forest = RandomForestClassifier(n_estimators=500, criterion='gini', max_depth=None, \n",
    "    min_samples_split=2, min_samples_leaf=1, max_features=12, max_leaf_nodes=None,\n",
    "                                bootstrap=True, oob_score=True)\n",
    "# apprentissage\n",
    "forest = forest.fit(T_train,z_train)"
   ]
  },
  {
   "cell_type": "code",
   "execution_count": 143,
   "metadata": {},
   "outputs": [
    {
     "data": {
      "image/png": "[encoded data removed]",
      "text/plain": [
       "<matplotlib.figure.Figure at 0x1a220deba8>"
      ]
     },
     "metadata": {},
     "output_type": "display_data"
    }
   ],
   "source": [
    "draw_confusion_matrix(z_test, forest.predict(T_test), \"\")"
   ]
  },
  {
   "cell_type": "code",
   "execution_count": 144,
   "metadata": {},
   "outputs": [
    {
     "data": {
      "image/png": "[encoded data removed]",
      "text/plain": [
       "<matplotlib.figure.Figure at 0x1a31e9bfd0>"
      ]
     },
     "metadata": {},
     "output_type": "display_data"
    }
   ],
   "source": [
    "# Courbe ROC des données de T_test  et z_test selon le classifieur Random Forest\n",
    "draw_roc_curve(forest, T_test, z_test, \"target prediction par Random forest\")"
   ]
  },
  {
   "cell_type": "markdown",
   "metadata": {},
   "source": [
    "Notre modèle Random Forest donne une efficacité de prédiction sur le jeu de données test égal à 0.84 et un AUC égal à 0.92. Donc cette modélisation est bien plus performante sur nos jeux de données que les modèles précédent."
   ]
  },
  {
   "cell_type": "markdown",
   "metadata": {},
   "source": [
    "### Importance des variables dans le modèle Random Forest\n",
    "Nous faisons resortir ici les 20 variables qui influencent le plus la variable target. elles sont énumérés par ordre décroissante d'importance. Pour faire simple, plus est utilisée par un nombre significatif d'arbres et plus elle est utilisée \"haut\" dans les arbres, plus cette variable est importante. Par exemple, en assurance, on peut s'attendre à ce que l'âge et le sexe, deux critères métier très discriminants, se retrouvent parmi les variables les plus importantes du modèles basé sur un algorithme random forest."
   ]
  },
  {
   "cell_type": "code",
   "execution_count": 26,
   "metadata": {},
   "outputs": [
    {
     "name": "stdout",
     "output_type": "stream",
     "text": [
      "BMI 0.135999694981\n",
      "Wt 0.0965818519943\n",
      "Medical_History_23 0.0406500864191\n",
      "Medical_History_15 0.0402061360678\n",
      "Ins_Age 0.0373351423149\n",
      "Medical_History_4 0.0373181914567\n",
      "Product_Info_4 0.0371574187722\n",
      "Medical_Keyword_15 0.0356918958549\n",
      "Employment_Info_1 0.0290175224198\n",
      "Family_Hist_4 0.0280734448158\n",
      "Ht 0.0274779778849\n",
      "Medical_History_1 0.0251174396305\n",
      "Medical_History_2 0.0242610654503\n",
      "Employment_Info_6 0.0238852287516\n",
      "Family_Hist_2 0.0233777654914\n",
      "Family_Hist_3 0.0194422370527\n",
      "Insurance_History_5 0.0187546746216\n",
      "InsuredInfo_3 0.0157637354101\n",
      "InsuredInfo_6 0.0147641325037\n",
      "Family_Hist_5 0.0142310318205\n"
     ]
    }
   ],
   "source": [
    "rf= RandomForestClassifier(n_estimators=500,max_features=12)\n",
    "Forest=rf.fit(T_train, z_train)\n",
    "# Importance décroissante des variables\n",
    "importances = forest.feature_importances_\n",
    "indices = np.argsort(importances)[::-1]\n",
    "for f in range(20):\n",
    "    print(T_train.columns[indices[f]], importances[indices[f]])"
   ]
  },
  {
   "cell_type": "code",
   "execution_count": 27,
   "metadata": {},
   "outputs": [
    {
     "data": {
      "image/png": "[encoded data removed]",
      "text/plain": [
       "<matplotlib.figure.Figure at 0x1a13ef5d68>"
      ]
     },
     "metadata": {},
     "output_type": "display_data"
    }
   ],
   "source": [
    "# Graphe des importances\n",
    "plt.figure()\n",
    "plt.title(\"Importances des variables\")\n",
    "plt.bar(range(T_train.shape[1]), importances[indices])\n",
    "plt.xticks(range(T_train.shape[1]), indices)\n",
    "plt.xlim([-1, T_train.shape[1]])\n",
    "plt.show()"
   ]
  },
  {
   "cell_type": "markdown",
   "metadata": {},
   "source": [
    "## 2.5) Analyse de l'influence des variables les plus importantes sur la cible\n",
    "Lorsque nous observons les section importance des variables dans les modèles Arbre de décision et Random Forest, il est évident que les variables 'BMI', 'Wt', 'Medical_History_23' compte parmi les plus importante de nos jeux de données. Nous nous proposons dans la suite d'étudier l'influence de celles-ci sur la variable cible 'target'."
   ]
  },
  {
   "cell_type": "code",
   "execution_count": 37,
   "metadata": {},
   "outputs": [
    {
     "data": {
      "text/plain": [
       "<seaborn.axisgrid.FacetGrid at 0x1a313709e8>"
      ]
     },
     "execution_count": 37,
     "metadata": {},
     "output_type": "execute_result"
    },
    {
     "data": {
      "image/png": "[encoded data removed]",
      "text/plain": [
       "<matplotlib.figure.Figure at 0x1a315ce278>"
      ]
     },
     "metadata": {},
     "output_type": "display_data"
    }
   ],
   "source": [
    "g = sns.FacetGrid(Train, col='target')\n",
    "g.map(plt.hist, 'BMI', bins=20)"
   ]
  },
  {
   "cell_type": "code",
   "execution_count": 38,
   "metadata": {},
   "outputs": [
    {
     "data": {
      "text/plain": [
       "<seaborn.axisgrid.FacetGrid at 0x1a3179dd30>"
      ]
     },
     "execution_count": 38,
     "metadata": {},
     "output_type": "execute_result"
    },
    {
     "data": {
      "image/png": "[encoded data removed]",
      "text/plain": [
       "<matplotlib.figure.Figure at 0x1a317aeb70>"
      ]
     },
     "metadata": {},
     "output_type": "display_data"
    }
   ],
   "source": [
    "g = sns.FacetGrid(Train, col='target')\n",
    "g.map(plt.hist, 'Wt', bins=20)"
   ]
  },
  {
   "cell_type": "markdown",
   "metadata": {},
   "source": [
    "Enfin, nous générons quelques paires de points pour observer la distribution des données d'une caractéristique à l'autre(pour quelques variables les plus importantes). Encore une fois, nous utilisons Seaborn pour y arriver."
   ]
  },
  {
   "cell_type": "code",
   "execution_count": 43,
   "metadata": {},
   "outputs": [
    {
     "name": "stderr",
     "output_type": "stream",
     "text": [
      "/anaconda3/lib/python3.6/site-packages/statsmodels/nonparametric/kde.py:494: RuntimeWarning: invalid value encountered in true_divide\n",
      "  binned = fast_linbin(X,a,b,gridsize)/(delta*nobs)\n",
      "/anaconda3/lib/python3.6/site-packages/statsmodels/nonparametric/kdetools.py:34: RuntimeWarning: invalid value encountered in double_scalars\n",
      "  FAC1 = 2*(np.pi*bw/RANGE)**2\n"
     ]
    },
    {
     "data": {
      "text/plain": [
       "<seaborn.axisgrid.PairGrid at 0x1a13d4a668>"
      ]
     },
     "execution_count": 43,
     "metadata": {},
     "output_type": "execute_result"
    },
    {
     "data": {
      "image/png": "[encoded data removed]",
      "text/plain": [
       "<matplotlib.figure.Figure at 0x1a13d4aa20>"
      ]
     },
     "metadata": {},
     "output_type": "display_data"
    }
   ],
   "source": [
    "g = sns.pairplot(Train[[u'target', u'BMI', u'Wt', u'Medical_History_23']], \n",
    "                 hue='target', palette = 'seismic',size=1.2,diag_kind = 'kde',\n",
    "                 diag_kws=dict(shade=True),plot_kws=dict(s=10) )\n",
    "g.set(xticklabels=[])"
   ]
  },
  {
   "cell_type": "markdown",
   "metadata": {},
   "source": [
    "### Scatter plot \n",
    "On trace sur un graphique les point (Wt,BMI) en mettant target=0 et target=1 avec des couleurs différentes (violet pour target=0 et bleu pour target=1)."
   ]
  },
  {
   "cell_type": "markdown",
   "metadata": {},
   "source": [
    "<span style=\"color:red\">\n",
    "Dommage de ne pas faire un hue ici\n",
    "</span>"
   ]
  },
  {
   "cell_type": "code",
   "execution_count": 48,
   "metadata": {},
   "outputs": [
    {
     "data": {
      "text/plain": [
       "<matplotlib.axes._subplots.AxesSubplot at 0x1a15de0c18>"
      ]
     },
     "execution_count": 48,
     "metadata": {},
     "output_type": "execute_result"
    },
    {
     "data": {
      "image/png": "[encoded data removed]",
      "text/plain": [
       "<matplotlib.figure.Figure at 0x1a16a5a908>"
      ]
     },
     "metadata": {},
     "output_type": "display_data"
    }
   ],
   "source": [
    "cible_0 = Train[\"target\"]==0\n",
    "cible_1 = Train[\"target\"]==1\n",
    "ax = Train[cible_0].plot.scatter(x=\"Wt\", y=\"BMI\", color=\"violet\")\n",
    "Train[cible_1].plot.scatter(x=\"Wt\", y=\"BMI\", color=\"blue\", ax=ax)\n"
   ]
  },
  {
   "cell_type": "markdown",
   "metadata": {},
   "source": [
    "Il est facile de voir à travers ce graphique que les couples (Wt,BMI) tels que Wt<0.5 et BMI< 0.6 sont ceux des individus qui atteignent le plus souvent l'objectif. "
   ]
  },
  {
   "cell_type": "code",
   "execution_count": 46,
   "metadata": {},
   "outputs": [
    {
     "data": {
      "text/plain": [
       "<matplotlib.axes._subplots.AxesSubplot at 0x1a13e0a128>"
      ]
     },
     "execution_count": 46,
     "metadata": {},
     "output_type": "execute_result"
    },
    {
     "data": {
      "image/png": "[encoded data removed]",
      "text/plain": [
       "<matplotlib.figure.Figure at 0x1a13df5cc0>"
      ]
     },
     "metadata": {},
     "output_type": "display_data"
    }
   ],
   "source": [
    "cyclistes.groupby([\"est_adulte\"])[\"age\"].mean()cible_0 = Train[\"target\"]==0\n",
    "cible_1 = Train[\"target\"]==1\n",
    "ax = Train[cible_0].plot.scatter(x=\"Medical_History_23\", y=\"BMI\", color=\"violet\")\n",
    "Train[cible_1].plot.scatter(x=\"Medical_History_23\", y=\"BMI\", color=\"blue\", ax=ax)"
   ]
  },
  {
   "cell_type": "code",
   "execution_count": 23,
   "metadata": {},
   "outputs": [
    {
     "data": {
      "text/plain": [
       "target\n",
       "0    0.506550\n",
       "1    0.393359\n",
       "Name: BMI, dtype: float64"
      ]
     },
     "execution_count": 23,
     "metadata": {},
     "output_type": "execute_result"
    }
   ],
   "source": [
    "Train.groupby([\"target\"])[\"BMI\"].mean()"
   ]
  },
  {
   "cell_type": "markdown",
   "metadata": {},
   "source": [
    "La moyenne de la variable BMI pour les individus qui atteignent la cible est 0.393359. elle est inférieur à celle des individus pour lesquels la cible n'est pas atteinte. Ceci est très bien visible à travers le graphique ci-dessous"
   ]
  },
  {
   "cell_type": "code",
   "execution_count": 24,
   "metadata": {},
   "outputs": [
    {
     "data": {
      "text/plain": [
       "<matplotlib.axes._subplots.AxesSubplot at 0x1a144d42b0>"
      ]
     },
     "execution_count": 24,
     "metadata": {},
     "output_type": "execute_result"
    },
    {
     "data": {
      "image/png": "[encoded data removed]",
      "text/plain": [
       "<matplotlib.figure.Figure at 0x1a144d43c8>"
      ]
     },
     "metadata": {},
     "output_type": "display_data"
    }
   ],
   "source": [
    "%matplotlib inline \n",
    "Train.groupby([\"target\"])[\"BMI\"].mean().plot.bar(title=\"BMI moyen\")"
   ]
  },
  {
   "cell_type": "code",
   "execution_count": 25,
   "metadata": {},
   "outputs": [
    {
     "data": {
      "text/plain": [
       "<matplotlib.axes._subplots.AxesSubplot at 0x1a143fe6d8>"
      ]
     },
     "execution_count": 25,
     "metadata": {},
     "output_type": "execute_result"
    },
    {
     "data": {
      "image/png": "[encoded data removed]",
      "text/plain": [
       "<matplotlib.figure.Figure at 0x10c962198>"
      ]
     },
     "metadata": {},
     "output_type": "display_data"
    }
   ],
   "source": [
    "grouped  = Train.groupby([\"target\"])[\"BMI\"]\n",
    "grouped.agg([\"min\", \"mean\",  \"max\"]).plot.bar()"
   ]
  },
  {
   "cell_type": "markdown",
   "metadata": {},
   "source": [
    "## 2.6) Gradient boosting\n",
    "Le gradient boosting est un algorithme complexe dont le paramètrage n'est pas aisé. Par rapport au random forest, il présente l'incovenient d'être itératif et donc de ne pas être un candidat idéal à la parallèlisation. Autrement dit, la recherche des bons paramètres est \"très très\" longue. les paramètres les plus importants sont:  \n",
    "##### loss \n",
    "qui est la fonction de coût utilisé pour la descente du gradient,  \n",
    "##### Learning_rate \n",
    "qui définit le pas à chaque descente de gradient,  \n",
    "##### n_estimators \n",
    "qui est tout simplement le nombre d'estimateurs ou d'itération qu'on fera,  \n",
    "##### max_depth \n",
    "qui est la profondeur des arbres entrainés(ici peu profond que dans random forest). Dans notre étude nous optimiserons le paramètre learning uniquement, la faute à la puissance de calcul."
   ]
  },
  {
   "cell_type": "code",
   "execution_count": 51,
   "metadata": {},
   "outputs": [
    {
     "name": "stdout",
     "output_type": "stream",
     "text": [
      "Meilleur score = 0.155386, Meilleur paramètre = {'learning_rate': 0.1, 'n_estimators': 500}\n"
     ]
    }
   ],
   "source": [
    "from sklearn.model_selection import GridSearchCV\n",
    "from sklearn.ensemble import GradientBoostingClassifier\n",
    "# Optimisation de deux paramètres\n",
    "paramGrid = [\n",
    "  {'n_estimators': [500], 'learning_rate': [0.1,0.2,0.3]}\n",
    " ]\n",
    "gbmC= GridSearchCV(GradientBoostingClassifier(),paramGrid,cv=5,n_jobs=-1)\n",
    "gbmOpt=gbmC.fit(T_train, z_train)\n",
    "# paramètre optimal\n",
    "print(\"Meilleur score = %f, Meilleur paramètre = %s\" \n",
    "      % (1. - gbmOpt.best_score_,gbmOpt.best_params_))"
   ]
  },
  {
   "cell_type": "code",
   "execution_count": 52,
   "metadata": {},
   "outputs": [
    {
     "data": {
      "image/png": "[encoded data removed]",
      "text/plain": [
       "<matplotlib.figure.Figure at 0x1a13b46c18>"
      ]
     },
     "metadata": {},
     "output_type": "display_data"
    }
   ],
   "source": [
    "draw_confusion_matrix(z_test, gbmOpt.predict(T_test), \"\")"
   ]
  },
  {
   "cell_type": "code",
   "execution_count": 54,
   "metadata": {},
   "outputs": [
    {
     "data": {
      "image/png": "[encoded data removed]",
      "text/plain": [
       "<matplotlib.figure.Figure at 0x1a319882e8>"
      ]
     },
     "metadata": {},
     "output_type": "display_data"
    }
   ],
   "source": [
    "# Courbe ROC des données de T_test  et z_test selon le classifieur gbm\n",
    "draw_roc_curve(gbmOpt, T_test, z_test, \"gbm\")"
   ]
  },
  {
   "cell_type": "markdown",
   "metadata": {},
   "source": [
    "Notre modèle Gradient boosting donne une efficacité de prédiction sur le jeu de données test égal à 0.85 et un AUC égal à 0.92. Donc cette modélisation fait aussi bien que le modèle Random Forest."
   ]
  },
  {
   "cell_type": "markdown",
   "metadata": {
    "collapsed": true
   },
   "source": [
    "# Conclusion\n",
    "Au final, nous pour retenir pour nos données deux modèlisations possibles: qui resortent tous de bonne performance en terme de prédiction de la variable cible \"target\". Nous pensons qu'on peut encore faire mieux en terme de performance avec ces deux modélisation notamment en élargisant un peu plus les espace de sélection de nos variables."
   ]
  }
 ],
 "metadata": {
  "kernelspec": {
   "display_name": "Python 3",
   "language": "python",
   "name": "python3"
  },
  "language_info": {
   "codemirror_mode": {
    "name": "ipython",
    "version": 3
   },
   "file_extension": ".py",
   "mimetype": "text/x-python",
   "name": "python",
   "nbconvert_exporter": "python",
   "pygments_lexer": "ipython3",
   "version": "3.5.4"
  }
 },
 "nbformat": 4,
 "nbformat_minor": 2
}
