{
 "cells": [
  {
   "cell_type": "markdown",
   "metadata": {},
   "source": [
    "# Projet 1"
   ]
  },
  {
   "cell_type": "markdown",
   "metadata": {},
   "source": [
    "## Chargement des packages"
   ]
  },
  {
   "cell_type": "code",
   "execution_count": 1,
   "metadata": {
    "collapsed": true
   },
   "outputs": [],
   "source": [
    "import pandas as pd"
   ]
  },
  {
   "cell_type": "code",
   "execution_count": 2,
   "metadata": {
    "collapsed": true
   },
   "outputs": [],
   "source": [
    "import numpy as np\n",
    "import matplotlib.pyplot as plt"
   ]
  },
  {
   "cell_type": "markdown",
   "metadata": {},
   "source": [
    "## Chargement des bases de données"
   ]
  },
  {
   "cell_type": "code",
   "execution_count": 3,
   "metadata": {
    "collapsed": true
   },
   "outputs": [],
   "source": [
    "path = \"./../projetTrain.csv\"\n",
    "PT   = pd.read_csv(path)"
   ]
  },
  {
   "cell_type": "code",
   "execution_count": 4,
   "metadata": {
    "collapsed": true
   },
   "outputs": [],
   "source": [
    "path = \"./../projetValid.csv\"\n",
    "PV   = pd.read_csv(path)"
   ]
  },
  {
   "cell_type": "markdown",
   "metadata": {},
   "source": [
    "## Traitement des données"
   ]
  },
  {
   "cell_type": "code",
   "execution_count": 5,
   "metadata": {
    "collapsed": true
   },
   "outputs": [],
   "source": [
    "#Ajouter la colonne Target à PV et lui assigner la valeur -1\n",
    "\n",
    "PV['target'] = -1"
   ]
  },
  {
   "cell_type": "code",
   "execution_count": 6,
   "metadata": {
    "collapsed": true
   },
   "outputs": [],
   "source": [
    "# Merge des deux tables\n",
    "\n",
    "P = pd.concat([PT, PV])"
   ]
  },
  {
   "cell_type": "code",
   "execution_count": 7,
   "metadata": {},
   "outputs": [
    {
     "data": {
      "text/plain": [
       "(51381, 128)"
      ]
     },
     "execution_count": 7,
     "metadata": {},
     "output_type": "execute_result"
    }
   ],
   "source": [
    "PT.shape"
   ]
  },
  {
   "cell_type": "code",
   "execution_count": 8,
   "metadata": {},
   "outputs": [
    {
     "data": {
      "text/plain": [
       "(8000, 128)"
      ]
     },
     "execution_count": 8,
     "metadata": {},
     "output_type": "execute_result"
    }
   ],
   "source": [
    "PV.shape"
   ]
  },
  {
   "cell_type": "code",
   "execution_count": 9,
   "metadata": {},
   "outputs": [
    {
     "data": {
      "text/plain": [
       "(59381, 128)"
      ]
     },
     "execution_count": 9,
     "metadata": {},
     "output_type": "execute_result"
    }
   ],
   "source": [
    "P.shape"
   ]
  },
  {
   "cell_type": "code",
   "execution_count": 10,
   "metadata": {},
   "outputs": [
    {
     "data": {
      "text/plain": [
       "Id                     39487.000000\n",
       "Product_Info_1             1.000000\n",
       "Product_Info_3            26.000000\n",
       "Product_Info_4             0.230769\n",
       "Product_Info_5             2.000000\n",
       "Product_Info_6             3.000000\n",
       "Product_Info_7             1.000000\n",
       "Ins_Age                    0.402985\n",
       "Ht                         0.709091\n",
       "Wt                         0.288703\n",
       "BMI                        0.451349\n",
       "Employment_Info_1          0.060000\n",
       "Employment_Info_2          9.000000\n",
       "Employment_Info_3          1.000000\n",
       "Employment_Info_4          0.000000\n",
       "Employment_Info_5          2.000000\n",
       "Employment_Info_6          0.250000\n",
       "InsuredInfo_1              1.000000\n",
       "InsuredInfo_2              2.000000\n",
       "InsuredInfo_3              6.000000\n",
       "InsuredInfo_4              3.000000\n",
       "InsuredInfo_5              1.000000\n",
       "InsuredInfo_6              1.000000\n",
       "InsuredInfo_7              1.000000\n",
       "Insurance_History_1        2.000000\n",
       "Insurance_History_2        1.000000\n",
       "Insurance_History_3        3.000000\n",
       "Insurance_History_4        2.000000\n",
       "Insurance_History_5        0.000973\n",
       "Insurance_History_7        1.000000\n",
       "                           ...     \n",
       "Medical_Keyword_20         0.000000\n",
       "Medical_Keyword_21         0.000000\n",
       "Medical_Keyword_22         0.000000\n",
       "Medical_Keyword_23         0.000000\n",
       "Medical_Keyword_24         0.000000\n",
       "Medical_Keyword_25         0.000000\n",
       "Medical_Keyword_26         0.000000\n",
       "Medical_Keyword_27         0.000000\n",
       "Medical_Keyword_28         0.000000\n",
       "Medical_Keyword_29         0.000000\n",
       "Medical_Keyword_30         0.000000\n",
       "Medical_Keyword_31         0.000000\n",
       "Medical_Keyword_32         0.000000\n",
       "Medical_Keyword_33         0.000000\n",
       "Medical_Keyword_34         0.000000\n",
       "Medical_Keyword_35         0.000000\n",
       "Medical_Keyword_36         0.000000\n",
       "Medical_Keyword_37         0.000000\n",
       "Medical_Keyword_38         0.000000\n",
       "Medical_Keyword_39         0.000000\n",
       "Medical_Keyword_40         0.000000\n",
       "Medical_Keyword_41         0.000000\n",
       "Medical_Keyword_42         0.000000\n",
       "Medical_Keyword_43         0.000000\n",
       "Medical_Keyword_44         0.000000\n",
       "Medical_Keyword_45         0.000000\n",
       "Medical_Keyword_46         0.000000\n",
       "Medical_Keyword_47         0.000000\n",
       "Medical_Keyword_48         0.000000\n",
       "target                     0.000000\n",
       "Length: 127, dtype: float64"
      ]
     },
     "execution_count": 10,
     "metadata": {},
     "output_type": "execute_result"
    }
   ],
   "source": [
    "P.median()"
   ]
  },
  {
   "cell_type": "code",
   "execution_count": 11,
   "metadata": {
    "collapsed": true
   },
   "outputs": [],
   "source": [
    "P = P.fillna(P.median()) # Remplacer les NA avec les valeurs medianes des colonnes"
   ]
  },
  {
   "cell_type": "code",
   "execution_count": 12,
   "metadata": {
    "collapsed": true
   },
   "outputs": [],
   "source": [
    "train = P[P['target'] > -1] # Extraction du fichier training"
   ]
  },
  {
   "cell_type": "code",
   "execution_count": 13,
   "metadata": {
    "collapsed": true
   },
   "outputs": [],
   "source": [
    "# Dataset split\n",
    "\n",
    "from sklearn.model_selection import train_test_split\n",
    "\n",
    "seed = 0\n",
    "test_size = 0.30\n",
    "sub_train, sub_test = train_test_split(train, test_size=test_size, random_state=seed)"
   ]
  },
  {
   "cell_type": "code",
   "execution_count": 14,
   "metadata": {
    "collapsed": true
   },
   "outputs": [],
   "source": [
    "Y_train = sub_train.target.values"
   ]
  },
  {
   "cell_type": "code",
   "execution_count": 15,
   "metadata": {
    "collapsed": true
   },
   "outputs": [],
   "source": [
    "X_train = sub_train.drop(['target'], axis=1)"
   ]
  },
  {
   "cell_type": "code",
   "execution_count": 16,
   "metadata": {
    "collapsed": true
   },
   "outputs": [],
   "source": [
    "Y_test = sub_test.target.values"
   ]
  },
  {
   "cell_type": "code",
   "execution_count": 17,
   "metadata": {
    "collapsed": true
   },
   "outputs": [],
   "source": [
    "X_test = sub_test.drop(['target'], axis=1)"
   ]
  },
  {
   "cell_type": "code",
   "execution_count": 18,
   "metadata": {
    "collapsed": true
   },
   "outputs": [],
   "source": [
    "from sklearn import preprocessing\n",
    "\n",
    "for f in train.columns:\n",
    "    if train[f].dtype=='object':\n",
    "        #print(f)\n",
    "        lbl = preprocessing.LabelEncoder()\n",
    "        lbl.fit(list(X_train[f].values) + list(X_test[f].values))\n",
    "        #lbl.fit(list(train[f].values))\n",
    "        X_train[f] = lbl.transform(list(X_train[f].values))\n",
    "        X_test[f] = lbl.transform(list(X_test[f].values))"
   ]
  },
  {
   "cell_type": "markdown",
   "metadata": {},
   "source": [
    "## Model 1 : Random Forest"
   ]
  },
  {
   "cell_type": "code",
   "execution_count": 19,
   "metadata": {},
   "outputs": [
    {
     "name": "stdout",
     "output_type": "stream",
     "text": [
      "RandomForestClassifier(bootstrap=True, class_weight=None, criterion='gini',\n",
      "            max_depth=None, max_features='auto', max_leaf_nodes=None,\n",
      "            min_impurity_split=1e-07, min_samples_leaf=1,\n",
      "            min_samples_split=2, min_weight_fraction_leaf=0.0,\n",
      "            n_estimators=10, n_jobs=2, oob_score=False, random_state=0,\n",
      "            verbose=0, warm_start=False)\n",
      "Accuracy: 81.24%\n"
     ]
    }
   ],
   "source": [
    "# 1er modèle : Random Forest\n",
    "\n",
    "from sklearn.ensemble import RandomForestClassifier\n",
    "\n",
    "clf = RandomForestClassifier(n_jobs=2, random_state=0)\n",
    "\n",
    "clf.fit(X_train, Y_train) #training\n",
    "\n",
    "from sklearn.metrics import accuracy_score\n",
    "\n",
    "predictions = clf.predict(X_test) # prediction with the trained model\n",
    "\n",
    "accuracy = accuracy_score(Y_test, predictions)\n",
    "\n",
    "print(clf)\n",
    "print(\"Accuracy: %.2f%%\" % (accuracy * 100.0))"
   ]
  },
  {
   "cell_type": "markdown",
   "metadata": {},
   "source": [
    "## Model 2 : Decision trees"
   ]
  },
  {
   "cell_type": "code",
   "execution_count": 20,
   "metadata": {},
   "outputs": [
    {
     "name": "stdout",
     "output_type": "stream",
     "text": [
      "DecisionTreeClassifier(class_weight=None, criterion='gini', max_depth=None,\n",
      "            max_features=None, max_leaf_nodes=None,\n",
      "            min_impurity_split=1e-07, min_samples_leaf=1,\n",
      "            min_samples_split=2, min_weight_fraction_leaf=0.0,\n",
      "            presort=False, random_state=None, splitter='best')\n",
      "Accuracy: 78.44%\n"
     ]
    }
   ],
   "source": [
    "from sklearn import tree\n",
    "\n",
    "clf = tree.DecisionTreeClassifier()\n",
    "\n",
    "clf.fit(X_train, Y_train)\n",
    "\n",
    "from sklearn.metrics import accuracy_score\n",
    "\n",
    "predictions = clf.predict(X_test) # prediction with the trained model\n",
    "\n",
    "accuracy = accuracy_score(Y_test, predictions)\n",
    "print(clf)\n",
    "print(\"Accuracy: %.2f%%\" % (accuracy * 100.0))"
   ]
  },
  {
   "cell_type": "markdown",
   "metadata": {},
   "source": [
    "## Model 3 : Elastic Net"
   ]
  },
  {
   "attachments": {},
   "cell_type": "markdown",
   "metadata": {},
   "source": [
    "<span style=\"color:red\">\n",
    "vous ne pouvez pas calculer un r2 sur une classification !\n",
    "</span>"
   ]
  },
  {
   "cell_type": "code",
   "execution_count": 21,
   "metadata": {},
   "outputs": [
    {
     "name": "stdout",
     "output_type": "stream",
     "text": [
      "ElasticNet(alpha=0.1, copy_X=True, fit_intercept=True, l1_ratio=0.7,\n",
      "      max_iter=1000, normalize=False, positive=False, precompute=False,\n",
      "      random_state=None, selection='cyclic', tol=0.0001, warm_start=False)\n",
      "r^2 on test data : 0.096159\n"
     ]
    }
   ],
   "source": [
    "from sklearn.linear_model import ElasticNet\n",
    "\n",
    "enet = ElasticNet(alpha=0.1, l1_ratio=0.7)\n",
    "\n",
    "enet.fit(X_train, Y_train)\n",
    "\n",
    "from sklearn.metrics import accuracy_score\n",
    "\n",
    "predictions = enet.predict(X_test) # prediction with the trained model\n",
    "\n",
    "\n",
    "from sklearn.metrics import r2_score\n",
    "r2_score_enet = r2_score(Y_test, predictions)\n",
    "\n",
    "print(enet)\n",
    "\n",
    "print(\"r^2 on test data : %f\" % r2_score_enet)"
   ]
  },
  {
   "cell_type": "markdown",
   "metadata": {},
   "source": [
    "## Model 4 : Lasso"
   ]
  },
  {
   "cell_type": "markdown",
   "metadata": {},
   "source": [
    "<span style=\"color:red\">\n",
    "vous ne pouvez pas calculer un r2 sur une classification !\n",
    "</span>"
   ]
  },
  {
   "cell_type": "code",
   "execution_count": 22,
   "metadata": {},
   "outputs": [
    {
     "name": "stdout",
     "output_type": "stream",
     "text": [
      "Lasso(alpha=0.1, copy_X=True, fit_intercept=True, max_iter=1000,\n",
      "   normalize=False, positive=False, precompute=False, random_state=None,\n",
      "   selection='cyclic', tol=0.0001, warm_start=False)\n",
      "r^2 on test data : 0.066440\n"
     ]
    }
   ],
   "source": [
    "from sklearn.linear_model import Lasso\n",
    "\n",
    "lasso = Lasso(alpha=0.1)\n",
    "\n",
    "lasso.fit(X_train, Y_train)\n",
    "\n",
    "y_pred_lasso = lasso.predict(X_test)\n",
    "\n",
    "r2_score_lasso = r2_score(Y_test, y_pred_lasso)\n",
    "print(lasso)\n",
    "print(\"r^2 on test data : %f\" % r2_score_lasso)"
   ]
  }
 ],
 "metadata": {
  "kernelspec": {
   "display_name": "Python 3",
   "language": "python",
   "name": "python3"
  },
  "language_info": {
   "codemirror_mode": {
    "name": "ipython",
    "version": 3
   },
   "file_extension": ".py",
   "mimetype": "text/x-python",
   "name": "python",
   "nbconvert_exporter": "python",
   "pygments_lexer": "ipython3",
   "version": "3.5.4"
  }
 },
 "nbformat": 4,
 "nbformat_minor": 2
}
