{
 "cells": [
  {
   "cell_type": "markdown",
   "metadata": {},
   "source": [
    "# Projet Machine Learning Python"
   ]
  },
  {
   "cell_type": "markdown",
   "metadata": {},
   "source": [
    "    Un fichier, projetdatascience.rda, a été donné. Il est composé de 2 datasets, le premier appelé \"projetTrain\" et le second \"projetValid\". Le but ici est de créer des modèles de prédiction avec le dataset \"projetTrain\", que l'on aura divisé en amont en 2 : un premier échantillon pour la construction du modèle et un 2e pour le tester. Le dataset \"projetValid\" est la pour vérifier si notre modèle construit prédit correctement. Ces prédictions seront envoyées au professeur pour vérifier cela"
   ]
  },
  {
   "cell_type": "markdown",
   "metadata": {},
   "source": [
    "<span style=\"color:red\">\n",
    "Pensez à numéroter vos sections, cela rend la lecture plus aisée\n",
    "</span>"
   ]
  },
  {
   "cell_type": "markdown",
   "metadata": {},
   "source": [
    "# 0)  Importation des bibliothèques qui seront utilisées"
   ]
  },
  {
   "cell_type": "code",
   "execution_count": 1,
   "metadata": {},
   "outputs": [
    {
     "data": {
      "text/plain": [
       "'/Users/romain/OneDrive/Documents/__  Memorandum/_____encours/clients/2014 07 01 - ESILV/MS/2017 2018 - seconde année/2017 - seconde année/python/devoir/a-ewoudi@hotmail.fr'"
      ]
     },
     "execution_count": 1,
     "metadata": {},
     "output_type": "execute_result"
    }
   ],
   "source": [
    "import csv, math, os\n",
    "import pandas as pd\n",
    "import numpy as np\n",
    "import matplotlib.pyplot as plt\n",
    "os.getcwd()"
   ]
  },
  {
   "cell_type": "markdown",
   "metadata": {},
   "source": [
    "# 1) Data Management"
   ]
  },
  {
   "cell_type": "markdown",
   "metadata": {},
   "source": [
    "### Importation des données et traitement"
   ]
  },
  {
   "cell_type": "markdown",
   "metadata": {},
   "source": [
    "Changement du répertoire courant"
   ]
  },
  {
   "cell_type": "code",
   "execution_count": 2,
   "metadata": {},
   "outputs": [
    {
     "name": "stdout",
     "output_type": "stream",
     "text": [
      "\u001b[1m\u001b[32mDevoir Python.pptx\u001b[m\u001b[m   Projet+ML+3012.ipynb\r\n",
      "\u001b[1m\u001b[32mProjet ML 3012.ipynb\u001b[m\u001b[m original.ipynb\r\n"
     ]
    }
   ],
   "source": [
    "!ls"
   ]
  },
  {
   "cell_type": "markdown",
   "metadata": {},
   "source": [
    "En amont, le fichier projetdatascience.rda a été converti en 2 fichiers csv : projetTrain.csv et projetValid.csv"
   ]
  },
  {
   "cell_type": "code",
   "execution_count": 3,
   "metadata": {},
   "outputs": [
    {
     "name": "stdout",
     "output_type": "stream",
     "text": [
      "          Id  Product_Info_1 Product_Info_2  Product_Info_3  Product_Info_4  \\\n",
      "0          2               1             D3              10        0.076923   \n",
      "1          5               1             A1              26        0.076923   \n",
      "2          6               1             E1              26        0.076923   \n",
      "3          7               1             D4              10        0.487179   \n",
      "4          8               1             D2              26        0.230769   \n",
      "5         11               1             A8              10        0.166194   \n",
      "6         14               1             D2              26        0.076923   \n",
      "7         15               1             D3              26        0.230769   \n",
      "8         16               1             E1              21        0.076923   \n",
      "9         18               1             D4              26        0.230769   \n",
      "10        19               1             A2              26        0.102564   \n",
      "11        20               2             D1              26        0.487179   \n",
      "12        22               1             D4              26        0.487179   \n",
      "13        23               1             A7              26        0.000000   \n",
      "14        24               2             D4              26        0.487179   \n",
      "15        25               1             D3              26        0.384615   \n",
      "16        26               1             D3              26        0.076923   \n",
      "17        27               1             D4              26        0.487179   \n",
      "18        29               1             D2              26        0.435897   \n",
      "19        31               1             A1              26        1.000000   \n",
      "20        32               1             D4              26        0.230769   \n",
      "21        33               1             A2              26        0.179487   \n",
      "22        34               1             D1              26        0.487179   \n",
      "23        35               1             A6              26        0.230769   \n",
      "24        37               1             A1              26        1.000000   \n",
      "25        39               1             D3              26        0.230769   \n",
      "26        40               1             D4              26        0.487179   \n",
      "27        41               1             D3              26        1.000000   \n",
      "28        42               1             D3              26        0.487179   \n",
      "29        44               1             D1              26        0.230769   \n",
      "...      ...             ...            ...             ...             ...   \n",
      "51351  79112               1             D3              26        1.000000   \n",
      "51352  79113               1             A6              26        0.487179   \n",
      "51353  79114               1             A8              26        0.076923   \n",
      "51354  79115               1             A7              26        0.000000   \n",
      "51355  79116               1             D2              10        0.230769   \n",
      "51356  79117               1             D4              26        0.589744   \n",
      "51357  79118               1             D2              26        0.487179   \n",
      "51358  79119               1             D3              26        0.230769   \n",
      "51359  79120               1             D3              10        0.076923   \n",
      "51360  79121               1             D3              26        1.000000   \n",
      "51361  79122               1             D4              26        0.282051   \n",
      "51362  79123               1             D3              26        0.230769   \n",
      "51363  79124               1             D4              26        1.000000   \n",
      "51364  79126               1             A1              26        0.230769   \n",
      "51365  79127               1             D4              26        0.230769   \n",
      "51366  79128               1             D2               4        0.076923   \n",
      "51367  79130               1             D2              26        0.076923   \n",
      "51368  79131               1             D1              29        0.076923   \n",
      "51369  79132               1             D1              26        0.282051   \n",
      "51370  79133               1             E1              26        0.179487   \n",
      "51371  79134               1             D4              26        0.230769   \n",
      "51372  79135               1             D1              26        0.179487   \n",
      "51373  79137               1             D3              26        0.487179   \n",
      "51374  79138               1             D3              26        0.487179   \n",
      "51375  79139               2             D4              29        0.487179   \n",
      "51376  79140               1             D4              26        0.307692   \n",
      "51377  79141               1             C1              26        0.076923   \n",
      "51378  79142               1             D1              10        0.230769   \n",
      "51379  79144               1             E1              26        0.076923   \n",
      "51380  79145               1             D2              10        0.230769   \n",
      "\n",
      "       Product_Info_5  Product_Info_6  Product_Info_7   Ins_Age        Ht  \\\n",
      "0                   2               1               1  0.641791  0.581818   \n",
      "1                   2               3               1  0.059701  0.600000   \n",
      "2                   2               3               1  0.029851  0.745455   \n",
      "3                   2               3               1  0.164179  0.672727   \n",
      "4                   2               3               1  0.417910  0.654545   \n",
      "5                   2               3               1  0.373134  0.581818   \n",
      "6                   2               3               1  0.611940  0.781818   \n",
      "7                   2               3               1  0.522388  0.618182   \n",
      "8                   2               3               1  0.552239  0.600000   \n",
      "9                   2               3               1  0.298507  0.690909   \n",
      "10                  2               3               1  0.567164  0.618182   \n",
      "11                  2               3               1  0.223881  0.781818   \n",
      "12                  2               3               1  0.328358  0.636364   \n",
      "13                  2               3               1  0.626866  0.672727   \n",
      "14                  2               3               1  0.208955  0.745455   \n",
      "15                  2               3               1  0.268657  0.636364   \n",
      "16                  2               3               1  0.388060  0.781818   \n",
      "17                  2               3               1  0.223881  0.600000   \n",
      "18                  2               3               1  0.388060  0.745455   \n",
      "19                  2               1               1  0.537313  0.709091   \n",
      "20                  2               3               1  0.179104  0.800000   \n",
      "21                  2               3               1  0.164179  0.745455   \n",
      "22                  2               1               1  0.164179  0.818182   \n",
      "23                  2               3               1  0.268657  0.781818   \n",
      "24                  2               3               1  0.507463  0.654545   \n",
      "25                  2               3               1  0.134328  0.763636   \n",
      "26                  2               3               1  0.492537  0.618182   \n",
      "27                  2               3               1  0.582090  0.654545   \n",
      "28                  2               1               1  0.283582  0.709091   \n",
      "29                  2               3               1  0.388060  0.690909   \n",
      "...               ...             ...             ...       ...       ...   \n",
      "51351               2               3               1  0.059701  0.709091   \n",
      "51352               2               3               1  0.268657  0.727273   \n",
      "51353               2               3               1  0.432836  0.781818   \n",
      "51354               2               3               1  0.134328  0.781818   \n",
      "51355               2               3               1  0.358209  0.618182   \n",
      "51356               2               1               1  0.179104  0.781818   \n",
      "51357               2               1               1  0.402985  0.763636   \n",
      "51358               2               3               1  0.223881  0.745455   \n",
      "51359               2               3               1  0.522388  0.600000   \n",
      "51360               2               1               3  0.582090  0.781818   \n",
      "51361               2               3               1  0.238806  0.727273   \n",
      "51362               2               3               1  0.447761  0.781818   \n",
      "51363               2               3               1  0.194030  0.654546   \n",
      "51364               2               1               1  0.268657  0.727273   \n",
      "51365               2               3               1  0.253731  0.781818   \n",
      "51366               2               3               1  0.746269  0.563636   \n",
      "51367               2               3               1  0.552239  0.727273   \n",
      "51368               2               3               1  0.641791  0.709091   \n",
      "51369               2               3               1  0.582090  0.781818   \n",
      "51370               2               3               3  0.373134  0.600000   \n",
      "51371               2               1               1  0.417910  0.727273   \n",
      "51372               2               3               1  0.611940  0.745455   \n",
      "51373               2               1               1  0.537313  0.709091   \n",
      "51374               2               3               1  0.477612  0.763636   \n",
      "51375               2               3               1  0.208955  0.800000   \n",
      "51376               2               3               1  0.164179  0.690909   \n",
      "51377               2               3               1  0.477612  0.654546   \n",
      "51378               2               3               1  0.074627  0.709091   \n",
      "51379               2               3               1  0.104478  0.745455   \n",
      "51380               2               3               1  0.507463  0.690909   \n",
      "\n",
      "        ...    Medical_Keyword_40  Medical_Keyword_41  Medical_Keyword_42  \\\n",
      "0       ...                     0                   0                   0   \n",
      "1       ...                     0                   0                   0   \n",
      "2       ...                     0                   0                   0   \n",
      "3       ...                     0                   0                   0   \n",
      "4       ...                     0                   0                   0   \n",
      "5       ...                     0                   0                   0   \n",
      "6       ...                     0                   0                   0   \n",
      "7       ...                     0                   0                   0   \n",
      "8       ...                     0                   0                   0   \n",
      "9       ...                     0                   0                   0   \n",
      "10      ...                     0                   0                   0   \n",
      "11      ...                     0                   0                   0   \n",
      "12      ...                     0                   0                   0   \n",
      "13      ...                     0                   0                   0   \n",
      "14      ...                     1                   0                   0   \n",
      "15      ...                     0                   0                   0   \n",
      "16      ...                     0                   0                   0   \n",
      "17      ...                     0                   0                   0   \n",
      "18      ...                     0                   0                   0   \n",
      "19      ...                     0                   0                   0   \n",
      "20      ...                     0                   0                   0   \n",
      "21      ...                     0                   0                   0   \n",
      "22      ...                     0                   0                   0   \n",
      "23      ...                     0                   0                   0   \n",
      "24      ...                     0                   0                   0   \n",
      "25      ...                     0                   0                   0   \n",
      "26      ...                     0                   0                   0   \n",
      "27      ...                     0                   0                   0   \n",
      "28      ...                     0                   0                   0   \n",
      "29      ...                     0                   0                   0   \n",
      "...     ...                   ...                 ...                 ...   \n",
      "51351   ...                     0                   0                   0   \n",
      "51352   ...                     0                   0                   0   \n",
      "51353   ...                     0                   0                   0   \n",
      "51354   ...                     0                   0                   0   \n",
      "51355   ...                     0                   0                   0   \n",
      "51356   ...                     0                   0                   0   \n",
      "51357   ...                     0                   0                   0   \n",
      "51358   ...                     0                   0                   1   \n",
      "51359   ...                     0                   0                   0   \n",
      "51360   ...                     0                   0                   0   \n",
      "51361   ...                     0                   0                   0   \n",
      "51362   ...                     0                   0                   0   \n",
      "51363   ...                     0                   0                   0   \n",
      "51364   ...                     0                   0                   0   \n",
      "51365   ...                     0                   0                   0   \n",
      "51366   ...                     0                   0                   0   \n",
      "51367   ...                     0                   0                   0   \n",
      "51368   ...                     0                   0                   0   \n",
      "51369   ...                     0                   0                   0   \n",
      "51370   ...                     0                   0                   0   \n",
      "51371   ...                     0                   0                   0   \n",
      "51372   ...                     0                   0                   0   \n",
      "51373   ...                     0                   0                   0   \n",
      "51374   ...                     0                   0                   1   \n",
      "51375   ...                     0                   0                   0   \n",
      "51376   ...                     0                   0                   0   \n",
      "51377   ...                     0                   0                   0   \n",
      "51378   ...                     0                   0                   0   \n",
      "51379   ...                     0                   0                   0   \n",
      "51380   ...                     1                   0                   0   \n",
      "\n",
      "       Medical_Keyword_43  Medical_Keyword_44  Medical_Keyword_45  \\\n",
      "0                       0                   0                   0   \n",
      "1                       0                   0                   0   \n",
      "2                       0                   0                   0   \n",
      "3                       0                   0                   0   \n",
      "4                       0                   0                   0   \n",
      "5                       0                   0                   0   \n",
      "6                       0                   0                   0   \n",
      "7                       0                   0                   0   \n",
      "8                       0                   0                   0   \n",
      "9                       0                   0                   0   \n",
      "10                      0                   0                   0   \n",
      "11                      0                   0                   0   \n",
      "12                      0                   0                   0   \n",
      "13                      0                   0                   0   \n",
      "14                      0                   0                   0   \n",
      "15                      0                   0                   0   \n",
      "16                      0                   0                   0   \n",
      "17                      0                   0                   0   \n",
      "18                      0                   0                   0   \n",
      "19                      0                   0                   0   \n",
      "20                      0                   0                   0   \n",
      "21                      0                   0                   0   \n",
      "22                      0                   0                   0   \n",
      "23                      0                   0                   0   \n",
      "24                      0                   0                   0   \n",
      "25                      0                   0                   0   \n",
      "26                      0                   0                   0   \n",
      "27                      0                   0                   0   \n",
      "28                      0                   0                   0   \n",
      "29                      0                   0                   0   \n",
      "...                   ...                 ...                 ...   \n",
      "51351                   0                   0                   0   \n",
      "51352                   0                   0                   0   \n",
      "51353                   0                   0                   0   \n",
      "51354                   0                   0                   0   \n",
      "51355                   0                   0                   0   \n",
      "51356                   0                   0                   0   \n",
      "51357                   0                   0                   0   \n",
      "51358                   0                   0                   0   \n",
      "51359                   0                   0                   0   \n",
      "51360                   0                   0                   0   \n",
      "51361                   0                   0                   0   \n",
      "51362                   0                   1                   0   \n",
      "51363                   0                   0                   0   \n",
      "51364                   0                   0                   0   \n",
      "51365                   0                   0                   0   \n",
      "51366                   0                   0                   0   \n",
      "51367                   0                   0                   0   \n",
      "51368                   0                   0                   0   \n",
      "51369                   0                   0                   0   \n",
      "51370                   0                   0                   0   \n",
      "51371                   0                   0                   0   \n",
      "51372                   0                   0                   0   \n",
      "51373                   0                   0                   0   \n",
      "51374                   0                   0                   0   \n",
      "51375                   0                   0                   0   \n",
      "51376                   0                   0                   0   \n",
      "51377                   0                   0                   0   \n",
      "51378                   0                   0                   0   \n",
      "51379                   0                   0                   0   \n",
      "51380                   0                   0                   0   \n",
      "\n",
      "       Medical_Keyword_46  Medical_Keyword_47  Medical_Keyword_48  target  \n",
      "0                       0                   0                   0       1  \n",
      "1                       0                   0                   0       0  \n",
      "2                       0                   0                   0       1  \n",
      "3                       0                   0                   0       1  \n",
      "4                       0                   0                   0       1  \n",
      "5                       0                   0                   0       1  \n",
      "6                       0                   0                   0       0  \n",
      "7                       0                   0                   0       1  \n",
      "8                       0                   0                   0       0  \n",
      "9                       0                   0                   0       0  \n",
      "10                      0                   0                   0       0  \n",
      "11                      0                   0                   0       0  \n",
      "12                      0                   0                   0       1  \n",
      "13                      0                   0                   0       0  \n",
      "14                      0                   0                   0       1  \n",
      "15                      0                   0                   0       0  \n",
      "16                      0                   0                   0       0  \n",
      "17                      0                   0                   0       1  \n",
      "18                      0                   0                   0       1  \n",
      "19                      0                   0                   0       0  \n",
      "20                      0                   0                   0       0  \n",
      "21                      0                   0                   0       1  \n",
      "22                      0                   0                   0       0  \n",
      "23                      0                   0                   0       1  \n",
      "24                      0                   0                   0       0  \n",
      "25                      0                   0                   0       1  \n",
      "26                      0                   0                   0       0  \n",
      "27                      0                   0                   0       0  \n",
      "28                      0                   0                   0       0  \n",
      "29                      0                   0                   0       0  \n",
      "...                   ...                 ...                 ...     ...  \n",
      "51351                   0                   0                   0       1  \n",
      "51352                   0                   0                   0       1  \n",
      "51353                   0                   0                   0       0  \n",
      "51354                   0                   0                   0       0  \n",
      "51355                   0                   0                   0       0  \n",
      "51356                   0                   0                   0       0  \n",
      "51357                   0                   0                   0       0  \n",
      "51358                   0                   0                   0       0  \n",
      "51359                   0                   0                   0       0  \n",
      "51360                   0                   0                   0       0  \n",
      "51361                   0                   0                   0       0  \n",
      "51362                   0                   0                   0       0  \n",
      "51363                   0                   0                   0       0  \n",
      "51364                   0                   0                   0       0  \n",
      "51365                   0                   0                   0       0  \n",
      "51366                   0                   0                   0       0  \n",
      "51367                   0                   0                   0       0  \n",
      "51368                   0                   0                   0       0  \n",
      "51369                   0                   0                   0       1  \n",
      "51370                   0                   0                   0       0  \n",
      "51371                   0                   0                   0       1  \n",
      "51372                   0                   0                   1       0  \n",
      "51373                   0                   0                   0       0  \n",
      "51374                   0                   0                   1       0  \n",
      "51375                   0                   0                   0       1  \n",
      "51376                   0                   0                   0       0  \n",
      "51377                   0                   0                   0       1  \n",
      "51378                   0                   0                   0       0  \n",
      "51379                   0                   0                   0       1  \n",
      "51380                   0                   0                   0       1  \n",
      "\n",
      "[51381 rows x 128 columns]\n"
     ]
    }
   ],
   "source": [
    "projetTrain = pd.read_csv('./../projetTrain.csv')\n",
    "\n",
    "print(projetTrain)"
   ]
  },
  {
   "cell_type": "markdown",
   "metadata": {},
   "source": [
    "On remarque qu'il faudra enlever la première colonne \"Unnamed\""
   ]
  },
  {
   "cell_type": "markdown",
   "metadata": {},
   "source": [
    "## 1.2) On peut regarder les 5 premières lignes des variables"
   ]
  },
  {
   "cell_type": "code",
   "execution_count": 4,
   "metadata": {
    "scrolled": true
   },
   "outputs": [
    {
     "name": "stdout",
     "output_type": "stream",
     "text": [
      "   Id  Product_Info_1 Product_Info_2  Product_Info_3  Product_Info_4  \\\n",
      "0   2               1             D3              10        0.076923   \n",
      "1   5               1             A1              26        0.076923   \n",
      "2   6               1             E1              26        0.076923   \n",
      "3   7               1             D4              10        0.487179   \n",
      "4   8               1             D2              26        0.230769   \n",
      "\n",
      "   Product_Info_5  Product_Info_6  Product_Info_7   Ins_Age        Ht   ...    \\\n",
      "0               2               1               1  0.641791  0.581818   ...     \n",
      "1               2               3               1  0.059701  0.600000   ...     \n",
      "2               2               3               1  0.029851  0.745455   ...     \n",
      "3               2               3               1  0.164179  0.672727   ...     \n",
      "4               2               3               1  0.417910  0.654545   ...     \n",
      "\n",
      "   Medical_Keyword_40  Medical_Keyword_41  Medical_Keyword_42  \\\n",
      "0                   0                   0                   0   \n",
      "1                   0                   0                   0   \n",
      "2                   0                   0                   0   \n",
      "3                   0                   0                   0   \n",
      "4                   0                   0                   0   \n",
      "\n",
      "   Medical_Keyword_43  Medical_Keyword_44  Medical_Keyword_45  \\\n",
      "0                   0                   0                   0   \n",
      "1                   0                   0                   0   \n",
      "2                   0                   0                   0   \n",
      "3                   0                   0                   0   \n",
      "4                   0                   0                   0   \n",
      "\n",
      "   Medical_Keyword_46  Medical_Keyword_47  Medical_Keyword_48  target  \n",
      "0                   0                   0                   0       1  \n",
      "1                   0                   0                   0       0  \n",
      "2                   0                   0                   0       1  \n",
      "3                   0                   0                   0       1  \n",
      "4                   0                   0                   0       1  \n",
      "\n",
      "[5 rows x 128 columns]\n"
     ]
    }
   ],
   "source": [
    "print(projetTrain.head())"
   ]
  },
  {
   "cell_type": "code",
   "execution_count": 5,
   "metadata": {},
   "outputs": [
    {
     "name": "stdout",
     "output_type": "stream",
     "text": [
      "(51381, 128)\n"
     ]
    }
   ],
   "source": [
    "# Pour voir le nombre de lignes et le nombre de colonnes\n",
    "print (projetTrain.shape)"
   ]
  },
  {
   "cell_type": "markdown",
   "metadata": {},
   "source": [
    "Le fichier projetTrain contient 51381 observations et 129 variables.\n",
    "\n",
    "Par la suite, on peut décrire le dataset, pour regarder par exemple les quantiles, ou encore la moyenne des observations."
   ]
  },
  {
   "cell_type": "code",
   "execution_count": 6,
   "metadata": {},
   "outputs": [
    {
     "name": "stdout",
     "output_type": "stream",
     "text": [
      "                 Id  Product_Info_1  Product_Info_3  Product_Info_4  \\\n",
      "count  51381.000000    51381.000000    51381.000000    51381.000000   \n",
      "mean   39528.812635        1.026002       24.416049        0.328934   \n",
      "std    22800.993433        0.159142        5.068379        0.282703   \n",
      "min        2.000000        1.000000        1.000000        0.000000   \n",
      "25%    19783.000000        1.000000       26.000000        0.076923   \n",
      "50%    39583.000000        1.000000       26.000000        0.230769   \n",
      "75%    59167.000000        1.000000       26.000000        0.487179   \n",
      "max    79145.000000        2.000000       38.000000        1.000000   \n",
      "\n",
      "       Product_Info_5  Product_Info_6  Product_Info_7       Ins_Age  \\\n",
      "count    51381.000000    51381.000000    51381.000000  51381.000000   \n",
      "mean         2.006948        2.672097        1.042934      0.405657   \n",
      "std          0.083066        0.740471        0.289806      0.197115   \n",
      "min          2.000000        1.000000        1.000000      0.000000   \n",
      "25%          2.000000        3.000000        1.000000      0.238806   \n",
      "50%          2.000000        3.000000        1.000000      0.402985   \n",
      "75%          2.000000        3.000000        1.000000      0.567164   \n",
      "max          3.000000        3.000000        3.000000      0.970149   \n",
      "\n",
      "                 Ht            Wt      ...       Medical_Keyword_40  \\\n",
      "count  51381.000000  51381.000000      ...             51381.000000   \n",
      "mean       0.707231      0.292492      ...                 0.056772   \n",
      "std        0.074177      0.088967      ...                 0.231409   \n",
      "min        0.000000      0.000000      ...                 0.000000   \n",
      "25%        0.654545      0.225941      ...                 0.000000   \n",
      "50%        0.709091      0.288703      ...                 0.000000   \n",
      "75%        0.763636      0.345188      ...                 0.000000   \n",
      "max        1.000000      1.000000      ...                 1.000000   \n",
      "\n",
      "       Medical_Keyword_41  Medical_Keyword_42  Medical_Keyword_43  \\\n",
      "count        51381.000000        51381.000000        51381.000000   \n",
      "mean             0.010043            0.045678            0.010841   \n",
      "std              0.099709            0.208789            0.103553   \n",
      "min              0.000000            0.000000            0.000000   \n",
      "25%              0.000000            0.000000            0.000000   \n",
      "50%              0.000000            0.000000            0.000000   \n",
      "75%              0.000000            0.000000            0.000000   \n",
      "max              1.000000            1.000000            1.000000   \n",
      "\n",
      "       Medical_Keyword_44  Medical_Keyword_45  Medical_Keyword_46  \\\n",
      "count        51381.000000        51381.000000        51381.000000   \n",
      "mean             0.007824            0.013721            0.008700   \n",
      "std              0.088107            0.116332            0.092867   \n",
      "min              0.000000            0.000000            0.000000   \n",
      "25%              0.000000            0.000000            0.000000   \n",
      "50%              0.000000            0.000000            0.000000   \n",
      "75%              0.000000            0.000000            0.000000   \n",
      "max              1.000000            1.000000            1.000000   \n",
      "\n",
      "       Medical_Keyword_47  Medical_Keyword_48        target  \n",
      "count        51381.000000        51381.000000  51381.000000  \n",
      "mean             0.019910            0.054456      0.328487  \n",
      "std              0.139693            0.226917      0.469668  \n",
      "min              0.000000            0.000000      0.000000  \n",
      "25%              0.000000            0.000000      0.000000  \n",
      "50%              0.000000            0.000000      0.000000  \n",
      "75%              0.000000            0.000000      1.000000  \n",
      "max              1.000000            1.000000      1.000000  \n",
      "\n",
      "[8 rows x 127 columns]\n"
     ]
    }
   ],
   "source": [
    "print (projetTrain.describe())"
   ]
  },
  {
   "cell_type": "markdown",
   "metadata": {},
   "source": [
    "Suppression de la colonne Unnamed : 0"
   ]
  },
  {
   "cell_type": "markdown",
   "metadata": {},
   "source": [
    "<span style=\"color:red\">\n",
    "Attention: ici, jupyter ne vous affiche pas tout, et vous ne voyez qu un sous ensmeble de des colonnes de la matrice.\n",
    "    Vous avez bien vu qu il y a 127 colonnes, hors seules une dizaine sont affichés.\n",
    "</span>"
   ]
  },
  {
   "cell_type": "code",
   "execution_count": 7,
   "metadata": {},
   "outputs": [
    {
     "data": {
      "text/plain": [
       "Index(['Id', 'Product_Info_1', 'Product_Info_2', 'Product_Info_3',\n",
       "       'Product_Info_4', 'Product_Info_5', 'Product_Info_6', 'Product_Info_7',\n",
       "       'Ins_Age', 'Ht',\n",
       "       ...\n",
       "       'Medical_Keyword_40', 'Medical_Keyword_41', 'Medical_Keyword_42',\n",
       "       'Medical_Keyword_43', 'Medical_Keyword_44', 'Medical_Keyword_45',\n",
       "       'Medical_Keyword_46', 'Medical_Keyword_47', 'Medical_Keyword_48',\n",
       "       'target'],\n",
       "      dtype='object', length=128)"
      ]
     },
     "execution_count": 7,
     "metadata": {},
     "output_type": "execute_result"
    }
   ],
   "source": [
    "projetTrain.columns"
   ]
  },
  {
   "cell_type": "markdown",
   "metadata": {},
   "source": [
    "A la vue des variables, je vais changer la nature des variables, en mettant en facteur les variables qui devraient l'être."
   ]
  },
  {
   "cell_type": "markdown",
   "metadata": {},
   "source": [
    "# 2) modification des données"
   ]
  },
  {
   "cell_type": "markdown",
   "metadata": {},
   "source": [
    "<span style=\"color:red\">\n",
    "pourquoi uniquement product info 2 ?\n",
    "</span>"
   ]
  },
  {
   "cell_type": "code",
   "execution_count": 8,
   "metadata": {},
   "outputs": [
    {
     "data": {
      "text/plain": [
       "Id                        int64\n",
       "Product_Info_1            int64\n",
       "Product_Info_2         category\n",
       "Product_Info_3            int64\n",
       "Product_Info_4          float64\n",
       "Product_Info_5            int64\n",
       "Product_Info_6            int64\n",
       "Product_Info_7            int64\n",
       "Ins_Age                 float64\n",
       "Ht                      float64\n",
       "Wt                      float64\n",
       "BMI                     float64\n",
       "Employment_Info_1       float64\n",
       "Employment_Info_2         int64\n",
       "Employment_Info_3         int64\n",
       "Employment_Info_4       float64\n",
       "Employment_Info_5         int64\n",
       "Employment_Info_6       float64\n",
       "InsuredInfo_1             int64\n",
       "InsuredInfo_2             int64\n",
       "InsuredInfo_3             int64\n",
       "InsuredInfo_4             int64\n",
       "InsuredInfo_5             int64\n",
       "InsuredInfo_6             int64\n",
       "InsuredInfo_7             int64\n",
       "Insurance_History_1       int64\n",
       "Insurance_History_2       int64\n",
       "Insurance_History_3       int64\n",
       "Insurance_History_4       int64\n",
       "Insurance_History_5     float64\n",
       "                         ...   \n",
       "Medical_Keyword_20        int64\n",
       "Medical_Keyword_21        int64\n",
       "Medical_Keyword_22        int64\n",
       "Medical_Keyword_23        int64\n",
       "Medical_Keyword_24        int64\n",
       "Medical_Keyword_25        int64\n",
       "Medical_Keyword_26        int64\n",
       "Medical_Keyword_27        int64\n",
       "Medical_Keyword_28        int64\n",
       "Medical_Keyword_29        int64\n",
       "Medical_Keyword_30        int64\n",
       "Medical_Keyword_31        int64\n",
       "Medical_Keyword_32        int64\n",
       "Medical_Keyword_33        int64\n",
       "Medical_Keyword_34        int64\n",
       "Medical_Keyword_35        int64\n",
       "Medical_Keyword_36        int64\n",
       "Medical_Keyword_37        int64\n",
       "Medical_Keyword_38        int64\n",
       "Medical_Keyword_39        int64\n",
       "Medical_Keyword_40        int64\n",
       "Medical_Keyword_41        int64\n",
       "Medical_Keyword_42        int64\n",
       "Medical_Keyword_43        int64\n",
       "Medical_Keyword_44        int64\n",
       "Medical_Keyword_45        int64\n",
       "Medical_Keyword_46        int64\n",
       "Medical_Keyword_47        int64\n",
       "Medical_Keyword_48        int64\n",
       "target                 category\n",
       "Length: 128, dtype: object"
      ]
     },
     "execution_count": 8,
     "metadata": {},
     "output_type": "execute_result"
    }
   ],
   "source": [
    "projetTrain[\"target\"]=pd.Categorical(projetTrain[\"target\"],ordered=False)\n",
    "projetTrain[\"Product_Info_2\"]=pd.Categorical(projetTrain[\"Product_Info_2\"],ordered=False)\n",
    "projetTrain.dtypes"
   ]
  },
  {
   "cell_type": "markdown",
   "metadata": {},
   "source": [
    "<span style=\"color:red\">\n",
    "pouquoi cela ici ? \n",
    "</span>"
   ]
  },
  {
   "cell_type": "code",
   "execution_count": 9,
   "metadata": {},
   "outputs": [
    {
     "name": "stdout",
     "output_type": "stream",
     "text": [
      "0    0.148536\n",
      "1    0.131799\n",
      "2    0.288703\n",
      "3    0.205021\n",
      "4    0.234310\n",
      "Name: Wt, dtype: float64\n"
     ]
    },
    {
     "data": {
      "image/png": "[encoded data removed]",
      "text/plain": [
       "<matplotlib.figure.Figure at 0x1101abb38>"
      ]
     },
     "metadata": {},
     "output_type": "display_data"
    }
   ],
   "source": [
    "print(projetTrain[\"Wt\"].head())\n",
    "projetTrain[\"Wt\"].hist()\n",
    "plt.show()"
   ]
  },
  {
   "cell_type": "markdown",
   "metadata": {},
   "source": [
    "Je vais par la suite rechercher les valeurs manquantes, et supprimer des variables si le pourcentage de valeurs manquantes est trop important à mes yeux, ou imputer par la médiane."
   ]
  },
  {
   "cell_type": "markdown",
   "metadata": {},
   "source": [
    "## 2.2) Supprimer les  colonnes avec + de 50% de nuls"
   ]
  },
  {
   "cell_type": "markdown",
   "metadata": {},
   "source": [
    "<span style=\"color:red\">\n",
    "j'ai renommé les variables pour un code plus clair\n",
    "</span>"
   ]
  },
  {
   "cell_type": "code",
   "execution_count": 10,
   "metadata": {},
   "outputs": [
    {
     "data": {
      "text/plain": [
       "Id                0\n",
       "Product_Info_1    0\n",
       "Product_Info_2    0\n",
       "Product_Info_3    0\n",
       "Product_Info_4    0\n",
       "dtype: int64"
      ]
     },
     "execution_count": 10,
     "metadata": {},
     "output_type": "execute_result"
    }
   ],
   "source": [
    "# 1) on compte le nb de nul par colonne\n",
    "nb_nul_par_colonne = projetTrain.isnull().sum()\n",
    "nb_nul_par_colonne.head()"
   ]
  },
  {
   "cell_type": "code",
   "execution_count": 11,
   "metadata": {},
   "outputs": [
    {
     "data": {
      "text/plain": [
       "Employment_Info_1      0.000350\n",
       "Employment_Info_4      0.114556\n",
       "Employment_Info_6      0.183336\n",
       "Insurance_History_5    0.426325\n",
       "Family_Hist_2          0.482377\n",
       "Family_Hist_3          0.577373\n",
       "Family_Hist_4          0.322551\n",
       "Family_Hist_5          0.705105\n",
       "Medical_History_1      0.150133\n",
       "Medical_History_10     0.990639\n",
       "Medical_History_15     0.750589\n",
       "Medical_History_24     0.936105\n",
       "Medical_History_32     0.981550\n",
       "dtype: float64"
      ]
     },
     "execution_count": 11,
     "metadata": {},
     "output_type": "execute_result"
    }
   ],
   "source": [
    "# 2) on convertit en pct\n",
    "nb_ligne                = projetTrain.shape[0]\n",
    "pct_vide_par_colonne    = (nb_nul_par_colonne/nb_ligne)\n",
    "colonnes_avec_des_nuls  = pct_vide_par_colonne[pct_vide_par_colonne>0]\n",
    "colonnes_avec_des_nuls"
   ]
  },
  {
   "cell_type": "code",
   "execution_count": 12,
   "metadata": {},
   "outputs": [
    {
     "data": {
      "text/plain": [
       "Family_Hist_3         0.577373\n",
       "Family_Hist_5         0.705105\n",
       "Medical_History_10    0.990639\n",
       "Medical_History_15    0.750589\n",
       "Medical_History_24    0.936105\n",
       "Medical_History_32    0.981550\n",
       "dtype: float64"
      ]
     },
     "execution_count": 12,
     "metadata": {},
     "output_type": "execute_result"
    }
   ],
   "source": [
    "# 3) on fixe une limite\n",
    "limite_de_vide      = 50/100\n",
    "colonnes_a_eliminer = colonnes_avec_des_nuls[colonnes_avec_des_nuls >limite_de_vide]\n",
    "colonnes_a_eliminer"
   ]
  },
  {
   "cell_type": "markdown",
   "metadata": {},
   "source": [
    "<span style=\"color:red\">\n",
    "j'utilise le keys de la serie pour le drop\n",
    "</span>"
   ]
  },
  {
   "cell_type": "code",
   "execution_count": 13,
   "metadata": {},
   "outputs": [],
   "source": [
    "# 4) et on supprimer les colonnes sous la limite\n",
    "projetTrain = projetTrain.drop(colonnes_a_eliminer.keys(), axis=1)"
   ]
  },
  {
   "cell_type": "markdown",
   "metadata": {},
   "source": [
    "## 2.3) Remplir les nuls avec la médiane par colonne"
   ]
  },
  {
   "cell_type": "code",
   "execution_count": 14,
   "metadata": {},
   "outputs": [
    {
     "data": {
      "text/plain": [
       "Id                39583.000000\n",
       "Product_Info_1        1.000000\n",
       "Product_Info_3       26.000000\n",
       "Product_Info_4        0.230769\n",
       "Product_Info_5        2.000000\n",
       "dtype: float64"
      ]
     },
     "execution_count": 14,
     "metadata": {},
     "output_type": "execute_result"
    }
   ],
   "source": [
    "projetTrain.median().head()"
   ]
  },
  {
   "cell_type": "code",
   "execution_count": 15,
   "metadata": {},
   "outputs": [
    {
     "data": {
      "text/html": [
       "<div>\n",
       "<style>\n",
       "    .dataframe thead tr:only-child th {\n",
       "        text-align: right;\n",
       "    }\n",
       "\n",
       "    .dataframe thead th {\n",
       "        text-align: left;\n",
       "    }\n",
       "\n",
       "    .dataframe tbody tr th {\n",
       "        vertical-align: top;\n",
       "    }\n",
       "</style>\n",
       "<table border=\"1\" class=\"dataframe\">\n",
       "  <thead>\n",
       "    <tr style=\"text-align: right;\">\n",
       "      <th></th>\n",
       "      <th>Id</th>\n",
       "      <th>Product_Info_1</th>\n",
       "      <th>Product_Info_3</th>\n",
       "      <th>Product_Info_4</th>\n",
       "      <th>Product_Info_5</th>\n",
       "      <th>Product_Info_6</th>\n",
       "      <th>Product_Info_7</th>\n",
       "      <th>Ins_Age</th>\n",
       "      <th>Ht</th>\n",
       "      <th>Wt</th>\n",
       "      <th>...</th>\n",
       "      <th>Medical_Keyword_39</th>\n",
       "      <th>Medical_Keyword_40</th>\n",
       "      <th>Medical_Keyword_41</th>\n",
       "      <th>Medical_Keyword_42</th>\n",
       "      <th>Medical_Keyword_43</th>\n",
       "      <th>Medical_Keyword_44</th>\n",
       "      <th>Medical_Keyword_45</th>\n",
       "      <th>Medical_Keyword_46</th>\n",
       "      <th>Medical_Keyword_47</th>\n",
       "      <th>Medical_Keyword_48</th>\n",
       "    </tr>\n",
       "  </thead>\n",
       "  <tbody>\n",
       "    <tr>\n",
       "      <th>count</th>\n",
       "      <td>51381.000000</td>\n",
       "      <td>51381.000000</td>\n",
       "      <td>51381.000000</td>\n",
       "      <td>51381.000000</td>\n",
       "      <td>51381.000000</td>\n",
       "      <td>51381.000000</td>\n",
       "      <td>51381.000000</td>\n",
       "      <td>51381.000000</td>\n",
       "      <td>51381.000000</td>\n",
       "      <td>51381.000000</td>\n",
       "      <td>...</td>\n",
       "      <td>51381.000000</td>\n",
       "      <td>51381.000000</td>\n",
       "      <td>51381.000000</td>\n",
       "      <td>51381.000000</td>\n",
       "      <td>51381.000000</td>\n",
       "      <td>51381.000000</td>\n",
       "      <td>51381.000000</td>\n",
       "      <td>51381.000000</td>\n",
       "      <td>51381.000000</td>\n",
       "      <td>51381.000000</td>\n",
       "    </tr>\n",
       "    <tr>\n",
       "      <th>mean</th>\n",
       "      <td>39528.812635</td>\n",
       "      <td>1.026002</td>\n",
       "      <td>24.416049</td>\n",
       "      <td>0.328934</td>\n",
       "      <td>2.006948</td>\n",
       "      <td>2.672097</td>\n",
       "      <td>1.042934</td>\n",
       "      <td>0.405657</td>\n",
       "      <td>0.707231</td>\n",
       "      <td>0.292492</td>\n",
       "      <td>...</td>\n",
       "      <td>0.013682</td>\n",
       "      <td>0.056772</td>\n",
       "      <td>0.010043</td>\n",
       "      <td>0.045678</td>\n",
       "      <td>0.010841</td>\n",
       "      <td>0.007824</td>\n",
       "      <td>0.013721</td>\n",
       "      <td>0.008700</td>\n",
       "      <td>0.019910</td>\n",
       "      <td>0.054456</td>\n",
       "    </tr>\n",
       "    <tr>\n",
       "      <th>std</th>\n",
       "      <td>22800.993433</td>\n",
       "      <td>0.159142</td>\n",
       "      <td>5.068379</td>\n",
       "      <td>0.282703</td>\n",
       "      <td>0.083066</td>\n",
       "      <td>0.740471</td>\n",
       "      <td>0.289806</td>\n",
       "      <td>0.197115</td>\n",
       "      <td>0.074177</td>\n",
       "      <td>0.088967</td>\n",
       "      <td>...</td>\n",
       "      <td>0.116169</td>\n",
       "      <td>0.231409</td>\n",
       "      <td>0.099709</td>\n",
       "      <td>0.208789</td>\n",
       "      <td>0.103553</td>\n",
       "      <td>0.088107</td>\n",
       "      <td>0.116332</td>\n",
       "      <td>0.092867</td>\n",
       "      <td>0.139693</td>\n",
       "      <td>0.226917</td>\n",
       "    </tr>\n",
       "    <tr>\n",
       "      <th>min</th>\n",
       "      <td>2.000000</td>\n",
       "      <td>1.000000</td>\n",
       "      <td>1.000000</td>\n",
       "      <td>0.000000</td>\n",
       "      <td>2.000000</td>\n",
       "      <td>1.000000</td>\n",
       "      <td>1.000000</td>\n",
       "      <td>0.000000</td>\n",
       "      <td>0.000000</td>\n",
       "      <td>0.000000</td>\n",
       "      <td>...</td>\n",
       "      <td>0.000000</td>\n",
       "      <td>0.000000</td>\n",
       "      <td>0.000000</td>\n",
       "      <td>0.000000</td>\n",
       "      <td>0.000000</td>\n",
       "      <td>0.000000</td>\n",
       "      <td>0.000000</td>\n",
       "      <td>0.000000</td>\n",
       "      <td>0.000000</td>\n",
       "      <td>0.000000</td>\n",
       "    </tr>\n",
       "    <tr>\n",
       "      <th>25%</th>\n",
       "      <td>19783.000000</td>\n",
       "      <td>1.000000</td>\n",
       "      <td>26.000000</td>\n",
       "      <td>0.076923</td>\n",
       "      <td>2.000000</td>\n",
       "      <td>3.000000</td>\n",
       "      <td>1.000000</td>\n",
       "      <td>0.238806</td>\n",
       "      <td>0.654545</td>\n",
       "      <td>0.225941</td>\n",
       "      <td>...</td>\n",
       "      <td>0.000000</td>\n",
       "      <td>0.000000</td>\n",
       "      <td>0.000000</td>\n",
       "      <td>0.000000</td>\n",
       "      <td>0.000000</td>\n",
       "      <td>0.000000</td>\n",
       "      <td>0.000000</td>\n",
       "      <td>0.000000</td>\n",
       "      <td>0.000000</td>\n",
       "      <td>0.000000</td>\n",
       "    </tr>\n",
       "    <tr>\n",
       "      <th>50%</th>\n",
       "      <td>39583.000000</td>\n",
       "      <td>1.000000</td>\n",
       "      <td>26.000000</td>\n",
       "      <td>0.230769</td>\n",
       "      <td>2.000000</td>\n",
       "      <td>3.000000</td>\n",
       "      <td>1.000000</td>\n",
       "      <td>0.402985</td>\n",
       "      <td>0.709091</td>\n",
       "      <td>0.288703</td>\n",
       "      <td>...</td>\n",
       "      <td>0.000000</td>\n",
       "      <td>0.000000</td>\n",
       "      <td>0.000000</td>\n",
       "      <td>0.000000</td>\n",
       "      <td>0.000000</td>\n",
       "      <td>0.000000</td>\n",
       "      <td>0.000000</td>\n",
       "      <td>0.000000</td>\n",
       "      <td>0.000000</td>\n",
       "      <td>0.000000</td>\n",
       "    </tr>\n",
       "    <tr>\n",
       "      <th>75%</th>\n",
       "      <td>59167.000000</td>\n",
       "      <td>1.000000</td>\n",
       "      <td>26.000000</td>\n",
       "      <td>0.487179</td>\n",
       "      <td>2.000000</td>\n",
       "      <td>3.000000</td>\n",
       "      <td>1.000000</td>\n",
       "      <td>0.567164</td>\n",
       "      <td>0.763636</td>\n",
       "      <td>0.345188</td>\n",
       "      <td>...</td>\n",
       "      <td>0.000000</td>\n",
       "      <td>0.000000</td>\n",
       "      <td>0.000000</td>\n",
       "      <td>0.000000</td>\n",
       "      <td>0.000000</td>\n",
       "      <td>0.000000</td>\n",
       "      <td>0.000000</td>\n",
       "      <td>0.000000</td>\n",
       "      <td>0.000000</td>\n",
       "      <td>0.000000</td>\n",
       "    </tr>\n",
       "    <tr>\n",
       "      <th>max</th>\n",
       "      <td>79145.000000</td>\n",
       "      <td>2.000000</td>\n",
       "      <td>38.000000</td>\n",
       "      <td>1.000000</td>\n",
       "      <td>3.000000</td>\n",
       "      <td>3.000000</td>\n",
       "      <td>3.000000</td>\n",
       "      <td>0.970149</td>\n",
       "      <td>1.000000</td>\n",
       "      <td>1.000000</td>\n",
       "      <td>...</td>\n",
       "      <td>1.000000</td>\n",
       "      <td>1.000000</td>\n",
       "      <td>1.000000</td>\n",
       "      <td>1.000000</td>\n",
       "      <td>1.000000</td>\n",
       "      <td>1.000000</td>\n",
       "      <td>1.000000</td>\n",
       "      <td>1.000000</td>\n",
       "      <td>1.000000</td>\n",
       "      <td>1.000000</td>\n",
       "    </tr>\n",
       "  </tbody>\n",
       "</table>\n",
       "<p>8 rows × 120 columns</p>\n",
       "</div>"
      ],
      "text/plain": [
       "                 Id  Product_Info_1  Product_Info_3  Product_Info_4  \\\n",
       "count  51381.000000    51381.000000    51381.000000    51381.000000   \n",
       "mean   39528.812635        1.026002       24.416049        0.328934   \n",
       "std    22800.993433        0.159142        5.068379        0.282703   \n",
       "min        2.000000        1.000000        1.000000        0.000000   \n",
       "25%    19783.000000        1.000000       26.000000        0.076923   \n",
       "50%    39583.000000        1.000000       26.000000        0.230769   \n",
       "75%    59167.000000        1.000000       26.000000        0.487179   \n",
       "max    79145.000000        2.000000       38.000000        1.000000   \n",
       "\n",
       "       Product_Info_5  Product_Info_6  Product_Info_7       Ins_Age  \\\n",
       "count    51381.000000    51381.000000    51381.000000  51381.000000   \n",
       "mean         2.006948        2.672097        1.042934      0.405657   \n",
       "std          0.083066        0.740471        0.289806      0.197115   \n",
       "min          2.000000        1.000000        1.000000      0.000000   \n",
       "25%          2.000000        3.000000        1.000000      0.238806   \n",
       "50%          2.000000        3.000000        1.000000      0.402985   \n",
       "75%          2.000000        3.000000        1.000000      0.567164   \n",
       "max          3.000000        3.000000        3.000000      0.970149   \n",
       "\n",
       "                 Ht            Wt         ...          Medical_Keyword_39  \\\n",
       "count  51381.000000  51381.000000         ...                51381.000000   \n",
       "mean       0.707231      0.292492         ...                    0.013682   \n",
       "std        0.074177      0.088967         ...                    0.116169   \n",
       "min        0.000000      0.000000         ...                    0.000000   \n",
       "25%        0.654545      0.225941         ...                    0.000000   \n",
       "50%        0.709091      0.288703         ...                    0.000000   \n",
       "75%        0.763636      0.345188         ...                    0.000000   \n",
       "max        1.000000      1.000000         ...                    1.000000   \n",
       "\n",
       "       Medical_Keyword_40  Medical_Keyword_41  Medical_Keyword_42  \\\n",
       "count        51381.000000        51381.000000        51381.000000   \n",
       "mean             0.056772            0.010043            0.045678   \n",
       "std              0.231409            0.099709            0.208789   \n",
       "min              0.000000            0.000000            0.000000   \n",
       "25%              0.000000            0.000000            0.000000   \n",
       "50%              0.000000            0.000000            0.000000   \n",
       "75%              0.000000            0.000000            0.000000   \n",
       "max              1.000000            1.000000            1.000000   \n",
       "\n",
       "       Medical_Keyword_43  Medical_Keyword_44  Medical_Keyword_45  \\\n",
       "count        51381.000000        51381.000000        51381.000000   \n",
       "mean             0.010841            0.007824            0.013721   \n",
       "std              0.103553            0.088107            0.116332   \n",
       "min              0.000000            0.000000            0.000000   \n",
       "25%              0.000000            0.000000            0.000000   \n",
       "50%              0.000000            0.000000            0.000000   \n",
       "75%              0.000000            0.000000            0.000000   \n",
       "max              1.000000            1.000000            1.000000   \n",
       "\n",
       "       Medical_Keyword_46  Medical_Keyword_47  Medical_Keyword_48  \n",
       "count        51381.000000        51381.000000        51381.000000  \n",
       "mean             0.008700            0.019910            0.054456  \n",
       "std              0.092867            0.139693            0.226917  \n",
       "min              0.000000            0.000000            0.000000  \n",
       "25%              0.000000            0.000000            0.000000  \n",
       "50%              0.000000            0.000000            0.000000  \n",
       "75%              0.000000            0.000000            0.000000  \n",
       "max              1.000000            1.000000            1.000000  \n",
       "\n",
       "[8 rows x 120 columns]"
      ]
     },
     "execution_count": 15,
     "metadata": {},
     "output_type": "execute_result"
    }
   ],
   "source": [
    "projetTrain=projetTrain.fillna(projetTrain.median())\n",
    "projetTrain.describe()"
   ]
  },
  {
   "cell_type": "markdown",
   "metadata": {},
   "source": [
    "# 2.4) Transformation des dummies"
   ]
  },
  {
   "cell_type": "code",
   "execution_count": 16,
   "metadata": {
    "collapsed": true
   },
   "outputs": [],
   "source": [
    "# Transformation de la variable Product_Info_2 en dummies\n",
    "# Table des indicatrices\n",
    "projetTrain_dummies=pd.get_dummies(projetTrain, columns=[\"Product_Info_2\"], drop_first=False)\n"
   ]
  },
  {
   "cell_type": "code",
   "execution_count": 17,
   "metadata": {
    "collapsed": true
   },
   "outputs": [],
   "source": [
    "projetTrain=projetTrain_dummies.copy()"
   ]
  },
  {
   "cell_type": "code",
   "execution_count": 18,
   "metadata": {},
   "outputs": [
    {
     "data": {
      "text/plain": [
       "Index(['Id', 'Product_Info_1', 'Product_Info_3', 'Product_Info_4',\n",
       "       'Product_Info_5', 'Product_Info_6', 'Product_Info_7', 'Ins_Age', 'Ht',\n",
       "       'Wt',\n",
       "       ...\n",
       "       'Product_Info_2_B2', 'Product_Info_2_C1', 'Product_Info_2_C2',\n",
       "       'Product_Info_2_C3', 'Product_Info_2_C4', 'Product_Info_2_D1',\n",
       "       'Product_Info_2_D2', 'Product_Info_2_D3', 'Product_Info_2_D4',\n",
       "       'Product_Info_2_E1'],\n",
       "      dtype='object', length=140)"
      ]
     },
     "execution_count": 18,
     "metadata": {},
     "output_type": "execute_result"
    }
   ],
   "source": [
    "projetTrain.columns"
   ]
  },
  {
   "cell_type": "markdown",
   "metadata": {},
   "source": [
    "# 3) Séparation des données de projetTrain en 2 échantillons"
   ]
  },
  {
   "cell_type": "markdown",
   "metadata": {},
   "source": [
    "On sépare dans un premier temps nos variables à expliquer et nos variables explicatives"
   ]
  },
  {
   "cell_type": "code",
   "execution_count": 19,
   "metadata": {},
   "outputs": [
    {
     "data": {
      "image/png": "[encoded data removed]",
      "text/plain": [
       "<matplotlib.figure.Figure at 0x11618f208>"
      ]
     },
     "metadata": {},
     "output_type": "display_data"
    }
   ],
   "source": [
    "plt.hist(projetTrain[\"target\"])\n",
    "plt.show()\n",
    "# Penser à faire un barplot ou une boite à moustache à la place"
   ]
  },
  {
   "cell_type": "markdown",
   "metadata": {},
   "source": [
    "<span style=\"color:red\">\n",
    "On ne peut pas prendre les 5000 ères lignes : l'ordre des données peut être du à une manipulation de la source => il faut randomiser\n",
    "+\n",
    "pourquoi prendre un nombre limité de lignes ? \n",
    "+\n",
    "la fonction train_test_split randomise déjà et fait le travail.\n",
    "</span>"
   ]
  },
  {
   "cell_type": "code",
   "execution_count": 20,
   "metadata": {
    "collapsed": true
   },
   "outputs": [],
   "source": [
    "y = projetTrain.target[0:5000]\n",
    "X = projetTrain.drop(['target'], axis=1)[0:5000]\n"
   ]
  },
  {
   "cell_type": "code",
   "execution_count": 21,
   "metadata": {
    "collapsed": true
   },
   "outputs": [],
   "source": [
    "from sklearn.model_selection import train_test_split\n",
    "from sklearn import preprocessing"
   ]
  },
  {
   "cell_type": "markdown",
   "metadata": {},
   "source": [
    "Nous mettons arbitrairement 20% des données pour l'échantillon test, avec un seed à 314 pour retrouver les mêmes résultats si on recommence la manipulation plus tard. J'ai stratifié par y (target) pour etre sur que la composition en valeurs de la variable target reste la même entre train et test."
   ]
  },
  {
   "cell_type": "code",
   "execution_count": 22,
   "metadata": {},
   "outputs": [
    {
     "name": "stdout",
     "output_type": "stream",
     "text": [
      "(4000, 139) (1000, 139) (4000,) (1000,)\n"
     ]
    }
   ],
   "source": [
    "X_train, X_test, y_train, y_test = train_test_split(X, y, \n",
    "                                                    test_size=0.2, \n",
    "                                                    random_state=314, \n",
    "                                                    stratify=y)\n",
    "print(X_train.shape,X_test.shape,y_train.shape,y_test.shape)"
   ]
  },
  {
   "cell_type": "markdown",
   "metadata": {},
   "source": [
    "# 4) Etude du jeu de données avec 3 méthodes"
   ]
  },
  {
   "cell_type": "markdown",
   "metadata": {},
   "source": [
    "La problématique ici est la classification, on va donc utiliser des méthodes qui s'y prêtent (SVM, RandomForest et GBM)."
   ]
  },
  {
   "cell_type": "markdown",
   "metadata": {},
   "source": [
    "La recherche des bons paramètres et la création du modèle ayant duré plus de 16h sans aboutir, je décide de réduire le nombre de lignes et de variables, pour pouvoir avoir certes un modèle moins précis, avec un AUC plus petit, mais sortir un résultat tout de même."
   ]
  },
  {
   "cell_type": "markdown",
   "metadata": {},
   "source": [
    "# 4.1)  Sélection de variables en univarié"
   ]
  },
  {
   "cell_type": "code",
   "execution_count": 23,
   "metadata": {
    "collapsed": true
   },
   "outputs": [],
   "source": [
    "from sklearn.feature_selection import SelectKBest\n",
    "from sklearn.feature_selection import chi2"
   ]
  },
  {
   "cell_type": "code",
   "execution_count": 24,
   "metadata": {},
   "outputs": [
    {
     "name": "stdout",
     "output_type": "stream",
     "text": [
      "[  4.243e+03   2.263e-02   4.400e+01   1.809e+01   8.432e-03   2.722e-01\n",
      "   3.894e-02   1.608e+01   6.420e-01   1.898e+01   2.446e+01   1.823e-02\n",
      "   3.626e-03   7.106e-01   2.015e-05   2.375e+00   7.280e-02   5.579e+00\n",
      "   3.755e-02   3.946e-01   7.417e-01   6.675e-01   2.806e+01   9.534e-01\n",
      "   5.144e-01   1.803e+00   5.939e+00   5.945e+00   3.584e-02   5.739e+00\n",
      "   1.728e-03   1.445e+00   4.884e+00   2.710e-01   1.304e+00   1.877e+02\n",
      "   1.067e+02   5.616e-02   5.363e+01   1.297e-01   2.979e+00   2.891e-03\n",
      "   1.755e-01   8.137e-01   2.664e-04   1.650e-01   3.348e+00   7.891e-02\n",
      "   1.750e+01   1.111e-01   1.605e-01   1.516e-04   4.612e-02   8.881e-01\n",
      "   7.669e-02   1.159e+02   2.425e-03   1.338e-03   1.243e-01   1.249e-01\n",
      "   4.028e+00   8.126e-01   2.217e-02   7.497e+00   1.003e+00   4.845e-04\n",
      "   2.585e-03   1.205e-01   2.717e-02   6.723e+00   6.680e-01   1.068e+00\n",
      "   2.216e+01   6.561e+00   8.868e+01   4.066e+00   2.324e+00   4.052e+00\n",
      "   5.829e-01   7.793e+00   2.070e-01   5.537e+00   2.138e+00   2.046e+00\n",
      "   1.018e+01   4.524e+00   3.228e+02   1.189e+00   2.219e+00   3.525e+00\n",
      "   5.241e+00   3.678e-01   2.368e+00   2.352e+01   5.445e+01   1.925e+01\n",
      "   4.595e+01   2.167e+00   3.896e+00   8.392e+00   3.131e+00   3.117e-01\n",
      "   8.025e+00   1.272e-02   1.080e+01   9.208e-01   1.029e+01   5.241e+00\n",
      "   2.171e+00   1.317e+01   1.353e+01   7.637e+00   4.339e-01   1.642e+01\n",
      "   9.494e+00   4.294e+00   2.264e-01   4.182e+00   9.785e+00   3.906e+01\n",
      "   8.116e+00   5.076e+00   2.989e-01   5.103e+00   5.348e+00   4.384e+01\n",
      "   3.548e+01   1.071e+00   6.370e-04   9.856e+00   4.757e-02   6.787e+00\n",
      "   5.733e-03   9.606e+00   3.665e+01   1.482e+01   9.147e+00   5.525e+01\n",
      "   3.470e+00]\n"
     ]
    }
   ],
   "source": [
    "test = SelectKBest(score_func=chi2, k=15)\n",
    "fit = test.fit(X_train, y_train)\n",
    "\n",
    "np.set_printoptions(precision=3)\n",
    "print(fit.scores_)"
   ]
  },
  {
   "cell_type": "code",
   "execution_count": 25,
   "metadata": {},
   "outputs": [
    {
     "name": "stdout",
     "output_type": "stream",
     "text": [
      "[[  6.069e+03   2.600e+01   4.000e+00   3.870e+02   2.000e+00   3.000e+00\n",
      "    0.000e+00   0.000e+00   0.000e+00   0.000e+00   0.000e+00   0.000e+00\n",
      "    0.000e+00   0.000e+00   1.000e+00]\n",
      " [  4.059e+03   2.600e+01   1.000e+00   3.350e+02   2.000e+00   3.000e+00\n",
      "    0.000e+00   0.000e+00   0.000e+00   0.000e+00   0.000e+00   0.000e+00\n",
      "    0.000e+00   1.000e+00   0.000e+00]\n",
      " [  2.867e+03   2.600e+01   4.000e+00   1.620e+02   1.000e+00   3.000e+00\n",
      "    0.000e+00   0.000e+00   1.000e+00   0.000e+00   0.000e+00   0.000e+00\n",
      "    0.000e+00   0.000e+00   0.000e+00]\n",
      " [  1.839e+03   2.600e+01   5.000e+00   1.200e+02   1.000e+00   3.000e+00\n",
      "    0.000e+00   0.000e+00   0.000e+00   0.000e+00   0.000e+00   0.000e+00\n",
      "    0.000e+00   0.000e+00   1.000e+00]\n",
      " [  3.255e+03   2.600e+01   2.200e+01   4.910e+02   2.000e+00   3.000e+00\n",
      "    0.000e+00   0.000e+00   0.000e+00   0.000e+00   1.000e+00   0.000e+00\n",
      "    0.000e+00   0.000e+00   1.000e+00]]\n"
     ]
    }
   ],
   "source": [
    "features = fit.transform(X_train)\n",
    "print(features[0:5,:]) # description des features sélectionnées"
   ]
  },
  {
   "cell_type": "markdown",
   "metadata": {},
   "source": [
    "## 4.2)  SVM : Support Vector Machine"
   ]
  },
  {
   "cell_type": "markdown",
   "metadata": {},
   "source": [
    "La variable a expliquer y étant de nature catégorielle, je peux utiliser une régression logistique"
   ]
  },
  {
   "cell_type": "markdown",
   "metadata": {},
   "source": [
    "### 4.2.1) Modèle"
   ]
  },
  {
   "cell_type": "code",
   "execution_count": 26,
   "metadata": {
    "collapsed": true
   },
   "outputs": [],
   "source": [
    "from sklearn import svm"
   ]
  },
  {
   "cell_type": "markdown",
   "metadata": {},
   "source": [
    "Je sélectionne les variables les plus importantes"
   ]
  },
  {
   "cell_type": "code",
   "execution_count": 27,
   "metadata": {
    "collapsed": true
   },
   "outputs": [],
   "source": [
    "svm_model = svm.SVC()"
   ]
  },
  {
   "cell_type": "markdown",
   "metadata": {},
   "source": [
    "On va essayer de tuner les paramètres du modèle pour améliorer la prédiction. Pour SVM, les paramètres ayant le poids le plus important sont C, kernel et gamma. On va essayer de trouver tous ces paramètres à l'aide de gridsearch, grâce auquel on va mesurer la performance des paramètres en validation croisée."
   ]
  },
  {
   "cell_type": "code",
   "execution_count": null,
   "metadata": {
    "collapsed": true
   },
   "outputs": [],
   "source": [
    "from sklearn.model_selection import GridSearchCV"
   ]
  },
  {
   "cell_type": "markdown",
   "metadata": {},
   "source": [
    "Combinaisons de paramètres à évaluer : 5 x 2 x 6 = 60 configurations"
   ]
  },
  {
   "cell_type": "markdown",
   "metadata": {},
   "source": [
    "<span style=\"color:red\">\n",
    "rajouter le paramètre : n_jobs =-1 pour utiliser tous les coeurs de la machine\n",
    "</span>"
   ]
  },
  {
   "cell_type": "code",
   "execution_count": null,
   "metadata": {
    "collapsed": true
   },
   "outputs": [],
   "source": [
    "parametres = [{'C':[0.1, 0.5, 1, 5, 10],'kernel':['rbf','linear'], 'gamma':[0.01,0.03,0.05,0.10,0.3,0.5]}]\n",
    "parametres = [{'C':[0.1 ],'kernel':['linear'], 'gamma':[0.01 ]}]\n",
    "\n",
    "grid = GridSearchCV(estimator=svm_model,param_grid=parametres,scoring='accuracy', n_jobs=-1)"
   ]
  },
  {
   "cell_type": "code",
   "execution_count": null,
   "metadata": {},
   "outputs": [],
   "source": [
    "grille = grid.fit(X_train[:200],y_train[:200])"
   ]
  },
  {
   "cell_type": "markdown",
   "metadata": {},
   "source": [
    "Résultat pour chaque combinaison :"
   ]
  },
  {
   "cell_type": "code",
   "execution_count": null,
   "metadata": {},
   "outputs": [],
   "source": [
    "print(pd.DataFrame.from_dict(grille.cv_results_).loc[:,[\"params\",\"mean_test_score\"]])"
   ]
  },
  {
   "cell_type": "markdown",
   "metadata": {},
   "source": [
    "Meilleur paramètrage :"
   ]
  },
  {
   "cell_type": "code",
   "execution_count": null,
   "metadata": {},
   "outputs": [],
   "source": [
    "print(grille.best_params_) "
   ]
  },
  {
   "cell_type": "markdown",
   "metadata": {},
   "source": [
    "Le meilleur modèle est celui avec le plus grand AUC (meilleure performance) :"
   ]
  },
  {
   "cell_type": "code",
   "execution_count": null,
   "metadata": {},
   "outputs": [],
   "source": [
    "print(grille.best_score_)"
   ]
  },
  {
   "cell_type": "markdown",
   "metadata": {},
   "source": [
    "###  4.2.2) Prédiction"
   ]
  },
  {
   "cell_type": "markdown",
   "metadata": {},
   "source": [
    "Prédiction avec le modèle « optimal » (meilleur paramètrage) :"
   ]
  },
  {
   "cell_type": "code",
   "execution_count": null,
   "metadata": {
    "collapsed": true
   },
   "outputs": [],
   "source": [
    "y_pred1 = grille.predict(X_test)"
   ]
  },
  {
   "cell_type": "markdown",
   "metadata": {},
   "source": [
    "AUC avec l'échantillon test :"
   ]
  },
  {
   "cell_type": "code",
   "execution_count": null,
   "metadata": {},
   "outputs": [],
   "source": [
    "from sklearn.metrics import accuracy_score\n",
    "print(accuracy_score(y_test,y_pred1))"
   ]
  },
  {
   "cell_type": "markdown",
   "metadata": {},
   "source": [
    "###  4.2.3) Matrice de confusion (Représentation Seaborn):"
   ]
  },
  {
   "cell_type": "code",
   "execution_count": null,
   "metadata": {
    "collapsed": true
   },
   "outputs": [],
   "source": [
    "from sklearn.metrics import confusion_matrix"
   ]
  },
  {
   "cell_type": "code",
   "execution_count": null,
   "metadata": {},
   "outputs": [],
   "source": [
    "cnf_matrix = confusion_matrix(y_test, y_pred1)\n",
    "print(cnf_matrix)"
   ]
  },
  {
   "cell_type": "code",
   "execution_count": null,
   "metadata": {
    "collapsed": true
   },
   "outputs": [],
   "source": [
    "from sklearn.metrics import confusion_matrix\n",
    "import seaborn as sns"
   ]
  },
  {
   "cell_type": "code",
   "execution_count": null,
   "metadata": {},
   "outputs": [],
   "source": [
    "sns.heatmap(cnf_matrix, square=True, annot=True, cbar=False\n",
    "            , xticklabels=list(projetTrain.target)\n",
    "            , yticklabels=list(projetTrain.target))\n",
    "plt.xlabel('valeurs prédites'),\n",
    "plt.ylabel('valeurs réelles');\n",
    "plt.show()"
   ]
  },
  {
   "cell_type": "markdown",
   "metadata": {},
   "source": [
    "### 4.2.3)  Sélection des meilleures variables pour le modèle"
   ]
  },
  {
   "cell_type": "code",
   "execution_count": null,
   "metadata": {
    "collapsed": true
   },
   "outputs": [],
   "source": [
    "from sklearn.feature_selection import RFE"
   ]
  },
  {
   "cell_type": "code",
   "execution_count": null,
   "metadata": {
    "collapsed": true
   },
   "outputs": [],
   "source": [
    "svm_model2 = svm.SVC(C=0.1, gamma = 0.01, kernel = 'linear')"
   ]
  },
  {
   "cell_type": "code",
   "execution_count": null,
   "metadata": {
    "collapsed": true
   },
   "outputs": [],
   "source": [
    "selecteur = RFE(estimator=svm_model2)"
   ]
  },
  {
   "cell_type": "code",
   "execution_count": null,
   "metadata": {},
   "outputs": [],
   "source": [
    "sol = selecteur.fit(X_train,y_train)"
   ]
  },
  {
   "cell_type": "code",
   "execution_count": null,
   "metadata": {
    "collapsed": true
   },
   "outputs": [],
   "source": [
    "#nombre de var. sélectionnées\n",
    "print(sol.n_features_)"
   ]
  },
  {
   "cell_type": "code",
   "execution_count": null,
   "metadata": {},
   "outputs": [],
   "source": [
    "# Feature importances \n",
    "importance = grille.feature_importances_\n",
    "\n",
    "# Ordonner les feature importances \n",
    "class_importances = np.argsort(importance)\n",
    "padding = np.arange(len(names)-1) + 0.5\n",
    "plt.barh(padding, importance[sorted_importances], align='center')"
   ]
  },
  {
   "cell_type": "code",
   "execution_count": null,
   "metadata": {
    "collapsed": true
   },
   "outputs": [],
   "source": [
    "# Customize the plot\n",
    "plt.yticks(padding, names[sorted_importances])\n",
    "plt.xlabel(\"Relative Importance\")\n",
    "plt.title(\"Variable Importance\")\n",
    "\n",
    "# Show the plot\n",
    "plt.show()"
   ]
  },
  {
   "cell_type": "markdown",
   "metadata": {},
   "source": [
    "## 4.3) Régression logistique"
   ]
  },
  {
   "cell_type": "code",
   "execution_count": 28,
   "metadata": {
    "collapsed": true
   },
   "outputs": [],
   "source": [
    "from sklearn import linear_model, datasets\n",
    "from sklearn.linear_model import LogisticRegression\n",
    "from sklearn import metrics # Pour la mesure de performance"
   ]
  },
  {
   "cell_type": "code",
   "execution_count": 29,
   "metadata": {
    "collapsed": true
   },
   "outputs": [],
   "source": [
    "reglog = LogisticRegression()\n",
    "modele = reglog.fit (X_train, y_train)"
   ]
  },
  {
   "cell_type": "code",
   "execution_count": 30,
   "metadata": {},
   "outputs": [
    {
     "name": "stdout",
     "output_type": "stream",
     "text": [
      "[[  3.190e-05  -4.444e-01   9.221e-03   3.550e-01  -5.661e-01  -5.092e-02\n",
      "    2.061e-01  -4.242e-01   4.631e-01  -3.712e+00  -6.954e+00   1.466e-01\n",
      "   -2.737e-02  -8.363e-02   2.141e-01   3.013e-01   1.866e-01  -3.194e-01\n",
      "   -7.856e-01  -3.981e-03   2.090e-01  -3.024e-01   1.930e-01  -3.181e-01\n",
      "   -8.828e-02  -1.104e-01  -1.810e-01  -5.113e-02   9.988e-03  -6.581e-02\n",
      "   -4.834e-02  -1.357e-01   5.089e-01   4.491e-01   5.212e-01   1.183e-03\n",
      "    2.004e-04  -1.055e-01   1.488e+00  -1.640e+00  -9.564e-02   1.239e-01\n",
      "   -2.034e-01  -5.782e-02  -2.845e-01  -3.994e-02   7.851e-02   1.384e-02\n",
      "    1.647e-01   6.535e-01  -1.436e-01  -2.760e-01   8.018e-01   9.876e-02\n",
      "    5.306e-01   3.835e-01  -2.666e-01  -3.106e-01   1.953e-01  -2.389e-01\n",
      "    1.682e-02  -1.355e+00   3.708e-01   8.062e-02   3.003e-02  -1.356e-01\n",
      "   -1.445e-02   1.257e-01  -2.866e-01   1.612e-01   7.159e-01   6.742e-02\n",
      "   -1.758e-01  -5.865e-01  -2.071e+00  -2.387e-01  -2.773e-01   6.728e-01\n",
      "    1.360e-01   3.044e-01   3.372e-01   2.991e-01  -1.538e-01   5.306e-01\n",
      "   -3.738e-01   6.354e-02  -2.215e+00  -3.220e-01   3.325e-01  -2.725e-01\n",
      "    5.098e-02   3.530e-01  -1.319e-01  -8.220e-02  -2.602e-01  -1.754e-01\n",
      "    4.195e-01  -1.290e-01   1.235e-01  -5.783e-01  -1.737e-01  -5.245e-02\n",
      "   -2.433e-01   2.204e-01   1.585e-01   4.408e-02  -5.683e-01   1.638e-01\n",
      "    1.951e-01  -3.849e-01   3.848e-01  -2.603e-01   3.860e-01  -4.303e-01\n",
      "    1.612e-01  -1.509e-01   1.121e+00   4.028e-01  -6.093e-01  -1.024e-01\n",
      "   -5.396e-02  -3.380e-01   1.201e-01   3.368e-01   4.175e-01   6.962e-01\n",
      "   -1.867e+00  -4.366e-02  -2.083e-02   3.704e-01  -1.216e-01  -3.691e-01\n",
      "   -7.999e-02   5.258e-01  -2.508e-01   5.187e-03  -8.216e-02   3.659e-01\n",
      "    2.596e-01]] [-0.13]\n"
     ]
    }
   ],
   "source": [
    "print(modele.coef_,modele.intercept_)"
   ]
  },
  {
   "cell_type": "markdown",
   "metadata": {},
   "source": [
    "###  4.3.1) Prédiction"
   ]
  },
  {
   "cell_type": "code",
   "execution_count": 31,
   "metadata": {},
   "outputs": [
    {
     "name": "stdout",
     "output_type": "stream",
     "text": [
      "[[587  86]\n",
      " [104 223]]\n"
     ]
    }
   ],
   "source": [
    "y_pred3 = modele.predict(X_test)\n",
    "\n",
    "# Matrice de confusion\n",
    "mc = metrics.confusion_matrix(y_test,y_pred3)\n",
    "print(mc)"
   ]
  },
  {
   "cell_type": "code",
   "execution_count": 32,
   "metadata": {},
   "outputs": [
    {
     "name": "stdout",
     "output_type": "stream",
     "text": [
      "0.81\n"
     ]
    }
   ],
   "source": [
    "# AUC\n",
    "AUC = metrics.accuracy_score(y_test,y_pred3)\n",
    "print(AUC) # 0.809 "
   ]
  },
  {
   "cell_type": "code",
   "execution_count": 33,
   "metadata": {},
   "outputs": [
    {
     "name": "stdout",
     "output_type": "stream",
     "text": [
      "0.19\n"
     ]
    }
   ],
   "source": [
    "# Taux d'erreur\n",
    "err = 1.0 - AUC\n",
    "print(err) # 0.191 = 1.0 – 0.809"
   ]
  },
  {
   "cell_type": "code",
   "execution_count": 34,
   "metadata": {},
   "outputs": [
    {
     "name": "stdout",
     "output_type": "stream",
     "text": [
      "0.681957186544\n"
     ]
    }
   ],
   "source": [
    "# Sensibilité (ou rappel)\n",
    "se = metrics.recall_score(y_test,y_pred3)\n",
    "print(se) # 0.67 "
   ]
  },
  {
   "cell_type": "markdown",
   "metadata": {},
   "source": [
    "## 4.4) Random Forest"
   ]
  },
  {
   "cell_type": "markdown",
   "metadata": {},
   "source": [
    "### 4.4.1) Modèle"
   ]
  },
  {
   "cell_type": "code",
   "execution_count": 35,
   "metadata": {
    "collapsed": true
   },
   "outputs": [],
   "source": [
    "from sklearn.ensemble import RandomForestClassifier\n",
    "from sklearn import model_selection"
   ]
  },
  {
   "cell_type": "markdown",
   "metadata": {},
   "source": [
    "### 4.4.2) Estimation du meilleur n_estimators"
   ]
  },
  {
   "cell_type": "code",
   "execution_count": 36,
   "metadata": {
    "collapsed": true
   },
   "outputs": [],
   "source": [
    "seed = 123\n",
    "\n",
    "rfc = RandomForestClassifier(n_jobs=-1, oob_score = True, max_depth=10, max_features='sqrt', min_samples_leaf = 1) "
   ]
  },
  {
   "cell_type": "markdown",
   "metadata": {},
   "source": [
    "<span style=\"color:red\">\n",
    "Le Kfold est inclu dans la fonctoin cross_val_Score : \n",
    "http://scikit-learn.org/stable/modules/generated/sklearn.model_selection.cross_val_score.html\n",
    "cv : int, cross-validation generator or an iterable, optional\n",
    "\n",
    "Determines the cross-validation splitting strategy. Possible inputs for cv are:\n",
    "\n",
    "None, to use the default 3-fold cross validation,\n",
    "integer, to specify the number of folds in a (Stratified)KFold,\n",
    "An object to be used as a cross-validation generator.\n",
    "An iterable yielding train, test splits.\n",
    "For integer/None inputs, if the estimator is a classifier and y is either binary or multiclass, StratifiedKFold is used. In all other cases, KFold is used.\n",
    "\n",
    "Refer User Guide for the various cross-validation strategies that can be used here.\n",
    "</span>"
   ]
  },
  {
   "cell_type": "code",
   "execution_count": 38,
   "metadata": {
    "collapsed": true
   },
   "outputs": [],
   "source": [
    "from sklearn.model_selection import KFold"
   ]
  },
  {
   "cell_type": "code",
   "execution_count": 41,
   "metadata": {},
   "outputs": [
    {
     "name": "stderr",
     "output_type": "stream",
     "text": [
      "/Users/romain/anaconda/envs/python35/lib/python3.5/site-packages/sklearn/ensemble/forest.py:439: UserWarning: Some inputs do not have OOB scores. This probably means too few trees were used to compute any reliable oob estimates.\n",
      "  warn(\"Some inputs do not have OOB scores. \"\n",
      "/Users/romain/anaconda/envs/python35/lib/python3.5/site-packages/sklearn/ensemble/forest.py:444: RuntimeWarning: invalid value encountered in true_divide\n",
      "  predictions[k].sum(axis=1)[:, np.newaxis])\n",
      "/Users/romain/anaconda/envs/python35/lib/python3.5/site-packages/sklearn/ensemble/forest.py:439: UserWarning: Some inputs do not have OOB scores. This probably means too few trees were used to compute any reliable oob estimates.\n",
      "  warn(\"Some inputs do not have OOB scores. \"\n",
      "/Users/romain/anaconda/envs/python35/lib/python3.5/site-packages/sklearn/ensemble/forest.py:444: RuntimeWarning: invalid value encountered in true_divide\n",
      "  predictions[k].sum(axis=1)[:, np.newaxis])\n",
      "/Users/romain/anaconda/envs/python35/lib/python3.5/site-packages/sklearn/ensemble/forest.py:439: UserWarning: Some inputs do not have OOB scores. This probably means too few trees were used to compute any reliable oob estimates.\n",
      "  warn(\"Some inputs do not have OOB scores. \"\n",
      "/Users/romain/anaconda/envs/python35/lib/python3.5/site-packages/sklearn/ensemble/forest.py:444: RuntimeWarning: invalid value encountered in true_divide\n",
      "  predictions[k].sum(axis=1)[:, np.newaxis])\n",
      "/Users/romain/anaconda/envs/python35/lib/python3.5/site-packages/sklearn/ensemble/forest.py:439: UserWarning: Some inputs do not have OOB scores. This probably means too few trees were used to compute any reliable oob estimates.\n",
      "  warn(\"Some inputs do not have OOB scores. \"\n",
      "/Users/romain/anaconda/envs/python35/lib/python3.5/site-packages/sklearn/ensemble/forest.py:444: RuntimeWarning: invalid value encountered in true_divide\n",
      "  predictions[k].sum(axis=1)[:, np.newaxis])\n",
      "/Users/romain/anaconda/envs/python35/lib/python3.5/site-packages/sklearn/ensemble/forest.py:439: UserWarning: Some inputs do not have OOB scores. This probably means too few trees were used to compute any reliable oob estimates.\n",
      "  warn(\"Some inputs do not have OOB scores. \"\n",
      "/Users/romain/anaconda/envs/python35/lib/python3.5/site-packages/sklearn/ensemble/forest.py:444: RuntimeWarning: invalid value encountered in true_divide\n",
      "  predictions[k].sum(axis=1)[:, np.newaxis])\n",
      "/Users/romain/anaconda/envs/python35/lib/python3.5/site-packages/sklearn/ensemble/forest.py:439: UserWarning: Some inputs do not have OOB scores. This probably means too few trees were used to compute any reliable oob estimates.\n",
      "  warn(\"Some inputs do not have OOB scores. \"\n",
      "/Users/romain/anaconda/envs/python35/lib/python3.5/site-packages/sklearn/ensemble/forest.py:444: RuntimeWarning: invalid value encountered in true_divide\n",
      "  predictions[k].sum(axis=1)[:, np.newaxis])\n",
      "/Users/romain/anaconda/envs/python35/lib/python3.5/site-packages/sklearn/ensemble/forest.py:439: UserWarning: Some inputs do not have OOB scores. This probably means too few trees were used to compute any reliable oob estimates.\n",
      "  warn(\"Some inputs do not have OOB scores. \"\n",
      "/Users/romain/anaconda/envs/python35/lib/python3.5/site-packages/sklearn/ensemble/forest.py:444: RuntimeWarning: invalid value encountered in true_divide\n",
      "  predictions[k].sum(axis=1)[:, np.newaxis])\n",
      "/Users/romain/anaconda/envs/python35/lib/python3.5/site-packages/sklearn/ensemble/forest.py:439: UserWarning: Some inputs do not have OOB scores. This probably means too few trees were used to compute any reliable oob estimates.\n",
      "  warn(\"Some inputs do not have OOB scores. \"\n",
      "/Users/romain/anaconda/envs/python35/lib/python3.5/site-packages/sklearn/ensemble/forest.py:444: RuntimeWarning: invalid value encountered in true_divide\n",
      "  predictions[k].sum(axis=1)[:, np.newaxis])\n",
      "/Users/romain/anaconda/envs/python35/lib/python3.5/site-packages/sklearn/ensemble/forest.py:439: UserWarning: Some inputs do not have OOB scores. This probably means too few trees were used to compute any reliable oob estimates.\n",
      "  warn(\"Some inputs do not have OOB scores. \"\n",
      "/Users/romain/anaconda/envs/python35/lib/python3.5/site-packages/sklearn/ensemble/forest.py:444: RuntimeWarning: invalid value encountered in true_divide\n",
      "  predictions[k].sum(axis=1)[:, np.newaxis])\n",
      "/Users/romain/anaconda/envs/python35/lib/python3.5/site-packages/sklearn/ensemble/forest.py:439: UserWarning: Some inputs do not have OOB scores. This probably means too few trees were used to compute any reliable oob estimates.\n",
      "  warn(\"Some inputs do not have OOB scores. \"\n",
      "/Users/romain/anaconda/envs/python35/lib/python3.5/site-packages/sklearn/ensemble/forest.py:444: RuntimeWarning: invalid value encountered in true_divide\n",
      "  predictions[k].sum(axis=1)[:, np.newaxis])\n",
      "/Users/romain/anaconda/envs/python35/lib/python3.5/site-packages/sklearn/ensemble/forest.py:439: UserWarning: Some inputs do not have OOB scores. This probably means too few trees were used to compute any reliable oob estimates.\n",
      "  warn(\"Some inputs do not have OOB scores. \"\n",
      "/Users/romain/anaconda/envs/python35/lib/python3.5/site-packages/sklearn/ensemble/forest.py:444: RuntimeWarning: invalid value encountered in true_divide\n",
      "  predictions[k].sum(axis=1)[:, np.newaxis])\n",
      "/Users/romain/anaconda/envs/python35/lib/python3.5/site-packages/sklearn/ensemble/forest.py:439: UserWarning: Some inputs do not have OOB scores. This probably means too few trees were used to compute any reliable oob estimates.\n",
      "  warn(\"Some inputs do not have OOB scores. \"\n",
      "/Users/romain/anaconda/envs/python35/lib/python3.5/site-packages/sklearn/ensemble/forest.py:444: RuntimeWarning: invalid value encountered in true_divide\n",
      "  predictions[k].sum(axis=1)[:, np.newaxis])\n",
      "/Users/romain/anaconda/envs/python35/lib/python3.5/site-packages/sklearn/ensemble/forest.py:439: UserWarning: Some inputs do not have OOB scores. This probably means too few trees were used to compute any reliable oob estimates.\n",
      "  warn(\"Some inputs do not have OOB scores. \"\n",
      "/Users/romain/anaconda/envs/python35/lib/python3.5/site-packages/sklearn/ensemble/forest.py:444: RuntimeWarning: invalid value encountered in true_divide\n",
      "  predictions[k].sum(axis=1)[:, np.newaxis])\n",
      "/Users/romain/anaconda/envs/python35/lib/python3.5/site-packages/sklearn/ensemble/forest.py:439: UserWarning: Some inputs do not have OOB scores. This probably means too few trees were used to compute any reliable oob estimates.\n",
      "  warn(\"Some inputs do not have OOB scores. \"\n",
      "/Users/romain/anaconda/envs/python35/lib/python3.5/site-packages/sklearn/ensemble/forest.py:444: RuntimeWarning: invalid value encountered in true_divide\n",
      "  predictions[k].sum(axis=1)[:, np.newaxis])\n",
      "/Users/romain/anaconda/envs/python35/lib/python3.5/site-packages/sklearn/ensemble/forest.py:439: UserWarning: Some inputs do not have OOB scores. This probably means too few trees were used to compute any reliable oob estimates.\n",
      "  warn(\"Some inputs do not have OOB scores. \"\n",
      "/Users/romain/anaconda/envs/python35/lib/python3.5/site-packages/sklearn/ensemble/forest.py:444: RuntimeWarning: invalid value encountered in true_divide\n",
      "  predictions[k].sum(axis=1)[:, np.newaxis])\n",
      "/Users/romain/anaconda/envs/python35/lib/python3.5/site-packages/sklearn/ensemble/forest.py:439: UserWarning: Some inputs do not have OOB scores. This probably means too few trees were used to compute any reliable oob estimates.\n",
      "  warn(\"Some inputs do not have OOB scores. \"\n",
      "/Users/romain/anaconda/envs/python35/lib/python3.5/site-packages/sklearn/ensemble/forest.py:444: RuntimeWarning: invalid value encountered in true_divide\n",
      "  predictions[k].sum(axis=1)[:, np.newaxis])\n",
      "/Users/romain/anaconda/envs/python35/lib/python3.5/site-packages/sklearn/ensemble/forest.py:439: UserWarning: Some inputs do not have OOB scores. This probably means too few trees were used to compute any reliable oob estimates.\n",
      "  warn(\"Some inputs do not have OOB scores. \"\n",
      "/Users/romain/anaconda/envs/python35/lib/python3.5/site-packages/sklearn/ensemble/forest.py:444: RuntimeWarning: invalid value encountered in true_divide\n",
      "  predictions[k].sum(axis=1)[:, np.newaxis])\n",
      "/Users/romain/anaconda/envs/python35/lib/python3.5/site-packages/sklearn/ensemble/forest.py:439: UserWarning: Some inputs do not have OOB scores. This probably means too few trees were used to compute any reliable oob estimates.\n",
      "  warn(\"Some inputs do not have OOB scores. \"\n",
      "/Users/romain/anaconda/envs/python35/lib/python3.5/site-packages/sklearn/ensemble/forest.py:444: RuntimeWarning: invalid value encountered in true_divide\n",
      "  predictions[k].sum(axis=1)[:, np.newaxis])\n"
     ]
    },
    {
     "name": "stderr",
     "output_type": "stream",
     "text": [
      "/Users/romain/anaconda/envs/python35/lib/python3.5/site-packages/sklearn/ensemble/forest.py:439: UserWarning: Some inputs do not have OOB scores. This probably means too few trees were used to compute any reliable oob estimates.\n",
      "  warn(\"Some inputs do not have OOB scores. \"\n",
      "/Users/romain/anaconda/envs/python35/lib/python3.5/site-packages/sklearn/ensemble/forest.py:444: RuntimeWarning: invalid value encountered in true_divide\n",
      "  predictions[k].sum(axis=1)[:, np.newaxis])\n",
      "/Users/romain/anaconda/envs/python35/lib/python3.5/site-packages/sklearn/ensemble/forest.py:439: UserWarning: Some inputs do not have OOB scores. This probably means too few trees were used to compute any reliable oob estimates.\n",
      "  warn(\"Some inputs do not have OOB scores. \"\n",
      "/Users/romain/anaconda/envs/python35/lib/python3.5/site-packages/sklearn/ensemble/forest.py:444: RuntimeWarning: invalid value encountered in true_divide\n",
      "  predictions[k].sum(axis=1)[:, np.newaxis])\n",
      "/Users/romain/anaconda/envs/python35/lib/python3.5/site-packages/sklearn/ensemble/forest.py:439: UserWarning: Some inputs do not have OOB scores. This probably means too few trees were used to compute any reliable oob estimates.\n",
      "  warn(\"Some inputs do not have OOB scores. \"\n",
      "/Users/romain/anaconda/envs/python35/lib/python3.5/site-packages/sklearn/ensemble/forest.py:444: RuntimeWarning: invalid value encountered in true_divide\n",
      "  predictions[k].sum(axis=1)[:, np.newaxis])\n",
      "/Users/romain/anaconda/envs/python35/lib/python3.5/site-packages/sklearn/ensemble/forest.py:439: UserWarning: Some inputs do not have OOB scores. This probably means too few trees were used to compute any reliable oob estimates.\n",
      "  warn(\"Some inputs do not have OOB scores. \"\n",
      "/Users/romain/anaconda/envs/python35/lib/python3.5/site-packages/sklearn/ensemble/forest.py:444: RuntimeWarning: invalid value encountered in true_divide\n",
      "  predictions[k].sum(axis=1)[:, np.newaxis])\n",
      "/Users/romain/anaconda/envs/python35/lib/python3.5/site-packages/sklearn/ensemble/forest.py:439: UserWarning: Some inputs do not have OOB scores. This probably means too few trees were used to compute any reliable oob estimates.\n",
      "  warn(\"Some inputs do not have OOB scores. \"\n",
      "/Users/romain/anaconda/envs/python35/lib/python3.5/site-packages/sklearn/ensemble/forest.py:444: RuntimeWarning: invalid value encountered in true_divide\n",
      "  predictions[k].sum(axis=1)[:, np.newaxis])\n",
      "/Users/romain/anaconda/envs/python35/lib/python3.5/site-packages/sklearn/ensemble/forest.py:439: UserWarning: Some inputs do not have OOB scores. This probably means too few trees were used to compute any reliable oob estimates.\n",
      "  warn(\"Some inputs do not have OOB scores. \"\n",
      "/Users/romain/anaconda/envs/python35/lib/python3.5/site-packages/sklearn/ensemble/forest.py:444: RuntimeWarning: invalid value encountered in true_divide\n",
      "  predictions[k].sum(axis=1)[:, np.newaxis])\n",
      "/Users/romain/anaconda/envs/python35/lib/python3.5/site-packages/sklearn/ensemble/forest.py:439: UserWarning: Some inputs do not have OOB scores. This probably means too few trees were used to compute any reliable oob estimates.\n",
      "  warn(\"Some inputs do not have OOB scores. \"\n",
      "/Users/romain/anaconda/envs/python35/lib/python3.5/site-packages/sklearn/ensemble/forest.py:444: RuntimeWarning: invalid value encountered in true_divide\n",
      "  predictions[k].sum(axis=1)[:, np.newaxis])\n",
      "/Users/romain/anaconda/envs/python35/lib/python3.5/site-packages/sklearn/ensemble/forest.py:439: UserWarning: Some inputs do not have OOB scores. This probably means too few trees were used to compute any reliable oob estimates.\n",
      "  warn(\"Some inputs do not have OOB scores. \"\n",
      "/Users/romain/anaconda/envs/python35/lib/python3.5/site-packages/sklearn/ensemble/forest.py:444: RuntimeWarning: invalid value encountered in true_divide\n",
      "  predictions[k].sum(axis=1)[:, np.newaxis])\n",
      "/Users/romain/anaconda/envs/python35/lib/python3.5/site-packages/sklearn/ensemble/forest.py:439: UserWarning: Some inputs do not have OOB scores. This probably means too few trees were used to compute any reliable oob estimates.\n",
      "  warn(\"Some inputs do not have OOB scores. \"\n",
      "/Users/romain/anaconda/envs/python35/lib/python3.5/site-packages/sklearn/ensemble/forest.py:444: RuntimeWarning: invalid value encountered in true_divide\n",
      "  predictions[k].sum(axis=1)[:, np.newaxis])\n",
      "/Users/romain/anaconda/envs/python35/lib/python3.5/site-packages/sklearn/ensemble/forest.py:439: UserWarning: Some inputs do not have OOB scores. This probably means too few trees were used to compute any reliable oob estimates.\n",
      "  warn(\"Some inputs do not have OOB scores. \"\n",
      "/Users/romain/anaconda/envs/python35/lib/python3.5/site-packages/sklearn/ensemble/forest.py:444: RuntimeWarning: invalid value encountered in true_divide\n",
      "  predictions[k].sum(axis=1)[:, np.newaxis])\n",
      "/Users/romain/anaconda/envs/python35/lib/python3.5/site-packages/sklearn/ensemble/forest.py:439: UserWarning: Some inputs do not have OOB scores. This probably means too few trees were used to compute any reliable oob estimates.\n",
      "  warn(\"Some inputs do not have OOB scores. \"\n",
      "/Users/romain/anaconda/envs/python35/lib/python3.5/site-packages/sklearn/ensemble/forest.py:444: RuntimeWarning: invalid value encountered in true_divide\n",
      "  predictions[k].sum(axis=1)[:, np.newaxis])\n",
      "/Users/romain/anaconda/envs/python35/lib/python3.5/site-packages/sklearn/ensemble/forest.py:439: UserWarning: Some inputs do not have OOB scores. This probably means too few trees were used to compute any reliable oob estimates.\n",
      "  warn(\"Some inputs do not have OOB scores. \"\n",
      "/Users/romain/anaconda/envs/python35/lib/python3.5/site-packages/sklearn/ensemble/forest.py:444: RuntimeWarning: invalid value encountered in true_divide\n",
      "  predictions[k].sum(axis=1)[:, np.newaxis])\n",
      "/Users/romain/anaconda/envs/python35/lib/python3.5/site-packages/sklearn/ensemble/forest.py:439: UserWarning: Some inputs do not have OOB scores. This probably means too few trees were used to compute any reliable oob estimates.\n",
      "  warn(\"Some inputs do not have OOB scores. \"\n",
      "/Users/romain/anaconda/envs/python35/lib/python3.5/site-packages/sklearn/ensemble/forest.py:444: RuntimeWarning: invalid value encountered in true_divide\n",
      "  predictions[k].sum(axis=1)[:, np.newaxis])\n",
      "/Users/romain/anaconda/envs/python35/lib/python3.5/site-packages/sklearn/ensemble/forest.py:439: UserWarning: Some inputs do not have OOB scores. This probably means too few trees were used to compute any reliable oob estimates.\n",
      "  warn(\"Some inputs do not have OOB scores. \"\n",
      "/Users/romain/anaconda/envs/python35/lib/python3.5/site-packages/sklearn/ensemble/forest.py:444: RuntimeWarning: invalid value encountered in true_divide\n",
      "  predictions[k].sum(axis=1)[:, np.newaxis])\n",
      "/Users/romain/anaconda/envs/python35/lib/python3.5/site-packages/sklearn/ensemble/forest.py:439: UserWarning: Some inputs do not have OOB scores. This probably means too few trees were used to compute any reliable oob estimates.\n",
      "  warn(\"Some inputs do not have OOB scores. \"\n",
      "/Users/romain/anaconda/envs/python35/lib/python3.5/site-packages/sklearn/ensemble/forest.py:444: RuntimeWarning: invalid value encountered in true_divide\n",
      "  predictions[k].sum(axis=1)[:, np.newaxis])\n",
      "/Users/romain/anaconda/envs/python35/lib/python3.5/site-packages/sklearn/ensemble/forest.py:439: UserWarning: Some inputs do not have OOB scores. This probably means too few trees were used to compute any reliable oob estimates.\n",
      "  warn(\"Some inputs do not have OOB scores. \"\n",
      "/Users/romain/anaconda/envs/python35/lib/python3.5/site-packages/sklearn/ensemble/forest.py:444: RuntimeWarning: invalid value encountered in true_divide\n",
      "  predictions[k].sum(axis=1)[:, np.newaxis])\n",
      "/Users/romain/anaconda/envs/python35/lib/python3.5/site-packages/sklearn/ensemble/forest.py:439: UserWarning: Some inputs do not have OOB scores. This probably means too few trees were used to compute any reliable oob estimates.\n",
      "  warn(\"Some inputs do not have OOB scores. \"\n",
      "/Users/romain/anaconda/envs/python35/lib/python3.5/site-packages/sklearn/ensemble/forest.py:444: RuntimeWarning: invalid value encountered in true_divide\n",
      "  predictions[k].sum(axis=1)[:, np.newaxis])\n",
      "/Users/romain/anaconda/envs/python35/lib/python3.5/site-packages/sklearn/ensemble/forest.py:439: UserWarning: Some inputs do not have OOB scores. This probably means too few trees were used to compute any reliable oob estimates.\n",
      "  warn(\"Some inputs do not have OOB scores. \"\n",
      "/Users/romain/anaconda/envs/python35/lib/python3.5/site-packages/sklearn/ensemble/forest.py:444: RuntimeWarning: invalid value encountered in true_divide\n",
      "  predictions[k].sum(axis=1)[:, np.newaxis])\n"
     ]
    },
    {
     "name": "stderr",
     "output_type": "stream",
     "text": [
      "/Users/romain/anaconda/envs/python35/lib/python3.5/site-packages/sklearn/ensemble/forest.py:439: UserWarning: Some inputs do not have OOB scores. This probably means too few trees were used to compute any reliable oob estimates.\n",
      "  warn(\"Some inputs do not have OOB scores. \"\n",
      "/Users/romain/anaconda/envs/python35/lib/python3.5/site-packages/sklearn/ensemble/forest.py:444: RuntimeWarning: invalid value encountered in true_divide\n",
      "  predictions[k].sum(axis=1)[:, np.newaxis])\n",
      "/Users/romain/anaconda/envs/python35/lib/python3.5/site-packages/sklearn/ensemble/forest.py:439: UserWarning: Some inputs do not have OOB scores. This probably means too few trees were used to compute any reliable oob estimates.\n",
      "  warn(\"Some inputs do not have OOB scores. \"\n",
      "/Users/romain/anaconda/envs/python35/lib/python3.5/site-packages/sklearn/ensemble/forest.py:444: RuntimeWarning: invalid value encountered in true_divide\n",
      "  predictions[k].sum(axis=1)[:, np.newaxis])\n",
      "/Users/romain/anaconda/envs/python35/lib/python3.5/site-packages/sklearn/ensemble/forest.py:439: UserWarning: Some inputs do not have OOB scores. This probably means too few trees were used to compute any reliable oob estimates.\n",
      "  warn(\"Some inputs do not have OOB scores. \"\n",
      "/Users/romain/anaconda/envs/python35/lib/python3.5/site-packages/sklearn/ensemble/forest.py:444: RuntimeWarning: invalid value encountered in true_divide\n",
      "  predictions[k].sum(axis=1)[:, np.newaxis])\n",
      "/Users/romain/anaconda/envs/python35/lib/python3.5/site-packages/sklearn/ensemble/forest.py:439: UserWarning: Some inputs do not have OOB scores. This probably means too few trees were used to compute any reliable oob estimates.\n",
      "  warn(\"Some inputs do not have OOB scores. \"\n",
      "/Users/romain/anaconda/envs/python35/lib/python3.5/site-packages/sklearn/ensemble/forest.py:444: RuntimeWarning: invalid value encountered in true_divide\n",
      "  predictions[k].sum(axis=1)[:, np.newaxis])\n",
      "/Users/romain/anaconda/envs/python35/lib/python3.5/site-packages/sklearn/ensemble/forest.py:439: UserWarning: Some inputs do not have OOB scores. This probably means too few trees were used to compute any reliable oob estimates.\n",
      "  warn(\"Some inputs do not have OOB scores. \"\n",
      "/Users/romain/anaconda/envs/python35/lib/python3.5/site-packages/sklearn/ensemble/forest.py:444: RuntimeWarning: invalid value encountered in true_divide\n",
      "  predictions[k].sum(axis=1)[:, np.newaxis])\n",
      "/Users/romain/anaconda/envs/python35/lib/python3.5/site-packages/sklearn/ensemble/forest.py:439: UserWarning: Some inputs do not have OOB scores. This probably means too few trees were used to compute any reliable oob estimates.\n",
      "  warn(\"Some inputs do not have OOB scores. \"\n",
      "/Users/romain/anaconda/envs/python35/lib/python3.5/site-packages/sklearn/ensemble/forest.py:444: RuntimeWarning: invalid value encountered in true_divide\n",
      "  predictions[k].sum(axis=1)[:, np.newaxis])\n",
      "/Users/romain/anaconda/envs/python35/lib/python3.5/site-packages/sklearn/ensemble/forest.py:439: UserWarning: Some inputs do not have OOB scores. This probably means too few trees were used to compute any reliable oob estimates.\n",
      "  warn(\"Some inputs do not have OOB scores. \"\n",
      "/Users/romain/anaconda/envs/python35/lib/python3.5/site-packages/sklearn/ensemble/forest.py:444: RuntimeWarning: invalid value encountered in true_divide\n",
      "  predictions[k].sum(axis=1)[:, np.newaxis])\n",
      "/Users/romain/anaconda/envs/python35/lib/python3.5/site-packages/sklearn/ensemble/forest.py:439: UserWarning: Some inputs do not have OOB scores. This probably means too few trees were used to compute any reliable oob estimates.\n",
      "  warn(\"Some inputs do not have OOB scores. \"\n",
      "/Users/romain/anaconda/envs/python35/lib/python3.5/site-packages/sklearn/ensemble/forest.py:444: RuntimeWarning: invalid value encountered in true_divide\n",
      "  predictions[k].sum(axis=1)[:, np.newaxis])\n",
      "/Users/romain/anaconda/envs/python35/lib/python3.5/site-packages/sklearn/ensemble/forest.py:439: UserWarning: Some inputs do not have OOB scores. This probably means too few trees were used to compute any reliable oob estimates.\n",
      "  warn(\"Some inputs do not have OOB scores. \"\n",
      "/Users/romain/anaconda/envs/python35/lib/python3.5/site-packages/sklearn/ensemble/forest.py:444: RuntimeWarning: invalid value encountered in true_divide\n",
      "  predictions[k].sum(axis=1)[:, np.newaxis])\n",
      "/Users/romain/anaconda/envs/python35/lib/python3.5/site-packages/sklearn/ensemble/forest.py:439: UserWarning: Some inputs do not have OOB scores. This probably means too few trees were used to compute any reliable oob estimates.\n",
      "  warn(\"Some inputs do not have OOB scores. \"\n",
      "/Users/romain/anaconda/envs/python35/lib/python3.5/site-packages/sklearn/ensemble/forest.py:444: RuntimeWarning: invalid value encountered in true_divide\n",
      "  predictions[k].sum(axis=1)[:, np.newaxis])\n"
     ]
    },
    {
     "name": "stdout",
     "output_type": "stream",
     "text": [
      "Le nombre optimal d'estimateurs est 1 avec 81.3%\n"
     ]
    },
    {
     "name": "stderr",
     "output_type": "stream",
     "text": [
      "/Users/romain/anaconda/envs/python35/lib/python3.5/site-packages/sklearn/ensemble/forest.py:439: UserWarning: Some inputs do not have OOB scores. This probably means too few trees were used to compute any reliable oob estimates.\n",
      "  warn(\"Some inputs do not have OOB scores. \"\n",
      "/Users/romain/anaconda/envs/python35/lib/python3.5/site-packages/sklearn/ensemble/forest.py:444: RuntimeWarning: invalid value encountered in true_divide\n",
      "  predictions[k].sum(axis=1)[:, np.newaxis])\n"
     ]
    }
   ],
   "source": [
    "seed = 123\n",
    "\n",
    "rfc = RandomForestClassifier(n_jobs=-1, oob_score = True, max_depth=10, max_features='sqrt', min_samples_leaf = 1) \n",
    " \n",
    "n_estim = filter(lambda x: x % 2 == 0, list(range(10,20)))\n",
    " \n",
    "cv_scores = []\n",
    " \n",
    "for i in n_estim:\n",
    "    rfc.set_params(n_estimators=i)\n",
    "    kfold = KFold(n_splits=10, random_state=seed)\n",
    "    scores = model_selection.cross_val_score(rfc, X_train, y_train, cv=kfold, scoring='accuracy')\n",
    "    cv_scores.append(scores.mean()*100)\n",
    "    \n",
    "optimal_n_estim = cv_scores.index(max(cv_scores))\n",
    "print(\"Le nombre optimal d'estimateurs est %d avec %0.1f%%\" % (optimal_n_estim, cv_scores[optimal_n_estim]))"
   ]
  },
  {
   "cell_type": "markdown",
   "metadata": {},
   "source": [
    "### 4.4.3) Représentation graphique"
   ]
  },
  {
   "cell_type": "code",
   "execution_count": 47,
   "metadata": {},
   "outputs": [
    {
     "data": {
      "image/png": "[encoded data removed]",
      "text/plain": [
       "<matplotlib.figure.Figure at 0x128754320>"
      ]
     },
     "metadata": {},
     "output_type": "display_data"
    }
   ],
   "source": [
    "plt.plot(list(filter(lambda x: x % 2 == 0, list(range(10,20)))), cv_scores)\n",
    "plt.xlabel(\"Nombre d'estimateurs\")\n",
    "plt.ylabel(\"Accuracy sur l'échantillon d'apprentissage\")\n",
    "plt.show()"
   ]
  },
  {
   "cell_type": "markdown",
   "metadata": {},
   "source": [
    "### 4.4.4) Estimation du meilleur \"max_depth\""
   ]
  },
  {
   "cell_type": "code",
   "execution_count": 55,
   "metadata": {},
   "outputs": [
    {
     "name": "stderr",
     "output_type": "stream",
     "text": [
      "/Users/romain/anaconda/envs/python35/lib/python3.5/site-packages/sklearn/ensemble/forest.py:439: UserWarning: Some inputs do not have OOB scores. This probably means too few trees were used to compute any reliable oob estimates.\n",
      "  warn(\"Some inputs do not have OOB scores. \"\n",
      "/Users/romain/anaconda/envs/python35/lib/python3.5/site-packages/sklearn/ensemble/forest.py:444: RuntimeWarning: invalid value encountered in true_divide\n",
      "  predictions[k].sum(axis=1)[:, np.newaxis])\n",
      "/Users/romain/anaconda/envs/python35/lib/python3.5/site-packages/sklearn/ensemble/forest.py:439: UserWarning: Some inputs do not have OOB scores. This probably means too few trees were used to compute any reliable oob estimates.\n",
      "  warn(\"Some inputs do not have OOB scores. \"\n",
      "/Users/romain/anaconda/envs/python35/lib/python3.5/site-packages/sklearn/ensemble/forest.py:444: RuntimeWarning: invalid value encountered in true_divide\n",
      "  predictions[k].sum(axis=1)[:, np.newaxis])\n",
      "/Users/romain/anaconda/envs/python35/lib/python3.5/site-packages/sklearn/ensemble/forest.py:439: UserWarning: Some inputs do not have OOB scores. This probably means too few trees were used to compute any reliable oob estimates.\n",
      "  warn(\"Some inputs do not have OOB scores. \"\n",
      "/Users/romain/anaconda/envs/python35/lib/python3.5/site-packages/sklearn/ensemble/forest.py:444: RuntimeWarning: invalid value encountered in true_divide\n",
      "  predictions[k].sum(axis=1)[:, np.newaxis])\n",
      "/Users/romain/anaconda/envs/python35/lib/python3.5/site-packages/sklearn/ensemble/forest.py:439: UserWarning: Some inputs do not have OOB scores. This probably means too few trees were used to compute any reliable oob estimates.\n",
      "  warn(\"Some inputs do not have OOB scores. \"\n",
      "/Users/romain/anaconda/envs/python35/lib/python3.5/site-packages/sklearn/ensemble/forest.py:444: RuntimeWarning: invalid value encountered in true_divide\n",
      "  predictions[k].sum(axis=1)[:, np.newaxis])\n",
      "/Users/romain/anaconda/envs/python35/lib/python3.5/site-packages/sklearn/ensemble/forest.py:439: UserWarning: Some inputs do not have OOB scores. This probably means too few trees were used to compute any reliable oob estimates.\n",
      "  warn(\"Some inputs do not have OOB scores. \"\n",
      "/Users/romain/anaconda/envs/python35/lib/python3.5/site-packages/sklearn/ensemble/forest.py:444: RuntimeWarning: invalid value encountered in true_divide\n",
      "  predictions[k].sum(axis=1)[:, np.newaxis])\n",
      "/Users/romain/anaconda/envs/python35/lib/python3.5/site-packages/sklearn/ensemble/forest.py:439: UserWarning: Some inputs do not have OOB scores. This probably means too few trees were used to compute any reliable oob estimates.\n",
      "  warn(\"Some inputs do not have OOB scores. \"\n",
      "/Users/romain/anaconda/envs/python35/lib/python3.5/site-packages/sklearn/ensemble/forest.py:444: RuntimeWarning: invalid value encountered in true_divide\n",
      "  predictions[k].sum(axis=1)[:, np.newaxis])\n",
      "/Users/romain/anaconda/envs/python35/lib/python3.5/site-packages/sklearn/ensemble/forest.py:439: UserWarning: Some inputs do not have OOB scores. This probably means too few trees were used to compute any reliable oob estimates.\n",
      "  warn(\"Some inputs do not have OOB scores. \"\n",
      "/Users/romain/anaconda/envs/python35/lib/python3.5/site-packages/sklearn/ensemble/forest.py:444: RuntimeWarning: invalid value encountered in true_divide\n",
      "  predictions[k].sum(axis=1)[:, np.newaxis])\n",
      "/Users/romain/anaconda/envs/python35/lib/python3.5/site-packages/sklearn/ensemble/forest.py:439: UserWarning: Some inputs do not have OOB scores. This probably means too few trees were used to compute any reliable oob estimates.\n",
      "  warn(\"Some inputs do not have OOB scores. \"\n",
      "/Users/romain/anaconda/envs/python35/lib/python3.5/site-packages/sklearn/ensemble/forest.py:444: RuntimeWarning: invalid value encountered in true_divide\n",
      "  predictions[k].sum(axis=1)[:, np.newaxis])\n",
      "/Users/romain/anaconda/envs/python35/lib/python3.5/site-packages/sklearn/ensemble/forest.py:439: UserWarning: Some inputs do not have OOB scores. This probably means too few trees were used to compute any reliable oob estimates.\n",
      "  warn(\"Some inputs do not have OOB scores. \"\n",
      "/Users/romain/anaconda/envs/python35/lib/python3.5/site-packages/sklearn/ensemble/forest.py:444: RuntimeWarning: invalid value encountered in true_divide\n",
      "  predictions[k].sum(axis=1)[:, np.newaxis])\n",
      "/Users/romain/anaconda/envs/python35/lib/python3.5/site-packages/sklearn/ensemble/forest.py:439: UserWarning: Some inputs do not have OOB scores. This probably means too few trees were used to compute any reliable oob estimates.\n",
      "  warn(\"Some inputs do not have OOB scores. \"\n",
      "/Users/romain/anaconda/envs/python35/lib/python3.5/site-packages/sklearn/ensemble/forest.py:444: RuntimeWarning: invalid value encountered in true_divide\n",
      "  predictions[k].sum(axis=1)[:, np.newaxis])\n",
      "/Users/romain/anaconda/envs/python35/lib/python3.5/site-packages/sklearn/ensemble/forest.py:439: UserWarning: Some inputs do not have OOB scores. This probably means too few trees were used to compute any reliable oob estimates.\n",
      "  warn(\"Some inputs do not have OOB scores. \"\n",
      "/Users/romain/anaconda/envs/python35/lib/python3.5/site-packages/sklearn/ensemble/forest.py:444: RuntimeWarning: invalid value encountered in true_divide\n",
      "  predictions[k].sum(axis=1)[:, np.newaxis])\n",
      "/Users/romain/anaconda/envs/python35/lib/python3.5/site-packages/sklearn/ensemble/forest.py:439: UserWarning: Some inputs do not have OOB scores. This probably means too few trees were used to compute any reliable oob estimates.\n",
      "  warn(\"Some inputs do not have OOB scores. \"\n",
      "/Users/romain/anaconda/envs/python35/lib/python3.5/site-packages/sklearn/ensemble/forest.py:444: RuntimeWarning: invalid value encountered in true_divide\n",
      "  predictions[k].sum(axis=1)[:, np.newaxis])\n",
      "/Users/romain/anaconda/envs/python35/lib/python3.5/site-packages/sklearn/ensemble/forest.py:439: UserWarning: Some inputs do not have OOB scores. This probably means too few trees were used to compute any reliable oob estimates.\n",
      "  warn(\"Some inputs do not have OOB scores. \"\n",
      "/Users/romain/anaconda/envs/python35/lib/python3.5/site-packages/sklearn/ensemble/forest.py:444: RuntimeWarning: invalid value encountered in true_divide\n",
      "  predictions[k].sum(axis=1)[:, np.newaxis])\n",
      "/Users/romain/anaconda/envs/python35/lib/python3.5/site-packages/sklearn/ensemble/forest.py:439: UserWarning: Some inputs do not have OOB scores. This probably means too few trees were used to compute any reliable oob estimates.\n",
      "  warn(\"Some inputs do not have OOB scores. \"\n",
      "/Users/romain/anaconda/envs/python35/lib/python3.5/site-packages/sklearn/ensemble/forest.py:444: RuntimeWarning: invalid value encountered in true_divide\n",
      "  predictions[k].sum(axis=1)[:, np.newaxis])\n",
      "/Users/romain/anaconda/envs/python35/lib/python3.5/site-packages/sklearn/ensemble/forest.py:439: UserWarning: Some inputs do not have OOB scores. This probably means too few trees were used to compute any reliable oob estimates.\n",
      "  warn(\"Some inputs do not have OOB scores. \"\n",
      "/Users/romain/anaconda/envs/python35/lib/python3.5/site-packages/sklearn/ensemble/forest.py:444: RuntimeWarning: invalid value encountered in true_divide\n",
      "  predictions[k].sum(axis=1)[:, np.newaxis])\n",
      "/Users/romain/anaconda/envs/python35/lib/python3.5/site-packages/sklearn/ensemble/forest.py:439: UserWarning: Some inputs do not have OOB scores. This probably means too few trees were used to compute any reliable oob estimates.\n",
      "  warn(\"Some inputs do not have OOB scores. \"\n",
      "/Users/romain/anaconda/envs/python35/lib/python3.5/site-packages/sklearn/ensemble/forest.py:444: RuntimeWarning: invalid value encountered in true_divide\n",
      "  predictions[k].sum(axis=1)[:, np.newaxis])\n",
      "/Users/romain/anaconda/envs/python35/lib/python3.5/site-packages/sklearn/ensemble/forest.py:439: UserWarning: Some inputs do not have OOB scores. This probably means too few trees were used to compute any reliable oob estimates.\n",
      "  warn(\"Some inputs do not have OOB scores. \"\n",
      "/Users/romain/anaconda/envs/python35/lib/python3.5/site-packages/sklearn/ensemble/forest.py:444: RuntimeWarning: invalid value encountered in true_divide\n",
      "  predictions[k].sum(axis=1)[:, np.newaxis])\n",
      "/Users/romain/anaconda/envs/python35/lib/python3.5/site-packages/sklearn/ensemble/forest.py:439: UserWarning: Some inputs do not have OOB scores. This probably means too few trees were used to compute any reliable oob estimates.\n",
      "  warn(\"Some inputs do not have OOB scores. \"\n",
      "/Users/romain/anaconda/envs/python35/lib/python3.5/site-packages/sklearn/ensemble/forest.py:444: RuntimeWarning: invalid value encountered in true_divide\n",
      "  predictions[k].sum(axis=1)[:, np.newaxis])\n"
     ]
    },
    {
     "name": "stderr",
     "output_type": "stream",
     "text": [
      "/Users/romain/anaconda/envs/python35/lib/python3.5/site-packages/sklearn/ensemble/forest.py:439: UserWarning: Some inputs do not have OOB scores. This probably means too few trees were used to compute any reliable oob estimates.\n",
      "  warn(\"Some inputs do not have OOB scores. \"\n",
      "/Users/romain/anaconda/envs/python35/lib/python3.5/site-packages/sklearn/ensemble/forest.py:444: RuntimeWarning: invalid value encountered in true_divide\n",
      "  predictions[k].sum(axis=1)[:, np.newaxis])\n",
      "/Users/romain/anaconda/envs/python35/lib/python3.5/site-packages/sklearn/ensemble/forest.py:439: UserWarning: Some inputs do not have OOB scores. This probably means too few trees were used to compute any reliable oob estimates.\n",
      "  warn(\"Some inputs do not have OOB scores. \"\n",
      "/Users/romain/anaconda/envs/python35/lib/python3.5/site-packages/sklearn/ensemble/forest.py:444: RuntimeWarning: invalid value encountered in true_divide\n",
      "  predictions[k].sum(axis=1)[:, np.newaxis])\n",
      "/Users/romain/anaconda/envs/python35/lib/python3.5/site-packages/sklearn/ensemble/forest.py:439: UserWarning: Some inputs do not have OOB scores. This probably means too few trees were used to compute any reliable oob estimates.\n",
      "  warn(\"Some inputs do not have OOB scores. \"\n",
      "/Users/romain/anaconda/envs/python35/lib/python3.5/site-packages/sklearn/ensemble/forest.py:444: RuntimeWarning: invalid value encountered in true_divide\n",
      "  predictions[k].sum(axis=1)[:, np.newaxis])\n",
      "/Users/romain/anaconda/envs/python35/lib/python3.5/site-packages/sklearn/ensemble/forest.py:439: UserWarning: Some inputs do not have OOB scores. This probably means too few trees were used to compute any reliable oob estimates.\n",
      "  warn(\"Some inputs do not have OOB scores. \"\n",
      "/Users/romain/anaconda/envs/python35/lib/python3.5/site-packages/sklearn/ensemble/forest.py:444: RuntimeWarning: invalid value encountered in true_divide\n",
      "  predictions[k].sum(axis=1)[:, np.newaxis])\n",
      "/Users/romain/anaconda/envs/python35/lib/python3.5/site-packages/sklearn/ensemble/forest.py:439: UserWarning: Some inputs do not have OOB scores. This probably means too few trees were used to compute any reliable oob estimates.\n",
      "  warn(\"Some inputs do not have OOB scores. \"\n",
      "/Users/romain/anaconda/envs/python35/lib/python3.5/site-packages/sklearn/ensemble/forest.py:444: RuntimeWarning: invalid value encountered in true_divide\n",
      "  predictions[k].sum(axis=1)[:, np.newaxis])\n",
      "/Users/romain/anaconda/envs/python35/lib/python3.5/site-packages/sklearn/ensemble/forest.py:439: UserWarning: Some inputs do not have OOB scores. This probably means too few trees were used to compute any reliable oob estimates.\n",
      "  warn(\"Some inputs do not have OOB scores. \"\n",
      "/Users/romain/anaconda/envs/python35/lib/python3.5/site-packages/sklearn/ensemble/forest.py:444: RuntimeWarning: invalid value encountered in true_divide\n",
      "  predictions[k].sum(axis=1)[:, np.newaxis])\n",
      "/Users/romain/anaconda/envs/python35/lib/python3.5/site-packages/sklearn/ensemble/forest.py:439: UserWarning: Some inputs do not have OOB scores. This probably means too few trees were used to compute any reliable oob estimates.\n",
      "  warn(\"Some inputs do not have OOB scores. \"\n",
      "/Users/romain/anaconda/envs/python35/lib/python3.5/site-packages/sklearn/ensemble/forest.py:444: RuntimeWarning: invalid value encountered in true_divide\n",
      "  predictions[k].sum(axis=1)[:, np.newaxis])\n",
      "/Users/romain/anaconda/envs/python35/lib/python3.5/site-packages/sklearn/ensemble/forest.py:439: UserWarning: Some inputs do not have OOB scores. This probably means too few trees were used to compute any reliable oob estimates.\n",
      "  warn(\"Some inputs do not have OOB scores. \"\n",
      "/Users/romain/anaconda/envs/python35/lib/python3.5/site-packages/sklearn/ensemble/forest.py:444: RuntimeWarning: invalid value encountered in true_divide\n",
      "  predictions[k].sum(axis=1)[:, np.newaxis])\n",
      "/Users/romain/anaconda/envs/python35/lib/python3.5/site-packages/sklearn/ensemble/forest.py:439: UserWarning: Some inputs do not have OOB scores. This probably means too few trees were used to compute any reliable oob estimates.\n",
      "  warn(\"Some inputs do not have OOB scores. \"\n",
      "/Users/romain/anaconda/envs/python35/lib/python3.5/site-packages/sklearn/ensemble/forest.py:444: RuntimeWarning: invalid value encountered in true_divide\n",
      "  predictions[k].sum(axis=1)[:, np.newaxis])\n",
      "/Users/romain/anaconda/envs/python35/lib/python3.5/site-packages/sklearn/ensemble/forest.py:439: UserWarning: Some inputs do not have OOB scores. This probably means too few trees were used to compute any reliable oob estimates.\n",
      "  warn(\"Some inputs do not have OOB scores. \"\n",
      "/Users/romain/anaconda/envs/python35/lib/python3.5/site-packages/sklearn/ensemble/forest.py:444: RuntimeWarning: invalid value encountered in true_divide\n",
      "  predictions[k].sum(axis=1)[:, np.newaxis])\n",
      "/Users/romain/anaconda/envs/python35/lib/python3.5/site-packages/sklearn/ensemble/forest.py:439: UserWarning: Some inputs do not have OOB scores. This probably means too few trees were used to compute any reliable oob estimates.\n",
      "  warn(\"Some inputs do not have OOB scores. \"\n",
      "/Users/romain/anaconda/envs/python35/lib/python3.5/site-packages/sklearn/ensemble/forest.py:444: RuntimeWarning: invalid value encountered in true_divide\n",
      "  predictions[k].sum(axis=1)[:, np.newaxis])\n",
      "/Users/romain/anaconda/envs/python35/lib/python3.5/site-packages/sklearn/ensemble/forest.py:439: UserWarning: Some inputs do not have OOB scores. This probably means too few trees were used to compute any reliable oob estimates.\n",
      "  warn(\"Some inputs do not have OOB scores. \"\n",
      "/Users/romain/anaconda/envs/python35/lib/python3.5/site-packages/sklearn/ensemble/forest.py:444: RuntimeWarning: invalid value encountered in true_divide\n",
      "  predictions[k].sum(axis=1)[:, np.newaxis])\n",
      "/Users/romain/anaconda/envs/python35/lib/python3.5/site-packages/sklearn/ensemble/forest.py:439: UserWarning: Some inputs do not have OOB scores. This probably means too few trees were used to compute any reliable oob estimates.\n",
      "  warn(\"Some inputs do not have OOB scores. \"\n",
      "/Users/romain/anaconda/envs/python35/lib/python3.5/site-packages/sklearn/ensemble/forest.py:444: RuntimeWarning: invalid value encountered in true_divide\n",
      "  predictions[k].sum(axis=1)[:, np.newaxis])\n",
      "/Users/romain/anaconda/envs/python35/lib/python3.5/site-packages/sklearn/ensemble/forest.py:439: UserWarning: Some inputs do not have OOB scores. This probably means too few trees were used to compute any reliable oob estimates.\n",
      "  warn(\"Some inputs do not have OOB scores. \"\n",
      "/Users/romain/anaconda/envs/python35/lib/python3.5/site-packages/sklearn/ensemble/forest.py:444: RuntimeWarning: invalid value encountered in true_divide\n",
      "  predictions[k].sum(axis=1)[:, np.newaxis])\n",
      "/Users/romain/anaconda/envs/python35/lib/python3.5/site-packages/sklearn/ensemble/forest.py:439: UserWarning: Some inputs do not have OOB scores. This probably means too few trees were used to compute any reliable oob estimates.\n",
      "  warn(\"Some inputs do not have OOB scores. \"\n",
      "/Users/romain/anaconda/envs/python35/lib/python3.5/site-packages/sklearn/ensemble/forest.py:444: RuntimeWarning: invalid value encountered in true_divide\n",
      "  predictions[k].sum(axis=1)[:, np.newaxis])\n",
      "/Users/romain/anaconda/envs/python35/lib/python3.5/site-packages/sklearn/ensemble/forest.py:439: UserWarning: Some inputs do not have OOB scores. This probably means too few trees were used to compute any reliable oob estimates.\n",
      "  warn(\"Some inputs do not have OOB scores. \"\n",
      "/Users/romain/anaconda/envs/python35/lib/python3.5/site-packages/sklearn/ensemble/forest.py:444: RuntimeWarning: invalid value encountered in true_divide\n",
      "  predictions[k].sum(axis=1)[:, np.newaxis])\n",
      "/Users/romain/anaconda/envs/python35/lib/python3.5/site-packages/sklearn/ensemble/forest.py:439: UserWarning: Some inputs do not have OOB scores. This probably means too few trees were used to compute any reliable oob estimates.\n",
      "  warn(\"Some inputs do not have OOB scores. \"\n",
      "/Users/romain/anaconda/envs/python35/lib/python3.5/site-packages/sklearn/ensemble/forest.py:444: RuntimeWarning: invalid value encountered in true_divide\n",
      "  predictions[k].sum(axis=1)[:, np.newaxis])\n",
      "/Users/romain/anaconda/envs/python35/lib/python3.5/site-packages/sklearn/ensemble/forest.py:439: UserWarning: Some inputs do not have OOB scores. This probably means too few trees were used to compute any reliable oob estimates.\n",
      "  warn(\"Some inputs do not have OOB scores. \"\n",
      "/Users/romain/anaconda/envs/python35/lib/python3.5/site-packages/sklearn/ensemble/forest.py:444: RuntimeWarning: invalid value encountered in true_divide\n",
      "  predictions[k].sum(axis=1)[:, np.newaxis])\n"
     ]
    },
    {
     "name": "stderr",
     "output_type": "stream",
     "text": [
      "/Users/romain/anaconda/envs/python35/lib/python3.5/site-packages/sklearn/ensemble/forest.py:439: UserWarning: Some inputs do not have OOB scores. This probably means too few trees were used to compute any reliable oob estimates.\n",
      "  warn(\"Some inputs do not have OOB scores. \"\n",
      "/Users/romain/anaconda/envs/python35/lib/python3.5/site-packages/sklearn/ensemble/forest.py:444: RuntimeWarning: invalid value encountered in true_divide\n",
      "  predictions[k].sum(axis=1)[:, np.newaxis])\n",
      "/Users/romain/anaconda/envs/python35/lib/python3.5/site-packages/sklearn/ensemble/forest.py:439: UserWarning: Some inputs do not have OOB scores. This probably means too few trees were used to compute any reliable oob estimates.\n",
      "  warn(\"Some inputs do not have OOB scores. \"\n",
      "/Users/romain/anaconda/envs/python35/lib/python3.5/site-packages/sklearn/ensemble/forest.py:444: RuntimeWarning: invalid value encountered in true_divide\n",
      "  predictions[k].sum(axis=1)[:, np.newaxis])\n",
      "/Users/romain/anaconda/envs/python35/lib/python3.5/site-packages/sklearn/ensemble/forest.py:439: UserWarning: Some inputs do not have OOB scores. This probably means too few trees were used to compute any reliable oob estimates.\n",
      "  warn(\"Some inputs do not have OOB scores. \"\n",
      "/Users/romain/anaconda/envs/python35/lib/python3.5/site-packages/sklearn/ensemble/forest.py:444: RuntimeWarning: invalid value encountered in true_divide\n",
      "  predictions[k].sum(axis=1)[:, np.newaxis])\n",
      "/Users/romain/anaconda/envs/python35/lib/python3.5/site-packages/sklearn/ensemble/forest.py:439: UserWarning: Some inputs do not have OOB scores. This probably means too few trees were used to compute any reliable oob estimates.\n",
      "  warn(\"Some inputs do not have OOB scores. \"\n",
      "/Users/romain/anaconda/envs/python35/lib/python3.5/site-packages/sklearn/ensemble/forest.py:444: RuntimeWarning: invalid value encountered in true_divide\n",
      "  predictions[k].sum(axis=1)[:, np.newaxis])\n",
      "/Users/romain/anaconda/envs/python35/lib/python3.5/site-packages/sklearn/ensemble/forest.py:439: UserWarning: Some inputs do not have OOB scores. This probably means too few trees were used to compute any reliable oob estimates.\n",
      "  warn(\"Some inputs do not have OOB scores. \"\n",
      "/Users/romain/anaconda/envs/python35/lib/python3.5/site-packages/sklearn/ensemble/forest.py:444: RuntimeWarning: invalid value encountered in true_divide\n",
      "  predictions[k].sum(axis=1)[:, np.newaxis])\n",
      "/Users/romain/anaconda/envs/python35/lib/python3.5/site-packages/sklearn/ensemble/forest.py:439: UserWarning: Some inputs do not have OOB scores. This probably means too few trees were used to compute any reliable oob estimates.\n",
      "  warn(\"Some inputs do not have OOB scores. \"\n",
      "/Users/romain/anaconda/envs/python35/lib/python3.5/site-packages/sklearn/ensemble/forest.py:444: RuntimeWarning: invalid value encountered in true_divide\n",
      "  predictions[k].sum(axis=1)[:, np.newaxis])\n",
      "/Users/romain/anaconda/envs/python35/lib/python3.5/site-packages/sklearn/ensemble/forest.py:439: UserWarning: Some inputs do not have OOB scores. This probably means too few trees were used to compute any reliable oob estimates.\n",
      "  warn(\"Some inputs do not have OOB scores. \"\n",
      "/Users/romain/anaconda/envs/python35/lib/python3.5/site-packages/sklearn/ensemble/forest.py:444: RuntimeWarning: invalid value encountered in true_divide\n",
      "  predictions[k].sum(axis=1)[:, np.newaxis])\n",
      "/Users/romain/anaconda/envs/python35/lib/python3.5/site-packages/sklearn/ensemble/forest.py:439: UserWarning: Some inputs do not have OOB scores. This probably means too few trees were used to compute any reliable oob estimates.\n",
      "  warn(\"Some inputs do not have OOB scores. \"\n",
      "/Users/romain/anaconda/envs/python35/lib/python3.5/site-packages/sklearn/ensemble/forest.py:444: RuntimeWarning: invalid value encountered in true_divide\n",
      "  predictions[k].sum(axis=1)[:, np.newaxis])\n",
      "/Users/romain/anaconda/envs/python35/lib/python3.5/site-packages/sklearn/ensemble/forest.py:439: UserWarning: Some inputs do not have OOB scores. This probably means too few trees were used to compute any reliable oob estimates.\n",
      "  warn(\"Some inputs do not have OOB scores. \"\n",
      "/Users/romain/anaconda/envs/python35/lib/python3.5/site-packages/sklearn/ensemble/forest.py:444: RuntimeWarning: invalid value encountered in true_divide\n",
      "  predictions[k].sum(axis=1)[:, np.newaxis])\n",
      "/Users/romain/anaconda/envs/python35/lib/python3.5/site-packages/sklearn/ensemble/forest.py:439: UserWarning: Some inputs do not have OOB scores. This probably means too few trees were used to compute any reliable oob estimates.\n",
      "  warn(\"Some inputs do not have OOB scores. \"\n",
      "/Users/romain/anaconda/envs/python35/lib/python3.5/site-packages/sklearn/ensemble/forest.py:444: RuntimeWarning: invalid value encountered in true_divide\n",
      "  predictions[k].sum(axis=1)[:, np.newaxis])\n",
      "/Users/romain/anaconda/envs/python35/lib/python3.5/site-packages/sklearn/ensemble/forest.py:439: UserWarning: Some inputs do not have OOB scores. This probably means too few trees were used to compute any reliable oob estimates.\n",
      "  warn(\"Some inputs do not have OOB scores. \"\n",
      "/Users/romain/anaconda/envs/python35/lib/python3.5/site-packages/sklearn/ensemble/forest.py:444: RuntimeWarning: invalid value encountered in true_divide\n",
      "  predictions[k].sum(axis=1)[:, np.newaxis])\n",
      "/Users/romain/anaconda/envs/python35/lib/python3.5/site-packages/sklearn/ensemble/forest.py:439: UserWarning: Some inputs do not have OOB scores. This probably means too few trees were used to compute any reliable oob estimates.\n",
      "  warn(\"Some inputs do not have OOB scores. \"\n",
      "/Users/romain/anaconda/envs/python35/lib/python3.5/site-packages/sklearn/ensemble/forest.py:444: RuntimeWarning: invalid value encountered in true_divide\n",
      "  predictions[k].sum(axis=1)[:, np.newaxis])\n",
      "/Users/romain/anaconda/envs/python35/lib/python3.5/site-packages/sklearn/ensemble/forest.py:439: UserWarning: Some inputs do not have OOB scores. This probably means too few trees were used to compute any reliable oob estimates.\n",
      "  warn(\"Some inputs do not have OOB scores. \"\n",
      "/Users/romain/anaconda/envs/python35/lib/python3.5/site-packages/sklearn/ensemble/forest.py:444: RuntimeWarning: invalid value encountered in true_divide\n",
      "  predictions[k].sum(axis=1)[:, np.newaxis])\n",
      "/Users/romain/anaconda/envs/python35/lib/python3.5/site-packages/sklearn/ensemble/forest.py:439: UserWarning: Some inputs do not have OOB scores. This probably means too few trees were used to compute any reliable oob estimates.\n",
      "  warn(\"Some inputs do not have OOB scores. \"\n",
      "/Users/romain/anaconda/envs/python35/lib/python3.5/site-packages/sklearn/ensemble/forest.py:444: RuntimeWarning: invalid value encountered in true_divide\n",
      "  predictions[k].sum(axis=1)[:, np.newaxis])\n",
      "/Users/romain/anaconda/envs/python35/lib/python3.5/site-packages/sklearn/ensemble/forest.py:439: UserWarning: Some inputs do not have OOB scores. This probably means too few trees were used to compute any reliable oob estimates.\n",
      "  warn(\"Some inputs do not have OOB scores. \"\n",
      "/Users/romain/anaconda/envs/python35/lib/python3.5/site-packages/sklearn/ensemble/forest.py:444: RuntimeWarning: invalid value encountered in true_divide\n",
      "  predictions[k].sum(axis=1)[:, np.newaxis])\n",
      "/Users/romain/anaconda/envs/python35/lib/python3.5/site-packages/sklearn/ensemble/forest.py:439: UserWarning: Some inputs do not have OOB scores. This probably means too few trees were used to compute any reliable oob estimates.\n",
      "  warn(\"Some inputs do not have OOB scores. \"\n",
      "/Users/romain/anaconda/envs/python35/lib/python3.5/site-packages/sklearn/ensemble/forest.py:444: RuntimeWarning: invalid value encountered in true_divide\n",
      "  predictions[k].sum(axis=1)[:, np.newaxis])\n",
      "/Users/romain/anaconda/envs/python35/lib/python3.5/site-packages/sklearn/ensemble/forest.py:439: UserWarning: Some inputs do not have OOB scores. This probably means too few trees were used to compute any reliable oob estimates.\n",
      "  warn(\"Some inputs do not have OOB scores. \"\n",
      "/Users/romain/anaconda/envs/python35/lib/python3.5/site-packages/sklearn/ensemble/forest.py:444: RuntimeWarning: invalid value encountered in true_divide\n",
      "  predictions[k].sum(axis=1)[:, np.newaxis])\n",
      "/Users/romain/anaconda/envs/python35/lib/python3.5/site-packages/sklearn/ensemble/forest.py:439: UserWarning: Some inputs do not have OOB scores. This probably means too few trees were used to compute any reliable oob estimates.\n",
      "  warn(\"Some inputs do not have OOB scores. \"\n",
      "/Users/romain/anaconda/envs/python35/lib/python3.5/site-packages/sklearn/ensemble/forest.py:444: RuntimeWarning: invalid value encountered in true_divide\n",
      "  predictions[k].sum(axis=1)[:, np.newaxis])\n"
     ]
    },
    {
     "name": "stderr",
     "output_type": "stream",
     "text": [
      "/Users/romain/anaconda/envs/python35/lib/python3.5/site-packages/sklearn/ensemble/forest.py:439: UserWarning: Some inputs do not have OOB scores. This probably means too few trees were used to compute any reliable oob estimates.\n",
      "  warn(\"Some inputs do not have OOB scores. \"\n",
      "/Users/romain/anaconda/envs/python35/lib/python3.5/site-packages/sklearn/ensemble/forest.py:444: RuntimeWarning: invalid value encountered in true_divide\n",
      "  predictions[k].sum(axis=1)[:, np.newaxis])\n",
      "/Users/romain/anaconda/envs/python35/lib/python3.5/site-packages/sklearn/ensemble/forest.py:439: UserWarning: Some inputs do not have OOB scores. This probably means too few trees were used to compute any reliable oob estimates.\n",
      "  warn(\"Some inputs do not have OOB scores. \"\n",
      "/Users/romain/anaconda/envs/python35/lib/python3.5/site-packages/sklearn/ensemble/forest.py:444: RuntimeWarning: invalid value encountered in true_divide\n",
      "  predictions[k].sum(axis=1)[:, np.newaxis])\n",
      "/Users/romain/anaconda/envs/python35/lib/python3.5/site-packages/sklearn/ensemble/forest.py:439: UserWarning: Some inputs do not have OOB scores. This probably means too few trees were used to compute any reliable oob estimates.\n",
      "  warn(\"Some inputs do not have OOB scores. \"\n",
      "/Users/romain/anaconda/envs/python35/lib/python3.5/site-packages/sklearn/ensemble/forest.py:444: RuntimeWarning: invalid value encountered in true_divide\n",
      "  predictions[k].sum(axis=1)[:, np.newaxis])\n",
      "/Users/romain/anaconda/envs/python35/lib/python3.5/site-packages/sklearn/ensemble/forest.py:439: UserWarning: Some inputs do not have OOB scores. This probably means too few trees were used to compute any reliable oob estimates.\n",
      "  warn(\"Some inputs do not have OOB scores. \"\n",
      "/Users/romain/anaconda/envs/python35/lib/python3.5/site-packages/sklearn/ensemble/forest.py:444: RuntimeWarning: invalid value encountered in true_divide\n",
      "  predictions[k].sum(axis=1)[:, np.newaxis])\n",
      "/Users/romain/anaconda/envs/python35/lib/python3.5/site-packages/sklearn/ensemble/forest.py:439: UserWarning: Some inputs do not have OOB scores. This probably means too few trees were used to compute any reliable oob estimates.\n",
      "  warn(\"Some inputs do not have OOB scores. \"\n",
      "/Users/romain/anaconda/envs/python35/lib/python3.5/site-packages/sklearn/ensemble/forest.py:444: RuntimeWarning: invalid value encountered in true_divide\n",
      "  predictions[k].sum(axis=1)[:, np.newaxis])\n",
      "/Users/romain/anaconda/envs/python35/lib/python3.5/site-packages/sklearn/ensemble/forest.py:439: UserWarning: Some inputs do not have OOB scores. This probably means too few trees were used to compute any reliable oob estimates.\n",
      "  warn(\"Some inputs do not have OOB scores. \"\n",
      "/Users/romain/anaconda/envs/python35/lib/python3.5/site-packages/sklearn/ensemble/forest.py:444: RuntimeWarning: invalid value encountered in true_divide\n",
      "  predictions[k].sum(axis=1)[:, np.newaxis])\n",
      "/Users/romain/anaconda/envs/python35/lib/python3.5/site-packages/sklearn/ensemble/forest.py:439: UserWarning: Some inputs do not have OOB scores. This probably means too few trees were used to compute any reliable oob estimates.\n",
      "  warn(\"Some inputs do not have OOB scores. \"\n",
      "/Users/romain/anaconda/envs/python35/lib/python3.5/site-packages/sklearn/ensemble/forest.py:444: RuntimeWarning: invalid value encountered in true_divide\n",
      "  predictions[k].sum(axis=1)[:, np.newaxis])\n",
      "/Users/romain/anaconda/envs/python35/lib/python3.5/site-packages/sklearn/ensemble/forest.py:439: UserWarning: Some inputs do not have OOB scores. This probably means too few trees were used to compute any reliable oob estimates.\n",
      "  warn(\"Some inputs do not have OOB scores. \"\n",
      "/Users/romain/anaconda/envs/python35/lib/python3.5/site-packages/sklearn/ensemble/forest.py:444: RuntimeWarning: invalid value encountered in true_divide\n",
      "  predictions[k].sum(axis=1)[:, np.newaxis])\n",
      "/Users/romain/anaconda/envs/python35/lib/python3.5/site-packages/sklearn/ensemble/forest.py:439: UserWarning: Some inputs do not have OOB scores. This probably means too few trees were used to compute any reliable oob estimates.\n",
      "  warn(\"Some inputs do not have OOB scores. \"\n",
      "/Users/romain/anaconda/envs/python35/lib/python3.5/site-packages/sklearn/ensemble/forest.py:444: RuntimeWarning: invalid value encountered in true_divide\n",
      "  predictions[k].sum(axis=1)[:, np.newaxis])\n",
      "/Users/romain/anaconda/envs/python35/lib/python3.5/site-packages/sklearn/ensemble/forest.py:439: UserWarning: Some inputs do not have OOB scores. This probably means too few trees were used to compute any reliable oob estimates.\n",
      "  warn(\"Some inputs do not have OOB scores. \"\n",
      "/Users/romain/anaconda/envs/python35/lib/python3.5/site-packages/sklearn/ensemble/forest.py:444: RuntimeWarning: invalid value encountered in true_divide\n",
      "  predictions[k].sum(axis=1)[:, np.newaxis])\n",
      "/Users/romain/anaconda/envs/python35/lib/python3.5/site-packages/sklearn/ensemble/forest.py:439: UserWarning: Some inputs do not have OOB scores. This probably means too few trees were used to compute any reliable oob estimates.\n",
      "  warn(\"Some inputs do not have OOB scores. \"\n",
      "/Users/romain/anaconda/envs/python35/lib/python3.5/site-packages/sklearn/ensemble/forest.py:444: RuntimeWarning: invalid value encountered in true_divide\n",
      "  predictions[k].sum(axis=1)[:, np.newaxis])\n",
      "/Users/romain/anaconda/envs/python35/lib/python3.5/site-packages/sklearn/ensemble/forest.py:439: UserWarning: Some inputs do not have OOB scores. This probably means too few trees were used to compute any reliable oob estimates.\n",
      "  warn(\"Some inputs do not have OOB scores. \"\n",
      "/Users/romain/anaconda/envs/python35/lib/python3.5/site-packages/sklearn/ensemble/forest.py:444: RuntimeWarning: invalid value encountered in true_divide\n",
      "  predictions[k].sum(axis=1)[:, np.newaxis])\n",
      "/Users/romain/anaconda/envs/python35/lib/python3.5/site-packages/sklearn/ensemble/forest.py:439: UserWarning: Some inputs do not have OOB scores. This probably means too few trees were used to compute any reliable oob estimates.\n",
      "  warn(\"Some inputs do not have OOB scores. \"\n",
      "/Users/romain/anaconda/envs/python35/lib/python3.5/site-packages/sklearn/ensemble/forest.py:444: RuntimeWarning: invalid value encountered in true_divide\n",
      "  predictions[k].sum(axis=1)[:, np.newaxis])\n",
      "/Users/romain/anaconda/envs/python35/lib/python3.5/site-packages/sklearn/ensemble/forest.py:439: UserWarning: Some inputs do not have OOB scores. This probably means too few trees were used to compute any reliable oob estimates.\n",
      "  warn(\"Some inputs do not have OOB scores. \"\n",
      "/Users/romain/anaconda/envs/python35/lib/python3.5/site-packages/sklearn/ensemble/forest.py:444: RuntimeWarning: invalid value encountered in true_divide\n",
      "  predictions[k].sum(axis=1)[:, np.newaxis])\n",
      "/Users/romain/anaconda/envs/python35/lib/python3.5/site-packages/sklearn/ensemble/forest.py:439: UserWarning: Some inputs do not have OOB scores. This probably means too few trees were used to compute any reliable oob estimates.\n",
      "  warn(\"Some inputs do not have OOB scores. \"\n",
      "/Users/romain/anaconda/envs/python35/lib/python3.5/site-packages/sklearn/ensemble/forest.py:444: RuntimeWarning: invalid value encountered in true_divide\n",
      "  predictions[k].sum(axis=1)[:, np.newaxis])\n",
      "/Users/romain/anaconda/envs/python35/lib/python3.5/site-packages/sklearn/ensemble/forest.py:439: UserWarning: Some inputs do not have OOB scores. This probably means too few trees were used to compute any reliable oob estimates.\n",
      "  warn(\"Some inputs do not have OOB scores. \"\n",
      "/Users/romain/anaconda/envs/python35/lib/python3.5/site-packages/sklearn/ensemble/forest.py:444: RuntimeWarning: invalid value encountered in true_divide\n",
      "  predictions[k].sum(axis=1)[:, np.newaxis])\n",
      "/Users/romain/anaconda/envs/python35/lib/python3.5/site-packages/sklearn/ensemble/forest.py:439: UserWarning: Some inputs do not have OOB scores. This probably means too few trees were used to compute any reliable oob estimates.\n",
      "  warn(\"Some inputs do not have OOB scores. \"\n",
      "/Users/romain/anaconda/envs/python35/lib/python3.5/site-packages/sklearn/ensemble/forest.py:444: RuntimeWarning: invalid value encountered in true_divide\n",
      "  predictions[k].sum(axis=1)[:, np.newaxis])\n",
      "/Users/romain/anaconda/envs/python35/lib/python3.5/site-packages/sklearn/ensemble/forest.py:439: UserWarning: Some inputs do not have OOB scores. This probably means too few trees were used to compute any reliable oob estimates.\n",
      "  warn(\"Some inputs do not have OOB scores. \"\n",
      "/Users/romain/anaconda/envs/python35/lib/python3.5/site-packages/sklearn/ensemble/forest.py:444: RuntimeWarning: invalid value encountered in true_divide\n",
      "  predictions[k].sum(axis=1)[:, np.newaxis])\n"
     ]
    },
    {
     "name": "stderr",
     "output_type": "stream",
     "text": [
      "/Users/romain/anaconda/envs/python35/lib/python3.5/site-packages/sklearn/ensemble/forest.py:439: UserWarning: Some inputs do not have OOB scores. This probably means too few trees were used to compute any reliable oob estimates.\n",
      "  warn(\"Some inputs do not have OOB scores. \"\n",
      "/Users/romain/anaconda/envs/python35/lib/python3.5/site-packages/sklearn/ensemble/forest.py:444: RuntimeWarning: invalid value encountered in true_divide\n",
      "  predictions[k].sum(axis=1)[:, np.newaxis])\n",
      "/Users/romain/anaconda/envs/python35/lib/python3.5/site-packages/sklearn/ensemble/forest.py:439: UserWarning: Some inputs do not have OOB scores. This probably means too few trees were used to compute any reliable oob estimates.\n",
      "  warn(\"Some inputs do not have OOB scores. \"\n",
      "/Users/romain/anaconda/envs/python35/lib/python3.5/site-packages/sklearn/ensemble/forest.py:444: RuntimeWarning: invalid value encountered in true_divide\n",
      "  predictions[k].sum(axis=1)[:, np.newaxis])\n",
      "/Users/romain/anaconda/envs/python35/lib/python3.5/site-packages/sklearn/ensemble/forest.py:439: UserWarning: Some inputs do not have OOB scores. This probably means too few trees were used to compute any reliable oob estimates.\n",
      "  warn(\"Some inputs do not have OOB scores. \"\n",
      "/Users/romain/anaconda/envs/python35/lib/python3.5/site-packages/sklearn/ensemble/forest.py:444: RuntimeWarning: invalid value encountered in true_divide\n",
      "  predictions[k].sum(axis=1)[:, np.newaxis])\n",
      "/Users/romain/anaconda/envs/python35/lib/python3.5/site-packages/sklearn/ensemble/forest.py:439: UserWarning: Some inputs do not have OOB scores. This probably means too few trees were used to compute any reliable oob estimates.\n",
      "  warn(\"Some inputs do not have OOB scores. \"\n",
      "/Users/romain/anaconda/envs/python35/lib/python3.5/site-packages/sklearn/ensemble/forest.py:444: RuntimeWarning: invalid value encountered in true_divide\n",
      "  predictions[k].sum(axis=1)[:, np.newaxis])\n",
      "/Users/romain/anaconda/envs/python35/lib/python3.5/site-packages/sklearn/ensemble/forest.py:439: UserWarning: Some inputs do not have OOB scores. This probably means too few trees were used to compute any reliable oob estimates.\n",
      "  warn(\"Some inputs do not have OOB scores. \"\n",
      "/Users/romain/anaconda/envs/python35/lib/python3.5/site-packages/sklearn/ensemble/forest.py:444: RuntimeWarning: invalid value encountered in true_divide\n",
      "  predictions[k].sum(axis=1)[:, np.newaxis])\n",
      "/Users/romain/anaconda/envs/python35/lib/python3.5/site-packages/sklearn/ensemble/forest.py:439: UserWarning: Some inputs do not have OOB scores. This probably means too few trees were used to compute any reliable oob estimates.\n",
      "  warn(\"Some inputs do not have OOB scores. \"\n",
      "/Users/romain/anaconda/envs/python35/lib/python3.5/site-packages/sklearn/ensemble/forest.py:444: RuntimeWarning: invalid value encountered in true_divide\n",
      "  predictions[k].sum(axis=1)[:, np.newaxis])\n",
      "/Users/romain/anaconda/envs/python35/lib/python3.5/site-packages/sklearn/ensemble/forest.py:439: UserWarning: Some inputs do not have OOB scores. This probably means too few trees were used to compute any reliable oob estimates.\n",
      "  warn(\"Some inputs do not have OOB scores. \"\n",
      "/Users/romain/anaconda/envs/python35/lib/python3.5/site-packages/sklearn/ensemble/forest.py:444: RuntimeWarning: invalid value encountered in true_divide\n",
      "  predictions[k].sum(axis=1)[:, np.newaxis])\n",
      "/Users/romain/anaconda/envs/python35/lib/python3.5/site-packages/sklearn/ensemble/forest.py:439: UserWarning: Some inputs do not have OOB scores. This probably means too few trees were used to compute any reliable oob estimates.\n",
      "  warn(\"Some inputs do not have OOB scores. \"\n",
      "/Users/romain/anaconda/envs/python35/lib/python3.5/site-packages/sklearn/ensemble/forest.py:444: RuntimeWarning: invalid value encountered in true_divide\n",
      "  predictions[k].sum(axis=1)[:, np.newaxis])\n",
      "/Users/romain/anaconda/envs/python35/lib/python3.5/site-packages/sklearn/ensemble/forest.py:439: UserWarning: Some inputs do not have OOB scores. This probably means too few trees were used to compute any reliable oob estimates.\n",
      "  warn(\"Some inputs do not have OOB scores. \"\n",
      "/Users/romain/anaconda/envs/python35/lib/python3.5/site-packages/sklearn/ensemble/forest.py:444: RuntimeWarning: invalid value encountered in true_divide\n",
      "  predictions[k].sum(axis=1)[:, np.newaxis])\n",
      "/Users/romain/anaconda/envs/python35/lib/python3.5/site-packages/sklearn/ensemble/forest.py:439: UserWarning: Some inputs do not have OOB scores. This probably means too few trees were used to compute any reliable oob estimates.\n",
      "  warn(\"Some inputs do not have OOB scores. \"\n",
      "/Users/romain/anaconda/envs/python35/lib/python3.5/site-packages/sklearn/ensemble/forest.py:444: RuntimeWarning: invalid value encountered in true_divide\n",
      "  predictions[k].sum(axis=1)[:, np.newaxis])\n",
      "/Users/romain/anaconda/envs/python35/lib/python3.5/site-packages/sklearn/ensemble/forest.py:439: UserWarning: Some inputs do not have OOB scores. This probably means too few trees were used to compute any reliable oob estimates.\n",
      "  warn(\"Some inputs do not have OOB scores. \"\n",
      "/Users/romain/anaconda/envs/python35/lib/python3.5/site-packages/sklearn/ensemble/forest.py:444: RuntimeWarning: invalid value encountered in true_divide\n",
      "  predictions[k].sum(axis=1)[:, np.newaxis])\n",
      "/Users/romain/anaconda/envs/python35/lib/python3.5/site-packages/sklearn/ensemble/forest.py:439: UserWarning: Some inputs do not have OOB scores. This probably means too few trees were used to compute any reliable oob estimates.\n",
      "  warn(\"Some inputs do not have OOB scores. \"\n",
      "/Users/romain/anaconda/envs/python35/lib/python3.5/site-packages/sklearn/ensemble/forest.py:444: RuntimeWarning: invalid value encountered in true_divide\n",
      "  predictions[k].sum(axis=1)[:, np.newaxis])\n",
      "/Users/romain/anaconda/envs/python35/lib/python3.5/site-packages/sklearn/ensemble/forest.py:439: UserWarning: Some inputs do not have OOB scores. This probably means too few trees were used to compute any reliable oob estimates.\n",
      "  warn(\"Some inputs do not have OOB scores. \"\n",
      "/Users/romain/anaconda/envs/python35/lib/python3.5/site-packages/sklearn/ensemble/forest.py:444: RuntimeWarning: invalid value encountered in true_divide\n",
      "  predictions[k].sum(axis=1)[:, np.newaxis])\n",
      "/Users/romain/anaconda/envs/python35/lib/python3.5/site-packages/sklearn/ensemble/forest.py:439: UserWarning: Some inputs do not have OOB scores. This probably means too few trees were used to compute any reliable oob estimates.\n",
      "  warn(\"Some inputs do not have OOB scores. \"\n",
      "/Users/romain/anaconda/envs/python35/lib/python3.5/site-packages/sklearn/ensemble/forest.py:444: RuntimeWarning: invalid value encountered in true_divide\n",
      "  predictions[k].sum(axis=1)[:, np.newaxis])\n",
      "/Users/romain/anaconda/envs/python35/lib/python3.5/site-packages/sklearn/ensemble/forest.py:439: UserWarning: Some inputs do not have OOB scores. This probably means too few trees were used to compute any reliable oob estimates.\n",
      "  warn(\"Some inputs do not have OOB scores. \"\n",
      "/Users/romain/anaconda/envs/python35/lib/python3.5/site-packages/sklearn/ensemble/forest.py:444: RuntimeWarning: invalid value encountered in true_divide\n",
      "  predictions[k].sum(axis=1)[:, np.newaxis])\n",
      "/Users/romain/anaconda/envs/python35/lib/python3.5/site-packages/sklearn/ensemble/forest.py:439: UserWarning: Some inputs do not have OOB scores. This probably means too few trees were used to compute any reliable oob estimates.\n",
      "  warn(\"Some inputs do not have OOB scores. \"\n",
      "/Users/romain/anaconda/envs/python35/lib/python3.5/site-packages/sklearn/ensemble/forest.py:444: RuntimeWarning: invalid value encountered in true_divide\n",
      "  predictions[k].sum(axis=1)[:, np.newaxis])\n"
     ]
    },
    {
     "ename": "TypeError",
     "evalue": "'filter' object is not subscriptable",
     "output_type": "error",
     "traceback": [
      "\u001b[0;31m---------------------------------------------------------------------------\u001b[0m",
      "\u001b[0;31mTypeError\u001b[0m                                 Traceback (most recent call last)",
      "\u001b[0;32m<ipython-input-55-da835a5e92a0>\u001b[0m in \u001b[0;36m<module>\u001b[0;34m()\u001b[0m\n\u001b[1;32m      9\u001b[0m     \u001b[0mcv_scores2\u001b[0m\u001b[0;34m.\u001b[0m\u001b[0mappend\u001b[0m\u001b[0;34m(\u001b[0m\u001b[0mscores2\u001b[0m\u001b[0;34m.\u001b[0m\u001b[0mmean\u001b[0m\u001b[0;34m(\u001b[0m\u001b[0;34m)\u001b[0m\u001b[0;34m*\u001b[0m\u001b[0;36m100\u001b[0m\u001b[0;34m)\u001b[0m\u001b[0;34m\u001b[0m\u001b[0m\n\u001b[1;32m     10\u001b[0m \u001b[0;34m\u001b[0m\u001b[0m\n\u001b[0;32m---> 11\u001b[0;31m \u001b[0moptimal_max_d\u001b[0m \u001b[0;34m=\u001b[0m \u001b[0mmax_d\u001b[0m\u001b[0;34m[\u001b[0m\u001b[0mcv_scores2\u001b[0m\u001b[0;34m.\u001b[0m\u001b[0mindex\u001b[0m\u001b[0;34m(\u001b[0m\u001b[0mmax\u001b[0m\u001b[0;34m(\u001b[0m\u001b[0mcv_scores2\u001b[0m\u001b[0;34m)\u001b[0m\u001b[0;34m)\u001b[0m\u001b[0;34m]\u001b[0m\u001b[0;34m\u001b[0m\u001b[0m\n\u001b[0m\u001b[1;32m     12\u001b[0m \u001b[0mprint\u001b[0m \u001b[0;34m(\u001b[0m\u001b[0;34m\"Le nombre optimal max_depth est %d avec %s \"\u001b[0m\u001b[0;34m%\u001b[0m\u001b[0;34m(\u001b[0m\u001b[0moptimal_max_d\u001b[0m\u001b[0;34m,\u001b[0m \u001b[0mcv_scores2\u001b[0m\u001b[0;34m[\u001b[0m\u001b[0moptimal_max_d\u001b[0m\u001b[0;34m]\u001b[0m\u001b[0;34m)\u001b[0m\u001b[0;34m)\u001b[0m\u001b[0;34m\u001b[0m\u001b[0m\n",
      "\u001b[0;31mTypeError\u001b[0m: 'filter' object is not subscriptable"
     ]
    }
   ],
   "source": [
    "max_d = filter(lambda x: x % 2 == 0, list(range(1,30)))\n",
    " \n",
    "cv_scores2 = []\n",
    " \n",
    "for i in max_d:\n",
    "    rfc.set_params(max_depth=i)\n",
    "    kfold2 = KFold(n_splits=10, random_state=seed)\n",
    "    scores2 = model_selection.cross_val_score(rfc, X_train, y_train, cv=kfold2, scoring='accuracy')\n",
    "    cv_scores2.append(scores2.mean()*100)\n",
    "    \n"
   ]
  },
  {
   "cell_type": "code",
   "execution_count": 59,
   "metadata": {},
   "outputs": [
    {
     "data": {
      "text/plain": [
       "[]"
      ]
     },
     "execution_count": 59,
     "metadata": {},
     "output_type": "execute_result"
    }
   ],
   "source": [
    "list(max_d)"
   ]
  },
  {
   "cell_type": "code",
   "execution_count": 60,
   "metadata": {},
   "outputs": [
    {
     "ename": "TypeError",
     "evalue": "'filter' object is not subscriptable",
     "output_type": "error",
     "traceback": [
      "\u001b[0;31m---------------------------------------------------------------------------\u001b[0m",
      "\u001b[0;31mTypeError\u001b[0m                                 Traceback (most recent call last)",
      "\u001b[0;32m<ipython-input-60-ba11dc2beef9>\u001b[0m in \u001b[0;36m<module>\u001b[0;34m()\u001b[0m\n\u001b[0;32m----> 1\u001b[0;31m \u001b[0moptimal_max_d\u001b[0m \u001b[0;34m=\u001b[0m \u001b[0mlist\u001b[0m\u001b[0;34m(\u001b[0m\u001b[0mmax_d\u001b[0m\u001b[0;34m[\u001b[0m\u001b[0mcv_scores2\u001b[0m\u001b[0;34m.\u001b[0m\u001b[0mindex\u001b[0m\u001b[0;34m(\u001b[0m\u001b[0mmax\u001b[0m\u001b[0;34m(\u001b[0m\u001b[0mcv_scores2\u001b[0m\u001b[0;34m)\u001b[0m\u001b[0;34m)\u001b[0m\u001b[0;34m]\u001b[0m\u001b[0;34m)\u001b[0m\u001b[0;34m\u001b[0m\u001b[0m\n\u001b[0m\u001b[1;32m      2\u001b[0m \u001b[0mprint\u001b[0m \u001b[0;34m(\u001b[0m\u001b[0;34m\"Le nombre optimal max_depth est %d avec %s \"\u001b[0m\u001b[0;34m%\u001b[0m\u001b[0;34m(\u001b[0m\u001b[0moptimal_max_d\u001b[0m\u001b[0;34m,\u001b[0m \u001b[0mcv_scores2\u001b[0m\u001b[0;34m[\u001b[0m\u001b[0moptimal_max_d\u001b[0m\u001b[0;34m]\u001b[0m\u001b[0;34m)\u001b[0m\u001b[0;34m)\u001b[0m\u001b[0;34m\u001b[0m\u001b[0m\n",
      "\u001b[0;31mTypeError\u001b[0m: 'filter' object is not subscriptable"
     ]
    }
   ],
   "source": [
    "optimal_max_d = list(max_d[cv_scores2.index(max(cv_scores2))])\n",
    "print (\"Le nombre optimal max_depth est %d avec %s \"%(optimal_max_d, cv_scores2[optimal_max_d]))"
   ]
  },
  {
   "cell_type": "markdown",
   "metadata": {},
   "source": [
    "### 4.4.5) Représentation graphique"
   ]
  },
  {
   "cell_type": "code",
   "execution_count": 61,
   "metadata": {},
   "outputs": [
    {
     "ename": "RuntimeError",
     "evalue": "matplotlib does not support generators as input",
     "output_type": "error",
     "traceback": [
      "\u001b[0;31m---------------------------------------------------------------------------\u001b[0m",
      "\u001b[0;31mAttributeError\u001b[0m                            Traceback (most recent call last)",
      "\u001b[0;32m/Users/romain/anaconda/envs/python35/lib/python3.5/site-packages/matplotlib/units.py\u001b[0m in \u001b[0;36mget_converter\u001b[0;34m(self, x)\u001b[0m\n\u001b[1;32m    143\u001b[0m                 \u001b[0;31m# get_converter\u001b[0m\u001b[0;34m\u001b[0m\u001b[0;34m\u001b[0m\u001b[0m\n\u001b[0;32m--> 144\u001b[0;31m                 \u001b[0;32mif\u001b[0m \u001b[0;32mnot\u001b[0m \u001b[0mnp\u001b[0m\u001b[0;34m.\u001b[0m\u001b[0mall\u001b[0m\u001b[0;34m(\u001b[0m\u001b[0mxravel\u001b[0m\u001b[0;34m.\u001b[0m\u001b[0mmask\u001b[0m\u001b[0;34m)\u001b[0m\u001b[0;34m:\u001b[0m\u001b[0;34m\u001b[0m\u001b[0m\n\u001b[0m\u001b[1;32m    145\u001b[0m                     \u001b[0;31m# some elements are not masked\u001b[0m\u001b[0;34m\u001b[0m\u001b[0;34m\u001b[0m\u001b[0m\n",
      "\u001b[0;31mAttributeError\u001b[0m: 'numpy.ndarray' object has no attribute 'mask'",
      "\nDuring handling of the above exception, another exception occurred:\n",
      "\u001b[0;31mRuntimeError\u001b[0m                              Traceback (most recent call last)",
      "\u001b[0;32m<ipython-input-61-02c8bec87554>\u001b[0m in \u001b[0;36m<module>\u001b[0;34m()\u001b[0m\n\u001b[0;32m----> 1\u001b[0;31m \u001b[0mplt\u001b[0m\u001b[0;34m.\u001b[0m\u001b[0mplot\u001b[0m\u001b[0;34m(\u001b[0m\u001b[0mmax_d\u001b[0m\u001b[0;34m,\u001b[0m \u001b[0mcv_scores2\u001b[0m\u001b[0;34m)\u001b[0m\u001b[0;34m\u001b[0m\u001b[0m\n\u001b[0m\u001b[1;32m      2\u001b[0m \u001b[0mplt\u001b[0m\u001b[0;34m.\u001b[0m\u001b[0mxlabel\u001b[0m\u001b[0;34m(\u001b[0m\u001b[0;34m\"Max_depth\"\u001b[0m\u001b[0;34m)\u001b[0m\u001b[0;34m\u001b[0m\u001b[0m\n\u001b[1;32m      3\u001b[0m \u001b[0mplt\u001b[0m\u001b[0;34m.\u001b[0m\u001b[0mylabel\u001b[0m\u001b[0;34m(\u001b[0m\u001b[0;34m\"Accuracy sur l'échantillon d'apprentissage\"\u001b[0m\u001b[0;34m)\u001b[0m\u001b[0;34m\u001b[0m\u001b[0m\n\u001b[1;32m      4\u001b[0m \u001b[0mplt\u001b[0m\u001b[0;34m.\u001b[0m\u001b[0mshow\u001b[0m\u001b[0;34m(\u001b[0m\u001b[0;34m)\u001b[0m\u001b[0;34m\u001b[0m\u001b[0m\n",
      "\u001b[0;32m/Users/romain/anaconda/envs/python35/lib/python3.5/site-packages/matplotlib/pyplot.py\u001b[0m in \u001b[0;36mplot\u001b[0;34m(*args, **kwargs)\u001b[0m\n\u001b[1;32m   3238\u001b[0m                       mplDeprecation)\n\u001b[1;32m   3239\u001b[0m     \u001b[0;32mtry\u001b[0m\u001b[0;34m:\u001b[0m\u001b[0;34m\u001b[0m\u001b[0m\n\u001b[0;32m-> 3240\u001b[0;31m         \u001b[0mret\u001b[0m \u001b[0;34m=\u001b[0m \u001b[0max\u001b[0m\u001b[0;34m.\u001b[0m\u001b[0mplot\u001b[0m\u001b[0;34m(\u001b[0m\u001b[0;34m*\u001b[0m\u001b[0margs\u001b[0m\u001b[0;34m,\u001b[0m \u001b[0;34m**\u001b[0m\u001b[0mkwargs\u001b[0m\u001b[0;34m)\u001b[0m\u001b[0;34m\u001b[0m\u001b[0m\n\u001b[0m\u001b[1;32m   3241\u001b[0m     \u001b[0;32mfinally\u001b[0m\u001b[0;34m:\u001b[0m\u001b[0;34m\u001b[0m\u001b[0m\n\u001b[1;32m   3242\u001b[0m         \u001b[0max\u001b[0m\u001b[0;34m.\u001b[0m\u001b[0m_hold\u001b[0m \u001b[0;34m=\u001b[0m \u001b[0mwashold\u001b[0m\u001b[0;34m\u001b[0m\u001b[0m\n",
      "\u001b[0;32m/Users/romain/anaconda/envs/python35/lib/python3.5/site-packages/matplotlib/__init__.py\u001b[0m in \u001b[0;36minner\u001b[0;34m(ax, *args, **kwargs)\u001b[0m\n\u001b[1;32m   1708\u001b[0m                     warnings.warn(msg % (label_namer, func.__name__),\n\u001b[1;32m   1709\u001b[0m                                   RuntimeWarning, stacklevel=2)\n\u001b[0;32m-> 1710\u001b[0;31m             \u001b[0;32mreturn\u001b[0m \u001b[0mfunc\u001b[0m\u001b[0;34m(\u001b[0m\u001b[0max\u001b[0m\u001b[0;34m,\u001b[0m \u001b[0;34m*\u001b[0m\u001b[0margs\u001b[0m\u001b[0;34m,\u001b[0m \u001b[0;34m**\u001b[0m\u001b[0mkwargs\u001b[0m\u001b[0;34m)\u001b[0m\u001b[0;34m\u001b[0m\u001b[0m\n\u001b[0m\u001b[1;32m   1711\u001b[0m         \u001b[0mpre_doc\u001b[0m \u001b[0;34m=\u001b[0m \u001b[0minner\u001b[0m\u001b[0;34m.\u001b[0m\u001b[0m__doc__\u001b[0m\u001b[0;34m\u001b[0m\u001b[0m\n\u001b[1;32m   1712\u001b[0m         \u001b[0;32mif\u001b[0m \u001b[0mpre_doc\u001b[0m \u001b[0;32mis\u001b[0m \u001b[0;32mNone\u001b[0m\u001b[0;34m:\u001b[0m\u001b[0;34m\u001b[0m\u001b[0m\n",
      "\u001b[0;32m/Users/romain/anaconda/envs/python35/lib/python3.5/site-packages/matplotlib/axes/_axes.py\u001b[0m in \u001b[0;36mplot\u001b[0;34m(self, *args, **kwargs)\u001b[0m\n\u001b[1;32m   1435\u001b[0m         \u001b[0mkwargs\u001b[0m \u001b[0;34m=\u001b[0m \u001b[0mcbook\u001b[0m\u001b[0;34m.\u001b[0m\u001b[0mnormalize_kwargs\u001b[0m\u001b[0;34m(\u001b[0m\u001b[0mkwargs\u001b[0m\u001b[0;34m,\u001b[0m \u001b[0m_alias_map\u001b[0m\u001b[0;34m)\u001b[0m\u001b[0;34m\u001b[0m\u001b[0m\n\u001b[1;32m   1436\u001b[0m \u001b[0;34m\u001b[0m\u001b[0m\n\u001b[0;32m-> 1437\u001b[0;31m         \u001b[0;32mfor\u001b[0m \u001b[0mline\u001b[0m \u001b[0;32min\u001b[0m \u001b[0mself\u001b[0m\u001b[0;34m.\u001b[0m\u001b[0m_get_lines\u001b[0m\u001b[0;34m(\u001b[0m\u001b[0;34m*\u001b[0m\u001b[0margs\u001b[0m\u001b[0;34m,\u001b[0m \u001b[0;34m**\u001b[0m\u001b[0mkwargs\u001b[0m\u001b[0;34m)\u001b[0m\u001b[0;34m:\u001b[0m\u001b[0;34m\u001b[0m\u001b[0m\n\u001b[0m\u001b[1;32m   1438\u001b[0m             \u001b[0mself\u001b[0m\u001b[0;34m.\u001b[0m\u001b[0madd_line\u001b[0m\u001b[0;34m(\u001b[0m\u001b[0mline\u001b[0m\u001b[0;34m)\u001b[0m\u001b[0;34m\u001b[0m\u001b[0m\n\u001b[1;32m   1439\u001b[0m             \u001b[0mlines\u001b[0m\u001b[0;34m.\u001b[0m\u001b[0mappend\u001b[0m\u001b[0;34m(\u001b[0m\u001b[0mline\u001b[0m\u001b[0;34m)\u001b[0m\u001b[0;34m\u001b[0m\u001b[0m\n",
      "\u001b[0;32m/Users/romain/anaconda/envs/python35/lib/python3.5/site-packages/matplotlib/axes/_base.py\u001b[0m in \u001b[0;36m_grab_next_args\u001b[0;34m(self, *args, **kwargs)\u001b[0m\n\u001b[1;32m    402\u001b[0m                 \u001b[0mthis\u001b[0m \u001b[0;34m+=\u001b[0m \u001b[0margs\u001b[0m\u001b[0;34m[\u001b[0m\u001b[0;36m0\u001b[0m\u001b[0;34m]\u001b[0m\u001b[0;34m,\u001b[0m\u001b[0;34m\u001b[0m\u001b[0m\n\u001b[1;32m    403\u001b[0m                 \u001b[0margs\u001b[0m \u001b[0;34m=\u001b[0m \u001b[0margs\u001b[0m\u001b[0;34m[\u001b[0m\u001b[0;36m1\u001b[0m\u001b[0;34m:\u001b[0m\u001b[0;34m]\u001b[0m\u001b[0;34m\u001b[0m\u001b[0m\n\u001b[0;32m--> 404\u001b[0;31m             \u001b[0;32mfor\u001b[0m \u001b[0mseg\u001b[0m \u001b[0;32min\u001b[0m \u001b[0mself\u001b[0m\u001b[0;34m.\u001b[0m\u001b[0m_plot_args\u001b[0m\u001b[0;34m(\u001b[0m\u001b[0mthis\u001b[0m\u001b[0;34m,\u001b[0m \u001b[0mkwargs\u001b[0m\u001b[0;34m)\u001b[0m\u001b[0;34m:\u001b[0m\u001b[0;34m\u001b[0m\u001b[0m\n\u001b[0m\u001b[1;32m    405\u001b[0m                 \u001b[0;32myield\u001b[0m \u001b[0mseg\u001b[0m\u001b[0;34m\u001b[0m\u001b[0m\n\u001b[1;32m    406\u001b[0m \u001b[0;34m\u001b[0m\u001b[0m\n",
      "\u001b[0;32m/Users/romain/anaconda/envs/python35/lib/python3.5/site-packages/matplotlib/axes/_base.py\u001b[0m in \u001b[0;36m_plot_args\u001b[0;34m(self, tup, kwargs)\u001b[0m\n\u001b[1;32m    382\u001b[0m             \u001b[0mx\u001b[0m\u001b[0;34m,\u001b[0m \u001b[0my\u001b[0m \u001b[0;34m=\u001b[0m \u001b[0mindex_of\u001b[0m\u001b[0;34m(\u001b[0m\u001b[0mtup\u001b[0m\u001b[0;34m[\u001b[0m\u001b[0;34m-\u001b[0m\u001b[0;36m1\u001b[0m\u001b[0;34m]\u001b[0m\u001b[0;34m)\u001b[0m\u001b[0;34m\u001b[0m\u001b[0m\n\u001b[1;32m    383\u001b[0m \u001b[0;34m\u001b[0m\u001b[0m\n\u001b[0;32m--> 384\u001b[0;31m         \u001b[0mx\u001b[0m\u001b[0;34m,\u001b[0m \u001b[0my\u001b[0m \u001b[0;34m=\u001b[0m \u001b[0mself\u001b[0m\u001b[0;34m.\u001b[0m\u001b[0m_xy_from_xy\u001b[0m\u001b[0;34m(\u001b[0m\u001b[0mx\u001b[0m\u001b[0;34m,\u001b[0m \u001b[0my\u001b[0m\u001b[0;34m)\u001b[0m\u001b[0;34m\u001b[0m\u001b[0m\n\u001b[0m\u001b[1;32m    385\u001b[0m \u001b[0;34m\u001b[0m\u001b[0m\n\u001b[1;32m    386\u001b[0m         \u001b[0;32mif\u001b[0m \u001b[0mself\u001b[0m\u001b[0;34m.\u001b[0m\u001b[0mcommand\u001b[0m \u001b[0;34m==\u001b[0m \u001b[0;34m'plot'\u001b[0m\u001b[0;34m:\u001b[0m\u001b[0;34m\u001b[0m\u001b[0m\n",
      "\u001b[0;32m/Users/romain/anaconda/envs/python35/lib/python3.5/site-packages/matplotlib/axes/_base.py\u001b[0m in \u001b[0;36m_xy_from_xy\u001b[0;34m(self, x, y)\u001b[0m\n\u001b[1;32m    214\u001b[0m     \u001b[0;32mdef\u001b[0m \u001b[0m_xy_from_xy\u001b[0m\u001b[0;34m(\u001b[0m\u001b[0mself\u001b[0m\u001b[0;34m,\u001b[0m \u001b[0mx\u001b[0m\u001b[0;34m,\u001b[0m \u001b[0my\u001b[0m\u001b[0;34m)\u001b[0m\u001b[0;34m:\u001b[0m\u001b[0;34m\u001b[0m\u001b[0m\n\u001b[1;32m    215\u001b[0m         \u001b[0;32mif\u001b[0m \u001b[0mself\u001b[0m\u001b[0;34m.\u001b[0m\u001b[0maxes\u001b[0m\u001b[0;34m.\u001b[0m\u001b[0mxaxis\u001b[0m \u001b[0;32mis\u001b[0m \u001b[0;32mnot\u001b[0m \u001b[0;32mNone\u001b[0m \u001b[0;32mand\u001b[0m \u001b[0mself\u001b[0m\u001b[0;34m.\u001b[0m\u001b[0maxes\u001b[0m\u001b[0;34m.\u001b[0m\u001b[0myaxis\u001b[0m \u001b[0;32mis\u001b[0m \u001b[0;32mnot\u001b[0m \u001b[0;32mNone\u001b[0m\u001b[0;34m:\u001b[0m\u001b[0;34m\u001b[0m\u001b[0m\n\u001b[0;32m--> 216\u001b[0;31m             \u001b[0mbx\u001b[0m \u001b[0;34m=\u001b[0m \u001b[0mself\u001b[0m\u001b[0;34m.\u001b[0m\u001b[0maxes\u001b[0m\u001b[0;34m.\u001b[0m\u001b[0mxaxis\u001b[0m\u001b[0;34m.\u001b[0m\u001b[0mupdate_units\u001b[0m\u001b[0;34m(\u001b[0m\u001b[0mx\u001b[0m\u001b[0;34m)\u001b[0m\u001b[0;34m\u001b[0m\u001b[0m\n\u001b[0m\u001b[1;32m    217\u001b[0m             \u001b[0mby\u001b[0m \u001b[0;34m=\u001b[0m \u001b[0mself\u001b[0m\u001b[0;34m.\u001b[0m\u001b[0maxes\u001b[0m\u001b[0;34m.\u001b[0m\u001b[0myaxis\u001b[0m\u001b[0;34m.\u001b[0m\u001b[0mupdate_units\u001b[0m\u001b[0;34m(\u001b[0m\u001b[0my\u001b[0m\u001b[0;34m)\u001b[0m\u001b[0;34m\u001b[0m\u001b[0m\n\u001b[1;32m    218\u001b[0m \u001b[0;34m\u001b[0m\u001b[0m\n",
      "\u001b[0;32m/Users/romain/anaconda/envs/python35/lib/python3.5/site-packages/matplotlib/axis.py\u001b[0m in \u001b[0;36mupdate_units\u001b[0;34m(self, data)\u001b[0m\n\u001b[1;32m   1430\u001b[0m         \"\"\"\n\u001b[1;32m   1431\u001b[0m \u001b[0;34m\u001b[0m\u001b[0m\n\u001b[0;32m-> 1432\u001b[0;31m         \u001b[0mconverter\u001b[0m \u001b[0;34m=\u001b[0m \u001b[0mmunits\u001b[0m\u001b[0;34m.\u001b[0m\u001b[0mregistry\u001b[0m\u001b[0;34m.\u001b[0m\u001b[0mget_converter\u001b[0m\u001b[0;34m(\u001b[0m\u001b[0mdata\u001b[0m\u001b[0;34m)\u001b[0m\u001b[0;34m\u001b[0m\u001b[0m\n\u001b[0m\u001b[1;32m   1433\u001b[0m         \u001b[0;32mif\u001b[0m \u001b[0mconverter\u001b[0m \u001b[0;32mis\u001b[0m \u001b[0;32mNone\u001b[0m\u001b[0;34m:\u001b[0m\u001b[0;34m\u001b[0m\u001b[0m\n\u001b[1;32m   1434\u001b[0m             \u001b[0;32mreturn\u001b[0m \u001b[0;32mFalse\u001b[0m\u001b[0;34m\u001b[0m\u001b[0m\n",
      "\u001b[0;32m/Users/romain/anaconda/envs/python35/lib/python3.5/site-packages/matplotlib/units.py\u001b[0m in \u001b[0;36mget_converter\u001b[0;34m(self, x)\u001b[0m\n\u001b[1;32m    155\u001b[0m                 if (not isinstance(next_item, np.ndarray) or\n\u001b[1;32m    156\u001b[0m                     next_item.shape != x.shape):\n\u001b[0;32m--> 157\u001b[0;31m                     \u001b[0mconverter\u001b[0m \u001b[0;34m=\u001b[0m \u001b[0mself\u001b[0m\u001b[0;34m.\u001b[0m\u001b[0mget_converter\u001b[0m\u001b[0;34m(\u001b[0m\u001b[0mnext_item\u001b[0m\u001b[0;34m)\u001b[0m\u001b[0;34m\u001b[0m\u001b[0m\n\u001b[0m\u001b[1;32m    158\u001b[0m                 \u001b[0;32mreturn\u001b[0m \u001b[0mconverter\u001b[0m\u001b[0;34m\u001b[0m\u001b[0m\n\u001b[1;32m    159\u001b[0m \u001b[0;34m\u001b[0m\u001b[0m\n",
      "\u001b[0;32m/Users/romain/anaconda/envs/python35/lib/python3.5/site-packages/matplotlib/units.py\u001b[0m in \u001b[0;36mget_converter\u001b[0;34m(self, x)\u001b[0m\n\u001b[1;32m    160\u001b[0m         \u001b[0;32mif\u001b[0m \u001b[0mconverter\u001b[0m \u001b[0;32mis\u001b[0m \u001b[0;32mNone\u001b[0m\u001b[0;34m:\u001b[0m\u001b[0;34m\u001b[0m\u001b[0m\n\u001b[1;32m    161\u001b[0m             \u001b[0;32mtry\u001b[0m\u001b[0;34m:\u001b[0m\u001b[0;34m\u001b[0m\u001b[0m\n\u001b[0;32m--> 162\u001b[0;31m                 \u001b[0mthisx\u001b[0m \u001b[0;34m=\u001b[0m \u001b[0msafe_first_element\u001b[0m\u001b[0;34m(\u001b[0m\u001b[0mx\u001b[0m\u001b[0;34m)\u001b[0m\u001b[0;34m\u001b[0m\u001b[0m\n\u001b[0m\u001b[1;32m    163\u001b[0m             \u001b[0;32mexcept\u001b[0m \u001b[0;34m(\u001b[0m\u001b[0mTypeError\u001b[0m\u001b[0;34m,\u001b[0m \u001b[0mStopIteration\u001b[0m\u001b[0;34m)\u001b[0m\u001b[0;34m:\u001b[0m\u001b[0;34m\u001b[0m\u001b[0m\n\u001b[1;32m    164\u001b[0m                 \u001b[0;32mpass\u001b[0m\u001b[0;34m\u001b[0m\u001b[0m\n",
      "\u001b[0;32m/Users/romain/anaconda/envs/python35/lib/python3.5/site-packages/matplotlib/cbook/__init__.py\u001b[0m in \u001b[0;36msafe_first_element\u001b[0;34m(obj)\u001b[0m\n\u001b[1;32m   2310\u001b[0m         \u001b[0;32mexcept\u001b[0m \u001b[0mTypeError\u001b[0m\u001b[0;34m:\u001b[0m\u001b[0;34m\u001b[0m\u001b[0m\n\u001b[1;32m   2311\u001b[0m             \u001b[0;32mpass\u001b[0m\u001b[0;34m\u001b[0m\u001b[0m\n\u001b[0;32m-> 2312\u001b[0;31m         raise RuntimeError(\"matplotlib does not support generators \"\n\u001b[0m\u001b[1;32m   2313\u001b[0m                            \"as input\")\n\u001b[1;32m   2314\u001b[0m     \u001b[0;32mreturn\u001b[0m \u001b[0mnext\u001b[0m\u001b[0;34m(\u001b[0m\u001b[0miter\u001b[0m\u001b[0;34m(\u001b[0m\u001b[0mobj\u001b[0m\u001b[0;34m)\u001b[0m\u001b[0;34m)\u001b[0m\u001b[0;34m\u001b[0m\u001b[0m\n",
      "\u001b[0;31mRuntimeError\u001b[0m: matplotlib does not support generators as input"
     ]
    }
   ],
   "source": [
    "plt.plot(max_d, cv_scores2)\n",
    "plt.xlabel(\"Max_depth\")\n",
    "plt.ylabel(\"Accuracy sur l'échantillon d'apprentissage\")\n",
    "plt.show()"
   ]
  },
  {
   "cell_type": "markdown",
   "metadata": {},
   "source": [
    "Estimation du meilleur \"min_samples_leaf\""
   ]
  },
  {
   "cell_type": "code",
   "execution_count": 62,
   "metadata": {},
   "outputs": [
    {
     "ename": "SyntaxError",
     "evalue": "invalid syntax (<ipython-input-62-54bbaee7898a>, line 12)",
     "output_type": "error",
     "traceback": [
      "\u001b[0;36m  File \u001b[0;32m\"<ipython-input-62-54bbaee7898a>\"\u001b[0;36m, line \u001b[0;32m12\u001b[0m\n\u001b[0;31m    print \"Le nombre optimal min_samples_leaf est %d avec %0.1f%%\" % (optimal_leaf, cv_scores3[optimal_leaf])\u001b[0m\n\u001b[0m                                                                 ^\u001b[0m\n\u001b[0;31mSyntaxError\u001b[0m\u001b[0;31m:\u001b[0m invalid syntax\n"
     ]
    }
   ],
   "source": [
    "leaf = filter(lambda x: x % 2 == 0, list(range(1,30)))\n",
    " \n",
    "cv_scores3 = []\n",
    " \n",
    "for i in leaf : \n",
    "    rfc.set_params(min_samples_leaf=i)\n",
    "    kfold3 = KFold(n_splits=10, random_state=seed)\n",
    "    scores3 = model_selection.cross_val_score(rfc, X_train, y_train, cv=kfold3, scoring='accuracy')\n",
    "    cv_scores3.append(scores3.mean()*100)\n",
    "    \n",
    "optimal_leaf = leaf[cv_scores3.index(max(cv_scores3))]\n",
    "print \"Le nombre optimal min_samples_leaf est %d avec %0.1f%%\" % (optimal_leaf, cv_scores3[optimal_leaf])"
   ]
  },
  {
   "cell_type": "markdown",
   "metadata": {},
   "source": [
    "Représentation graphique"
   ]
  },
  {
   "cell_type": "code",
   "execution_count": 63,
   "metadata": {},
   "outputs": [
    {
     "ename": "NameError",
     "evalue": "name 'leaf' is not defined",
     "output_type": "error",
     "traceback": [
      "\u001b[0;31m---------------------------------------------------------------------------\u001b[0m",
      "\u001b[0;31mNameError\u001b[0m                                 Traceback (most recent call last)",
      "\u001b[0;32m<ipython-input-63-375df99b2a12>\u001b[0m in \u001b[0;36m<module>\u001b[0;34m()\u001b[0m\n\u001b[0;32m----> 1\u001b[0;31m \u001b[0mplt\u001b[0m\u001b[0;34m.\u001b[0m\u001b[0mplot\u001b[0m\u001b[0;34m(\u001b[0m\u001b[0mleaf\u001b[0m\u001b[0;34m,\u001b[0m \u001b[0mcv_scores3\u001b[0m\u001b[0;34m)\u001b[0m\u001b[0;34m\u001b[0m\u001b[0m\n\u001b[0m\u001b[1;32m      2\u001b[0m \u001b[0mplt\u001b[0m\u001b[0;34m.\u001b[0m\u001b[0mxlabel\u001b[0m\u001b[0;34m(\u001b[0m\u001b[0;34m\"min_samples_leaf\"\u001b[0m\u001b[0;34m)\u001b[0m\u001b[0;34m\u001b[0m\u001b[0m\n\u001b[1;32m      3\u001b[0m \u001b[0mplt\u001b[0m\u001b[0;34m.\u001b[0m\u001b[0mylabel\u001b[0m\u001b[0;34m(\u001b[0m\u001b[0;34m\"Accuracy sur l'échantillon d'apprentissage\"\u001b[0m\u001b[0;34m)\u001b[0m\u001b[0;34m\u001b[0m\u001b[0m\n\u001b[1;32m      4\u001b[0m \u001b[0mplt\u001b[0m\u001b[0;34m.\u001b[0m\u001b[0mshow\u001b[0m\u001b[0;34m(\u001b[0m\u001b[0;34m)\u001b[0m\u001b[0;34m\u001b[0m\u001b[0m\n",
      "\u001b[0;31mNameError\u001b[0m: name 'leaf' is not defined"
     ]
    }
   ],
   "source": [
    "plt.plot(leaf, cv_scores3)\n",
    "plt.xlabel(\"min_samples_leaf\")\n",
    "plt.ylabel(\"Accuracy sur l'échantillon d'apprentissage\")\n",
    "plt.show()"
   ]
  },
  {
   "cell_type": "markdown",
   "metadata": {},
   "source": [
    "Estimation des meilleurs paramètres pour le modèle : Cross Validation"
   ]
  },
  {
   "cell_type": "code",
   "execution_count": null,
   "metadata": {
    "collapsed": true
   },
   "outputs": [],
   "source": [
    "param_grid = { \n",
    "           \"n_estimators\" : [200, 500, 800, 1000],\n",
    "           \"max_depth\" : [1, 5, 10, 15, 20, 25, 30],\n",
    "           \"min_samples_leaf\" : [1, 2, 4, 6, 8, 10]\n",
    "                }\n",
    " \n",
    "grid_rfc = GridSearchCV(estimator=rfc, param_grid=param_grid, cv= 10, scoring='accuracy')\n",
    "grille_rfc=grid_rfc.fit(X_train, y_train)"
   ]
  },
  {
   "cell_type": "markdown",
   "metadata": {},
   "source": [
    "<span style=\"color:red\">\n",
    "Il est dommage de ne pas aller plus loin avec la grille.\n",
    "Globalement vous prenez à priori votre grille comme si elle contenait le meilleur paramétrage, alors que la grille n'ai qu'une aide pour aller chercher ce paramétrage. Il faudrait affiner la grille au fur et à mesure pour s'approcher d'un optimum\n",
    "</span>"
   ]
  },
  {
   "cell_type": "markdown",
   "metadata": {},
   "source": [
    "Meilleur paramètrage"
   ]
  },
  {
   "cell_type": "code",
   "execution_count": null,
   "metadata": {},
   "outputs": [],
   "source": [
    "print(grille_rfc.best_params_)"
   ]
  },
  {
   "cell_type": "markdown",
   "metadata": {},
   "source": [
    "Le meilleur modèle est celui avec le plus grand AUC (meilleure performance) :"
   ]
  },
  {
   "cell_type": "code",
   "execution_count": null,
   "metadata": {},
   "outputs": [],
   "source": [
    "print(grille_rfc.best_score_)"
   ]
  },
  {
   "cell_type": "markdown",
   "metadata": {},
   "source": [
    "### Prédiction"
   ]
  },
  {
   "cell_type": "markdown",
   "metadata": {},
   "source": [
    "Prédiction avec le modèle « optimal » (meilleur paramètrage) :"
   ]
  },
  {
   "cell_type": "code",
   "execution_count": null,
   "metadata": {
    "collapsed": true
   },
   "outputs": [],
   "source": [
    "y_pred2 = grille.predict(X_test)"
   ]
  },
  {
   "cell_type": "markdown",
   "metadata": {},
   "source": [
    "AUC avec l'échantillon test :"
   ]
  },
  {
   "cell_type": "code",
   "execution_count": null,
   "metadata": {},
   "outputs": [],
   "source": [
    "print(accuracy_score(y_test, y_pred2))"
   ]
  },
  {
   "cell_type": "markdown",
   "metadata": {},
   "source": [
    "Matrice de confusion :"
   ]
  },
  {
   "cell_type": "code",
   "execution_count": null,
   "metadata": {},
   "outputs": [],
   "source": [
    "cnf_matrix = confusion_matrix(y_test, y_pred2)\n",
    "print(cnf_matrix)"
   ]
  },
  {
   "cell_type": "code",
   "execution_count": null,
   "metadata": {
    "collapsed": true
   },
   "outputs": [],
   "source": [
    "sns.heatmap(cnf_matrix, square=True, annot=True, cbar=False\n",
    "            , xticklabels=list(projetTrain.target)\n",
    "            , yticklabels=list(projetTrain.target)\n",
    "plt.xlabel('valeurs prédites')\n",
    "plt.ylabel('valeurs réelles');"
   ]
  }
 ],
 "metadata": {
  "kernelspec": {
   "display_name": "Python 3",
   "language": "python",
   "name": "python3"
  },
  "language_info": {
   "codemirror_mode": {
    "name": "ipython",
    "version": 3
   },
   "file_extension": ".py",
   "mimetype": "text/x-python",
   "name": "python",
   "nbconvert_exporter": "python",
   "pygments_lexer": "ipython3",
   "version": "3.5.4"
  }
 },
 "nbformat": 4,
 "nbformat_minor": 2
}
